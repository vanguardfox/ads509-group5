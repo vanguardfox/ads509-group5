{
 "cells": [
  {
   "cell_type": "markdown",
   "metadata": {
    "id": "tT7fYxKGpoKu"
   },
   "source": [
    "[![Open In Colab](https://colab.research.google.com/assets/colab-badge.svg)](https://colab.research.google.com/github/vanguardfox/ads509-group5/blob/main/ADS509_Final_Project.ipynb)"
   ]
  },
  {
   "cell_type": "markdown",
   "metadata": {
    "id": "RBt2wAJ-oRsP"
   },
   "source": [
    "# Assignment 6.2: Preparing Data for Final Team Project\n",
    "## Evaluating Financial Independence / Retire Early (FIRE) Thresholds by Demographic\n",
    "What is the Financial Independence number the FIRE community is aiming for by age, location, and over time?\n",
    "## Group 5\n",
    "### John Vincent Deniega\n",
    "### Gabriella Rivera\n",
    "### Itzel Cruz"
   ]
  },
  {
   "cell_type": "markdown",
   "metadata": {
    "id": "ZqOey2pIpoKv"
   },
   "source": [
    "## Assignment 6.2 Objective:\n",
    "Calculate descriptive statistics on your final-project data. You are welcome to reuse code from earlier modules.\n",
    "\n",
    "## Note to Professor: Please see \"Assignment 6.2 Objective: Descriptive Stats\" for the explicit function call and output."
   ]
  },
  {
   "cell_type": "markdown",
   "metadata": {
    "id": "dTxylIUPpoKv"
   },
   "source": [
    "(Optional: Install packages as needed)"
   ]
  },
  {
   "cell_type": "code",
   "execution_count": 1,
   "metadata": {
    "id": "8SdZo0-fl6g-"
   },
   "outputs": [],
   "source": [
    "#!pip install requests beautifulsoup4"
   ]
  },
  {
   "cell_type": "markdown",
   "metadata": {
    "id": "qZ7w8ue3poKw"
   },
   "source": [
    "Import Libraries"
   ]
  },
  {
   "cell_type": "code",
   "execution_count": 2,
   "metadata": {
    "id": "7UlLJjrrVytR"
   },
   "outputs": [],
   "source": [
    "# Library\n",
    "import pandas as pd\n",
    "import matplotlib.pyplot as plt\n",
    "import seaborn as sns\n",
    "import re\n",
    "import json\n",
    "import csv\n",
    "import requests\n",
    "import time\n",
    "import datetime\n",
    "import nltk\n",
    "import random\n",
    "import warnings\n",
    "\n",
    "# Suppress all warnings\n",
    "warnings.filterwarnings(\"ignore\")\n",
    "\n",
    "from typing import Optional, Tuple\n",
    "from nltk.sentiment import SentimentIntensityAnalyzer\n",
    "from nltk.util import pairwise\n",
    "from bs4 import BeautifulSoup\n",
    "from requests.auth import HTTPBasicAuth\n",
    "from os import read\n",
    "from sklearn.feature_extraction.text import CountVectorizer, TfidfVectorizer\n",
    "from sklearn.decomposition import LatentDirichletAllocation, TruncatedSVD\n",
    "from collections import Counter"
   ]
  },
  {
   "cell_type": "markdown",
   "metadata": {
    "id": "I_7WP4t4poKx"
   },
   "source": [
    "## Verify the contents of the CSV that was created from API JSON GET pull and stored as DataFrame"
   ]
  },
  {
   "cell_type": "code",
   "execution_count": 3,
   "metadata": {
    "colab": {
     "base_uri": "https://localhost:8080/",
     "height": 316
    },
    "id": "BT92kZVZo8gw",
    "outputId": "1aa12c3b-118a-40b2-e19a-901d1d344bb1"
   },
   "outputs": [
    {
     "data": {
      "text/html": [
       "<div>\n",
       "<style scoped>\n",
       "    .dataframe tbody tr th:only-of-type {\n",
       "        vertical-align: middle;\n",
       "    }\n",
       "\n",
       "    .dataframe tbody tr th {\n",
       "        vertical-align: top;\n",
       "    }\n",
       "\n",
       "    .dataframe thead th {\n",
       "        text-align: right;\n",
       "    }\n",
       "</style>\n",
       "<table border=\"1\" class=\"dataframe\">\n",
       "  <thead>\n",
       "    <tr style=\"text-align: right;\">\n",
       "      <th></th>\n",
       "      <th>Thread ID</th>\n",
       "      <th>Title</th>\n",
       "      <th>User</th>\n",
       "      <th>Comment</th>\n",
       "      <th>Post Time</th>\n",
       "      <th>Comment Time</th>\n",
       "    </tr>\n",
       "  </thead>\n",
       "  <tbody>\n",
       "    <tr>\n",
       "      <th>0</th>\n",
       "      <td>1fqzb0p</td>\n",
       "      <td>What is your fire number?</td>\n",
       "      <td>manimopo</td>\n",
       "      <td>1.5m with paid off houses</td>\n",
       "      <td>2024-09-27 22:00:15</td>\n",
       "      <td>2024-09-27 22:14:27</td>\n",
       "    </tr>\n",
       "    <tr>\n",
       "      <th>1</th>\n",
       "      <td>1fqzb0p</td>\n",
       "      <td>What is your fire number?</td>\n",
       "      <td>Animag771</td>\n",
       "      <td>I'm just waiting for someone to say something ...</td>\n",
       "      <td>2024-09-27 22:00:15</td>\n",
       "      <td>2024-09-27 22:43:43</td>\n",
       "    </tr>\n",
       "    <tr>\n",
       "      <th>2</th>\n",
       "      <td>1fqzb0p</td>\n",
       "      <td>What is your fire number?</td>\n",
       "      <td>wowsocool4u</td>\n",
       "      <td>$1.9m.  Targeting a few months after i turn 50...</td>\n",
       "      <td>2024-09-27 22:00:15</td>\n",
       "      <td>2024-09-27 22:24:04</td>\n",
       "    </tr>\n",
       "    <tr>\n",
       "      <th>3</th>\n",
       "      <td>1fqzb0p</td>\n",
       "      <td>What is your fire number?</td>\n",
       "      <td>Aromatic_Heart</td>\n",
       "      <td>On days I hate my job, 600k. The other days, d...</td>\n",
       "      <td>2024-09-27 22:00:15</td>\n",
       "      <td>2024-09-28 03:15:50</td>\n",
       "    </tr>\n",
       "    <tr>\n",
       "      <th>4</th>\n",
       "      <td>1fqzb0p</td>\n",
       "      <td>What is your fire number?</td>\n",
       "      <td>Ziqach</td>\n",
       "      <td>$2M with a paid off house. So stressful to see...</td>\n",
       "      <td>2024-09-27 22:00:15</td>\n",
       "      <td>2024-09-27 22:59:17</td>\n",
       "    </tr>\n",
       "  </tbody>\n",
       "</table>\n",
       "</div>"
      ],
      "text/plain": [
       "  Thread ID                       Title            User  \\\n",
       "0   1fqzb0p  What is your fire number?         manimopo   \n",
       "1   1fqzb0p  What is your fire number?        Animag771   \n",
       "2   1fqzb0p  What is your fire number?      wowsocool4u   \n",
       "3   1fqzb0p  What is your fire number?   Aromatic_Heart   \n",
       "4   1fqzb0p  What is your fire number?           Ziqach   \n",
       "\n",
       "                                             Comment            Post Time  \\\n",
       "0                          1.5m with paid off houses  2024-09-27 22:00:15   \n",
       "1  I'm just waiting for someone to say something ...  2024-09-27 22:00:15   \n",
       "2  $1.9m.  Targeting a few months after i turn 50...  2024-09-27 22:00:15   \n",
       "3  On days I hate my job, 600k. The other days, d...  2024-09-27 22:00:15   \n",
       "4  $2M with a paid off house. So stressful to see...  2024-09-27 22:00:15   \n",
       "\n",
       "          Comment Time  \n",
       "0  2024-09-27 22:14:27  \n",
       "1  2024-09-27 22:43:43  \n",
       "2  2024-09-27 22:24:04  \n",
       "3  2024-09-28 03:15:50  \n",
       "4  2024-09-27 22:59:17  "
      ]
     },
     "execution_count": 3,
     "metadata": {},
     "output_type": "execute_result"
    }
   ],
   "source": [
    "rfire_df = pd.read_csv('fire_comments_mod6.csv')\n",
    "rfire_df.head()"
   ]
  },
  {
   "cell_type": "markdown",
   "metadata": {
    "id": "Pw5ct93sx06H"
   },
   "source": [
    "# Data Preprocessing"
   ]
  },
  {
   "cell_type": "markdown",
   "metadata": {
    "id": "AxbempqMzxXM"
   },
   "source": [
    "## Clean Dataset"
   ]
  },
  {
   "cell_type": "code",
   "execution_count": 4,
   "metadata": {
    "colab": {
     "base_uri": "https://localhost:8080/"
    },
    "id": "Z-cfs5ZHbJY_",
    "outputId": "32400eaf-f916-4dfd-94a3-c8695b390ac9"
   },
   "outputs": [
    {
     "name": "stdout",
     "output_type": "stream",
     "text": [
      "['What is your fire number? ' 'What is your fire number?'\n",
      " 'For folks who plan to FIRE in HCOL / VHCOL areas, what is your FIRE number? Why not move to MCOL / LCOL area?'\n",
      " 'What is your FIRE number?'\n",
      " 'What is your fire number and how did you arrive at it?'\n",
      " 'What is your FIRE number and at what age do you want to achieve it by?'\n",
      " 'Married couples with young kids, what is your FIRE number and how is your progress?']\n",
      "<class 'pandas.core.frame.DataFrame'>\n",
      "Index: 432 entries, 0 to 1226\n",
      "Data columns (total 6 columns):\n",
      " #   Column        Non-Null Count  Dtype \n",
      "---  ------        --------------  ----- \n",
      " 0   Thread ID     432 non-null    object\n",
      " 1   Title         432 non-null    object\n",
      " 2   User          432 non-null    object\n",
      " 3   Comment       432 non-null    object\n",
      " 4   Post Time     432 non-null    object\n",
      " 5   Comment Time  432 non-null    object\n",
      "dtypes: object(6)\n",
      "memory usage: 23.6+ KB\n",
      "None\n"
     ]
    }
   ],
   "source": [
    "# Retrive titles that contain the words \"what is your fire number\"\n",
    "fire_df = rfire_df[rfire_df['Title'].str.contains(r'what\\s*is\\s*your\\s*fire\\s*number', case=False, na=False)]\n",
    "\n",
    "print(fire_df['Title'].unique())\n",
    "print(fire_df.info())"
   ]
  },
  {
   "cell_type": "markdown",
   "metadata": {
    "id": "7UDRkbbWy_vw"
   },
   "source": [
    "### Fire Number Extraction"
   ]
  },
  {
   "cell_type": "markdown",
   "metadata": {
    "id": "QBbBP3SkY5B0"
   },
   "source": [
    "Regular Expression Description\n",
    "\n",
    "re.sub(r'[^a-zA-Z0-9\\s$€£¥.]', '', text)\n",
    "\n",
    "replaces matching substrings with an empty '' (effectively removing it)\n",
    "\n",
    "Breakdown: \\\n",
    "^a-zA-Z0-9 = NOT alphanumeric characters \\\n",
    "\\s = whitespace \\\n",
    "$€£¥ = Currency symbols \\\n",
    ". = Period / Decimal \\\n",
    "\n",
    "Objective:  \\\n",
    "Regular Expression removes everything that isn't an alphanumeric character or symbol above AFTER we've already removed periods from the line\n",
    "\n",
    "text = re.sub(r'(?<!\\d)\\.(?!\\d)', '', text)\n",
    "\n",
    "Breakdown: \\\n",
    "(?<!\\d) Only match if the character before the period is not a digit (\\d) *only checking with ?*\n"
   ]
  },
  {
   "cell_type": "code",
   "execution_count": 5,
   "metadata": {
    "id": "QkmebKoxg4EL"
   },
   "outputs": [],
   "source": [
    "# Define text cleaning and extraction\n",
    "def clean_and_extract(text: str) -> str:\n",
    "    \"\"\"Cleans the input text by normalizing financial identifiers.\"\"\"\n",
    "    # Remove URLs\n",
    "    text = re.sub(r'http\\S+', '', text)\n",
    "\n",
    "    # Keep alphanumeric characters, spaces, and currency symbols\n",
    "    text = re.sub(r'[^a-zA-Z0-9\\s$€£¥.,/]', '', text)\n",
    "\n",
    "    # Normalize financial identifiers\n",
    "    financial_patterns = [\n",
    "        (r'(?<!\\w)\\$?(\\d{1,3}(?:,\\d{3})*(?:\\.\\d+)?)\\s*(m|mm|mil)(?=\\s|/|$)', r'\\1 million'),\n",
    "        (r'(?<!\\w)\\$?(\\d{1,3}(?:,\\d{3})*(?:\\.\\d+)?)\\s*(b|bil)(?=\\s|$)', r'\\1 billion'),\n",
    "        (r'(?<!\\w)\\$?(\\d{1,3}(?:,\\d{3})*(?:\\.\\d+)?)\\s*(k|thousand)(?=\\s|$)', r'\\1 thousand'),\n",
    "    ]\n",
    "\n",
    "    for pattern, replacement in financial_patterns:\n",
    "        text = re.sub(pattern, replacement, text, flags=re.IGNORECASE)\n",
    "\n",
    "    # Handle ranges and multiple values like \"5mil/600k\"\n",
    "    text = re.sub(r'(\\d+(?:\\.\\d+)?)\\s*/\\s*(\\d+(?:\\.\\d+)?)\\s*(mil|m|k)',\n",
    "                  lambda match: f\"{match.group(1)} {match.group(3)} {match.group(2)} {match.group(3)}\",\n",
    "                  text, flags=re.IGNORECASE)\n",
    "\n",
    "    # Convert to lowercase and remove extra spaces\n",
    "    text = text.lower()\n",
    "    text = re.sub(r'\\s+', ' ', text).strip()\n",
    "\n",
    "    return text\n",
    "\n",
    "def extract_fire_numbers(text: str) -> float:\n",
    "    \"\"\"Extracts and converts financial identifiers to numeric values.\"\"\"\n",
    "    text = re.sub(r',', '', text)  # Remove commas\n",
    "\n",
    "    fire_numbers = re.findall(r'(\\$?\\d+(?:\\.\\d+)?)\\s*(million|billion|thousand|m|b|k)?', text, re.IGNORECASE)\n",
    "\n",
    "    total = 0.0\n",
    "    for num, unit in fire_numbers:\n",
    "        num_value = float(num.replace('$', ''))\n",
    "\n",
    "        if unit and unit.lower() in ['million', 'm']:\n",
    "            total = max(total, num_value * 1_000_000)\n",
    "        elif unit and unit.lower() in ['billion', 'b']:\n",
    "            total = max(total, num_value * 1_000_000_000)\n",
    "        elif unit and unit.lower() in ['thousand', 'k']:\n",
    "            total = max(total, num_value * 1_000)\n",
    "        else:\n",
    "            total = max(total, num_value)\n",
    "\n",
    "    return total\n",
    "\n",
    "# Copied and pasted from Deniega (2024) submission for USD ADS 509 Assignment 2\n",
    "def descriptive_stats(tokens, num_tokens = 5, verbose=True) :\n",
    "    \"\"\"\n",
    "        Given a list of tokens, print number of tokens, number of unique tokens, \n",
    "        number of characters, lexical diversity (https://en.wikipedia.org/wiki/Lexical_diversity), \n",
    "        and num_tokens most common tokens. Return a list with the number of tokens, number\n",
    "        of unique tokens, lexical diversity, and number of characters. \n",
    "    \n",
    "    \"\"\"\n",
    "\n",
    "    # Fill in the correct values here. \n",
    "    num_tokens = len(tokens)\n",
    "    num_unique_tokens = len(set(tokens))\n",
    "    lexical_diversity = num_unique_tokens / num_tokens\n",
    "    num_characters = sum(len(token) for token in tokens)\n",
    "\n",
    "    most_common_tokens = Counter(tokens).most_common(num_tokens)\n",
    "    \n",
    "    if verbose :        \n",
    "        print(f\"There are {num_tokens} tokens in the data.\")\n",
    "        print(f\"There are {num_unique_tokens} unique tokens in the data.\")\n",
    "        print(f\"There are {num_characters} characters in the data.\")\n",
    "        print(f\"The lexical diversity is {lexical_diversity:.3f} in the data.\")\n",
    "           \n",
    "        print(f\"The five most common tokens are:\") # print the five most common tokens \n",
    "        for token, count in most_common_tokens[:5]:\n",
    "            print(f\"{token}: {count}\")\n",
    "        print(\"\\n\")\n",
    "    return([num_tokens, num_unique_tokens,\n",
    "            lexical_diversity,\n",
    "            num_characters])"
   ]
  },
  {
   "cell_type": "code",
   "execution_count": 6,
   "metadata": {
    "id": "1P8lLqgmx0E5"
   },
   "outputs": [],
   "source": [
    "# Cleaned Comments\n",
    "fire_df['Cleaned Comment'] = fire_df['Comment'].apply(clean_and_extract)\n",
    "\n",
    "# Extract FIRE numbers\n",
    "fire_df['FIRE #'] = fire_df['Cleaned Comment'].apply(extract_fire_numbers)\n",
    "\n",
    "# Filter out FIRE numbers less than 10,000\n",
    "fire_df = fire_df[fire_df['FIRE #'] >= 10000]\n",
    "\n",
    "# Format the FIRE Number for better readability\n",
    "#fire_df['FIRE Number'] = fire_df['FIRE #'].apply(lambda x: f\"{x:,.2f}\")\n",
    "\n",
    "fire_df['FIRE Number'] = fire_df['FIRE #'].round(2)\n",
    "\n",
    "# Drop the original FIRE # column\n",
    "fire_df.drop(columns=['FIRE #'], inplace=True)"
   ]
  },
  {
   "cell_type": "markdown",
   "metadata": {
    "id": "HfgOvCuToRsT"
   },
   "source": [
    "### Verify output of cleaning processes"
   ]
  },
  {
   "cell_type": "code",
   "execution_count": 7,
   "metadata": {
    "colab": {
     "base_uri": "https://localhost:8080/",
     "height": 204
    },
    "id": "YmutVjbqeAjw",
    "outputId": "0e46d7f2-8996-47af-fa47-fad795b757a1"
   },
   "outputs": [
    {
     "data": {
      "text/html": [
       "<div>\n",
       "<style scoped>\n",
       "    .dataframe tbody tr th:only-of-type {\n",
       "        vertical-align: middle;\n",
       "    }\n",
       "\n",
       "    .dataframe tbody tr th {\n",
       "        vertical-align: top;\n",
       "    }\n",
       "\n",
       "    .dataframe thead th {\n",
       "        text-align: right;\n",
       "    }\n",
       "</style>\n",
       "<table border=\"1\" class=\"dataframe\">\n",
       "  <thead>\n",
       "    <tr style=\"text-align: right;\">\n",
       "      <th></th>\n",
       "      <th>Comment</th>\n",
       "      <th>Cleaned Comment</th>\n",
       "      <th>FIRE Number</th>\n",
       "    </tr>\n",
       "  </thead>\n",
       "  <tbody>\n",
       "    <tr>\n",
       "      <th>1221</th>\n",
       "      <td>5m/1.2m excluding our primary residence. Once ...</td>\n",
       "      <td>5 million/1.2 million excluding our primary re...</td>\n",
       "      <td>5000000.0</td>\n",
       "    </tr>\n",
       "    <tr>\n",
       "      <th>1222</th>\n",
       "      <td>5mil/600k one 3 yr old and newborn coming</td>\n",
       "      <td>5 million/600 thousand one 3 yr old and newbor...</td>\n",
       "      <td>5000000.0</td>\n",
       "    </tr>\n",
       "    <tr>\n",
       "      <th>1223</th>\n",
       "      <td>Marrying whoever after my Bar Exam this Novemb...</td>\n",
       "      <td>marrying whoever after my bar exam this novemb...</td>\n",
       "      <td>210000000.0</td>\n",
       "    </tr>\n",
       "    <tr>\n",
       "      <th>1224</th>\n",
       "      <td>No kids, 100Mil</td>\n",
       "      <td>no kids, 100 million</td>\n",
       "      <td>100000000.0</td>\n",
       "    </tr>\n",
       "    <tr>\n",
       "      <th>1225</th>\n",
       "      <td>5m/2.2m with 2 kids in middle/elementary</td>\n",
       "      <td>5 million/2.2 million with 2 kids in middle/el...</td>\n",
       "      <td>5000000.0</td>\n",
       "    </tr>\n",
       "  </tbody>\n",
       "</table>\n",
       "</div>"
      ],
      "text/plain": [
       "                                                Comment  \\\n",
       "1221  5m/1.2m excluding our primary residence. Once ...   \n",
       "1222          5mil/600k one 3 yr old and newborn coming   \n",
       "1223  Marrying whoever after my Bar Exam this Novemb...   \n",
       "1224                                    No kids, 100Mil   \n",
       "1225           5m/2.2m with 2 kids in middle/elementary   \n",
       "\n",
       "                                        Cleaned Comment  FIRE Number  \n",
       "1221  5 million/1.2 million excluding our primary re...    5000000.0  \n",
       "1222  5 million/600 thousand one 3 yr old and newbor...    5000000.0  \n",
       "1223  marrying whoever after my bar exam this novemb...  210000000.0  \n",
       "1224                               no kids, 100 million  100000000.0  \n",
       "1225  5 million/2.2 million with 2 kids in middle/el...    5000000.0  "
      ]
     },
     "execution_count": 7,
     "metadata": {},
     "output_type": "execute_result"
    }
   ],
   "source": [
    "fire_df[['Comment', 'Cleaned Comment', 'FIRE Number']].tail()"
   ]
  },
  {
   "cell_type": "code",
   "execution_count": 8,
   "metadata": {
    "colab": {
     "base_uri": "https://localhost:8080/",
     "height": 359
    },
    "id": "N1WUdTV8ctd0",
    "outputId": "8d0ad8b4-fde8-4358-b59a-e0b97371177c"
   },
   "outputs": [
    {
     "data": {
      "text/html": [
       "<div>\n",
       "<style scoped>\n",
       "    .dataframe tbody tr th:only-of-type {\n",
       "        vertical-align: middle;\n",
       "    }\n",
       "\n",
       "    .dataframe tbody tr th {\n",
       "        vertical-align: top;\n",
       "    }\n",
       "\n",
       "    .dataframe thead th {\n",
       "        text-align: right;\n",
       "    }\n",
       "</style>\n",
       "<table border=\"1\" class=\"dataframe\">\n",
       "  <thead>\n",
       "    <tr style=\"text-align: right;\">\n",
       "      <th></th>\n",
       "      <th>Comment</th>\n",
       "      <th>Cleaned Comment</th>\n",
       "      <th>FIRE Number</th>\n",
       "    </tr>\n",
       "  </thead>\n",
       "  <tbody>\n",
       "    <tr>\n",
       "      <th>133</th>\n",
       "      <td>* r/coastFIRE at $300k and a $42k pension star...</td>\n",
       "      <td>r/coastfire at 300 thousand and a 42 thousand ...</td>\n",
       "      <td>2.000000e+06</td>\n",
       "    </tr>\n",
       "    <tr>\n",
       "      <th>131</th>\n",
       "      <td>USA MO, I retired about 10 years ago when my n...</td>\n",
       "      <td>usa mo, i retired about 10 years ago when my n...</td>\n",
       "      <td>2.000000e+06</td>\n",
       "    </tr>\n",
       "    <tr>\n",
       "      <th>168</th>\n",
       "      <td>Minimum is $3 million in investments, $4 milli...</td>\n",
       "      <td>minimum is $3 million in investments, $4 milli...</td>\n",
       "      <td>4.000000e+06</td>\n",
       "    </tr>\n",
       "    <tr>\n",
       "      <th>52</th>\n",
       "      <td>My original number 10 years ago was 1.5…but th...</td>\n",
       "      <td>my original number 10 years ago was 1.5but tha...</td>\n",
       "      <td>1.500000e+09</td>\n",
       "    </tr>\n",
       "    <tr>\n",
       "      <th>58</th>\n",
       "      <td>Mathematically, it is 1.25 million dollars and...</td>\n",
       "      <td>mathematically, it is 1.25 million dollars and...</td>\n",
       "      <td>2.500000e+06</td>\n",
       "    </tr>\n",
       "    <tr>\n",
       "      <th>453</th>\n",
       "      <td>200k, active investing i can man 20k easily re...</td>\n",
       "      <td>200k, active investing i can man 20 thousand e...</td>\n",
       "      <td>2.000000e+05</td>\n",
       "    </tr>\n",
       "    <tr>\n",
       "      <th>167</th>\n",
       "      <td>5M USD investments. 7M Net Worth.  South of Fr...</td>\n",
       "      <td>5 million usd investments. 7 million net worth...</td>\n",
       "      <td>7.000000e+06</td>\n",
       "    </tr>\n",
       "    <tr>\n",
       "      <th>293</th>\n",
       "      <td>Currently 29 yo, liquid 170k NW. Goal to retir...</td>\n",
       "      <td>currently 29 yo, liquid 170 thousand nw. goal ...</td>\n",
       "      <td>1.500000e+06</td>\n",
       "    </tr>\n",
       "    <tr>\n",
       "      <th>126</th>\n",
       "      <td>$2.25M. Arizona.</td>\n",
       "      <td>$2.25m. arizona.</td>\n",
       "      <td>2.250000e+06</td>\n",
       "    </tr>\n",
       "    <tr>\n",
       "      <th>64</th>\n",
       "      <td>The equivalent of 250k usd, plus a house.  I d...</td>\n",
       "      <td>the equivalent of 250 thousand usd, plus a hou...</td>\n",
       "      <td>2.500000e+05</td>\n",
       "    </tr>\n",
       "  </tbody>\n",
       "</table>\n",
       "</div>"
      ],
      "text/plain": [
       "                                               Comment  \\\n",
       "133  * r/coastFIRE at $300k and a $42k pension star...   \n",
       "131  USA MO, I retired about 10 years ago when my n...   \n",
       "168  Minimum is $3 million in investments, $4 milli...   \n",
       "52   My original number 10 years ago was 1.5…but th...   \n",
       "58   Mathematically, it is 1.25 million dollars and...   \n",
       "453  200k, active investing i can man 20k easily re...   \n",
       "167  5M USD investments. 7M Net Worth.  South of Fr...   \n",
       "293  Currently 29 yo, liquid 170k NW. Goal to retir...   \n",
       "126                                   $2.25M. Arizona.   \n",
       "64   The equivalent of 250k usd, plus a house.  I d...   \n",
       "\n",
       "                                       Cleaned Comment   FIRE Number  \n",
       "133  r/coastfire at 300 thousand and a 42 thousand ...  2.000000e+06  \n",
       "131  usa mo, i retired about 10 years ago when my n...  2.000000e+06  \n",
       "168  minimum is $3 million in investments, $4 milli...  4.000000e+06  \n",
       "52   my original number 10 years ago was 1.5but tha...  1.500000e+09  \n",
       "58   mathematically, it is 1.25 million dollars and...  2.500000e+06  \n",
       "453  200k, active investing i can man 20 thousand e...  2.000000e+05  \n",
       "167  5 million usd investments. 7 million net worth...  7.000000e+06  \n",
       "293  currently 29 yo, liquid 170 thousand nw. goal ...  1.500000e+06  \n",
       "126                                   $2.25m. arizona.  2.250000e+06  \n",
       "64   the equivalent of 250 thousand usd, plus a hou...  2.500000e+05  "
      ]
     },
     "execution_count": 8,
     "metadata": {},
     "output_type": "execute_result"
    }
   ],
   "source": [
    "random_sample = fire_df.sample(n=10, random_state=10)\n",
    "random_sample[['Comment', 'Cleaned Comment', 'FIRE Number']]"
   ]
  },
  {
   "cell_type": "markdown",
   "metadata": {
    "id": "nDok5we7a9gV"
   },
   "source": [
    "### Year Extraction"
   ]
  },
  {
   "cell_type": "code",
   "execution_count": 9,
   "metadata": {
    "id": "sUTSlLY-a9gV"
   },
   "outputs": [],
   "source": [
    "fire_df['Post Year'] = pd.to_datetime(fire_df['Post Time']).dt.year\n",
    "fire_df['Comment Year'] = pd.to_datetime(fire_df['Comment Time']).dt.year"
   ]
  },
  {
   "cell_type": "markdown",
   "metadata": {
    "id": "y02E9VFYa9gW"
   },
   "source": [
    "# *Assignment 6.2 Objective: Descriptive Stats*"
   ]
  },
  {
   "cell_type": "markdown",
   "metadata": {
    "id": "TzGs1G10oRsT"
   },
   "source": [
    "### Combine all comments into a single text, tokenize, and call descriptive_stats"
   ]
  },
  {
   "cell_type": "code",
   "execution_count": 10,
   "metadata": {
    "id": "XGltIs8JoRsT",
    "outputId": "4aeaf076-84c5-4c77-e9a0-2518bff2c3b4"
   },
   "outputs": [
    {
     "name": "stdout",
     "output_type": "stream",
     "text": [
      "There are 12739 tokens in the data.\n",
      "There are 1999 unique tokens in the data.\n",
      "There are 52805 characters in the data.\n",
      "The lexical diversity is 0.157 in the data.\n",
      "The five most common tokens are:\n",
      "i: 376\n",
      "to: 348\n",
      "a: 317\n",
      "and: 314\n",
      "million: 299\n",
      "\n",
      "\n"
     ]
    },
    {
     "data": {
      "text/plain": [
       "[12739, 1999, 0.15691969542350262, 52805]"
      ]
     },
     "execution_count": 10,
     "metadata": {},
     "output_type": "execute_result"
    }
   ],
   "source": [
    "combined_comments = ' '.join(fire_df['Cleaned Comment'].astype(str))\n",
    "tokens = nltk.word_tokenize(combined_comments)\n",
    "filtered_tokens = [token for token in tokens if token.isalnum()]\n",
    "descriptive_stats(filtered_tokens)"
   ]
  },
  {
   "cell_type": "markdown",
   "metadata": {
    "id": "RUGlwknIa9gV"
   },
   "source": [
    "### Graph number of posts by year"
   ]
  },
  {
   "cell_type": "code",
   "execution_count": 11,
   "metadata": {
    "id": "WRLjs18ta9gV",
    "outputId": "cb449d91-942a-4dd5-c16d-bb0c89a6c521"
   },
   "outputs": [
    {
     "data": {
      "image/png": "[encoded data removed]",
      "text/plain": [
       "<Figure size 1000x600 with 1 Axes>"
      ]
     },
     "metadata": {},
     "output_type": "display_data"
    }
   ],
   "source": [
    "post_counts_by_year = fire_df.groupby('Post Year').size()\n",
    "plt.figure(figsize=(10, 6))\n",
    "post_counts_by_year.plot(kind='bar')\n",
    "plt.title('Number of Posts by Year')\n",
    "plt.xlabel('Year')\n",
    "plt.ylabel('Number of Posts')\n",
    "plt.xticks(rotation=45)\n",
    "plt.show()"
   ]
  },
  {
   "cell_type": "markdown",
   "metadata": {
    "id": "0R_cVh8Ua9gW"
   },
   "source": [
    "### Handle outliers (1.5*IQR +/- Q1|Q3 Method)"
   ]
  },
  {
   "cell_type": "code",
   "execution_count": 12,
   "metadata": {
    "id": "KViQbDf0a9gW"
   },
   "outputs": [],
   "source": [
    "def cap_outliers(series):\n",
    "    Q1 = series.quantile(0.25)\n",
    "    Q3 = series.quantile(0.75)\n",
    "    IQR = Q3 - Q1\n",
    "    lower_bound = Q1 - 1.5 * IQR\n",
    "    upper_bound = Q3 + 1.5 * IQR\n",
    "    return series.clip(lower=lower_bound, upper=upper_bound)"
   ]
  },
  {
   "cell_type": "code",
   "execution_count": 13,
   "metadata": {
    "id": "sezQlC-wa9gW"
   },
   "outputs": [],
   "source": [
    "fire_df['Capped FIRE Number'] = cap_outliers(fire_df['FIRE Number'])"
   ]
  },
  {
   "cell_type": "markdown",
   "metadata": {
    "id": "fzogp4tsa9gW"
   },
   "source": [
    "### Mean and Median FIRE number by Post Year"
   ]
  },
  {
   "cell_type": "code",
   "execution_count": 14,
   "metadata": {
    "id": "uRf_V37pa9gW",
    "outputId": "9edbb12c-43e7-467f-93ff-ef2b09dda974"
   },
   "outputs": [
    {
     "data": {
      "text/html": [
       "<div>\n",
       "<style scoped>\n",
       "    .dataframe tbody tr th:only-of-type {\n",
       "        vertical-align: middle;\n",
       "    }\n",
       "\n",
       "    .dataframe tbody tr th {\n",
       "        vertical-align: top;\n",
       "    }\n",
       "\n",
       "    .dataframe thead th {\n",
       "        text-align: right;\n",
       "    }\n",
       "</style>\n",
       "<table border=\"1\" class=\"dataframe\">\n",
       "  <thead>\n",
       "    <tr style=\"text-align: right;\">\n",
       "      <th></th>\n",
       "      <th>Mean FIRE</th>\n",
       "      <th>Median FIRE</th>\n",
       "    </tr>\n",
       "    <tr>\n",
       "      <th>Post Year</th>\n",
       "      <th></th>\n",
       "      <th></th>\n",
       "    </tr>\n",
       "  </thead>\n",
       "  <tbody>\n",
       "    <tr>\n",
       "      <th>2021</th>\n",
       "      <td>4,099,614.43</td>\n",
       "      <td>2,925,000.00</td>\n",
       "    </tr>\n",
       "    <tr>\n",
       "      <th>2022</th>\n",
       "      <td>4,531,352.04</td>\n",
       "      <td>3,500,000.00</td>\n",
       "    </tr>\n",
       "    <tr>\n",
       "      <th>2023</th>\n",
       "      <td>4,174,685.19</td>\n",
       "      <td>2,500,000.00</td>\n",
       "    </tr>\n",
       "    <tr>\n",
       "      <th>2024</th>\n",
       "      <td>3,851,917.48</td>\n",
       "      <td>2,850,000.00</td>\n",
       "    </tr>\n",
       "  </tbody>\n",
       "</table>\n",
       "</div>"
      ],
      "text/plain": [
       "             Mean FIRE  Median FIRE\n",
       "Post Year                          \n",
       "2021      4,099,614.43 2,925,000.00\n",
       "2022      4,531,352.04 3,500,000.00\n",
       "2023      4,174,685.19 2,500,000.00\n",
       "2024      3,851,917.48 2,850,000.00"
      ]
     },
     "execution_count": 14,
     "metadata": {},
     "output_type": "execute_result"
    }
   ],
   "source": [
    "mean_fire_by_post_year = fire_df.groupby('Post Year')['Capped FIRE Number'].mean()\n",
    "median_fire_by_post_year = fire_df.groupby('Post Year')['Capped FIRE Number'].median()\n",
    "fire_stats_by_post_year = pd.DataFrame({\n",
    "    'Mean FIRE': mean_fire_by_post_year,\n",
    "    'Median FIRE': median_fire_by_post_year\n",
    "})\n",
    "pd.options.display.float_format = '{:,.2f}'.format\n",
    "fire_stats_by_post_year"
   ]
  },
  {
   "cell_type": "markdown",
   "metadata": {
    "id": "5LQSWCsia9gW"
   },
   "source": [
    "### Mean and Median FIRE number by Comment Year"
   ]
  },
  {
   "cell_type": "code",
   "execution_count": 15,
   "metadata": {
    "id": "qmG-9O7La9gW",
    "outputId": "68ffa4fb-0f37-479a-e6de-4b94538d99c0"
   },
   "outputs": [
    {
     "data": {
      "text/html": [
       "<div>\n",
       "<style scoped>\n",
       "    .dataframe tbody tr th:only-of-type {\n",
       "        vertical-align: middle;\n",
       "    }\n",
       "\n",
       "    .dataframe tbody tr th {\n",
       "        vertical-align: top;\n",
       "    }\n",
       "\n",
       "    .dataframe thead th {\n",
       "        text-align: right;\n",
       "    }\n",
       "</style>\n",
       "<table border=\"1\" class=\"dataframe\">\n",
       "  <thead>\n",
       "    <tr style=\"text-align: right;\">\n",
       "      <th></th>\n",
       "      <th>Mean FIRE</th>\n",
       "      <th>Median FIRE</th>\n",
       "    </tr>\n",
       "    <tr>\n",
       "      <th>Comment Year</th>\n",
       "      <th></th>\n",
       "      <th></th>\n",
       "    </tr>\n",
       "  </thead>\n",
       "  <tbody>\n",
       "    <tr>\n",
       "      <th>2021</th>\n",
       "      <td>4,089,085.21</td>\n",
       "      <td>2,850,000.00</td>\n",
       "    </tr>\n",
       "    <tr>\n",
       "      <th>2022</th>\n",
       "      <td>4,531,352.04</td>\n",
       "      <td>3,500,000.00</td>\n",
       "    </tr>\n",
       "    <tr>\n",
       "      <th>2023</th>\n",
       "      <td>4,247,792.45</td>\n",
       "      <td>2,500,000.00</td>\n",
       "    </tr>\n",
       "    <tr>\n",
       "      <th>2024</th>\n",
       "      <td>3,833,252.43</td>\n",
       "      <td>2,850,000.00</td>\n",
       "    </tr>\n",
       "  </tbody>\n",
       "</table>\n",
       "</div>"
      ],
      "text/plain": [
       "                Mean FIRE  Median FIRE\n",
       "Comment Year                          \n",
       "2021         4,089,085.21 2,850,000.00\n",
       "2022         4,531,352.04 3,500,000.00\n",
       "2023         4,247,792.45 2,500,000.00\n",
       "2024         3,833,252.43 2,850,000.00"
      ]
     },
     "execution_count": 15,
     "metadata": {},
     "output_type": "execute_result"
    }
   ],
   "source": [
    "mean_fire_by_comment_year = fire_df.groupby('Comment Year')['Capped FIRE Number'].mean()\n",
    "median_fire_by_comment_year = fire_df.groupby('Comment Year')['Capped FIRE Number'].median()\n",
    "fire_stats_by_comment_year = pd.DataFrame({\n",
    "    'Mean FIRE': mean_fire_by_comment_year,\n",
    "    'Median FIRE': median_fire_by_comment_year\n",
    "})\n",
    "pd.options.display.float_format = '{:,.2f}'.format\n",
    "fire_stats_by_comment_year"
   ]
  },
  {
   "cell_type": "markdown",
   "metadata": {
    "id": "FFWfDVgBY5B1"
   },
   "source": [
    "### Create CountVectorizer matrix for the cleaned comments"
   ]
  },
  {
   "cell_type": "code",
   "execution_count": 16,
   "metadata": {
    "id": "ZZIhBW_9Y5B1"
   },
   "outputs": [],
   "source": [
    "vectorizer_ct = CountVectorizer(stop_words='english')\n",
    "X_ct = vectorizer_ct.fit_transform(fire_df['Cleaned Comment'])"
   ]
  },
  {
   "cell_type": "markdown",
   "metadata": {
    "id": "TmTvoqbBY5B1"
   },
   "source": [
    "### Create Term Frequency - Inverse Document Frequency scored vectors"
   ]
  },
  {
   "cell_type": "code",
   "execution_count": 17,
   "metadata": {
    "id": "xVoudGrAY5B1"
   },
   "outputs": [],
   "source": [
    "vectorizer_tfidf = TfidfVectorizer(stop_words='english', max_features=1000) # Cap the size for memory\n",
    "X_tfidf = vectorizer_tfidf.fit_transform(fire_df['Cleaned Comment'])"
   ]
  },
  {
   "cell_type": "markdown",
   "metadata": {
    "id": "whSTLV6cx5n8"
   },
   "source": [
    "# Model Development"
   ]
  },
  {
   "cell_type": "markdown",
   "metadata": {
    "id": "OWzzmb7wyh18"
   },
   "source": [
    "## Topic Modeling"
   ]
  },
  {
   "cell_type": "markdown",
   "metadata": {
    "id": "qBSpIYXYY5B2"
   },
   "source": [
    "### Latent Dirichlet Allocation"
   ]
  },
  {
   "cell_type": "code",
   "execution_count": 18,
   "metadata": {
    "id": "acv2VS3wx9q8",
    "outputId": "c406dee6-f40e-4b69-8c6b-64abc30c365c"
   },
   "outputs": [
    {
     "data": {
      "text/html": [
       "<style>#sk-container-id-1 {\n",
       "  /* Definition of color scheme common for light and dark mode */\n",
       "  --sklearn-color-text: black;\n",
       "  --sklearn-color-line: gray;\n",
       "  /* Definition of color scheme for unfitted estimators */\n",
       "  --sklearn-color-unfitted-level-0: #fff5e6;\n",
       "  --sklearn-color-unfitted-level-1: #f6e4d2;\n",
       "  --sklearn-color-unfitted-level-2: #ffe0b3;\n",
       "  --sklearn-color-unfitted-level-3: chocolate;\n",
       "  /* Definition of color scheme for fitted estimators */\n",
       "  --sklearn-color-fitted-level-0: #f0f8ff;\n",
       "  --sklearn-color-fitted-level-1: #d4ebff;\n",
       "  --sklearn-color-fitted-level-2: #b3dbfd;\n",
       "  --sklearn-color-fitted-level-3: cornflowerblue;\n",
       "\n",
       "  /* Specific color for light theme */\n",
       "  --sklearn-color-text-on-default-background: var(--sg-text-color, var(--theme-code-foreground, var(--jp-content-font-color1, black)));\n",
       "  --sklearn-color-background: var(--sg-background-color, var(--theme-background, var(--jp-layout-color0, white)));\n",
       "  --sklearn-color-border-box: var(--sg-text-color, var(--theme-code-foreground, var(--jp-content-font-color1, black)));\n",
       "  --sklearn-color-icon: #696969;\n",
       "\n",
       "  @media (prefers-color-scheme: dark) {\n",
       "    /* Redefinition of color scheme for dark theme */\n",
       "    --sklearn-color-text-on-default-background: var(--sg-text-color, var(--theme-code-foreground, var(--jp-content-font-color1, white)));\n",
       "    --sklearn-color-background: var(--sg-background-color, var(--theme-background, var(--jp-layout-color0, #111)));\n",
       "    --sklearn-color-border-box: var(--sg-text-color, var(--theme-code-foreground, var(--jp-content-font-color1, white)));\n",
       "    --sklearn-color-icon: #878787;\n",
       "  }\n",
       "}\n",
       "\n",
       "#sk-container-id-1 {\n",
       "  color: var(--sklearn-color-text);\n",
       "}\n",
       "\n",
       "#sk-container-id-1 pre {\n",
       "  padding: 0;\n",
       "}\n",
       "\n",
       "#sk-container-id-1 input.sk-hidden--visually {\n",
       "  border: 0;\n",
       "  clip: rect(1px 1px 1px 1px);\n",
       "  clip: rect(1px, 1px, 1px, 1px);\n",
       "  height: 1px;\n",
       "  margin: -1px;\n",
       "  overflow: hidden;\n",
       "  padding: 0;\n",
       "  position: absolute;\n",
       "  width: 1px;\n",
       "}\n",
       "\n",
       "#sk-container-id-1 div.sk-dashed-wrapped {\n",
       "  border: 1px dashed var(--sklearn-color-line);\n",
       "  margin: 0 0.4em 0.5em 0.4em;\n",
       "  box-sizing: border-box;\n",
       "  padding-bottom: 0.4em;\n",
       "  background-color: var(--sklearn-color-background);\n",
       "}\n",
       "\n",
       "#sk-container-id-1 div.sk-container {\n",
       "  /* jupyter's `normalize.less` sets `[hidden] { display: none; }`\n",
       "     but bootstrap.min.css set `[hidden] { display: none !important; }`\n",
       "     so we also need the `!important` here to be able to override the\n",
       "     default hidden behavior on the sphinx rendered scikit-learn.org.\n",
       "     See: https://github.com/scikit-learn/scikit-learn/issues/21755 */\n",
       "  display: inline-block !important;\n",
       "  position: relative;\n",
       "}\n",
       "\n",
       "#sk-container-id-1 div.sk-text-repr-fallback {\n",
       "  display: none;\n",
       "}\n",
       "\n",
       "div.sk-parallel-item,\n",
       "div.sk-serial,\n",
       "div.sk-item {\n",
       "  /* draw centered vertical line to link estimators */\n",
       "  background-image: linear-gradient(var(--sklearn-color-text-on-default-background), var(--sklearn-color-text-on-default-background));\n",
       "  background-size: 2px 100%;\n",
       "  background-repeat: no-repeat;\n",
       "  background-position: center center;\n",
       "}\n",
       "\n",
       "/* Parallel-specific style estimator block */\n",
       "\n",
       "#sk-container-id-1 div.sk-parallel-item::after {\n",
       "  content: \"\";\n",
       "  width: 100%;\n",
       "  border-bottom: 2px solid var(--sklearn-color-text-on-default-background);\n",
       "  flex-grow: 1;\n",
       "}\n",
       "\n",
       "#sk-container-id-1 div.sk-parallel {\n",
       "  display: flex;\n",
       "  align-items: stretch;\n",
       "  justify-content: center;\n",
       "  background-color: var(--sklearn-color-background);\n",
       "  position: relative;\n",
       "}\n",
       "\n",
       "#sk-container-id-1 div.sk-parallel-item {\n",
       "  display: flex;\n",
       "  flex-direction: column;\n",
       "}\n",
       "\n",
       "#sk-container-id-1 div.sk-parallel-item:first-child::after {\n",
       "  align-self: flex-end;\n",
       "  width: 50%;\n",
       "}\n",
       "\n",
       "#sk-container-id-1 div.sk-parallel-item:last-child::after {\n",
       "  align-self: flex-start;\n",
       "  width: 50%;\n",
       "}\n",
       "\n",
       "#sk-container-id-1 div.sk-parallel-item:only-child::after {\n",
       "  width: 0;\n",
       "}\n",
       "\n",
       "/* Serial-specific style estimator block */\n",
       "\n",
       "#sk-container-id-1 div.sk-serial {\n",
       "  display: flex;\n",
       "  flex-direction: column;\n",
       "  align-items: center;\n",
       "  background-color: var(--sklearn-color-background);\n",
       "  padding-right: 1em;\n",
       "  padding-left: 1em;\n",
       "}\n",
       "\n",
       "\n",
       "/* Toggleable style: style used for estimator/Pipeline/ColumnTransformer box that is\n",
       "clickable and can be expanded/collapsed.\n",
       "- Pipeline and ColumnTransformer use this feature and define the default style\n",
       "- Estimators will overwrite some part of the style using the `sk-estimator` class\n",
       "*/\n",
       "\n",
       "/* Pipeline and ColumnTransformer style (default) */\n",
       "\n",
       "#sk-container-id-1 div.sk-toggleable {\n",
       "  /* Default theme specific background. It is overwritten whether we have a\n",
       "  specific estimator or a Pipeline/ColumnTransformer */\n",
       "  background-color: var(--sklearn-color-background);\n",
       "}\n",
       "\n",
       "/* Toggleable label */\n",
       "#sk-container-id-1 label.sk-toggleable__label {\n",
       "  cursor: pointer;\n",
       "  display: block;\n",
       "  width: 100%;\n",
       "  margin-bottom: 0;\n",
       "  padding: 0.5em;\n",
       "  box-sizing: border-box;\n",
       "  text-align: center;\n",
       "}\n",
       "\n",
       "#sk-container-id-1 label.sk-toggleable__label-arrow:before {\n",
       "  /* Arrow on the left of the label */\n",
       "  content: \"▸\";\n",
       "  float: left;\n",
       "  margin-right: 0.25em;\n",
       "  color: var(--sklearn-color-icon);\n",
       "}\n",
       "\n",
       "#sk-container-id-1 label.sk-toggleable__label-arrow:hover:before {\n",
       "  color: var(--sklearn-color-text);\n",
       "}\n",
       "\n",
       "/* Toggleable content - dropdown */\n",
       "\n",
       "#sk-container-id-1 div.sk-toggleable__content {\n",
       "  max-height: 0;\n",
       "  max-width: 0;\n",
       "  overflow: hidden;\n",
       "  text-align: left;\n",
       "  /* unfitted */\n",
       "  background-color: var(--sklearn-color-unfitted-level-0);\n",
       "}\n",
       "\n",
       "#sk-container-id-1 div.sk-toggleable__content.fitted {\n",
       "  /* fitted */\n",
       "  background-color: var(--sklearn-color-fitted-level-0);\n",
       "}\n",
       "\n",
       "#sk-container-id-1 div.sk-toggleable__content pre {\n",
       "  margin: 0.2em;\n",
       "  border-radius: 0.25em;\n",
       "  color: var(--sklearn-color-text);\n",
       "  /* unfitted */\n",
       "  background-color: var(--sklearn-color-unfitted-level-0);\n",
       "}\n",
       "\n",
       "#sk-container-id-1 div.sk-toggleable__content.fitted pre {\n",
       "  /* unfitted */\n",
       "  background-color: var(--sklearn-color-fitted-level-0);\n",
       "}\n",
       "\n",
       "#sk-container-id-1 input.sk-toggleable__control:checked~div.sk-toggleable__content {\n",
       "  /* Expand drop-down */\n",
       "  max-height: 200px;\n",
       "  max-width: 100%;\n",
       "  overflow: auto;\n",
       "}\n",
       "\n",
       "#sk-container-id-1 input.sk-toggleable__control:checked~label.sk-toggleable__label-arrow:before {\n",
       "  content: \"▾\";\n",
       "}\n",
       "\n",
       "/* Pipeline/ColumnTransformer-specific style */\n",
       "\n",
       "#sk-container-id-1 div.sk-label input.sk-toggleable__control:checked~label.sk-toggleable__label {\n",
       "  color: var(--sklearn-color-text);\n",
       "  background-color: var(--sklearn-color-unfitted-level-2);\n",
       "}\n",
       "\n",
       "#sk-container-id-1 div.sk-label.fitted input.sk-toggleable__control:checked~label.sk-toggleable__label {\n",
       "  background-color: var(--sklearn-color-fitted-level-2);\n",
       "}\n",
       "\n",
       "/* Estimator-specific style */\n",
       "\n",
       "/* Colorize estimator box */\n",
       "#sk-container-id-1 div.sk-estimator input.sk-toggleable__control:checked~label.sk-toggleable__label {\n",
       "  /* unfitted */\n",
       "  background-color: var(--sklearn-color-unfitted-level-2);\n",
       "}\n",
       "\n",
       "#sk-container-id-1 div.sk-estimator.fitted input.sk-toggleable__control:checked~label.sk-toggleable__label {\n",
       "  /* fitted */\n",
       "  background-color: var(--sklearn-color-fitted-level-2);\n",
       "}\n",
       "\n",
       "#sk-container-id-1 div.sk-label label.sk-toggleable__label,\n",
       "#sk-container-id-1 div.sk-label label {\n",
       "  /* The background is the default theme color */\n",
       "  color: var(--sklearn-color-text-on-default-background);\n",
       "}\n",
       "\n",
       "/* On hover, darken the color of the background */\n",
       "#sk-container-id-1 div.sk-label:hover label.sk-toggleable__label {\n",
       "  color: var(--sklearn-color-text);\n",
       "  background-color: var(--sklearn-color-unfitted-level-2);\n",
       "}\n",
       "\n",
       "/* Label box, darken color on hover, fitted */\n",
       "#sk-container-id-1 div.sk-label.fitted:hover label.sk-toggleable__label.fitted {\n",
       "  color: var(--sklearn-color-text);\n",
       "  background-color: var(--sklearn-color-fitted-level-2);\n",
       "}\n",
       "\n",
       "/* Estimator label */\n",
       "\n",
       "#sk-container-id-1 div.sk-label label {\n",
       "  font-family: monospace;\n",
       "  font-weight: bold;\n",
       "  display: inline-block;\n",
       "  line-height: 1.2em;\n",
       "}\n",
       "\n",
       "#sk-container-id-1 div.sk-label-container {\n",
       "  text-align: center;\n",
       "}\n",
       "\n",
       "/* Estimator-specific */\n",
       "#sk-container-id-1 div.sk-estimator {\n",
       "  font-family: monospace;\n",
       "  border: 1px dotted var(--sklearn-color-border-box);\n",
       "  border-radius: 0.25em;\n",
       "  box-sizing: border-box;\n",
       "  margin-bottom: 0.5em;\n",
       "  /* unfitted */\n",
       "  background-color: var(--sklearn-color-unfitted-level-0);\n",
       "}\n",
       "\n",
       "#sk-container-id-1 div.sk-estimator.fitted {\n",
       "  /* fitted */\n",
       "  background-color: var(--sklearn-color-fitted-level-0);\n",
       "}\n",
       "\n",
       "/* on hover */\n",
       "#sk-container-id-1 div.sk-estimator:hover {\n",
       "  /* unfitted */\n",
       "  background-color: var(--sklearn-color-unfitted-level-2);\n",
       "}\n",
       "\n",
       "#sk-container-id-1 div.sk-estimator.fitted:hover {\n",
       "  /* fitted */\n",
       "  background-color: var(--sklearn-color-fitted-level-2);\n",
       "}\n",
       "\n",
       "/* Specification for estimator info (e.g. \"i\" and \"?\") */\n",
       "\n",
       "/* Common style for \"i\" and \"?\" */\n",
       "\n",
       ".sk-estimator-doc-link,\n",
       "a:link.sk-estimator-doc-link,\n",
       "a:visited.sk-estimator-doc-link {\n",
       "  float: right;\n",
       "  font-size: smaller;\n",
       "  line-height: 1em;\n",
       "  font-family: monospace;\n",
       "  background-color: var(--sklearn-color-background);\n",
       "  border-radius: 1em;\n",
       "  height: 1em;\n",
       "  width: 1em;\n",
       "  text-decoration: none !important;\n",
       "  margin-left: 1ex;\n",
       "  /* unfitted */\n",
       "  border: var(--sklearn-color-unfitted-level-1) 1pt solid;\n",
       "  color: var(--sklearn-color-unfitted-level-1);\n",
       "}\n",
       "\n",
       ".sk-estimator-doc-link.fitted,\n",
       "a:link.sk-estimator-doc-link.fitted,\n",
       "a:visited.sk-estimator-doc-link.fitted {\n",
       "  /* fitted */\n",
       "  border: var(--sklearn-color-fitted-level-1) 1pt solid;\n",
       "  color: var(--sklearn-color-fitted-level-1);\n",
       "}\n",
       "\n",
       "/* On hover */\n",
       "div.sk-estimator:hover .sk-estimator-doc-link:hover,\n",
       ".sk-estimator-doc-link:hover,\n",
       "div.sk-label-container:hover .sk-estimator-doc-link:hover,\n",
       ".sk-estimator-doc-link:hover {\n",
       "  /* unfitted */\n",
       "  background-color: var(--sklearn-color-unfitted-level-3);\n",
       "  color: var(--sklearn-color-background);\n",
       "  text-decoration: none;\n",
       "}\n",
       "\n",
       "div.sk-estimator.fitted:hover .sk-estimator-doc-link.fitted:hover,\n",
       ".sk-estimator-doc-link.fitted:hover,\n",
       "div.sk-label-container:hover .sk-estimator-doc-link.fitted:hover,\n",
       ".sk-estimator-doc-link.fitted:hover {\n",
       "  /* fitted */\n",
       "  background-color: var(--sklearn-color-fitted-level-3);\n",
       "  color: var(--sklearn-color-background);\n",
       "  text-decoration: none;\n",
       "}\n",
       "\n",
       "/* Span, style for the box shown on hovering the info icon */\n",
       ".sk-estimator-doc-link span {\n",
       "  display: none;\n",
       "  z-index: 9999;\n",
       "  position: relative;\n",
       "  font-weight: normal;\n",
       "  right: .2ex;\n",
       "  padding: .5ex;\n",
       "  margin: .5ex;\n",
       "  width: min-content;\n",
       "  min-width: 20ex;\n",
       "  max-width: 50ex;\n",
       "  color: var(--sklearn-color-text);\n",
       "  box-shadow: 2pt 2pt 4pt #999;\n",
       "  /* unfitted */\n",
       "  background: var(--sklearn-color-unfitted-level-0);\n",
       "  border: .5pt solid var(--sklearn-color-unfitted-level-3);\n",
       "}\n",
       "\n",
       ".sk-estimator-doc-link.fitted span {\n",
       "  /* fitted */\n",
       "  background: var(--sklearn-color-fitted-level-0);\n",
       "  border: var(--sklearn-color-fitted-level-3);\n",
       "}\n",
       "\n",
       ".sk-estimator-doc-link:hover span {\n",
       "  display: block;\n",
       "}\n",
       "\n",
       "/* \"?\"-specific style due to the `<a>` HTML tag */\n",
       "\n",
       "#sk-container-id-1 a.estimator_doc_link {\n",
       "  float: right;\n",
       "  font-size: 1rem;\n",
       "  line-height: 1em;\n",
       "  font-family: monospace;\n",
       "  background-color: var(--sklearn-color-background);\n",
       "  border-radius: 1rem;\n",
       "  height: 1rem;\n",
       "  width: 1rem;\n",
       "  text-decoration: none;\n",
       "  /* unfitted */\n",
       "  color: var(--sklearn-color-unfitted-level-1);\n",
       "  border: var(--sklearn-color-unfitted-level-1) 1pt solid;\n",
       "}\n",
       "\n",
       "#sk-container-id-1 a.estimator_doc_link.fitted {\n",
       "  /* fitted */\n",
       "  border: var(--sklearn-color-fitted-level-1) 1pt solid;\n",
       "  color: var(--sklearn-color-fitted-level-1);\n",
       "}\n",
       "\n",
       "/* On hover */\n",
       "#sk-container-id-1 a.estimator_doc_link:hover {\n",
       "  /* unfitted */\n",
       "  background-color: var(--sklearn-color-unfitted-level-3);\n",
       "  color: var(--sklearn-color-background);\n",
       "  text-decoration: none;\n",
       "}\n",
       "\n",
       "#sk-container-id-1 a.estimator_doc_link.fitted:hover {\n",
       "  /* fitted */\n",
       "  background-color: var(--sklearn-color-fitted-level-3);\n",
       "}\n",
       "</style><div id=\"sk-container-id-1\" class=\"sk-top-container\"><div class=\"sk-text-repr-fallback\"><pre>LatentDirichletAllocation(n_components=5, random_state=509)</pre><b>In a Jupyter environment, please rerun this cell to show the HTML representation or trust the notebook. <br />On GitHub, the HTML representation is unable to render, please try loading this page with nbviewer.org.</b></div><div class=\"sk-container\" hidden><div class=\"sk-item\"><div class=\"sk-estimator fitted sk-toggleable\"><input class=\"sk-toggleable__control sk-hidden--visually\" id=\"sk-estimator-id-1\" type=\"checkbox\" checked><label for=\"sk-estimator-id-1\" class=\"sk-toggleable__label fitted sk-toggleable__label-arrow fitted\">&nbsp;&nbsp;LatentDirichletAllocation<a class=\"sk-estimator-doc-link fitted\" rel=\"noreferrer\" target=\"_blank\" href=\"https://scikit-learn.org/1.4/modules/generated/sklearn.decomposition.LatentDirichletAllocation.html\">?<span>Documentation for LatentDirichletAllocation</span></a><span class=\"sk-estimator-doc-link fitted\">i<span>Fitted</span></span></label><div class=\"sk-toggleable__content fitted\"><pre>LatentDirichletAllocation(n_components=5, random_state=509)</pre></div> </div></div></div></div>"
      ],
      "text/plain": [
       "LatentDirichletAllocation(n_components=5, random_state=509)"
      ]
     },
     "execution_count": 18,
     "metadata": {},
     "output_type": "execute_result"
    }
   ],
   "source": [
    "lda = LatentDirichletAllocation(n_components=5, random_state=509)\n",
    "lda.fit(X_ct)"
   ]
  },
  {
   "cell_type": "markdown",
   "metadata": {
    "id": "OyuWvGe3Y5B2"
   },
   "source": [
    "#### Examine topics from LDA at n=5 topics (arbritrary)"
   ]
  },
  {
   "cell_type": "code",
   "execution_count": 19,
   "metadata": {
    "id": "CIiV3Do_x9_6"
   },
   "outputs": [],
   "source": [
    "def display_topics(model, feature_names, num_top_words):\n",
    "    for topic_idx, topic in enumerate(model.components_):\n",
    "        print(f\"Topic {topic_idx}:\")\n",
    "\n",
    "        #For each topic, go through index i and retrieve word from that location\n",
    "        #Topic is a vector of weights of each word for a given topic (higher = more important)\n",
    "        #argsort() return indices of elements in topic in ascending importance\n",
    "        #:-num_top_words - 1 = Start from last element -1 and move back num_top_words positions\n",
    "        # --- This is to remove the lesser important words for interpretation purposes\n",
    "        # -1 reverse order so it's descending now that noisy words are removed.\n",
    "        print(\" \".join([feature_names[i] for i in topic.argsort()[:-num_top_words - 1:-1]]))"
   ]
  },
  {
   "cell_type": "code",
   "execution_count": 20,
   "metadata": {
    "id": "W3nXwVFPY5B2",
    "outputId": "740bff68-5182-4495-d458-56c04283a143"
   },
   "outputs": [
    {
     "name": "stdout",
     "output_type": "stream",
     "text": [
      "Topic 0:\n",
      "million number thousand income years goal ill mortgage fi kids\n",
      "Topic 1:\n",
      "million thousand paid house years live liquid kids pension 10\n",
      "Topic 2:\n",
      "im travel home thousand retirement good time just year ive\n",
      "Topic 3:\n",
      "million im house paid area live inflation thousand number years\n",
      "Topic 4:\n",
      "million im years thousand work expenses house cash 000 need\n"
     ]
    }
   ],
   "source": [
    "feature_names_lda = vectorizer_ct.get_feature_names_out()\n",
    "num_top_words = 10\n",
    "display_topics(lda, feature_names_lda, num_top_words)"
   ]
  },
  {
   "cell_type": "markdown",
   "metadata": {
    "id": "Mtn10MngY5B2"
   },
   "source": [
    "#### Result\n",
    "Selecting n_components=5 might not be the correct number of topics to be able to clearly separate words into themes. Need to try another topic number."
   ]
  },
  {
   "cell_type": "markdown",
   "metadata": {
    "id": "lP_Z_3UIY5B2"
   },
   "source": [
    "### Retry LDA with n_components=8"
   ]
  },
  {
   "cell_type": "code",
   "execution_count": 21,
   "metadata": {
    "id": "rUAPntZ4Y5B2",
    "outputId": "1074db23-51e7-4fb6-a2cc-07dae71e54d5"
   },
   "outputs": [
    {
     "name": "stdout",
     "output_type": "stream",
     "text": [
      "Topic 0:\n",
      "thousand number million income years ill expenses rate money 12\n",
      "Topic 1:\n",
      "million thousand paid house years liquid live kids 10 month\n",
      "Topic 2:\n",
      "travel im want year thousand time just good years home\n",
      "Topic 3:\n",
      "million im house paid thousand area inflation live years number\n",
      "Topic 4:\n",
      "million number need expenses im living years thousand work 000\n",
      "Topic 5:\n",
      "million im years working pension mortgage 4m retire dont work\n",
      "Topic 6:\n",
      "million like im years cash time free 000 want work\n",
      "Topic 7:\n",
      "live million pension area thousand 300 number city pensions retirement\n"
     ]
    }
   ],
   "source": [
    "lda = LatentDirichletAllocation(n_components=8, random_state=509)\n",
    "lda.fit(X_ct)\n",
    "feature_names_lda = vectorizer_ct.get_feature_names_out()\n",
    "num_top_words = 10\n",
    "display_topics(lda, feature_names_lda, num_top_words)"
   ]
  },
  {
   "cell_type": "markdown",
   "metadata": {
    "id": "n7rpiwjEY5B2"
   },
   "source": [
    "## DEPENDENCY.\n",
    "Need to find a way to import a date of post or age of post so the model below can extract some sort of time or year for a time-series chart. Else, will have to select a different groupby."
   ]
  },
  {
   "cell_type": "markdown",
   "metadata": {
    "id": "jlph2UdiyoDb"
   },
   "source": [
    "### Sentiment Analysis with VaderSentiment\n",
    "\n",
    "Reference\n",
    "\n",
    "Hutto, C. J., Klein, E., Pantone, P., Berry, G., & Suresh, M. (2024, August 19). Documentation source code for nltk.sentiment.vader. https://www.nltk.org/_modules/nltk/sentiment/vader.html"
   ]
  },
  {
   "cell_type": "code",
   "execution_count": 22,
   "metadata": {
    "id": "ujsFG-jxY5B2"
   },
   "outputs": [],
   "source": [
    "#nltk.download('vader_lexicon')"
   ]
  },
  {
   "cell_type": "code",
   "execution_count": 23,
   "metadata": {
    "id": "lGPDOUYiyxEQ"
   },
   "outputs": [],
   "source": [
    "analyzer = SentimentIntensityAnalyzer() # Intialize the analyzer as object"
   ]
  },
  {
   "cell_type": "code",
   "execution_count": 24,
   "metadata": {
    "id": "OHpvXG25Y5B3"
   },
   "outputs": [],
   "source": [
    "def get_sentiment_score(comment):\n",
    "    scores = analyzer.polarity_scores(comment)\n",
    "    return pd.Series([scores['neg'], scores['neu'], scores['pos'], scores['compound']],\n",
    "                    index=['Negative', 'Neutral', 'Positive', 'Compound'])"
   ]
  },
  {
   "cell_type": "code",
   "execution_count": 25,
   "metadata": {
    "id": "INc9LHvDyxVr"
   },
   "outputs": [],
   "source": [
    "fire_df[['Negative', 'Neutral', 'Positive', 'Compound']] = fire_df['Cleaned Comment'].apply(get_sentiment_score)"
   ]
  },
  {
   "cell_type": "code",
   "execution_count": 26,
   "metadata": {
    "id": "Jg4P7_ZfY5B3",
    "outputId": "f6a6f224-e318-4923-dfc4-0f0305295ca3"
   },
   "outputs": [
    {
     "data": {
      "text/html": [
       "<div>\n",
       "<style scoped>\n",
       "    .dataframe tbody tr th:only-of-type {\n",
       "        vertical-align: middle;\n",
       "    }\n",
       "\n",
       "    .dataframe tbody tr th {\n",
       "        vertical-align: top;\n",
       "    }\n",
       "\n",
       "    .dataframe thead th {\n",
       "        text-align: right;\n",
       "    }\n",
       "</style>\n",
       "<table border=\"1\" class=\"dataframe\">\n",
       "  <thead>\n",
       "    <tr style=\"text-align: right;\">\n",
       "      <th></th>\n",
       "      <th>Cleaned Comment</th>\n",
       "      <th>Negative</th>\n",
       "      <th>Neutral</th>\n",
       "      <th>Positive</th>\n",
       "      <th>Compound</th>\n",
       "      <th>FIRE Number</th>\n",
       "    </tr>\n",
       "  </thead>\n",
       "  <tbody>\n",
       "    <tr>\n",
       "      <th>0</th>\n",
       "      <td>1.5 million with paid off houses</td>\n",
       "      <td>0.00</td>\n",
       "      <td>1.00</td>\n",
       "      <td>0.00</td>\n",
       "      <td>0.00</td>\n",
       "      <td>1,500,000.00</td>\n",
       "    </tr>\n",
       "    <tr>\n",
       "      <th>1</th>\n",
       "      <td>im just waiting for someone to say something l...</td>\n",
       "      <td>0.17</td>\n",
       "      <td>0.83</td>\n",
       "      <td>0.00</td>\n",
       "      <td>-0.40</td>\n",
       "      <td>1,000,000.00</td>\n",
       "    </tr>\n",
       "    <tr>\n",
       "      <th>2</th>\n",
       "      <td>$1.9m. targeting a few months after i turn 50 ...</td>\n",
       "      <td>0.07</td>\n",
       "      <td>0.93</td>\n",
       "      <td>0.00</td>\n",
       "      <td>-0.15</td>\n",
       "      <td>1,900,000.00</td>\n",
       "    </tr>\n",
       "    <tr>\n",
       "      <th>3</th>\n",
       "      <td>on days i hate my job, 600k. the other days, d...</td>\n",
       "      <td>0.17</td>\n",
       "      <td>0.83</td>\n",
       "      <td>0.00</td>\n",
       "      <td>-0.57</td>\n",
       "      <td>3,000,000.00</td>\n",
       "    </tr>\n",
       "    <tr>\n",
       "      <th>4</th>\n",
       "      <td>2 million with a paid off house. so stressful ...</td>\n",
       "      <td>0.23</td>\n",
       "      <td>0.77</td>\n",
       "      <td>0.00</td>\n",
       "      <td>-0.64</td>\n",
       "      <td>2,000,000.00</td>\n",
       "    </tr>\n",
       "    <tr>\n",
       "      <th>5</th>\n",
       "      <td>our target back in 2014 was 1.2 million and a ...</td>\n",
       "      <td>0.06</td>\n",
       "      <td>0.87</td>\n",
       "      <td>0.07</td>\n",
       "      <td>-0.34</td>\n",
       "      <td>1,400,000.00</td>\n",
       "    </tr>\n",
       "    <tr>\n",
       "      <th>6</th>\n",
       "      <td>500 thousand give or take, but i am not retiri...</td>\n",
       "      <td>0.00</td>\n",
       "      <td>1.00</td>\n",
       "      <td>0.00</td>\n",
       "      <td>0.00</td>\n",
       "      <td>500,000.00</td>\n",
       "    </tr>\n",
       "    <tr>\n",
       "      <th>7</th>\n",
       "      <td>i started at 1.5 million 1015 years ago. now, ...</td>\n",
       "      <td>0.06</td>\n",
       "      <td>0.80</td>\n",
       "      <td>0.15</td>\n",
       "      <td>0.40</td>\n",
       "      <td>3,000,000.00</td>\n",
       "    </tr>\n",
       "    <tr>\n",
       "      <th>8</th>\n",
       "      <td>re ship sailed, but still working on fi. house...</td>\n",
       "      <td>0.00</td>\n",
       "      <td>0.91</td>\n",
       "      <td>0.09</td>\n",
       "      <td>0.61</td>\n",
       "      <td>4,000,000.00</td>\n",
       "    </tr>\n",
       "    <tr>\n",
       "      <th>9</th>\n",
       "      <td>funny to read all these numbers while the medi...</td>\n",
       "      <td>0.00</td>\n",
       "      <td>0.66</td>\n",
       "      <td>0.34</td>\n",
       "      <td>0.77</td>\n",
       "      <td>400,000.00</td>\n",
       "    </tr>\n",
       "  </tbody>\n",
       "</table>\n",
       "</div>"
      ],
      "text/plain": [
       "                                     Cleaned Comment  Negative  Neutral  \\\n",
       "0                   1.5 million with paid off houses      0.00     1.00   \n",
       "1  im just waiting for someone to say something l...      0.17     0.83   \n",
       "2  $1.9m. targeting a few months after i turn 50 ...      0.07     0.93   \n",
       "3  on days i hate my job, 600k. the other days, d...      0.17     0.83   \n",
       "4  2 million with a paid off house. so stressful ...      0.23     0.77   \n",
       "5  our target back in 2014 was 1.2 million and a ...      0.06     0.87   \n",
       "6  500 thousand give or take, but i am not retiri...      0.00     1.00   \n",
       "7  i started at 1.5 million 1015 years ago. now, ...      0.06     0.80   \n",
       "8  re ship sailed, but still working on fi. house...      0.00     0.91   \n",
       "9  funny to read all these numbers while the medi...      0.00     0.66   \n",
       "\n",
       "   Positive  Compound  FIRE Number  \n",
       "0      0.00      0.00 1,500,000.00  \n",
       "1      0.00     -0.40 1,000,000.00  \n",
       "2      0.00     -0.15 1,900,000.00  \n",
       "3      0.00     -0.57 3,000,000.00  \n",
       "4      0.00     -0.64 2,000,000.00  \n",
       "5      0.07     -0.34 1,400,000.00  \n",
       "6      0.00      0.00   500,000.00  \n",
       "7      0.15      0.40 3,000,000.00  \n",
       "8      0.09      0.61 4,000,000.00  \n",
       "9      0.34      0.77   400,000.00  "
      ]
     },
     "execution_count": 26,
     "metadata": {},
     "output_type": "execute_result"
    }
   ],
   "source": [
    "fire_df[['Cleaned Comment', 'Negative', 'Neutral', 'Positive', 'Compound', 'FIRE Number']].head(10)"
   ]
  },
  {
   "cell_type": "markdown",
   "metadata": {
    "id": "qOom23UcY5B3"
   },
   "source": [
    "### OPTIONAL:GROUPBY ANALYSIS, which requires additional JSON features to be pulled into CSV"
   ]
  },
  {
   "cell_type": "code",
   "execution_count": 27,
   "metadata": {
    "id": "nMbdGY3ra9gY",
    "outputId": "b0e5f498-2783-48c8-aa09-e1355dd1da1a"
   },
   "outputs": [
    {
     "data": {
      "text/plain": [
       "Index(['Thread ID', 'Title', 'User', 'Comment', 'Post Time', 'Comment Time',\n",
       "       'Cleaned Comment', 'FIRE Number', 'Post Year', 'Comment Year',\n",
       "       'Capped FIRE Number', 'Negative', 'Neutral', 'Positive', 'Compound'],\n",
       "      dtype='object')"
      ]
     },
     "execution_count": 27,
     "metadata": {},
     "output_type": "execute_result"
    }
   ],
   "source": [
    "fire_df.columns"
   ]
  },
  {
   "cell_type": "code",
   "execution_count": 28,
   "metadata": {
    "id": "dSA-Rf-UY5B3",
    "outputId": "3d628b70-addb-4c36-a2e9-848e41242948"
   },
   "outputs": [
    {
     "data": {
      "text/html": [
       "<div>\n",
       "<style scoped>\n",
       "    .dataframe tbody tr th:only-of-type {\n",
       "        vertical-align: middle;\n",
       "    }\n",
       "\n",
       "    .dataframe tbody tr th {\n",
       "        vertical-align: top;\n",
       "    }\n",
       "\n",
       "    .dataframe thead th {\n",
       "        text-align: right;\n",
       "    }\n",
       "</style>\n",
       "<table border=\"1\" class=\"dataframe\">\n",
       "  <thead>\n",
       "    <tr style=\"text-align: right;\">\n",
       "      <th></th>\n",
       "      <th>Negative</th>\n",
       "      <th>Neutral</th>\n",
       "      <th>Positive</th>\n",
       "      <th>Compound</th>\n",
       "      <th>Mean FIRE</th>\n",
       "      <th>Median FIRE</th>\n",
       "    </tr>\n",
       "    <tr>\n",
       "      <th>Comment Year</th>\n",
       "      <th></th>\n",
       "      <th></th>\n",
       "      <th></th>\n",
       "      <th></th>\n",
       "      <th></th>\n",
       "      <th></th>\n",
       "    </tr>\n",
       "  </thead>\n",
       "  <tbody>\n",
       "    <tr>\n",
       "      <th>2021</th>\n",
       "      <td>0.03</td>\n",
       "      <td>0.88</td>\n",
       "      <td>0.09</td>\n",
       "      <td>0.19</td>\n",
       "      <td>4,089,085.21</td>\n",
       "      <td>2,850,000.00</td>\n",
       "    </tr>\n",
       "    <tr>\n",
       "      <th>2022</th>\n",
       "      <td>0.05</td>\n",
       "      <td>0.84</td>\n",
       "      <td>0.11</td>\n",
       "      <td>0.32</td>\n",
       "      <td>4,531,352.04</td>\n",
       "      <td>3,500,000.00</td>\n",
       "    </tr>\n",
       "    <tr>\n",
       "      <th>2023</th>\n",
       "      <td>0.08</td>\n",
       "      <td>0.88</td>\n",
       "      <td>0.05</td>\n",
       "      <td>-0.02</td>\n",
       "      <td>4,247,792.45</td>\n",
       "      <td>2,500,000.00</td>\n",
       "    </tr>\n",
       "    <tr>\n",
       "      <th>2024</th>\n",
       "      <td>0.06</td>\n",
       "      <td>0.88</td>\n",
       "      <td>0.06</td>\n",
       "      <td>0.03</td>\n",
       "      <td>3,833,252.43</td>\n",
       "      <td>2,850,000.00</td>\n",
       "    </tr>\n",
       "  </tbody>\n",
       "</table>\n",
       "</div>"
      ],
      "text/plain": [
       "              Negative  Neutral  Positive  Compound    Mean FIRE  Median FIRE\n",
       "Comment Year                                                                 \n",
       "2021              0.03     0.88      0.09      0.19 4,089,085.21 2,850,000.00\n",
       "2022              0.05     0.84      0.11      0.32 4,531,352.04 3,500,000.00\n",
       "2023              0.08     0.88      0.05     -0.02 4,247,792.45 2,500,000.00\n",
       "2024              0.06     0.88      0.06      0.03 3,833,252.43 2,850,000.00"
      ]
     },
     "execution_count": 28,
     "metadata": {},
     "output_type": "execute_result"
    }
   ],
   "source": [
    "sentiment_by_year = fire_df.groupby('Comment Year')[['Negative', 'Neutral', 'Positive', 'Compound']].mean()\n",
    "sentiment_by_year_plus_fire = pd.merge(sentiment_by_year,\n",
    "                                       fire_stats_by_comment_year,\n",
    "                                       left_index=True,\n",
    "                                       right_index=True)\n",
    "sentiment_by_year_plus_fire"
   ]
  },
  {
   "cell_type": "code",
   "execution_count": 29,
   "metadata": {
    "id": "hVSNoT8Ca9gY",
    "outputId": "3b54d5bf-3148-4813-897c-cf6361f51ecd"
   },
   "outputs": [
    {
     "data": {
      "image/png": "[encoded data removed]",
      "text/plain": [
       "<Figure size 1000x600 with 2 Axes>"
      ]
     },
     "metadata": {},
     "output_type": "display_data"
    }
   ],
   "source": [
    "year_pearson = sentiment_by_year_plus_fire.corr(method='pearson')\n",
    "plt.figure(figsize=(10, 6))\n",
    "sns.heatmap(year_pearson, annot=True, cmap='coolwarm')\n",
    "plt.title('Correlation Heatmap of Sentiment Scores')\n",
    "plt.show()"
   ]
  },
  {
   "cell_type": "markdown",
   "metadata": {
    "id": "grXm53y9a9gY"
   },
   "source": [
    "#### Interpretation\n",
    "\n",
    "Sentiment analysis appears to show that 2022 was especially positive using text comments whereas 2023 was the only net negative year. This tracks with the US inflation crisis that occured over this period. Interestingly, there is a strong negative correlation between mean and median FIRE number and positive sentiment. This may be due to optimism that the purchasing power of the currency in question is sufficient for retirement purposes."
   ]
  },
  {
   "cell_type": "code",
   "execution_count": 30,
   "metadata": {
    "id": "OLe2yhQvY5B3",
    "outputId": "9a248dd8-d9f5-4ef7-9d2a-3206184b5cd4"
   },
   "outputs": [
    {
     "data": {
      "image/png": "[encoded data removed]",
      "text/plain": [
       "<Figure size 1000x600 with 1 Axes>"
      ]
     },
     "metadata": {},
     "output_type": "display_data"
    }
   ],
   "source": [
    "plt.figure(figsize=(10, 6))\n",
    "plt.plot(sentiment_by_year.index, sentiment_by_year['Compound'], marker='o')\n",
    "plt.title('Sentiment Analysis Over Time')\n",
    "plt.xlabel('Year')\n",
    "plt.ylabel('Compound Sentiment Score')\n",
    "plt.grid(True)\n",
    "plt.show()"
   ]
  },
  {
   "cell_type": "markdown",
   "metadata": {
    "id": "c-rWXXCmY5B3"
   },
   "source": [
    "### Latent Semantic Analysis"
   ]
  },
  {
   "cell_type": "code",
   "execution_count": 31,
   "metadata": {
    "id": "wI1DOuO2Y5B3"
   },
   "outputs": [],
   "source": [
    "n_topics = 5\n",
    "lsa = TruncatedSVD(n_components=n_topics, random_state=509) # Initialize model\n",
    "lsa_topic_matrix = lsa.fit_transform(X_tfidf) # Fit and transform for latent topics"
   ]
  },
  {
   "cell_type": "code",
   "execution_count": 32,
   "metadata": {
    "id": "GdBQKp2uY5B3"
   },
   "outputs": [],
   "source": [
    "feature_names_tfidf = vectorizer_tfidf.get_feature_names_out()"
   ]
  },
  {
   "cell_type": "code",
   "execution_count": 33,
   "metadata": {
    "id": "9Wz1t6erY5B3",
    "outputId": "2fd1c704-edf4-4cbb-bcd7-3f7b64000cbc"
   },
   "outputs": [
    {
     "name": "stdout",
     "output_type": "stream",
     "text": [
      "Topic 0:\n",
      "million house paid thousand years 10 kids im liquid live\n",
      "Topic 1:\n",
      "million 5055 40 33 school 2kids elementary 19 america 35\n",
      "Topic 2:\n",
      "house paid plus mcol stressful 53 45 fat 65 4m\n",
      "Topic 3:\n",
      "thousand 500 month 800 600 20 liquid 2kids 200 million\n",
      "Topic 4:\n",
      "cash 50 college flow free kids work im estate real\n"
     ]
    }
   ],
   "source": [
    "display_topics(lsa, feature_names_tfidf, num_top_words) # Show top 10 words for each topic"
   ]
  }
 ],
 "metadata": {
  "colab": {
   "provenance": []
  },
  "kernelspec": {
   "display_name": "Python 3 (ipykernel)",
   "language": "python",
   "name": "python3"
  },
  "language_info": {
   "codemirror_mode": {
    "name": "ipython",
    "version": 3
   },
   "file_extension": ".py",
   "mimetype": "text/x-python",
   "name": "python",
   "nbconvert_exporter": "python",
   "pygments_lexer": "ipython3",
   "version": "3.11.5"
  }
 },
 "nbformat": 4,
 "nbformat_minor": 4
}
