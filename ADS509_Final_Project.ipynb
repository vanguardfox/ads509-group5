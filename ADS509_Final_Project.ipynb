{
  "cells": [
    {
      "cell_type": "markdown",
      "metadata": {
        "id": "tT7fYxKGpoKu"
      },
      "source": [
        "[![Open In Colab](https://colab.research.google.com/assets/colab-badge.svg)](https://colab.research.google.com/github/vanguardfox/ads509-group5/blob/main/ADS509_Final_Project.ipynb)"
      ]
    },
    {
      "cell_type": "markdown",
      "metadata": {
        "id": "24tNXlFYhqVE"
      },
      "source": [
        "# Evaluating Financial Independence / Retire Early (FIRE) Thresholds by Demographic\n",
        "\n",
        "What is the Financial Independence number the FIRE community is aiming for by age, location, and over time?"
      ]
    },
    {
      "cell_type": "markdown",
      "metadata": {
        "id": "ZqOey2pIpoKv"
      },
      "source": [
        "# Group 5 Objective:\n",
        " The purpose of this project is to evaluate the FIRE financial thresholds by demographic groups such as age and location as well as changes in trends over times. Resulting analysis can be used in a variety of applications including leading economic sentiment predictions, generational assessment of financial health, and others via a Flask implementation."
      ]
    },
    {
      "cell_type": "markdown",
      "metadata": {
        "id": "Mla4_A0C9pp6"
      },
      "source": [
        "## Reddit Scrape\n",
        "\n",
        "Community: r/FIRE \\\n",
        "thread: /What_is_your_fire_number/ \\\n",
        "Code Reference: with help from ChatGPT https://chatgpt.com/ and https://colab.research.google.com/\n",
        "\n",
        "\n",
        "**Privacy note:**\n",
        "\n",
        "*   Credentials were created for the class but might have to figure out how to hide\n",
        "*   Username will also have to be masked to be anonymous"
      ]
    },
    {
      "cell_type": "markdown",
      "metadata": {
        "id": "dTxylIUPpoKv"
      },
      "source": [
        "(Optional: Install packages as needed)"
      ]
    },
    {
      "cell_type": "code",
      "execution_count": null,
      "metadata": {
        "id": "8SdZo0-fl6g-"
      },
      "outputs": [],
      "source": [
        "#!pip install requests beautifulsoup4"
      ]
    },
    {
      "cell_type": "markdown",
      "metadata": {
        "id": "qZ7w8ue3poKw"
      },
      "source": [
        "## Import Libraries"
      ]
    },
    {
      "cell_type": "code",
      "execution_count": null,
      "metadata": {
        "id": "7UlLJjrrVytR"
      },
      "outputs": [],
      "source": [
        "# Library\n",
        "import requests\n",
        "from bs4 import BeautifulSoup\n",
        "import pandas as pd\n",
        "import time\n",
        "from requests.auth import HTTPBasicAuth\n",
        "import json\n",
        "import csv\n",
        "from os import read"
      ]
    },
    {
      "cell_type": "markdown",
      "metadata": {
        "id": "t5_S6wbUpoKw"
      },
      "source": [
        "## Initialize API Credentials"
      ]
    },
    {
      "cell_type": "code",
      "execution_count": null,
      "metadata": {
        "id": "E1xBgoCSkvjy"
      },
      "outputs": [],
      "source": [
        "# Reddit API credentials\n",
        "client_id = '8-xAlbBmc1_FYraSwJENtw'\n",
        "client_secret = 'Jg9JyK9R_ixyNESMaGE3BwLzmBhf2w'\n",
        "username = 'Western_Signal4499'\n",
        "password = 'ADS509finAl'\n",
        "user_agent = 'ADS509Scrapper/0.1 by Western_Signal4499'\n",
        "\n",
        "# Get the OAuth token\n",
        "auth = HTTPBasicAuth(client_id, client_secret)\n",
        "headers = {'User-Agent': user_agent}\n",
        "data = {'grant_type': 'password', 'username': username, 'password': password}\n",
        "\n",
        "response = requests.post('https://www.reddit.com/api/v1/access_token', auth=auth, headers=headers, data=data)\n",
        "\n",
        "if response.status_code == 200:\n",
        "    token = response.json()['access_token']\n",
        "else:\n",
        "    print(f\"Error: {response.status_code}, {response.text}\")"
      ]
    },
    {
      "cell_type": "markdown",
      "metadata": {
        "id": "szaOuzGzpoKw"
      },
      "source": [
        "## Use access_token field from JSON to query threads"
      ]
    },
    {
      "cell_type": "code",
      "execution_count": null,
      "metadata": {
        "colab": {
          "base_uri": "https://localhost:8080/"
        },
        "id": "QAF82eN-ompR",
        "outputId": "14697876-1da0-4d5b-d606-51f5fabd6c01"
      },
      "outputs": [
        {
          "name": "stdout",
          "output_type": "stream",
          "text": [
            "Thread ID: 1fqzb0p, Title: What is your fire number? , User1: muy_carona, Comment: $8,675,309\n",
            "Thread ID: rfxxkz, Title: What is your fire number?, User1: xmxprztm, Comment: 4M at least. Going to move to Spain\n",
            "Thread ID: zddhma, Title: For folks who plan to FIRE in HCOL / VHCOL areas, what is your FIRE number? Why not move to MCOL / LCOL area?, User1: [deleted], Comment: Some services or experiences are only available in hcol areas. Good fine dining options and/or weather and or ___.\n",
            "Thread ID: 10ex17r, Title: What is your FIRE number?, User1: zenjdg, Comment: My ideal scenario is $100k per month in tax-free cash flow.\n",
            "Thread ID: z5a29v, Title: What is your fire number and how did you arrive at it?, User1: [deleted], Comment: [deleted]\n",
            "Thread ID: 1ef8jjf, Title: How to split finances when one is FIRE'd and one isn't FIRE'ing, User1: [deleted], Comment: Break up\n",
            "Thread ID: oh6i17, Title: What is your FIRE number and at what age do you want to achieve it by?, User1: FIREDOC627, Comment: Wife is 8 years younger so although we COULD retire when we are 53/45 with a NW of 4m, will likely be prudent to stay working until 57/49 (NW of \\~5.5m) so she will have healthcare the rest of our lives.  I don't HATE my job but the VA has some of the most toxic people on earth so by 57 i will prolly be ready to run, not walk, out of there\n",
            "Thread ID: 143o3y9, Title: We’re all privileged, User1: Retire_date_may_22, Comment: If you were born in America you are privileged.\n",
            "Thread ID: 1coxxrq, Title: How my wife and I will retire before 50; neither of us make over $75K, User1: ibleed0range, Comment: $1.4m in 17 years isn’t going to be worth much.  Given Covid inflation rates in the last 4 years, I don’t even think you could retire with $1.4m at age 49 today.  Your expenses are too high and your savings are too low.\n",
            "Thread ID: 1ffwmql, Title: 10 tips from my 20 year journey to financial freedom, User1: Repulsive-Usual-1593, Comment: To add a point to tip 10, there’s a password manager called KeePassXC that I really like.  It’s locally hosted, so if you lose your password file, it’s gone, but the upside is that it can be used offline and has significantly less risk than using a cloud password manager.  Overall, KeePassXC has been great at keeping me organized\n",
            "Thread ID: 1cmt0ah, Title: Is toxic corporate culture why most of us want to Fire? , User1: SolomonGrumpy, Comment: When times are good, companies are more forgiving with employees.  When times are tight, they are MUCH less forgiving.  \n",
            " \n",
            "Times have been tight in tech since 2022.\n",
            "Thread ID: 1c82w4y, Title: The cliff is steep: How do you choose to retire early when working 5 more years can bring so much more, User1: Ghia149, Comment: Think about it as financial independence rather than full on retiring. It’s the stop doing work that stresses you and is unfulfilling. Maybe you cut your income but so what? You won’t be saving as much but if you’re earning enough to not be burning you’re still growing the nest egg rather than depleting it. Just stretching the time till you start withdrawing will have a big impact. Take more vacations work fewer hours but still be productive.\n",
            "Thread ID: 107k4by, Title: How did you come up with your FIRE number? What is the best calculator, way to get at it?, User1: hirme23, Comment: Track your annual expenses and 25x it.\n",
            "Thread ID: mj288k, Title: Forgive me if this is too personal, but what was your estimated net worth around 18 and how did you use that number to grow on your path to fire? Or what did you do to grow that number to reach your fire goals? Thank you., User1: UnderstandingCalm452, Comment: Aprx. negative -$20,000, factoring in student debt and credit cards. Quit my music major, went to law school, bottomed out at negative -$165,000 with student loans by 25. That was in 2009. Now up to around +$1.4M (the old fashioned way...Im a cryptoskeptic)\n",
            "Thread ID: 1fpdzm7, Title: Retired at 47 a year ago. Round 2: The numbers!, User1: CofferCrypto, Comment: $27k/yr at 62 after being a relatively low earner and retiring at 47? I seriously doubt it\n",
            "Thread ID: 1epvngp, Title: Building generational wealth vs FIRE 10 years early?, User1: UnderstandingNew2810, Comment: Oh boy. Kids and fire is different ball game. Even after they are out of the household they can definitely cost money.\n",
            "\n",
            "Most kids now go back home to get started on their feet. If you get a kid that is in their feet after 18 you got super lucky. \n",
            "\n",
            "I not really sure how fire with kids is possible. Unless you hit a complete Jack pot. 10M and up. 5M is good no kids.  But with kids. That 5M will be gone. Nothing generationally about that\n",
            "Thread ID: 1dwcgqo, Title: One of the most unexpected pieces of financial advice I ever read, \"Why Buying a Lottery Ticket is a Good Investment\", has actually stacked up for me over the last decade. I've lost a couple hundred bucks over the years, but it was actually money well spent., User1: Trozll, Comment: Most people smart enough to think this way aren’t buying lottery tickets.\n",
            "Thread ID: 1d9zkup, Title: What is you fire number?, User1: ppith, Comment: $10M investments, 58M just before our daughter goes to college.  Currents stats:\n",
            "\n",
            "$1.57M investments, $570K paid off house (plus paid off solar so low electric bills)\n",
            "\n",
            "Adding over $200K a year to investments (75% VOO/VTI 25% MSFT) and $4K a year to 529 (S&amp;P 500)\n",
            "\n",
            "45M/38F/5F\n",
            "\n",
            "Current portfolio:\n",
            "\n",
            "85% SPY/VOO/VTI\n",
            "5% QQQ\n",
            "5% MSFT\n",
            "5% BRK.B\n",
            "\n",
            "Future portfolio:\n",
            "\n",
            "$3M short term US Treasuries \n",
            "$7M either current allocation or VOO/VTI\n",
            "\n",
            "In today's money, $10M is fatFIRE.  In the future with inflation, it's probably chubbyFIRE.  For reference, we hit $1M in investments for the first time in June 2023.  Our expenses last year was about $79K which included a few road trips plus buying flights for a two week international vacation we took earlier this year.  \n",
            "\n",
            "Expense and investment SankeyMATIC charts:\n",
            "\n",
            "https://www.reddit.com/r/HENRYfinance/s/VQbQIyUa2f\n",
            "Thread ID: psbr2j, Title: Married couples with young kids, what is your FIRE number and how is your progress?, User1: Arbasebat, Comment: Is this based of Net worth or liquid asset only?\n",
            "Thread ID: 1fgq5s0, Title: How are you modeling the potential for senior care in your FIRE number?, User1: Zabick, Comment: This is why retirement portfolios need to be able to handle a minimum spending floor of $100k at 4% (if at regular retirement age) or 2-3% (for the FIRE types) annual withdrawal rates.\n",
            "\n",
            "\n",
            "This means someone looking to retire in their 30s/40s needs at least a $5 million investment portfolio to be able to safely do so.\n",
            "Thread ID: 181hlrt, Title: Long Term Care - How it works IRL, User1: Nearby_Jaguar7416, Comment: Yeah my mother's has some of the same issues.  Coverage is about right for personal care / assisted but WAY too low for skilled nursing.  Probably seemed like a reasonable coverage 20 years ago when they got the policy.\n",
            "\n",
            "Elimination period is also crucial to consider.  If she landed in skilled nursing and died in 90 days the policy would have paid nothing and we'd have had ~30k in bills.\n",
            "\n",
            "Very hard to say if these things make sense.  Not clear to me if there's a best option\n",
            "Thread ID: 15t6gzi, Title: What's your age and your number?, User1: gksozae, Comment: 47.  My current NW is $3.5M w/ $100K passive income.  By the time I retire (about 10 years from now), I'll be at $6M w/ $200K passive income if I do nothing but maintain, assuming historical appreciation of assets.  By the time my retirement accounts and social security benefits kick-in at 60 and 62, I'll be at $8M w/ $300K passive income.  I cannot retire now because my expenses are in the low 6-digit range and my job is easy and work-from-home at about 20 hours/wk.\n",
            "\n",
            "My wife won't retire until she's 62 and she'll have $200K passive income from retirement benefits and social security and a 100% paid off home worth north of $3M which will be her only asset.\n",
            "\n",
            "Neither of these account for the 2-3 free-and-clear investment properties we will both receive from inheritance + whatever the portions of our parents trust accounts allow  us, whenever that happens.\n",
            "Thread ID: 1fjsi5g, Title: From the experience of people in here who have achieved FIRE, in hindsight, what would you say is the the most optimal  way to achieve it? , User1: DrunkOnWeedASD, Comment: I did it by mid 20s through crypto, but it was pretty lean in the beginning. Chubby now and still aiming for fat\n",
            "\n",
            "\n",
            "Risk is way less risky than everyone thinks because of money printers and central banks supporting assets. They dont backstop everything, but it always spills over to everything\n",
            "Thread ID: 1d1ukv2, Title: Defining LeanFIRE, FIRE, ChubbyFIRE, FatFIRE (2024 edition), User1: just_a_timetraveller, Comment: Hot take. I don't like these different definitions of fire. I feel some were created to have an early escape hatch from their work. \"I am in lean fire because I can leave my job if I just invest 20k more\" etc.\n",
            "Thread ID: 1907veh, Title: Hitting your FIRE number at high income and \"one more year\", User1: AdLocal9601, Comment: If you hit your number stop adding to retirement. Maybe, get the company match. Spend the rest. Once having those extra funds to spend doesn’t give you as much or more joy than going to a job takes then stop and be done.\n"
          ]
        }
      ],
      "source": [
        "# Use the token to search for threads\n",
        "headers['Authorization'] = f'bearer {token}'\n",
        "\n",
        "# Constructs a string for the r/FIRE URL to query \"what is your fire number\"\n",
        "# restrict_sr=1 ensures that the query is constrained to only this subreddit\n",
        "search_url = \"https://oauth.reddit.com/r/FIRE/search?q=what%20is%20your%20fire%20number&restrict_sr=1\"\n",
        "\n",
        "# Store results of GET requrest to the API for the given \"search_url\"\n",
        "search_response = requests.get(search_url, headers=headers)\n",
        "\n",
        "# If the API GET is successful...\n",
        "if search_response.status_code == 200: # Code 200 means the request was flagged as successful\n",
        "    search_data = search_response.json() # Parse the JSON data from the response\n",
        "    #print(search_data)\n",
        "    threads = search_data['data']['children'] # Extract the list of threads\n",
        "\n",
        "    # Initialize a CSV and writes an head with columns (within .writerow() arg)\n",
        "    with open('fire_comments.csv', 'w', newline='', encoding='utf-8') as csvfile:\n",
        "        writer = csv.writer(csvfile)\n",
        "        writer.writerow(['Thread ID', 'Title', 'User', 'Comment'])\n",
        "\n",
        "        # Iterate through each thread from API's response JSON\n",
        "        for thread in threads:\n",
        "            thread_title = thread['data']['title'] # Parse and extract title\n",
        "            thread_id = thread['data']['id'] # Parse and extract id\n",
        "            # Prepare URL as a string for better code handling\n",
        "            comments_url = f\"https://oauth.reddit.com/r/FIRE/comments/{thread_id}.json\"\n",
        "\n",
        "            # Store results of GET to fetch comments of the current iterated thread\n",
        "            comments_response = requests.get(comments_url, headers=headers)\n",
        "            if comments_response.status_code == 200: # Again, check if GET is successful\n",
        "                comments_data = comments_response.json() # Store JSON\n",
        "                comments = comments_data[1]['data']['children'] # Parse and extract comments\n",
        "\n",
        "                # Iterate through each comment\n",
        "                for comment in comments:\n",
        "                    if comment['kind'] == 't1': # Only iterate on top comments\n",
        "                        username = comment['data']['author'] # Extract username\n",
        "                        body = comment['data']['body'] # Extract text body\n",
        "                        # Write parsed data into respective CSV row, mapped to column\n",
        "                        writer.writerow([thread_id, thread_title, username, body])\n",
        "\n",
        "                print(f\"Thread ID: {thread_id}, Title: {thread_title}, User1: {username}, Comment: {body}\")\n",
        "\n",
        "            else:\n",
        "                print(f\"Failed to retrieve comments for thread ID {thread_id} with status code {comments_response.status_code}\")\n",
        "\n",
        "else:\n",
        "    print(f\"Failed to retrieve search results with status code {search_response.status_code}\")"
      ]
    },
    {
      "cell_type": "markdown",
      "metadata": {
        "id": "I_7WP4t4poKx"
      },
      "source": [
        "## Verify the contents of the CSV that was created above and store as DataFrame"
      ]
    },
    {
      "cell_type": "code",
      "execution_count": null,
      "metadata": {
        "colab": {
          "base_uri": "https://localhost:8080/",
          "height": 204
        },
        "id": "BT92kZVZo8gw",
        "outputId": "5911cace-04b2-4f64-8c1e-3cdfcafb6032"
      },
      "outputs": [
        {
          "data": {
            "text/html": [
              "<div>\n",
              "<style scoped>\n",
              "    .dataframe tbody tr th:only-of-type {\n",
              "        vertical-align: middle;\n",
              "    }\n",
              "\n",
              "    .dataframe tbody tr th {\n",
              "        vertical-align: top;\n",
              "    }\n",
              "\n",
              "    .dataframe thead th {\n",
              "        text-align: right;\n",
              "    }\n",
              "</style>\n",
              "<table border=\"1\" class=\"dataframe\">\n",
              "  <thead>\n",
              "    <tr style=\"text-align: right;\">\n",
              "      <th></th>\n",
              "      <th>Thread ID</th>\n",
              "      <th>Title</th>\n",
              "      <th>User</th>\n",
              "      <th>Comment</th>\n",
              "    </tr>\n",
              "  </thead>\n",
              "  <tbody>\n",
              "    <tr>\n",
              "      <th>0</th>\n",
              "      <td>1fqzb0p</td>\n",
              "      <td>What is your fire number?</td>\n",
              "      <td>manimopo</td>\n",
              "      <td>1.5m with paid off houses</td>\n",
              "    </tr>\n",
              "    <tr>\n",
              "      <th>1</th>\n",
              "      <td>1fqzb0p</td>\n",
              "      <td>What is your fire number?</td>\n",
              "      <td>Animag771</td>\n",
              "      <td>I'm just waiting for someone to say something ...</td>\n",
              "    </tr>\n",
              "    <tr>\n",
              "      <th>2</th>\n",
              "      <td>1fqzb0p</td>\n",
              "      <td>What is your fire number?</td>\n",
              "      <td>wowsocool4u</td>\n",
              "      <td>$1.9m.  Targeting a few months after i turn 50...</td>\n",
              "    </tr>\n",
              "    <tr>\n",
              "      <th>3</th>\n",
              "      <td>1fqzb0p</td>\n",
              "      <td>What is your fire number?</td>\n",
              "      <td>Aromatic_Heart</td>\n",
              "      <td>On days I hate my job, 600k. The other days, d...</td>\n",
              "    </tr>\n",
              "    <tr>\n",
              "      <th>4</th>\n",
              "      <td>1fqzb0p</td>\n",
              "      <td>What is your fire number?</td>\n",
              "      <td>Ziqach</td>\n",
              "      <td>$2M with a paid off house. So stressful to see...</td>\n",
              "    </tr>\n",
              "  </tbody>\n",
              "</table>\n",
              "</div>"
            ],
            "text/plain": [
              "  Thread ID                       Title            User  \\\n",
              "0   1fqzb0p  What is your fire number?         manimopo   \n",
              "1   1fqzb0p  What is your fire number?        Animag771   \n",
              "2   1fqzb0p  What is your fire number?      wowsocool4u   \n",
              "3   1fqzb0p  What is your fire number?   Aromatic_Heart   \n",
              "4   1fqzb0p  What is your fire number?           Ziqach   \n",
              "\n",
              "                                             Comment  \n",
              "0                          1.5m with paid off houses  \n",
              "1  I'm just waiting for someone to say something ...  \n",
              "2  $1.9m.  Targeting a few months after i turn 50...  \n",
              "3  On days I hate my job, 600k. The other days, d...  \n",
              "4  $2M with a paid off house. So stressful to see...  "
            ]
          },
          "execution_count": 5,
          "metadata": {},
          "output_type": "execute_result"
        }
      ],
      "source": [
        "rfire_df = pd.read_csv('fire_comments.csv')\n",
        "rfire_df.head()"
      ]
    },
    {
      "cell_type": "markdown",
      "metadata": {
        "id": "QRHrv0ykpoKy"
      },
      "source": [
        "## Explore essential data on the dataframe"
      ]
    },
    {
      "cell_type": "code",
      "execution_count": null,
      "metadata": {
        "colab": {
          "base_uri": "https://localhost:8080/"
        },
        "id": "O4gXMzaqx_ms",
        "outputId": "71b1fb9d-04b1-4c84-989e-f4e86b585a80"
      },
      "outputs": [
        {
          "name": "stdout",
          "output_type": "stream",
          "text": [
            "<class 'pandas.core.frame.DataFrame'>\n",
            "RangeIndex: 1462 entries, 0 to 1461\n",
            "Data columns (total 4 columns):\n",
            " #   Column     Non-Null Count  Dtype \n",
            "---  ------     --------------  ----- \n",
            " 0   Thread ID  1462 non-null   object\n",
            " 1   Title      1462 non-null   object\n",
            " 2   User       1462 non-null   object\n",
            " 3   Comment    1462 non-null   object\n",
            "dtypes: object(4)\n",
            "memory usage: 45.8+ KB\n"
          ]
        }
      ],
      "source": [
        "rfire_df.info()"
      ]
    },
    {
      "cell_type": "markdown",
      "metadata": {
        "id": "IKW0Fx_QpoKy"
      },
      "source": [
        "## Obtain unique values in a column (in this instance, Title)"
      ]
    },
    {
      "cell_type": "code",
      "execution_count": null,
      "metadata": {
        "colab": {
          "base_uri": "https://localhost:8080/"
        },
        "id": "KdgLxwF2qnb9",
        "outputId": "a05dfbdc-285b-406c-ffe7-f26973208783"
      },
      "outputs": [
        {
          "data": {
            "text/plain": [
              "array(['What is your fire number? ', 'What is your fire number?',\n",
              "       'For folks who plan to FIRE in HCOL / VHCOL areas, what is your FIRE number? Why not move to MCOL / LCOL area?',\n",
              "       'What is your FIRE number?',\n",
              "       'What is your fire number and how did you arrive at it?',\n",
              "       \"How to split finances when one is FIRE'd and one isn't FIRE'ing\",\n",
              "       'What is your FIRE number and at what age do you want to achieve it by?',\n",
              "       'We’re all privileged',\n",
              "       'How my wife and I will retire before 50; neither of us make over $75K',\n",
              "       '10 tips from my 20 year journey to financial freedom',\n",
              "       'Is toxic corporate culture why most of us want to Fire? ',\n",
              "       'The cliff is steep: How do you choose to retire early when working 5 more years can bring so much more',\n",
              "       'How did you come up with your FIRE number? What is the best calculator, way to get at it?',\n",
              "       'Forgive me if this is too personal, but what was your estimated net worth around 18 and how did you use that number to grow on your path to fire? Or what did you do to grow that number to reach your fire goals? Thank you.',\n",
              "       'Retired at 47 a year ago. Round 2: The numbers!',\n",
              "       'Building generational wealth vs FIRE 10 years early?',\n",
              "       'One of the most unexpected pieces of financial advice I ever read, \"Why Buying a Lottery Ticket is a Good Investment\", has actually stacked up for me over the last decade. I\\'ve lost a couple hundred bucks over the years, but it was actually money well spent.',\n",
              "       'What is you fire number?',\n",
              "       'Married couples with young kids, what is your FIRE number and how is your progress?',\n",
              "       'How are you modeling the potential for senior care in your FIRE number?',\n",
              "       'Long Term Care - How it works IRL',\n",
              "       \"What's your age and your number?\",\n",
              "       'From the experience of people in here who have achieved FIRE, in hindsight, what would you say is the the most optimal  way to achieve it? ',\n",
              "       'Defining LeanFIRE, FIRE, ChubbyFIRE, FatFIRE (2024 edition)',\n",
              "       'Hitting your FIRE number at high income and \"one more year\"'],\n",
              "      dtype=object)"
            ]
          },
          "execution_count": 7,
          "metadata": {},
          "output_type": "execute_result"
        }
      ],
      "source": [
        "rfire_df['Title'].unique()"
      ]
    },
    {
      "cell_type": "markdown",
      "source": [
        "# Flask Environment"
      ],
      "metadata": {
        "id": "LO0I4JwUpsj7"
      }
    },
    {
      "cell_type": "markdown",
      "source": [
        "Import Packages"
      ],
      "metadata": {
        "id": "85Dh03cYsPLH"
      }
    },
    {
      "cell_type": "code",
      "source": [
        "# Import packages\n",
        "#!pip install Flask\n",
        "#!pip install pyngrok"
      ],
      "metadata": {
        "colab": {
          "base_uri": "https://localhost:8080/"
        },
        "id": "2Kck0pLtp8HG",
        "outputId": "3d6ace78-ab65-42f7-c4d5-0ffb39a38400"
      },
      "execution_count": 6,
      "outputs": [
        {
          "output_type": "stream",
          "name": "stdout",
          "text": [
            "Requirement already satisfied: pyngrok in /usr/local/lib/python3.10/dist-packages (7.2.0)\n",
            "Requirement already satisfied: PyYAML>=5.1 in /usr/local/lib/python3.10/dist-packages (from pyngrok) (6.0.2)\n"
          ]
        }
      ]
    },
    {
      "cell_type": "markdown",
      "source": [
        "## Upload Libraries"
      ],
      "metadata": {
        "id": "gKN7u90GsTBz"
      }
    },
    {
      "cell_type": "code",
      "source": [
        "# Libraries:\n",
        "from flask import Flask, request, jsonify\n",
        "import threading\n",
        "from pyngrok import ngrok"
      ],
      "metadata": {
        "id": "RpBlZKOisIFJ"
      },
      "execution_count": 1,
      "outputs": []
    },
    {
      "cell_type": "markdown",
      "source": [
        "## Simple Flask Application"
      ],
      "metadata": {
        "id": "ntoJvTJNsnjf"
      }
    },
    {
      "cell_type": "code",
      "source": [
        "# Set up ngrok authtoken\n",
        "!ngrok authtoken 2mxORvZevUlWiZcP42H0kKWt5Db_62uzFBWQsdosv7Eau5TWZ\n",
        "\n",
        "# Create Flask app\n",
        "app = Flask(__name__)\n",
        "\n",
        "@app.route('/')\n",
        "def home():\n",
        "    return \"Welcome to the FIRE Number Analyzer!\"\n",
        "\n",
        "@app.route('/analyze', methods=['POST'])\n",
        "def analyze():\n",
        "    data = request.json\n",
        "    # Placeholder for analysis logic\n",
        "    return jsonify({\"message\": \"Analysis complete!\"})\n",
        "\n",
        "# Function to run the Flask app\n",
        "def run_app():\n",
        "    app.run(port=5000)\n",
        "\n",
        "# Start Flask app in a new thread\n",
        "threading.Thread(target=run_app).start()\n",
        "\n",
        "# Set up a tunnel to the Flask app\n",
        "public_url = ngrok.connect(5000)\n",
        "print(\" * ngrok tunnel \\\"{}\\\" -> \\\"http://127.0.0.1:5000\\\"\".format(public_url))"
      ],
      "metadata": {
        "colab": {
          "base_uri": "https://localhost:8080/"
        },
        "id": "BapMT70vqZfB",
        "outputId": "d1a8800d-ed40-418b-f677-2d403581c9cf"
      },
      "execution_count": 2,
      "outputs": [
        {
          "output_type": "stream",
          "name": "stdout",
          "text": [
            "Authtoken saved to configuration file: /root/.config/ngrok/ngrok.yml\n",
            " * Serving Flask app '__main__'\n",
            " * Debug mode: off\n"
          ]
        },
        {
          "output_type": "stream",
          "name": "stderr",
          "text": [
            "INFO:werkzeug:\u001b[31m\u001b[1mWARNING: This is a development server. Do not use it in a production deployment. Use a production WSGI server instead.\u001b[0m\n",
            " * Running on http://127.0.0.1:5000\n",
            "INFO:werkzeug:\u001b[33mPress CTRL+C to quit\u001b[0m\n"
          ]
        },
        {
          "output_type": "stream",
          "name": "stdout",
          "text": [
            " * ngrok tunnel \"NgrokTunnel: \"https://6fb1-35-236-152-11.ngrok-free.app\" -> \"http://localhost:5000\"\" -> \"http://127.0.0.1:5000\"\n"
          ]
        }
      ]
    }
  ],
  "metadata": {
    "colab": {
      "provenance": []
    },
    "kernelspec": {
      "display_name": "Python 3 (ipykernel)",
      "language": "python",
      "name": "python3"
    },
    "language_info": {
      "codemirror_mode": {
        "name": "ipython",
        "version": 3
      },
      "file_extension": ".py",
      "mimetype": "text/x-python",
      "name": "python",
      "nbconvert_exporter": "python",
      "pygments_lexer": "ipython3",
      "version": "3.11.5"
    }
  },
  "nbformat": 4,
  "nbformat_minor": 0
}