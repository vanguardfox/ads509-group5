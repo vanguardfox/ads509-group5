{
 "cells": [
  {
   "cell_type": "markdown",
   "metadata": {
    "id": "tT7fYxKGpoKu"
   },
   "source": [
    "[![Open In Colab](https://colab.research.google.com/assets/colab-badge.svg)](https://colab.research.google.com/github/vanguardfox/ads509-group5/blob/main/ADS509_Final_Project.ipynb)"
   ]
  },
  {
   "cell_type": "markdown",
   "metadata": {
    "id": "24tNXlFYhqVE"
   },
   "source": [
    "# Evaluating Financial Independence / Retire Early (FIRE) Thresholds by Demographic\n",
    "\n",
    "What is the Financial Independence number the FIRE community is aiming for by age, location, and over time?"
   ]
  },
  {
   "cell_type": "markdown",
   "metadata": {
    "id": "ZqOey2pIpoKv"
   },
   "source": [
    "# Group 5 Objective:\n",
    " The purpose of this project is to evaluate the FIRE financial thresholds by demographic groups such as age and location as well as changes in trends over times. Resulting analysis can be used in a variety of applications including leading economic sentiment predictions, generational assessment of financial health, and others via a Flask implementation."
   ]
  },
  {
   "cell_type": "markdown",
   "metadata": {
    "id": "Mla4_A0C9pp6"
   },
   "source": [
    "# Reddit Scrape\n",
    "\n",
    "Community: r/FIRE \\\n",
    "thread: /What_is_your_fire_number/ \\\n",
    "Code Reference: with help from ChatGPT https://chatgpt.com/ and https://colab.research.google.com/\n",
    "\n",
    "\n",
    "**Privacy note:**\n",
    "\n",
    "*   Credentials were created for the class but might have to figure out how to hide\n",
    "*   Username will also have to be masked to be anonymous"
   ]
  },
  {
   "cell_type": "code",
   "execution_count": 65,
   "metadata": {
    "id": "mL3R1YCi0h-J"
   },
   "outputs": [],
   "source": [
    "import warnings\n",
    "\n",
    "# Suppress all warnings\n",
    "warnings.filterwarnings(\"ignore\")"
   ]
  },
  {
   "cell_type": "markdown",
   "metadata": {
    "id": "dTxylIUPpoKv"
   },
   "source": [
    "(Optional: Install packages as needed)"
   ]
  },
  {
   "cell_type": "code",
   "execution_count": 66,
   "metadata": {
    "id": "8SdZo0-fl6g-"
   },
   "outputs": [],
   "source": [
    "#!pip install requests beautifulsoup4"
   ]
  },
  {
   "cell_type": "markdown",
   "metadata": {
    "id": "qZ7w8ue3poKw"
   },
   "source": [
    "Import Libraries"
   ]
  },
  {
   "cell_type": "code",
   "execution_count": 67,
   "metadata": {
    "id": "7UlLJjrrVytR"
   },
   "outputs": [],
   "source": [
    "# Library\n",
    "import pandas as pd\n",
    "import matplotlib.pyplot as plt\n",
    "import seaborn as sns\n",
    "import re\n",
    "import json\n",
    "import csv\n",
    "import requests\n",
    "import time\n",
    "import datetime\n",
    "import nltk\n",
    "import random\n",
    "import pickle\n",
    "import threading\n",
    "import socket\n",
    "import io\n",
    "import base64\n",
    "\n",
    "\n",
    "from typing import Optional, Tuple\n",
    "from pyngrok import ngrok\n",
    "from nltk.sentiment import SentimentIntensityAnalyzer\n",
    "from nltk.util import pairwise\n",
    "from bs4 import BeautifulSoup\n",
    "from requests.auth import HTTPBasicAuth\n",
    "from os import read\n",
    "from flask import Flask, request, jsonify\n",
    "from sklearn.feature_extraction.text import CountVectorizer, TfidfVectorizer\n",
    "from sklearn.decomposition import LatentDirichletAllocation, TruncatedSVD"
   ]
  },
  {
   "cell_type": "markdown",
   "metadata": {
    "id": "t5_S6wbUpoKw"
   },
   "source": [
    "## Initialize API Credentials"
   ]
  },
  {
   "cell_type": "code",
   "execution_count": 68,
   "metadata": {
    "id": "E1xBgoCSkvjy"
   },
   "outputs": [],
   "source": [
    "# Reddit API credentials\n",
    "client_id = '8-xAlbBmc1_FYraSwJENtw'\n",
    "client_secret = 'Jg9JyK9R_ixyNESMaGE3BwLzmBhf2w'\n",
    "username = 'Western_Signal4499'\n",
    "password = 'ADS509finAl'\n",
    "user_agent = 'ADS509Scrapper/0.1 by Western_Signal4499'\n",
    "\n",
    "# Get the OAuth token\n",
    "auth = HTTPBasicAuth(client_id, client_secret)\n",
    "headers = {'User-Agent': user_agent}\n",
    "data = {'grant_type': 'password', 'username': username, 'password': password}\n",
    "\n",
    "response = requests.post('https://www.reddit.com/api/v1/access_token', auth=auth, headers=headers, data=data)\n",
    "\n",
    "if response.status_code == 200:\n",
    "    token = response.json()['access_token']\n",
    "else:\n",
    "    print(f\"Error: {response.status_code}, {response.text}\")"
   ]
  },
  {
   "cell_type": "markdown",
   "metadata": {
    "id": "szaOuzGzpoKw"
   },
   "source": [
    "## Use access_token field from JSON to query threads"
   ]
  },
  {
   "cell_type": "code",
   "execution_count": 69,
   "metadata": {
    "colab": {
     "base_uri": "https://localhost:8080/"
    },
    "id": "QAF82eN-ompR",
    "outputId": "429fded6-ca31-4082-a161-2c218ce59df7",
    "scrolled": true
   },
   "outputs": [
    {
     "name": "stdout",
     "output_type": "stream",
     "text": [
      "Thread ID: 1fqzb0p, Title: What is your fire number? , User1: muy_carona, Comment: $8,675,309, Post Time: 2024-09-27 22:00:15, Comment Time: 2024-09-27 23:21:33\n",
      "Thread ID: rfxxkz, Title: What is your fire number?, User1: xmxprztm, Comment: 4M at least. Going to move to Spain, Post Time: 2021-12-14 03:24:03, Comment Time: 2021-12-14 16:43:40\n",
      "Thread ID: zddhma, Title: For folks who plan to FIRE in HCOL / VHCOL areas, what is your FIRE number? Why not move to MCOL / LCOL area?, User1: [deleted], Comment: Some services or experiences are only available in hcol areas. Good fine dining options and/or weather and or ___., Post Time: 2022-12-05 17:36:13, Comment Time: 2022-12-27 18:53:13\n",
      "Thread ID: 10ex17r, Title: What is your FIRE number?, User1: zenjdg, Comment: My ideal scenario is $100k per month in tax-free cash flow., Post Time: 2023-01-18 03:44:27, Comment Time: 2023-11-04 15:20:39\n",
      "Thread ID: z5a29v, Title: What is your fire number and how did you arrive at it?, User1: [deleted], Comment: [deleted], Post Time: 2022-11-26 15:25:58, Comment Time: 2022-11-27 21:55:50\n",
      "Thread ID: 1ef8jjf, Title: How to split finances when one is FIRE'd and one isn't FIRE'ing, User1: [deleted], Comment: Break up, Post Time: 2024-07-29 19:33:52, Comment Time: 2024-07-29 20:16:44\n",
      "Thread ID: oh6i17, Title: What is your FIRE number and at what age do you want to achieve it by?, User1: FIREDOC627, Comment: Wife is 8 years younger so although we COULD retire when we are 53/45 with a NW of 4m, will likely be prudent to stay working until 57/49 (NW of \\~5.5m) so she will have healthcare the rest of our lives.  I don't HATE my job but the VA has some of the most toxic people on earth so by 57 i will prolly be ready to run, not walk, out of there, Post Time: 2021-07-09 22:42:27, Comment Time: 2024-02-04 13:16:25\n",
      "Thread ID: 143o3y9, Title: We’re all privileged, User1: Retire_date_may_22, Comment: If you were born in America you are privileged., Post Time: 2023-06-07 20:32:38, Comment Time: 2023-06-07 20:51:43\n",
      "Thread ID: 1coxxrq, Title: How my wife and I will retire before 50; neither of us make over $75K, User1: ibleed0range, Comment: $1.4m in 17 years isn’t going to be worth much.  Given Covid inflation rates in the last 4 years, I don’t even think you could retire with $1.4m at age 49 today.  Your expenses are too high and your savings are too low., Post Time: 2024-05-10 19:30:05, Comment Time: 2024-05-11 11:12:41\n",
      "Thread ID: 1ffwmql, Title: 10 tips from my 20 year journey to financial freedom, User1: Repulsive-Usual-1593, Comment: To add a point to tip 10, there’s a password manager called KeePassXC that I really like.  It’s locally hosted, so if you lose your password file, it’s gone, but the upside is that it can be used offline and has significantly less risk than using a cloud password manager.  Overall, KeePassXC has been great at keeping me organized, Post Time: 2024-09-13 14:50:25, Comment Time: 2024-09-13 16:51:46\n",
      "Thread ID: 1cmt0ah, Title: Is toxic corporate culture why most of us want to Fire? , User1: SolomonGrumpy, Comment: When times are good, companies are more forgiving with employees.  When times are tight, they are MUCH less forgiving.  \n",
      " \n",
      "Times have been tight in tech since 2022., Post Time: 2024-05-08 01:54:13, Comment Time: 2024-05-14 18:06:06\n",
      "Thread ID: 1c82w4y, Title: The cliff is steep: How do you choose to retire early when working 5 more years can bring so much more, User1: Ghia149, Comment: Think about it as financial independence rather than full on retiring. It’s the stop doing work that stresses you and is unfulfilling. Maybe you cut your income but so what? You won’t be saving as much but if you’re earning enough to not be burning you’re still growing the nest egg rather than depleting it. Just stretching the time till you start withdrawing will have a big impact. Take more vacations work fewer hours but still be productive., Post Time: 2024-04-19 17:38:05, Comment Time: 2024-04-23 18:21:28\n",
      "Thread ID: 107k4by, Title: How did you come up with your FIRE number? What is the best calculator, way to get at it?, User1: hirme23, Comment: Track your annual expenses and 25x it., Post Time: 2023-01-09 17:23:47, Comment Time: 2023-01-10 12:45:43\n",
      "Thread ID: mj288k, Title: Forgive me if this is too personal, but what was your estimated net worth around 18 and how did you use that number to grow on your path to fire? Or what did you do to grow that number to reach your fire goals? Thank you., User1: UnderstandingCalm452, Comment: Aprx. negative -$20,000, factoring in student debt and credit cards. Quit my music major, went to law school, bottomed out at negative -$165,000 with student loans by 25. That was in 2009. Now up to around +$1.4M (the old fashioned way...Im a cryptoskeptic), Post Time: 2021-04-03 05:31:51, Comment Time: 2021-04-04 15:14:09\n",
      "Thread ID: 1fw9l5k, Title: Never go full spend?, User1: gloriousrepublic, Comment: All you've done is describe CoastFIRE.  Lots of us do it., Post Time: 2024-10-04 20:55:47, Comment Time: 2024-10-05 07:47:09\n",
      "Thread ID: 1fpdzm7, Title: Retired at 47 a year ago. Round 2: The numbers!, User1: CofferCrypto, Comment: $27k/yr at 62 after being a relatively low earner and retiring at 47? I seriously doubt it, Post Time: 2024-09-25 20:09:21, Comment Time: 2024-09-26 03:22:53\n",
      "Thread ID: 1epvngp, Title: Building generational wealth vs FIRE 10 years early?, User1: UnderstandingNew2810, Comment: Oh boy. Kids and fire is different ball game. Even after they are out of the household they can definitely cost money.\n",
      "\n",
      "Most kids now go back home to get started on their feet. If you get a kid that is in their feet after 18 you got super lucky. \n",
      "\n",
      "I not really sure how fire with kids is possible. Unless you hit a complete Jack pot. 10M and up. 5M is good no kids.  But with kids. That 5M will be gone. Nothing generationally about that, Post Time: 2024-08-11 21:13:19, Comment Time: 2024-08-12 01:22:56\n",
      "Thread ID: 1dwcgqo, Title: One of the most unexpected pieces of financial advice I ever read, \"Why Buying a Lottery Ticket is a Good Investment\", has actually stacked up for me over the last decade. I've lost a couple hundred bucks over the years, but it was actually money well spent., User1: Trozll, Comment: Most people smart enough to think this way aren’t buying lottery tickets., Post Time: 2024-07-06 00:06:25, Comment Time: 2024-07-06 22:19:52\n",
      "Thread ID: 1d9zkup, Title: What is you fire number?, User1: ppith, Comment: $10M investments, 58M just before our daughter goes to college.  Currents stats:\n",
      "\n",
      "$1.57M investments, $570K paid off house (plus paid off solar so low electric bills)\n",
      "\n",
      "Adding over $200K a year to investments (75% VOO/VTI 25% MSFT) and $4K a year to 529 (S&amp;P 500)\n",
      "\n",
      "45M/38F/5F\n",
      "\n",
      "Current portfolio:\n",
      "\n",
      "85% SPY/VOO/VTI\n",
      "5% QQQ\n",
      "5% MSFT\n",
      "5% BRK.B\n",
      "\n",
      "Future portfolio:\n",
      "\n",
      "$3M short term US Treasuries \n",
      "$7M either current allocation or VOO/VTI\n",
      "\n",
      "In today's money, $10M is fatFIRE.  In the future with inflation, it's probably chubbyFIRE.  For reference, we hit $1M in investments for the first time in June 2023.  Our expenses last year was about $79K which included a few road trips plus buying flights for a two week international vacation we took earlier this year.  \n",
      "\n",
      "Expense and investment SankeyMATIC charts:\n",
      "\n",
      "https://www.reddit.com/r/HENRYfinance/s/VQbQIyUa2f, Post Time: 2024-06-07 02:07:25, Comment Time: 2024-06-07 04:11:52\n",
      "Thread ID: psbr2j, Title: Married couples with young kids, what is your FIRE number and how is your progress?, User1: Arbasebat, Comment: Is this based of Net worth or liquid asset only?, Post Time: 2021-09-21 04:50:19, Comment Time: 2021-09-21 17:49:55\n",
      "Thread ID: 1fgq5s0, Title: How are you modeling the potential for senior care in your FIRE number?, User1: Zabick, Comment: This is why retirement portfolios need to be able to handle a minimum spending floor of $100k at 4% (if at regular retirement age) or 2-3% (for the FIRE types) annual withdrawal rates.\n",
      "\n",
      "\n",
      "This means someone looking to retire in their 30s/40s needs at least a $5 million investment portfolio to be able to safely do so., Post Time: 2024-09-14 16:34:56, Comment Time: 2024-09-14 16:43:41\n",
      "Thread ID: 181hlrt, Title: Long Term Care - How it works IRL, User1: Nearby_Jaguar7416, Comment: Yeah my mother's has some of the same issues.  Coverage is about right for personal care / assisted but WAY too low for skilled nursing.  Probably seemed like a reasonable coverage 20 years ago when they got the policy.\n",
      "\n",
      "Elimination period is also crucial to consider.  If she landed in skilled nursing and died in 90 days the policy would have paid nothing and we'd have had ~30k in bills.\n",
      "\n",
      "Very hard to say if these things make sense.  Not clear to me if there's a best option, Post Time: 2023-11-22 19:34:51, Comment Time: 2023-11-23 19:50:33\n",
      "Thread ID: 15t6gzi, Title: What's your age and your number?, User1: ElkVapor37, Comment: I’m blown away by so many small numbers. Retire by 40 with 1-1.5mil??? I’m curious what world y’all are living in. Traditional numbers are $7-10mil at 65 years old. Sure I understand passive income streams and investing but I’m sorry, $1-1.5mil to live 40-50 years on is not possible., Post Time: 2023-08-16 23:54:52, Comment Time: 2023-08-17 16:56:59\n",
      "Thread ID: 1fjsi5g, Title: From the experience of people in here who have achieved FIRE, in hindsight, what would you say is the the most optimal  way to achieve it? , User1: DrunkOnWeedASD, Comment: I did it by mid 20s through crypto, but it was pretty lean in the beginning. Chubby now and still aiming for fat\n",
      "\n",
      "\n",
      "Risk is way less risky than everyone thinks because of money printers and central banks supporting assets. They dont backstop everything, but it always spills over to everything, Post Time: 2024-09-18 13:13:52, Comment Time: 2024-09-18 15:05:55\n",
      "Thread ID: 1d1ukv2, Title: Defining LeanFIRE, FIRE, ChubbyFIRE, FatFIRE (2024 edition), User1: just_a_timetraveller, Comment: Hot take. I don't like these different definitions of fire. I feel some were created to have an early escape hatch from their work. \"I am in lean fire because I can leave my job if I just invest 20k more\" etc., Post Time: 2024-05-27 15:47:08, Comment Time: 2024-05-29 20:05:26\n"
     ]
    }
   ],
   "source": [
    "# Use the token to search for threads\n",
    "headers['Authorization'] = f'bearer {token}'\n",
    "\n",
    "# Constructs a string for the r/FIRE URL to query \"what is your fire number\"\n",
    "# restrict_sr=1 ensures that the query is constrained to only this subreddit\n",
    "search_url = \"https://oauth.reddit.com/r/FIRE/search?q=what%20is%20your%20fire%20number&restrict_sr=1\"\n",
    "\n",
    "# Store results of GET requrest to the API for the given \"search_url\"\n",
    "search_response = requests.get(search_url, headers=headers)\n",
    "\n",
    "# If the API GET is successful...\n",
    "if search_response.status_code == 200: # Code 200 means the request was flagged as successful\n",
    "    search_data = search_response.json() # Parse the JSON data from the response\n",
    "    #print(search_data)\n",
    "    threads = search_data['data']['children'] # Extract the list of threads\n",
    "\n",
    "    # Initialize a CSV and writes an head with columns (within .writerow() arg)\n",
    "    with open('fire_comments.csv', 'w', newline='', encoding='utf-8') as csvfile:\n",
    "        writer = csv.writer(csvfile)\n",
    "        writer.writerow(['Thread ID', 'Title', 'User', 'Comment', 'Post Time', 'Comment Time'])\n",
    "\n",
    "        # Iterate through each thread from API's response JSON\n",
    "        for thread in threads:\n",
    "            thread_title = thread['data']['title'] # Parse and extract title\n",
    "            thread_id = thread['data']['id'] # Parse and extract id\n",
    "            thread_time = thread['data']['created_utc']  # Extract post time (in Unix time)\n",
    "            # Convert the post time to a parsible date format\n",
    "            thread_time_norm = datetime.datetime.utcfromtimestamp(thread_time).strftime('%Y-%m-%d %H:%M:%S')\n",
    "\n",
    "            # Prepare URL as a string for better code handling\n",
    "            comments_url = f\"https://oauth.reddit.com/r/FIRE/comments/{thread_id}.json\"\n",
    "\n",
    "            # Store results of GET to fetch comments of the current iterated thread\n",
    "            comments_response = requests.get(comments_url, headers=headers)\n",
    "            if comments_response.status_code == 200: # Again, check if GET is successful\n",
    "                comments_data = comments_response.json() # Store JSON\n",
    "                comments = comments_data[1]['data']['children'] # Parse and extract comments\n",
    "\n",
    "                # Iterate through each comment\n",
    "                for comment in comments:\n",
    "                    if comment['kind'] == 't1': # Only iterate on top comments\n",
    "                        username = comment['data']['author'] # Extract username\n",
    "                        body = comment['data']['body'] # Extract text body\n",
    "\n",
    "                        # Extract comment time, convert\n",
    "                        comment_time = comment['data']['created_utc']\n",
    "                        comment_time_norm = datetime.datetime.utcfromtimestamp(comment_time).strftime('%Y-%m-%d %H:%M:%S')\n",
    "\n",
    "                        # Write parsed data into respective CSV row, mapped to column\n",
    "                        writer.writerow([thread_id,\n",
    "                                         thread_title,\n",
    "                                         username,\n",
    "                                         body,\n",
    "                                         thread_time_norm,\n",
    "                                         comment_time_norm])\n",
    "\n",
    "                print(f\"Thread ID: {thread_id}, Title: {thread_title}, User1: {username}, Comment: {body}, Post Time: {thread_time_norm}, Comment Time: {comment_time_norm}\")\n",
    "                sleep_time = random.uniform(1,3) # Rate Limiter\n",
    "                time.sleep(sleep_time)\n",
    "\n",
    "            else:\n",
    "                print(f\"Failed to retrieve comments for thread ID {thread_id} with status code {comments_response.status_code}\")\n",
    "\n",
    "else:\n",
    "    print(f\"Failed to retrieve search results with status code {search_response.status_code}\")"
   ]
  },
  {
   "cell_type": "markdown",
   "metadata": {
    "id": "I_7WP4t4poKx"
   },
   "source": [
    "## Verify the contents of the CSV that was created above and store as DataFrame"
   ]
  },
  {
   "cell_type": "code",
   "execution_count": 70,
   "metadata": {
    "colab": {
     "base_uri": "https://localhost:8080/",
     "height": 204
    },
    "id": "BT92kZVZo8gw",
    "outputId": "cd6da550-0637-464c-a8f0-624e531eb4e0"
   },
   "outputs": [
    {
     "data": {
      "text/html": [
       "<div>\n",
       "<style scoped>\n",
       "    .dataframe tbody tr th:only-of-type {\n",
       "        vertical-align: middle;\n",
       "    }\n",
       "\n",
       "    .dataframe tbody tr th {\n",
       "        vertical-align: top;\n",
       "    }\n",
       "\n",
       "    .dataframe thead th {\n",
       "        text-align: right;\n",
       "    }\n",
       "</style>\n",
       "<table border=\"1\" class=\"dataframe\">\n",
       "  <thead>\n",
       "    <tr style=\"text-align: right;\">\n",
       "      <th></th>\n",
       "      <th>Thread ID</th>\n",
       "      <th>Title</th>\n",
       "      <th>User</th>\n",
       "      <th>Comment</th>\n",
       "      <th>Post Time</th>\n",
       "      <th>Comment Time</th>\n",
       "    </tr>\n",
       "  </thead>\n",
       "  <tbody>\n",
       "    <tr>\n",
       "      <th>0</th>\n",
       "      <td>1fqzb0p</td>\n",
       "      <td>What is your fire number?</td>\n",
       "      <td>manimopo</td>\n",
       "      <td>1.5m with paid off houses</td>\n",
       "      <td>2024-09-27 22:00:15</td>\n",
       "      <td>2024-09-27 22:14:27</td>\n",
       "    </tr>\n",
       "    <tr>\n",
       "      <th>1</th>\n",
       "      <td>1fqzb0p</td>\n",
       "      <td>What is your fire number?</td>\n",
       "      <td>Animag771</td>\n",
       "      <td>I'm just waiting for someone to say something ...</td>\n",
       "      <td>2024-09-27 22:00:15</td>\n",
       "      <td>2024-09-27 22:43:43</td>\n",
       "    </tr>\n",
       "    <tr>\n",
       "      <th>2</th>\n",
       "      <td>1fqzb0p</td>\n",
       "      <td>What is your fire number?</td>\n",
       "      <td>wowsocool4u</td>\n",
       "      <td>$1.9m.  Targeting a few months after i turn 50...</td>\n",
       "      <td>2024-09-27 22:00:15</td>\n",
       "      <td>2024-09-27 22:24:04</td>\n",
       "    </tr>\n",
       "    <tr>\n",
       "      <th>3</th>\n",
       "      <td>1fqzb0p</td>\n",
       "      <td>What is your fire number?</td>\n",
       "      <td>Aromatic_Heart</td>\n",
       "      <td>On days I hate my job, 600k. The other days, d...</td>\n",
       "      <td>2024-09-27 22:00:15</td>\n",
       "      <td>2024-09-28 03:15:50</td>\n",
       "    </tr>\n",
       "    <tr>\n",
       "      <th>4</th>\n",
       "      <td>1fqzb0p</td>\n",
       "      <td>What is your fire number?</td>\n",
       "      <td>Ziqach</td>\n",
       "      <td>$2M with a paid off house. So stressful to see...</td>\n",
       "      <td>2024-09-27 22:00:15</td>\n",
       "      <td>2024-09-27 22:59:17</td>\n",
       "    </tr>\n",
       "  </tbody>\n",
       "</table>\n",
       "</div>"
      ],
      "text/plain": [
       "  Thread ID                       Title            User  \\\n",
       "0   1fqzb0p  What is your fire number?         manimopo   \n",
       "1   1fqzb0p  What is your fire number?        Animag771   \n",
       "2   1fqzb0p  What is your fire number?      wowsocool4u   \n",
       "3   1fqzb0p  What is your fire number?   Aromatic_Heart   \n",
       "4   1fqzb0p  What is your fire number?           Ziqach   \n",
       "\n",
       "                                             Comment            Post Time  \\\n",
       "0                          1.5m with paid off houses  2024-09-27 22:00:15   \n",
       "1  I'm just waiting for someone to say something ...  2024-09-27 22:00:15   \n",
       "2  $1.9m.  Targeting a few months after i turn 50...  2024-09-27 22:00:15   \n",
       "3  On days I hate my job, 600k. The other days, d...  2024-09-27 22:00:15   \n",
       "4  $2M with a paid off house. So stressful to see...  2024-09-27 22:00:15   \n",
       "\n",
       "          Comment Time  \n",
       "0  2024-09-27 22:14:27  \n",
       "1  2024-09-27 22:43:43  \n",
       "2  2024-09-27 22:24:04  \n",
       "3  2024-09-28 03:15:50  \n",
       "4  2024-09-27 22:59:17  "
      ]
     },
     "execution_count": 70,
     "metadata": {},
     "output_type": "execute_result"
    }
   ],
   "source": [
    "rfire_df = pd.read_csv('fire_comments.csv')\n",
    "rfire_df.head()"
   ]
  },
  {
   "cell_type": "markdown",
   "metadata": {
    "id": "Pw5ct93sx06H"
   },
   "source": [
    "# Data Preprocessing"
   ]
  },
  {
   "cell_type": "markdown",
   "metadata": {
    "id": "QRHrv0ykpoKy"
   },
   "source": [
    "## Preliminary dataframe"
   ]
  },
  {
   "cell_type": "code",
   "execution_count": 71,
   "metadata": {
    "colab": {
     "base_uri": "https://localhost:8080/"
    },
    "id": "O4gXMzaqx_ms",
    "outputId": "27faf558-b006-4d49-c4f2-71f7a6c86635"
   },
   "outputs": [
    {
     "name": "stdout",
     "output_type": "stream",
     "text": [
      "<class 'pandas.core.frame.DataFrame'>\n",
      "RangeIndex: 1462 entries, 0 to 1461\n",
      "Data columns (total 6 columns):\n",
      " #   Column        Non-Null Count  Dtype \n",
      "---  ------        --------------  ----- \n",
      " 0   Thread ID     1462 non-null   object\n",
      " 1   Title         1462 non-null   object\n",
      " 2   User          1462 non-null   object\n",
      " 3   Comment       1462 non-null   object\n",
      " 4   Post Time     1462 non-null   object\n",
      " 5   Comment Time  1462 non-null   object\n",
      "dtypes: object(6)\n",
      "memory usage: 68.7+ KB\n"
     ]
    }
   ],
   "source": [
    "rfire_df.info()"
   ]
  },
  {
   "cell_type": "code",
   "execution_count": 72,
   "metadata": {
    "colab": {
     "base_uri": "https://localhost:8080/"
    },
    "id": "KdgLxwF2qnb9",
    "outputId": "93799153-df20-48c7-ce46-1fa1b66b6e42"
   },
   "outputs": [
    {
     "data": {
      "text/plain": [
       "array(['What is your fire number? ', 'What is your fire number?',\n",
       "       'For folks who plan to FIRE in HCOL / VHCOL areas, what is your FIRE number? Why not move to MCOL / LCOL area?',\n",
       "       'What is your FIRE number?',\n",
       "       'What is your fire number and how did you arrive at it?',\n",
       "       \"How to split finances when one is FIRE'd and one isn't FIRE'ing\",\n",
       "       'What is your FIRE number and at what age do you want to achieve it by?',\n",
       "       'We’re all privileged',\n",
       "       'How my wife and I will retire before 50; neither of us make over $75K',\n",
       "       '10 tips from my 20 year journey to financial freedom',\n",
       "       'Is toxic corporate culture why most of us want to Fire? ',\n",
       "       'The cliff is steep: How do you choose to retire early when working 5 more years can bring so much more',\n",
       "       'How did you come up with your FIRE number? What is the best calculator, way to get at it?',\n",
       "       'Forgive me if this is too personal, but what was your estimated net worth around 18 and how did you use that number to grow on your path to fire? Or what did you do to grow that number to reach your fire goals? Thank you.',\n",
       "       'Never go full spend?',\n",
       "       'Retired at 47 a year ago. Round 2: The numbers!',\n",
       "       'Building generational wealth vs FIRE 10 years early?',\n",
       "       'One of the most unexpected pieces of financial advice I ever read, \"Why Buying a Lottery Ticket is a Good Investment\", has actually stacked up for me over the last decade. I\\'ve lost a couple hundred bucks over the years, but it was actually money well spent.',\n",
       "       'What is you fire number?',\n",
       "       'Married couples with young kids, what is your FIRE number and how is your progress?',\n",
       "       'How are you modeling the potential for senior care in your FIRE number?',\n",
       "       'Long Term Care - How it works IRL',\n",
       "       \"What's your age and your number?\",\n",
       "       'From the experience of people in here who have achieved FIRE, in hindsight, what would you say is the the most optimal  way to achieve it? ',\n",
       "       'Defining LeanFIRE, FIRE, ChubbyFIRE, FatFIRE (2024 edition)'],\n",
       "      dtype=object)"
      ]
     },
     "execution_count": 72,
     "metadata": {},
     "output_type": "execute_result"
    }
   ],
   "source": [
    "rfire_df['Title'].unique()"
   ]
  },
  {
   "cell_type": "markdown",
   "metadata": {
    "id": "AxbempqMzxXM"
   },
   "source": [
    "## Clean Dataset"
   ]
  },
  {
   "cell_type": "code",
   "execution_count": 73,
   "metadata": {
    "colab": {
     "base_uri": "https://localhost:8080/"
    },
    "id": "Z-cfs5ZHbJY_",
    "outputId": "32400eaf-f916-4dfd-94a3-c8695b390ac9"
   },
   "outputs": [
    {
     "name": "stdout",
     "output_type": "stream",
     "text": [
      "['What is your fire number? ' 'What is your fire number?'\n",
      " 'For folks who plan to FIRE in HCOL / VHCOL areas, what is your FIRE number? Why not move to MCOL / LCOL area?'\n",
      " 'What is your FIRE number?'\n",
      " 'What is your fire number and how did you arrive at it?'\n",
      " 'What is your FIRE number and at what age do you want to achieve it by?'\n",
      " 'Married couples with young kids, what is your FIRE number and how is your progress?']\n",
      "<class 'pandas.core.frame.DataFrame'>\n",
      "Index: 433 entries, 0 to 1228\n",
      "Data columns (total 6 columns):\n",
      " #   Column        Non-Null Count  Dtype \n",
      "---  ------        --------------  ----- \n",
      " 0   Thread ID     433 non-null    object\n",
      " 1   Title         433 non-null    object\n",
      " 2   User          433 non-null    object\n",
      " 3   Comment       433 non-null    object\n",
      " 4   Post Time     433 non-null    object\n",
      " 5   Comment Time  433 non-null    object\n",
      "dtypes: object(6)\n",
      "memory usage: 23.7+ KB\n",
      "None\n"
     ]
    }
   ],
   "source": [
    "# Retrive titles that contain the words \"what is your fire number\"\n",
    "fire_df = rfire_df[rfire_df['Title'].str.contains(r'what\\s*is\\s*your\\s*fire\\s*number', case=False, na=False)]\n",
    "\n",
    "print(fire_df['Title'].unique())\n",
    "print(fire_df.info())"
   ]
  },
  {
   "cell_type": "markdown",
   "metadata": {
    "id": "7UDRkbbWy_vw"
   },
   "source": [
    "### Fire Number Extraction"
   ]
  },
  {
   "cell_type": "markdown",
   "metadata": {
    "id": "QBbBP3SkY5B0"
   },
   "source": [
    "Regular Expression Description\n",
    "\n",
    "re.sub(r'[^a-zA-Z0-9\\s$€£¥.]', '', text)\n",
    "\n",
    "replaces matching substrings with an empty '' (effectively removing it)\n",
    "\n",
    "Breakdown: \\\n",
    "^a-zA-Z0-9 = NOT alphanumeric characters \\\n",
    "\\s = whitespace \\\n",
    "$€£¥ = Currency symbols \\\n",
    ". = Period / Decimal \\\n",
    "\n",
    "Objective:  \\\n",
    "Regular Expression removes everything that isn't an alphanumeric character or symbol above AFTER we've already removed periods from the line\n",
    "\n",
    "text = re.sub(r'(?<!\\d)\\.(?!\\d)', '', text)\n",
    "\n",
    "Breakdown: \\\n",
    "(?<!\\d) Only match if the character before the period is not a digit (\\d) *only checking with ?*\n"
   ]
  },
  {
   "cell_type": "code",
   "execution_count": 74,
   "metadata": {
    "id": "QkmebKoxg4EL"
   },
   "outputs": [],
   "source": [
    "def clean_and_extract(text: str) -> str:\n",
    "    \"\"\"\n",
    "    Cleans the input text by:\n",
    "    - Removing URLs\n",
    "    - Keeping only alphanumeric characters and select symbols\n",
    "    - Normalizing financial identifiers\n",
    "    - Converting text to lowercase\n",
    "    - Removing isolated periods\n",
    "\n",
    "    Args:\n",
    "        text (str): The input text to be cleaned.\n",
    "\n",
    "    Returns:\n",
    "        str: The cleaned and normalized text.\n",
    "    \"\"\"\n",
    "    # Remove URLs\n",
    "    text = re.sub(r'http\\S+', '', text)\n",
    "\n",
    "    # Keep alphanumeric characters, spaces, and currency symbols\n",
    "    text = re.sub(r'[^a-zA-Z0-9\\s$€£¥.]', '', text)\n",
    "\n",
    "    # Normalize financial identifiers\n",
    "    financial_patterns = [\n",
    "    (r'(?<!\\w)\\$?(\\d+(\\.\\d+)?)\\s*(m|mm)(?=\\s|$)', r'\\1 million'),  # e.g., \"1.5m\" to \"1.5 million\"\n",
    "    (r'(?<!\\w)\\$?(\\d+)\\s*(b|bil)(?=\\s|$)', r'\\1 billion'),          # e.g., \"1b\" to \"1 billion\"\n",
    "    (r'(?<!\\w)\\$?(\\d+(\\.\\d+)?)\\s*(mil|mill|million)(?=\\s|$)', r'\\1 million'),  # e.g., \"200 mil\" to \"200 million\"\n",
    "    (r'(?<!\\w)\\$?(\\d+(\\.\\d+)?)\\s*(k|thousand)(?=\\s|$)', r'\\1 thousand'),       # e.g., \"200k\" to \"200 thousand\"\n",
    "    (r'(?<!\\w)\\$?(\\d+(\\.\\d+)?)(m|mm|mil)(?:\\s*/\\s*(\\d+(\\.\\d+)?)(m|mm|mil))?', r'\\1 million')\n",
    "    ]\n",
    "\n",
    "    # Apply financial normalization\n",
    "    for pattern, replacement in financial_patterns:\n",
    "        text = re.sub(pattern, replacement, text, flags=re.IGNORECASE)\n",
    "\n",
    "    # Convert to lowercase\n",
    "    text = text.lower()\n",
    "\n",
    "    # Remove isolated periods not part of numbers\n",
    "    text = re.sub(r'(?<!\\d)\\.(?!\\d)', '', text)\n",
    "\n",
    "    # Remove extra spaces after replacements\n",
    "    text = re.sub(r'\\s+', ' ', text).strip()\n",
    "\n",
    "    return text\n",
    "\n",
    "def extract_fire_number(text: str) -> str:\n",
    "    \"\"\"Extracts the fire number from the given text.\"\"\"\n",
    "    fire_number_match = re.search(r'(\\d+(\\.\\d+)?)\\s*(million|billion|thousand)', text, re.IGNORECASE)\n",
    "    return fire_number_match.group(0) if fire_number_match else None\n",
    "\n",
    "def convert_fire_number_to_numeric(fire_number: str) -> float:\n",
    "    \"\"\"Converts a fire number string to its numeric equivalent.\"\"\"\n",
    "    if not fire_number:\n",
    "        return 0.0\n",
    "\n",
    "    # Define conversion factors\n",
    "    conversion_factors = {\n",
    "        'million': 1_000_000,\n",
    "        'billion': 1_000_000_000,\n",
    "        'thousand': 1_000\n",
    "    }\n",
    "\n",
    "    # Extract numeric part and the suffix\n",
    "    match = re.match(r'(\\d+(\\.\\d+)?)\\s*(million|billion|thousand)', fire_number, re.IGNORECASE)\n",
    "    if match:\n",
    "        value = float(match.group(1))\n",
    "        suffix = match.group(3).lower()  # Ensure suffix is in lowercase\n",
    "        return value * conversion_factors[suffix]\n",
    "\n",
    "    return 0.0"
   ]
  },
  {
   "cell_type": "code",
   "execution_count": 75,
   "metadata": {
    "id": "1P8lLqgmx0E5"
   },
   "outputs": [],
   "source": [
    "# Apply the cleaning function to the 'Comment' column\n",
    "fire_df['Cleaned Comment'] = fire_df['Comment'].apply(clean_and_extract)\n",
    "\n",
    "# Extract FIRE number\n",
    "fire_df['FIRE #'] = fire_df['Cleaned Comment'].apply(extract_fire_number)\n",
    "\n",
    "# Convert FIRE Number from string to numerical value\n",
    "fire_df['FIRE Number'] = fire_df['FIRE #'].apply(convert_fire_number_to_numeric)\n",
    "\n",
    "# Drop the original FIRE Number column if no longer needed\n",
    "fire_df.drop(columns=['FIRE #'], inplace=True)"
   ]
  },
  {
   "cell_type": "code",
   "execution_count": 76,
   "metadata": {
    "colab": {
     "base_uri": "https://localhost:8080/",
     "height": 204
    },
    "id": "YmutVjbqeAjw",
    "outputId": "0e46d7f2-8996-47af-fa47-fad795b757a1"
   },
   "outputs": [
    {
     "data": {
      "text/html": [
       "<div>\n",
       "<style scoped>\n",
       "    .dataframe tbody tr th:only-of-type {\n",
       "        vertical-align: middle;\n",
       "    }\n",
       "\n",
       "    .dataframe tbody tr th {\n",
       "        vertical-align: top;\n",
       "    }\n",
       "\n",
       "    .dataframe thead th {\n",
       "        text-align: right;\n",
       "    }\n",
       "</style>\n",
       "<table border=\"1\" class=\"dataframe\">\n",
       "  <thead>\n",
       "    <tr style=\"text-align: right;\">\n",
       "      <th></th>\n",
       "      <th>Comment</th>\n",
       "      <th>Cleaned Comment</th>\n",
       "      <th>FIRE Number</th>\n",
       "    </tr>\n",
       "  </thead>\n",
       "  <tbody>\n",
       "    <tr>\n",
       "      <th>1224</th>\n",
       "      <td>5mil/600k one 3 yr old and newborn coming</td>\n",
       "      <td>5 millionil600k one 3 yr old and newborn coming</td>\n",
       "      <td>5,000,000.00</td>\n",
       "    </tr>\n",
       "    <tr>\n",
       "      <th>1225</th>\n",
       "      <td>Marrying whoever after my Bar Exam this Novemb...</td>\n",
       "      <td>marrying whoever after my bar exam this novemb...</td>\n",
       "      <td>4,000,000.00</td>\n",
       "    </tr>\n",
       "    <tr>\n",
       "      <th>1226</th>\n",
       "      <td>No kids, 100Mil</td>\n",
       "      <td>no kids 100 million</td>\n",
       "      <td>100,000,000.00</td>\n",
       "    </tr>\n",
       "    <tr>\n",
       "      <th>1227</th>\n",
       "      <td>5m/2.2m with 2 kids in middle/elementary</td>\n",
       "      <td>5 million2.2 million with 2 kids in middleelem...</td>\n",
       "      <td>5,000,000.00</td>\n",
       "    </tr>\n",
       "    <tr>\n",
       "      <th>1228</th>\n",
       "      <td>Is this based of Net worth or liquid asset only?</td>\n",
       "      <td>is this based of net worth or liquid asset only</td>\n",
       "      <td>0.00</td>\n",
       "    </tr>\n",
       "  </tbody>\n",
       "</table>\n",
       "</div>"
      ],
      "text/plain": [
       "                                                Comment  \\\n",
       "1224          5mil/600k one 3 yr old and newborn coming   \n",
       "1225  Marrying whoever after my Bar Exam this Novemb...   \n",
       "1226                                    No kids, 100Mil   \n",
       "1227           5m/2.2m with 2 kids in middle/elementary   \n",
       "1228   Is this based of Net worth or liquid asset only?   \n",
       "\n",
       "                                        Cleaned Comment    FIRE Number  \n",
       "1224    5 millionil600k one 3 yr old and newborn coming   5,000,000.00  \n",
       "1225  marrying whoever after my bar exam this novemb...   4,000,000.00  \n",
       "1226                                no kids 100 million 100,000,000.00  \n",
       "1227  5 million2.2 million with 2 kids in middleelem...   5,000,000.00  \n",
       "1228    is this based of net worth or liquid asset only           0.00  "
      ]
     },
     "execution_count": 76,
     "metadata": {},
     "output_type": "execute_result"
    }
   ],
   "source": [
    "fire_df[['Comment', 'Cleaned Comment', 'FIRE Number']].tail()"
   ]
  },
  {
   "cell_type": "code",
   "execution_count": 77,
   "metadata": {
    "colab": {
     "base_uri": "https://localhost:8080/",
     "height": 359
    },
    "id": "N1WUdTV8ctd0",
    "outputId": "8d0ad8b4-fde8-4358-b59a-e0b97371177c"
   },
   "outputs": [
    {
     "data": {
      "text/html": [
       "<div>\n",
       "<style scoped>\n",
       "    .dataframe tbody tr th:only-of-type {\n",
       "        vertical-align: middle;\n",
       "    }\n",
       "\n",
       "    .dataframe tbody tr th {\n",
       "        vertical-align: top;\n",
       "    }\n",
       "\n",
       "    .dataframe thead th {\n",
       "        text-align: right;\n",
       "    }\n",
       "</style>\n",
       "<table border=\"1\" class=\"dataframe\">\n",
       "  <thead>\n",
       "    <tr style=\"text-align: right;\">\n",
       "      <th></th>\n",
       "      <th>Comment</th>\n",
       "      <th>Cleaned Comment</th>\n",
       "      <th>FIRE Number</th>\n",
       "    </tr>\n",
       "  </thead>\n",
       "  <tbody>\n",
       "    <tr>\n",
       "      <th>78</th>\n",
       "      <td>2.5m in today's money. I reckon we get there i...</td>\n",
       "      <td>2.5 million in todays money i reckon we get th...</td>\n",
       "      <td>2,500,000.00</td>\n",
       "    </tr>\n",
       "    <tr>\n",
       "      <th>436</th>\n",
       "      <td>2.5 million</td>\n",
       "      <td>2.5 million</td>\n",
       "      <td>2,500,000.00</td>\n",
       "    </tr>\n",
       "    <tr>\n",
       "      <th>80</th>\n",
       "      <td>Atleast 3</td>\n",
       "      <td>atleast 3</td>\n",
       "      <td>0.00</td>\n",
       "    </tr>\n",
       "    <tr>\n",
       "      <th>100</th>\n",
       "      <td>$2.2M</td>\n",
       "      <td>2.2 million</td>\n",
       "      <td>2,200,000.00</td>\n",
       "    </tr>\n",
       "    <tr>\n",
       "      <th>260</th>\n",
       "      <td>$750k which is more like normal fire here in S...</td>\n",
       "      <td>750 thousand which is more like normal fire he...</td>\n",
       "      <td>750,000.00</td>\n",
       "    </tr>\n",
       "    <tr>\n",
       "      <th>241</th>\n",
       "      <td>For our situation, the VHCOL area has:\\n\\n* gr...</td>\n",
       "      <td>for our situation the vhcol area has great sch...</td>\n",
       "      <td>0.00</td>\n",
       "    </tr>\n",
       "    <tr>\n",
       "      <th>72</th>\n",
       "      <td>$3M although $2M would probably be enough</td>\n",
       "      <td>3 million although 2 million would probably be...</td>\n",
       "      <td>3,000,000.00</td>\n",
       "    </tr>\n",
       "    <tr>\n",
       "      <th>211</th>\n",
       "      <td>I love NYC and my life here and I don’t plan o...</td>\n",
       "      <td>i love nyc and my life here and i dont plan on...</td>\n",
       "      <td>3,500,000.00</td>\n",
       "    </tr>\n",
       "    <tr>\n",
       "      <th>161</th>\n",
       "      <td>~1.5M.  I don’t have a strict FIRE number yet....</td>\n",
       "      <td>1.5 million i dont have a strict fire number y...</td>\n",
       "      <td>1,500,000.00</td>\n",
       "    </tr>\n",
       "    <tr>\n",
       "      <th>175</th>\n",
       "      <td>$8million of financial assets (not including t...</td>\n",
       "      <td>8 million of financial assets not including th...</td>\n",
       "      <td>8,000,000.00</td>\n",
       "    </tr>\n",
       "  </tbody>\n",
       "</table>\n",
       "</div>"
      ],
      "text/plain": [
       "                                               Comment  \\\n",
       "78   2.5m in today's money. I reckon we get there i...   \n",
       "436                                        2.5 million   \n",
       "80                                           Atleast 3   \n",
       "100                                              $2.2M   \n",
       "260  $750k which is more like normal fire here in S...   \n",
       "241  For our situation, the VHCOL area has:\\n\\n* gr...   \n",
       "72           $3M although $2M would probably be enough   \n",
       "211  I love NYC and my life here and I don’t plan o...   \n",
       "161  ~1.5M.  I don’t have a strict FIRE number yet....   \n",
       "175  $8million of financial assets (not including t...   \n",
       "\n",
       "                                       Cleaned Comment  FIRE Number  \n",
       "78   2.5 million in todays money i reckon we get th... 2,500,000.00  \n",
       "436                                        2.5 million 2,500,000.00  \n",
       "80                                           atleast 3         0.00  \n",
       "100                                        2.2 million 2,200,000.00  \n",
       "260  750 thousand which is more like normal fire he...   750,000.00  \n",
       "241  for our situation the vhcol area has great sch...         0.00  \n",
       "72   3 million although 2 million would probably be... 3,000,000.00  \n",
       "211  i love nyc and my life here and i dont plan on... 3,500,000.00  \n",
       "161  1.5 million i dont have a strict fire number y... 1,500,000.00  \n",
       "175  8 million of financial assets not including th... 8,000,000.00  "
      ]
     },
     "execution_count": 77,
     "metadata": {},
     "output_type": "execute_result"
    }
   ],
   "source": [
    "random_sample = fire_df.sample(n=10, random_state=10)\n",
    "random_sample[['Comment', 'Cleaned Comment', 'FIRE Number']]"
   ]
  },
  {
   "cell_type": "markdown",
   "metadata": {
    "id": "nDok5we7a9gV"
   },
   "source": [
    "### Year Extraction"
   ]
  },
  {
   "cell_type": "code",
   "execution_count": 78,
   "metadata": {
    "id": "sUTSlLY-a9gV"
   },
   "outputs": [],
   "source": [
    "fire_df['Post Year'] = pd.to_datetime(fire_df['Post Time']).dt.year\n",
    "fire_df['Comment Year'] = pd.to_datetime(fire_df['Comment Time']).dt.year"
   ]
  },
  {
   "cell_type": "code",
   "execution_count": 79,
   "metadata": {
    "colab": {
     "base_uri": "https://localhost:8080/"
    },
    "id": "BeZ91tlGg4BZ",
    "outputId": "bb987c67-87e8-4e5d-bcb8-bd92e45b4cf5"
   },
   "outputs": [
    {
     "data": {
      "text/html": [
       "<div>\n",
       "<style scoped>\n",
       "    .dataframe tbody tr th:only-of-type {\n",
       "        vertical-align: middle;\n",
       "    }\n",
       "\n",
       "    .dataframe tbody tr th {\n",
       "        vertical-align: top;\n",
       "    }\n",
       "\n",
       "    .dataframe thead th {\n",
       "        text-align: right;\n",
       "    }\n",
       "</style>\n",
       "<table border=\"1\" class=\"dataframe\">\n",
       "  <thead>\n",
       "    <tr style=\"text-align: right;\">\n",
       "      <th></th>\n",
       "      <th>Thread ID</th>\n",
       "      <th>Title</th>\n",
       "      <th>User</th>\n",
       "      <th>Comment</th>\n",
       "      <th>Post Time</th>\n",
       "      <th>Comment Time</th>\n",
       "      <th>Cleaned Comment</th>\n",
       "      <th>FIRE Number</th>\n",
       "      <th>Post Year</th>\n",
       "      <th>Comment Year</th>\n",
       "    </tr>\n",
       "  </thead>\n",
       "  <tbody>\n",
       "    <tr>\n",
       "      <th>0</th>\n",
       "      <td>1fqzb0p</td>\n",
       "      <td>What is your fire number?</td>\n",
       "      <td>manimopo</td>\n",
       "      <td>1.5m with paid off houses</td>\n",
       "      <td>2024-09-27 22:00:15</td>\n",
       "      <td>2024-09-27 22:14:27</td>\n",
       "      <td>1.5 million with paid off houses</td>\n",
       "      <td>1,500,000.00</td>\n",
       "      <td>2024</td>\n",
       "      <td>2024</td>\n",
       "    </tr>\n",
       "    <tr>\n",
       "      <th>1</th>\n",
       "      <td>1fqzb0p</td>\n",
       "      <td>What is your fire number?</td>\n",
       "      <td>Animag771</td>\n",
       "      <td>I'm just waiting for someone to say something ...</td>\n",
       "      <td>2024-09-27 22:00:15</td>\n",
       "      <td>2024-09-27 22:43:43</td>\n",
       "      <td>im just waiting for someone to say something l...</td>\n",
       "      <td>0.00</td>\n",
       "      <td>2024</td>\n",
       "      <td>2024</td>\n",
       "    </tr>\n",
       "    <tr>\n",
       "      <th>2</th>\n",
       "      <td>1fqzb0p</td>\n",
       "      <td>What is your fire number?</td>\n",
       "      <td>wowsocool4u</td>\n",
       "      <td>$1.9m.  Targeting a few months after i turn 50...</td>\n",
       "      <td>2024-09-27 22:00:15</td>\n",
       "      <td>2024-09-27 22:24:04</td>\n",
       "      <td>1.9 million targeting a few months after i tur...</td>\n",
       "      <td>1,900,000.00</td>\n",
       "      <td>2024</td>\n",
       "      <td>2024</td>\n",
       "    </tr>\n",
       "    <tr>\n",
       "      <th>3</th>\n",
       "      <td>1fqzb0p</td>\n",
       "      <td>What is your fire number?</td>\n",
       "      <td>Aromatic_Heart</td>\n",
       "      <td>On days I hate my job, 600k. The other days, d...</td>\n",
       "      <td>2024-09-27 22:00:15</td>\n",
       "      <td>2024-09-28 03:15:50</td>\n",
       "      <td>on days i hate my job 600k the other days depe...</td>\n",
       "      <td>3,000,000.00</td>\n",
       "      <td>2024</td>\n",
       "      <td>2024</td>\n",
       "    </tr>\n",
       "    <tr>\n",
       "      <th>4</th>\n",
       "      <td>1fqzb0p</td>\n",
       "      <td>What is your fire number?</td>\n",
       "      <td>Ziqach</td>\n",
       "      <td>$2M with a paid off house. So stressful to see...</td>\n",
       "      <td>2024-09-27 22:00:15</td>\n",
       "      <td>2024-09-27 22:59:17</td>\n",
       "      <td>2 million with a paid off house so stressful t...</td>\n",
       "      <td>2,000,000.00</td>\n",
       "      <td>2024</td>\n",
       "      <td>2024</td>\n",
       "    </tr>\n",
       "  </tbody>\n",
       "</table>\n",
       "</div>"
      ],
      "text/plain": [
       "  Thread ID                       Title            User  \\\n",
       "0   1fqzb0p  What is your fire number?         manimopo   \n",
       "1   1fqzb0p  What is your fire number?        Animag771   \n",
       "2   1fqzb0p  What is your fire number?      wowsocool4u   \n",
       "3   1fqzb0p  What is your fire number?   Aromatic_Heart   \n",
       "4   1fqzb0p  What is your fire number?           Ziqach   \n",
       "\n",
       "                                             Comment            Post Time  \\\n",
       "0                          1.5m with paid off houses  2024-09-27 22:00:15   \n",
       "1  I'm just waiting for someone to say something ...  2024-09-27 22:00:15   \n",
       "2  $1.9m.  Targeting a few months after i turn 50...  2024-09-27 22:00:15   \n",
       "3  On days I hate my job, 600k. The other days, d...  2024-09-27 22:00:15   \n",
       "4  $2M with a paid off house. So stressful to see...  2024-09-27 22:00:15   \n",
       "\n",
       "          Comment Time                                    Cleaned Comment  \\\n",
       "0  2024-09-27 22:14:27                   1.5 million with paid off houses   \n",
       "1  2024-09-27 22:43:43  im just waiting for someone to say something l...   \n",
       "2  2024-09-27 22:24:04  1.9 million targeting a few months after i tur...   \n",
       "3  2024-09-28 03:15:50  on days i hate my job 600k the other days depe...   \n",
       "4  2024-09-27 22:59:17  2 million with a paid off house so stressful t...   \n",
       "\n",
       "   FIRE Number  Post Year  Comment Year  \n",
       "0 1,500,000.00       2024          2024  \n",
       "1         0.00       2024          2024  \n",
       "2 1,900,000.00       2024          2024  \n",
       "3 3,000,000.00       2024          2024  \n",
       "4 2,000,000.00       2024          2024  "
      ]
     },
     "execution_count": 79,
     "metadata": {},
     "output_type": "execute_result"
    }
   ],
   "source": [
    "# Display the first few rows of the DataFrame\n",
    "#print(\"FIRE Dataframe\\n\")\n",
    "fire_df.head()\n",
    "#print()\n",
    "\n",
    "# Print general information about the DataFrame with a proper newline\n",
    "#print(\"FIRE DataFrame General Info\\n\")\n",
    "#print(fire_df.info())"
   ]
  },
  {
   "cell_type": "markdown",
   "metadata": {
    "id": "RUGlwknIa9gV"
   },
   "source": [
    "### Graph number of posts by year"
   ]
  },
  {
   "cell_type": "code",
   "execution_count": 80,
   "metadata": {
    "id": "WRLjs18ta9gV",
    "outputId": "cb449d91-942a-4dd5-c16d-bb0c89a6c521"
   },
   "outputs": [
    {
     "data": {
      "image/png": "[encoded data removed]",
      "text/plain": [
       "<Figure size 1000x600 with 1 Axes>"
      ]
     },
     "metadata": {},
     "output_type": "display_data"
    }
   ],
   "source": [
    "post_counts_by_year = fire_df.groupby('Post Year').size()\n",
    "plt.figure(figsize=(10, 6))\n",
    "post_counts_by_year.plot(kind='bar')\n",
    "plt.title('Number of Posts by Year')\n",
    "plt.xlabel('Year')\n",
    "plt.ylabel('Number of Posts')\n",
    "plt.xticks(rotation=45)\n",
    "plt.show()"
   ]
  },
  {
   "cell_type": "markdown",
   "metadata": {
    "id": "y02E9VFYa9gW"
   },
   "source": [
    "## Descriptive Stats"
   ]
  },
  {
   "cell_type": "markdown",
   "metadata": {
    "id": "0R_cVh8Ua9gW"
   },
   "source": [
    "### Handle outliers (1.5*IQR +/- Q1|Q3 Method)"
   ]
  },
  {
   "cell_type": "code",
   "execution_count": 81,
   "metadata": {
    "id": "KViQbDf0a9gW"
   },
   "outputs": [],
   "source": [
    "def cap_outliers(series):\n",
    "    Q1 = series.quantile(0.25)\n",
    "    Q3 = series.quantile(0.75)\n",
    "    IQR = Q3 - Q1\n",
    "    lower_bound = Q1 - 1.5 * IQR\n",
    "    upper_bound = Q3 + 1.5 * IQR\n",
    "    return series.clip(lower=lower_bound, upper=upper_bound)"
   ]
  },
  {
   "cell_type": "code",
   "execution_count": 82,
   "metadata": {
    "id": "sezQlC-wa9gW"
   },
   "outputs": [],
   "source": [
    "fire_df['Capped FIRE Number'] = cap_outliers(fire_df['FIRE Number'])"
   ]
  },
  {
   "cell_type": "markdown",
   "metadata": {
    "id": "fzogp4tsa9gW"
   },
   "source": [
    "### Mean and Median FIRE number by Post Year"
   ]
  },
  {
   "cell_type": "code",
   "execution_count": 83,
   "metadata": {
    "id": "uRf_V37pa9gW",
    "outputId": "9edbb12c-43e7-467f-93ff-ef2b09dda974"
   },
   "outputs": [
    {
     "data": {
      "text/html": [
       "<div>\n",
       "<style scoped>\n",
       "    .dataframe tbody tr th:only-of-type {\n",
       "        vertical-align: middle;\n",
       "    }\n",
       "\n",
       "    .dataframe tbody tr th {\n",
       "        vertical-align: top;\n",
       "    }\n",
       "\n",
       "    .dataframe thead th {\n",
       "        text-align: right;\n",
       "    }\n",
       "</style>\n",
       "<table border=\"1\" class=\"dataframe\">\n",
       "  <thead>\n",
       "    <tr style=\"text-align: right;\">\n",
       "      <th></th>\n",
       "      <th>Mean FIRE</th>\n",
       "      <th>Median FIRE</th>\n",
       "    </tr>\n",
       "    <tr>\n",
       "      <th>Post Year</th>\n",
       "      <th></th>\n",
       "      <th></th>\n",
       "    </tr>\n",
       "  </thead>\n",
       "  <tbody>\n",
       "    <tr>\n",
       "      <th>2021</th>\n",
       "      <td>2,461,520.27</td>\n",
       "      <td>2,000,000.00</td>\n",
       "    </tr>\n",
       "    <tr>\n",
       "      <th>2022</th>\n",
       "      <td>1,111,925.93</td>\n",
       "      <td>0.00</td>\n",
       "    </tr>\n",
       "    <tr>\n",
       "      <th>2023</th>\n",
       "      <td>2,338,184.62</td>\n",
       "      <td>1,700,000.00</td>\n",
       "    </tr>\n",
       "    <tr>\n",
       "      <th>2024</th>\n",
       "      <td>2,173,651.79</td>\n",
       "      <td>1,550,000.00</td>\n",
       "    </tr>\n",
       "  </tbody>\n",
       "</table>\n",
       "</div>"
      ],
      "text/plain": [
       "             Mean FIRE  Median FIRE\n",
       "Post Year                          \n",
       "2021      2,461,520.27 2,000,000.00\n",
       "2022      1,111,925.93         0.00\n",
       "2023      2,338,184.62 1,700,000.00\n",
       "2024      2,173,651.79 1,550,000.00"
      ]
     },
     "execution_count": 83,
     "metadata": {},
     "output_type": "execute_result"
    }
   ],
   "source": [
    "mean_fire_by_post_year = fire_df.groupby('Post Year')['Capped FIRE Number'].mean()\n",
    "median_fire_by_post_year = fire_df.groupby('Post Year')['Capped FIRE Number'].median()\n",
    "fire_stats_by_post_year = pd.DataFrame({\n",
    "    'Mean FIRE': mean_fire_by_post_year,\n",
    "    'Median FIRE': median_fire_by_post_year\n",
    "})\n",
    "pd.options.display.float_format = '{:,.2f}'.format\n",
    "fire_stats_by_post_year"
   ]
  },
  {
   "cell_type": "markdown",
   "metadata": {
    "id": "5LQSWCsia9gW"
   },
   "source": [
    "### Mean and Median FIRE number by Comment Year"
   ]
  },
  {
   "cell_type": "code",
   "execution_count": 84,
   "metadata": {
    "id": "qmG-9O7La9gW",
    "outputId": "68ffa4fb-0f37-479a-e6de-4b94538d99c0"
   },
   "outputs": [
    {
     "data": {
      "text/html": [
       "<div>\n",
       "<style scoped>\n",
       "    .dataframe tbody tr th:only-of-type {\n",
       "        vertical-align: middle;\n",
       "    }\n",
       "\n",
       "    .dataframe tbody tr th {\n",
       "        vertical-align: top;\n",
       "    }\n",
       "\n",
       "    .dataframe thead th {\n",
       "        text-align: right;\n",
       "    }\n",
       "</style>\n",
       "<table border=\"1\" class=\"dataframe\">\n",
       "  <thead>\n",
       "    <tr style=\"text-align: right;\">\n",
       "      <th></th>\n",
       "      <th>Mean FIRE</th>\n",
       "      <th>Median FIRE</th>\n",
       "    </tr>\n",
       "    <tr>\n",
       "      <th>Comment Year</th>\n",
       "      <th></th>\n",
       "      <th></th>\n",
       "    </tr>\n",
       "  </thead>\n",
       "  <tbody>\n",
       "    <tr>\n",
       "      <th>2021</th>\n",
       "      <td>2,451,054.42</td>\n",
       "      <td>2,000,000.00</td>\n",
       "    </tr>\n",
       "    <tr>\n",
       "      <th>2022</th>\n",
       "      <td>1,111,925.93</td>\n",
       "      <td>0.00</td>\n",
       "    </tr>\n",
       "    <tr>\n",
       "      <th>2023</th>\n",
       "      <td>2,370,031.25</td>\n",
       "      <td>1,850,000.00</td>\n",
       "    </tr>\n",
       "    <tr>\n",
       "      <th>2024</th>\n",
       "      <td>2,173,236.84</td>\n",
       "      <td>1,550,000.00</td>\n",
       "    </tr>\n",
       "  </tbody>\n",
       "</table>\n",
       "</div>"
      ],
      "text/plain": [
       "                Mean FIRE  Median FIRE\n",
       "Comment Year                          \n",
       "2021         2,451,054.42 2,000,000.00\n",
       "2022         1,111,925.93         0.00\n",
       "2023         2,370,031.25 1,850,000.00\n",
       "2024         2,173,236.84 1,550,000.00"
      ]
     },
     "execution_count": 84,
     "metadata": {},
     "output_type": "execute_result"
    }
   ],
   "source": [
    "mean_fire_by_comment_year = fire_df.groupby('Comment Year')['Capped FIRE Number'].mean()\n",
    "median_fire_by_comment_year = fire_df.groupby('Comment Year')['Capped FIRE Number'].median()\n",
    "fire_stats_by_comment_year = pd.DataFrame({\n",
    "    'Mean FIRE': mean_fire_by_comment_year,\n",
    "    'Median FIRE': median_fire_by_comment_year\n",
    "})\n",
    "pd.options.display.float_format = '{:,.2f}'.format\n",
    "fire_stats_by_comment_year"
   ]
  },
  {
   "cell_type": "markdown",
   "metadata": {
    "id": "FFWfDVgBY5B1"
   },
   "source": [
    "### Create CountVectorizer matrix for the cleaned comments"
   ]
  },
  {
   "cell_type": "code",
   "execution_count": 85,
   "metadata": {
    "id": "ZZIhBW_9Y5B1"
   },
   "outputs": [],
   "source": [
    "vectorizer_ct = CountVectorizer(stop_words='english')\n",
    "X_ct = vectorizer_ct.fit_transform(fire_df['Cleaned Comment'])"
   ]
  },
  {
   "cell_type": "markdown",
   "metadata": {
    "id": "TmTvoqbBY5B1"
   },
   "source": [
    "### Create Term Frequency - Inverse Document Frequency scored vectors"
   ]
  },
  {
   "cell_type": "code",
   "execution_count": 86,
   "metadata": {
    "id": "xVoudGrAY5B1"
   },
   "outputs": [],
   "source": [
    "vectorizer_tfidf = TfidfVectorizer(stop_words='english', max_features=1000) # Cap the size for memory\n",
    "X_tfidf = vectorizer_tfidf.fit_transform(fire_df['Cleaned Comment'])"
   ]
  },
  {
   "cell_type": "code",
   "execution_count": 87,
   "metadata": {},
   "outputs": [],
   "source": [
    "# Save the CountVectorizer to a file\n",
    "\n",
    "with open('vectorizer_ct.pkl', 'wb') as f:\n",
    "    pickle.dump(vectorizer_ct, f)"
   ]
  },
  {
   "cell_type": "code",
   "execution_count": 88,
   "metadata": {},
   "outputs": [],
   "source": [
    "# Save the TfidfVectorizer to a file\n",
    "with open('vectorizer_tfidf.pkl', 'wb') as f:\n",
    "    pickle.dump(vectorizer_tfidf, f)"
   ]
  },
  {
   "cell_type": "code",
   "execution_count": 89,
   "metadata": {},
   "outputs": [],
   "source": [
    "# Save the CountVectorizer to a file\n",
    "with open('vectorizer_ct.pkl', 'rb') as f:\n",
    "    vectorizer_ct = pickle.load(f)\n",
    "\n",
    "with open('vectorizer_tfidf.pkl', 'rb') as f:\n",
    "    vectorizer_tfidf = pickle.load(f)\n"
   ]
  },
  {
   "cell_type": "markdown",
   "metadata": {
    "id": "aGVXY5VjzzLF",
    "jp-MarkdownHeadingCollapsed": true
   },
   "source": [
    "## Exploratory Data Analysis"
   ]
  },
  {
   "cell_type": "code",
   "execution_count": null,
   "metadata": {
    "id": "gnD4Njcfz19w"
   },
   "outputs": [],
   "source": []
  },
  {
   "cell_type": "code",
   "execution_count": null,
   "metadata": {
    "id": "2zDWXueDz2OT"
   },
   "outputs": [],
   "source": []
  },
  {
   "cell_type": "markdown",
   "metadata": {
    "id": "whSTLV6cx5n8"
   },
   "source": [
    "# Model Development"
   ]
  },
  {
   "cell_type": "markdown",
   "metadata": {
    "id": "OWzzmb7wyh18"
   },
   "source": [
    "## Topic Modeling"
   ]
  },
  {
   "cell_type": "markdown",
   "metadata": {
    "id": "qBSpIYXYY5B2"
   },
   "source": [
    "### Latent Dirichlet Allocation"
   ]
  },
  {
   "cell_type": "code",
   "execution_count": 90,
   "metadata": {
    "id": "acv2VS3wx9q8",
    "outputId": "c406dee6-f40e-4b69-8c6b-64abc30c365c"
   },
   "outputs": [
    {
     "data": {
      "text/html": [
       "<style>#sk-container-id-3 {color: black;background-color: white;}#sk-container-id-3 pre{padding: 0;}#sk-container-id-3 div.sk-toggleable {background-color: white;}#sk-container-id-3 label.sk-toggleable__label {cursor: pointer;display: block;width: 100%;margin-bottom: 0;padding: 0.3em;box-sizing: border-box;text-align: center;}#sk-container-id-3 label.sk-toggleable__label-arrow:before {content: \"▸\";float: left;margin-right: 0.25em;color: #696969;}#sk-container-id-3 label.sk-toggleable__label-arrow:hover:before {color: black;}#sk-container-id-3 div.sk-estimator:hover label.sk-toggleable__label-arrow:before {color: black;}#sk-container-id-3 div.sk-toggleable__content {max-height: 0;max-width: 0;overflow: hidden;text-align: left;background-color: #f0f8ff;}#sk-container-id-3 div.sk-toggleable__content pre {margin: 0.2em;color: black;border-radius: 0.25em;background-color: #f0f8ff;}#sk-container-id-3 input.sk-toggleable__control:checked~div.sk-toggleable__content {max-height: 200px;max-width: 100%;overflow: auto;}#sk-container-id-3 input.sk-toggleable__control:checked~label.sk-toggleable__label-arrow:before {content: \"▾\";}#sk-container-id-3 div.sk-estimator input.sk-toggleable__control:checked~label.sk-toggleable__label {background-color: #d4ebff;}#sk-container-id-3 div.sk-label input.sk-toggleable__control:checked~label.sk-toggleable__label {background-color: #d4ebff;}#sk-container-id-3 input.sk-hidden--visually {border: 0;clip: rect(1px 1px 1px 1px);clip: rect(1px, 1px, 1px, 1px);height: 1px;margin: -1px;overflow: hidden;padding: 0;position: absolute;width: 1px;}#sk-container-id-3 div.sk-estimator {font-family: monospace;background-color: #f0f8ff;border: 1px dotted black;border-radius: 0.25em;box-sizing: border-box;margin-bottom: 0.5em;}#sk-container-id-3 div.sk-estimator:hover {background-color: #d4ebff;}#sk-container-id-3 div.sk-parallel-item::after {content: \"\";width: 100%;border-bottom: 1px solid gray;flex-grow: 1;}#sk-container-id-3 div.sk-label:hover label.sk-toggleable__label {background-color: #d4ebff;}#sk-container-id-3 div.sk-serial::before {content: \"\";position: absolute;border-left: 1px solid gray;box-sizing: border-box;top: 0;bottom: 0;left: 50%;z-index: 0;}#sk-container-id-3 div.sk-serial {display: flex;flex-direction: column;align-items: center;background-color: white;padding-right: 0.2em;padding-left: 0.2em;position: relative;}#sk-container-id-3 div.sk-item {position: relative;z-index: 1;}#sk-container-id-3 div.sk-parallel {display: flex;align-items: stretch;justify-content: center;background-color: white;position: relative;}#sk-container-id-3 div.sk-item::before, #sk-container-id-3 div.sk-parallel-item::before {content: \"\";position: absolute;border-left: 1px solid gray;box-sizing: border-box;top: 0;bottom: 0;left: 50%;z-index: -1;}#sk-container-id-3 div.sk-parallel-item {display: flex;flex-direction: column;z-index: 1;position: relative;background-color: white;}#sk-container-id-3 div.sk-parallel-item:first-child::after {align-self: flex-end;width: 50%;}#sk-container-id-3 div.sk-parallel-item:last-child::after {align-self: flex-start;width: 50%;}#sk-container-id-3 div.sk-parallel-item:only-child::after {width: 0;}#sk-container-id-3 div.sk-dashed-wrapped {border: 1px dashed gray;margin: 0 0.4em 0.5em 0.4em;box-sizing: border-box;padding-bottom: 0.4em;background-color: white;}#sk-container-id-3 div.sk-label label {font-family: monospace;font-weight: bold;display: inline-block;line-height: 1.2em;}#sk-container-id-3 div.sk-label-container {text-align: center;}#sk-container-id-3 div.sk-container {/* jupyter's `normalize.less` sets `[hidden] { display: none; }` but bootstrap.min.css set `[hidden] { display: none !important; }` so we also need the `!important` here to be able to override the default hidden behavior on the sphinx rendered scikit-learn.org. See: https://github.com/scikit-learn/scikit-learn/issues/21755 */display: inline-block !important;position: relative;}#sk-container-id-3 div.sk-text-repr-fallback {display: none;}</style><div id=\"sk-container-id-3\" class=\"sk-top-container\"><div class=\"sk-text-repr-fallback\"><pre>LatentDirichletAllocation(n_components=5, random_state=509)</pre><b>In a Jupyter environment, please rerun this cell to show the HTML representation or trust the notebook. <br />On GitHub, the HTML representation is unable to render, please try loading this page with nbviewer.org.</b></div><div class=\"sk-container\" hidden><div class=\"sk-item\"><div class=\"sk-estimator sk-toggleable\"><input class=\"sk-toggleable__control sk-hidden--visually\" id=\"sk-estimator-id-3\" type=\"checkbox\" checked><label for=\"sk-estimator-id-3\" class=\"sk-toggleable__label sk-toggleable__label-arrow\">LatentDirichletAllocation</label><div class=\"sk-toggleable__content\"><pre>LatentDirichletAllocation(n_components=5, random_state=509)</pre></div></div></div></div></div>"
      ],
      "text/plain": [
       "LatentDirichletAllocation(n_components=5, random_state=509)"
      ]
     },
     "execution_count": 90,
     "metadata": {},
     "output_type": "execute_result"
    }
   ],
   "source": [
    "lda = LatentDirichletAllocation(n_components=5, random_state=509)\n",
    "lda.fit(X_ct)"
   ]
  },
  {
   "cell_type": "markdown",
   "metadata": {
    "id": "OyuWvGe3Y5B2"
   },
   "source": [
    "#### Examine topics from LDA at n=5 topics (arbritrary)"
   ]
  },
  {
   "cell_type": "code",
   "execution_count": 91,
   "metadata": {
    "id": "CIiV3Do_x9_6"
   },
   "outputs": [],
   "source": [
    "def display_topics(model, feature_names, num_top_words):\n",
    "    for topic_idx, topic in enumerate(model.components_):\n",
    "        print(f\"Topic {topic_idx}:\")\n",
    "\n",
    "        #For each topic, go through index i and retrieve word from that location\n",
    "        #Topic is a vector of weights of each word for a given topic (higher = more important)\n",
    "        #argsort() return indices of elements in topic in ascending importance\n",
    "        #:-num_top_words - 1 = Start from last element -1 and move back num_top_words positions\n",
    "        # --- This is to remove the lesser important words for interpretation purposes\n",
    "        # -1 reverse order so it's descending now that noisy words are removed.\n",
    "        print(\" \".join([feature_names[i] for i in topic.argsort()[:-num_top_words - 1:-1]]))"
   ]
  },
  {
   "cell_type": "code",
   "execution_count": 92,
   "metadata": {
    "id": "W3nXwVFPY5B2",
    "outputId": "740bff68-5182-4495-d458-56c04283a143"
   },
   "outputs": [
    {
     "name": "stdout",
     "output_type": "stream",
     "text": [
      "Topic 0:\n",
      "million thousand years income just number im expenses live want\n",
      "Topic 1:\n",
      "million kids area hcol like im number good live time\n",
      "Topic 2:\n",
      "million life im number kids need job live dont family\n",
      "Topic 3:\n",
      "million week thousand long best spending costs lot dont plan\n",
      "Topic 4:\n",
      "million thousand house paid years im number live want ill\n"
     ]
    }
   ],
   "source": [
    "feature_names_lda = vectorizer_ct.get_feature_names_out()\n",
    "num_top_words = 10\n",
    "display_topics(lda, feature_names_lda, num_top_words)"
   ]
  },
  {
   "cell_type": "markdown",
   "metadata": {
    "id": "Mtn10MngY5B2"
   },
   "source": [
    "#### Result\n",
    "Selecting n_components=5 might not be the correct number of topics to be able to clearly separate words into themes. Need to try another topic number."
   ]
  },
  {
   "cell_type": "markdown",
   "metadata": {
    "id": "lP_Z_3UIY5B2"
   },
   "source": [
    "### Retry LDA with n_components=8"
   ]
  },
  {
   "cell_type": "code",
   "execution_count": 93,
   "metadata": {
    "id": "rUAPntZ4Y5B2",
    "outputId": "1074db23-51e7-4fb6-a2cc-07dae71e54d5"
   },
   "outputs": [
    {
     "name": "stdout",
     "output_type": "stream",
     "text": [
      "Topic 0:\n",
      "million thousand income pension live just number retirement people need\n",
      "Topic 1:\n",
      "million thousand im kids years time number travel dont home\n",
      "Topic 2:\n",
      "million job im thousand dont number stay work years currently\n",
      "Topic 3:\n",
      "thousand travel trip work ill million week lot rate time\n",
      "Topic 4:\n",
      "million thousand number cash years want house im net live\n",
      "Topic 5:\n",
      "live area hcol im like house paid good family thousand\n",
      "Topic 6:\n",
      "million number expenses im house dont need paid life probably\n",
      "Topic 7:\n",
      "million house years paid thousand 10 im mortgage ill retire\n"
     ]
    }
   ],
   "source": [
    "lda = LatentDirichletAllocation(n_components=8, random_state=509)\n",
    "lda.fit(X_ct)\n",
    "feature_names_lda = vectorizer_ct.get_feature_names_out()\n",
    "num_top_words = 10\n",
    "display_topics(lda, feature_names_lda, num_top_words)"
   ]
  },
  {
   "cell_type": "markdown",
   "metadata": {},
   "source": [
    "This code below trains an LDA model and then saves both the model and the vectorizer to separate files so they can be reused without needing to retrain or refit."
   ]
  },
  {
   "cell_type": "code",
   "execution_count": 94,
   "metadata": {},
   "outputs": [],
   "source": [
    "# Fit the LDA model\n",
    "lda = LatentDirichletAllocation(n_components=8, random_state=509)\n",
    "lda.fit(X_ct)\n",
    "\n",
    "# Save the model to a file\n",
    "with open('lda_model.pkl', 'wb') as f:\n",
    "    pickle.dump(lda, f)\n",
    "\n",
    "# Save the vectorizer as well, if needed \n",
    "with open('vectorizer_ct.pkl', 'wb') as f:\n",
    "    pickle.dump(vectorizer_ct, f)"
   ]
  },
  {
   "cell_type": "markdown",
   "metadata": {
    "id": "n7rpiwjEY5B2"
   },
   "source": [
    "## DEPENDENCY.\n",
    "Need to find a way to import a date of post or age of post so the model below can extract some sort of time or year for a time-series chart. Else, will have to select a different groupby."
   ]
  },
  {
   "cell_type": "markdown",
   "metadata": {
    "id": "jlph2UdiyoDb"
   },
   "source": [
    "### Sentiment Analysis with VaderSentiment\n",
    "\n",
    "Reference\n",
    "\n",
    "Hutto, C. J., Klein, E., Pantone, P., Berry, G., & Suresh, M. (2024, August 19). Documentation source code for nltk.sentiment.vader. https://www.nltk.org/_modules/nltk/sentiment/vader.html"
   ]
  },
  {
   "cell_type": "code",
   "execution_count": 95,
   "metadata": {
    "id": "ujsFG-jxY5B2"
   },
   "outputs": [],
   "source": [
    "#nltk.download('vader_lexicon')"
   ]
  },
  {
   "cell_type": "code",
   "execution_count": 96,
   "metadata": {
    "id": "lGPDOUYiyxEQ"
   },
   "outputs": [],
   "source": [
    "analyzer = SentimentIntensityAnalyzer() # Intialize the analyzer as object"
   ]
  },
  {
   "cell_type": "code",
   "execution_count": 97,
   "metadata": {
    "id": "OHpvXG25Y5B3"
   },
   "outputs": [],
   "source": [
    "def get_sentiment_score(comment):\n",
    "    scores = analyzer.polarity_scores(comment)\n",
    "    return pd.Series([scores['neg'], scores['neu'], scores['pos'], scores['compound']],\n",
    "                    index=['Negative', 'Neutral', 'Positive', 'Compound'])"
   ]
  },
  {
   "cell_type": "code",
   "execution_count": 98,
   "metadata": {
    "id": "INc9LHvDyxVr"
   },
   "outputs": [],
   "source": [
    "fire_df[['Negative', 'Neutral', 'Positive', 'Compound']] = fire_df['Cleaned Comment'].apply(get_sentiment_score)"
   ]
  },
  {
   "cell_type": "code",
   "execution_count": 99,
   "metadata": {
    "id": "Jg4P7_ZfY5B3",
    "outputId": "f6a6f224-e318-4923-dfc4-0f0305295ca3"
   },
   "outputs": [
    {
     "data": {
      "text/html": [
       "<div>\n",
       "<style scoped>\n",
       "    .dataframe tbody tr th:only-of-type {\n",
       "        vertical-align: middle;\n",
       "    }\n",
       "\n",
       "    .dataframe tbody tr th {\n",
       "        vertical-align: top;\n",
       "    }\n",
       "\n",
       "    .dataframe thead th {\n",
       "        text-align: right;\n",
       "    }\n",
       "</style>\n",
       "<table border=\"1\" class=\"dataframe\">\n",
       "  <thead>\n",
       "    <tr style=\"text-align: right;\">\n",
       "      <th></th>\n",
       "      <th>Cleaned Comment</th>\n",
       "      <th>Negative</th>\n",
       "      <th>Neutral</th>\n",
       "      <th>Positive</th>\n",
       "      <th>Compound</th>\n",
       "      <th>FIRE Number</th>\n",
       "    </tr>\n",
       "  </thead>\n",
       "  <tbody>\n",
       "    <tr>\n",
       "      <th>0</th>\n",
       "      <td>1.5 million with paid off houses</td>\n",
       "      <td>0.00</td>\n",
       "      <td>1.00</td>\n",
       "      <td>0.00</td>\n",
       "      <td>0.00</td>\n",
       "      <td>1,500,000.00</td>\n",
       "    </tr>\n",
       "    <tr>\n",
       "      <th>1</th>\n",
       "      <td>im just waiting for someone to say something l...</td>\n",
       "      <td>0.17</td>\n",
       "      <td>0.83</td>\n",
       "      <td>0.00</td>\n",
       "      <td>-0.40</td>\n",
       "      <td>0.00</td>\n",
       "    </tr>\n",
       "    <tr>\n",
       "      <th>2</th>\n",
       "      <td>1.9 million targeting a few months after i tur...</td>\n",
       "      <td>0.07</td>\n",
       "      <td>0.93</td>\n",
       "      <td>0.00</td>\n",
       "      <td>-0.15</td>\n",
       "      <td>1,900,000.00</td>\n",
       "    </tr>\n",
       "    <tr>\n",
       "      <th>3</th>\n",
       "      <td>on days i hate my job 600k the other days depe...</td>\n",
       "      <td>0.17</td>\n",
       "      <td>0.83</td>\n",
       "      <td>0.00</td>\n",
       "      <td>-0.57</td>\n",
       "      <td>3,000,000.00</td>\n",
       "    </tr>\n",
       "    <tr>\n",
       "      <th>4</th>\n",
       "      <td>2 million with a paid off house so stressful t...</td>\n",
       "      <td>0.23</td>\n",
       "      <td>0.77</td>\n",
       "      <td>0.00</td>\n",
       "      <td>-0.64</td>\n",
       "      <td>2,000,000.00</td>\n",
       "    </tr>\n",
       "    <tr>\n",
       "      <th>5</th>\n",
       "      <td>our target back in 2014 was 1.2 million and a ...</td>\n",
       "      <td>0.06</td>\n",
       "      <td>0.87</td>\n",
       "      <td>0.07</td>\n",
       "      <td>-0.34</td>\n",
       "      <td>1,200,000.00</td>\n",
       "    </tr>\n",
       "    <tr>\n",
       "      <th>6</th>\n",
       "      <td>500 thousand give or take but i am not retirin...</td>\n",
       "      <td>0.00</td>\n",
       "      <td>1.00</td>\n",
       "      <td>0.00</td>\n",
       "      <td>0.00</td>\n",
       "      <td>500,000.00</td>\n",
       "    </tr>\n",
       "    <tr>\n",
       "      <th>7</th>\n",
       "      <td>i started at 1.5 million 1015 years ago now be...</td>\n",
       "      <td>0.06</td>\n",
       "      <td>0.80</td>\n",
       "      <td>0.15</td>\n",
       "      <td>0.40</td>\n",
       "      <td>1,500,000.00</td>\n",
       "    </tr>\n",
       "    <tr>\n",
       "      <th>8</th>\n",
       "      <td>re ship sailed but still working on fi house i...</td>\n",
       "      <td>0.00</td>\n",
       "      <td>0.91</td>\n",
       "      <td>0.09</td>\n",
       "      <td>0.61</td>\n",
       "      <td>4,000,000.00</td>\n",
       "    </tr>\n",
       "    <tr>\n",
       "      <th>9</th>\n",
       "      <td>funny to read all these numbers while the medi...</td>\n",
       "      <td>0.00</td>\n",
       "      <td>0.66</td>\n",
       "      <td>0.34</td>\n",
       "      <td>0.77</td>\n",
       "      <td>0.00</td>\n",
       "    </tr>\n",
       "  </tbody>\n",
       "</table>\n",
       "</div>"
      ],
      "text/plain": [
       "                                     Cleaned Comment  Negative  Neutral  \\\n",
       "0                   1.5 million with paid off houses      0.00     1.00   \n",
       "1  im just waiting for someone to say something l...      0.17     0.83   \n",
       "2  1.9 million targeting a few months after i tur...      0.07     0.93   \n",
       "3  on days i hate my job 600k the other days depe...      0.17     0.83   \n",
       "4  2 million with a paid off house so stressful t...      0.23     0.77   \n",
       "5  our target back in 2014 was 1.2 million and a ...      0.06     0.87   \n",
       "6  500 thousand give or take but i am not retirin...      0.00     1.00   \n",
       "7  i started at 1.5 million 1015 years ago now be...      0.06     0.80   \n",
       "8  re ship sailed but still working on fi house i...      0.00     0.91   \n",
       "9  funny to read all these numbers while the medi...      0.00     0.66   \n",
       "\n",
       "   Positive  Compound  FIRE Number  \n",
       "0      0.00      0.00 1,500,000.00  \n",
       "1      0.00     -0.40         0.00  \n",
       "2      0.00     -0.15 1,900,000.00  \n",
       "3      0.00     -0.57 3,000,000.00  \n",
       "4      0.00     -0.64 2,000,000.00  \n",
       "5      0.07     -0.34 1,200,000.00  \n",
       "6      0.00      0.00   500,000.00  \n",
       "7      0.15      0.40 1,500,000.00  \n",
       "8      0.09      0.61 4,000,000.00  \n",
       "9      0.34      0.77         0.00  "
      ]
     },
     "execution_count": 99,
     "metadata": {},
     "output_type": "execute_result"
    }
   ],
   "source": [
    "fire_df[['Cleaned Comment', 'Negative', 'Neutral', 'Positive', 'Compound', 'FIRE Number']].head(10)"
   ]
  },
  {
   "cell_type": "markdown",
   "metadata": {
    "id": "qOom23UcY5B3"
   },
   "source": [
    "### OPTIONAL:GROUPBY ANALYSIS, which requires additional JSON features to be pulled into CSV"
   ]
  },
  {
   "cell_type": "code",
   "execution_count": 100,
   "metadata": {
    "id": "nMbdGY3ra9gY",
    "outputId": "b0e5f498-2783-48c8-aa09-e1355dd1da1a"
   },
   "outputs": [
    {
     "data": {
      "text/plain": [
       "Index(['Thread ID', 'Title', 'User', 'Comment', 'Post Time', 'Comment Time',\n",
       "       'Cleaned Comment', 'FIRE Number', 'Post Year', 'Comment Year',\n",
       "       'Capped FIRE Number', 'Negative', 'Neutral', 'Positive', 'Compound'],\n",
       "      dtype='object')"
      ]
     },
     "execution_count": 100,
     "metadata": {},
     "output_type": "execute_result"
    }
   ],
   "source": [
    "fire_df.columns"
   ]
  },
  {
   "cell_type": "code",
   "execution_count": 101,
   "metadata": {
    "id": "dSA-Rf-UY5B3",
    "outputId": "3d628b70-addb-4c36-a2e9-848e41242948"
   },
   "outputs": [
    {
     "data": {
      "text/html": [
       "<div>\n",
       "<style scoped>\n",
       "    .dataframe tbody tr th:only-of-type {\n",
       "        vertical-align: middle;\n",
       "    }\n",
       "\n",
       "    .dataframe tbody tr th {\n",
       "        vertical-align: top;\n",
       "    }\n",
       "\n",
       "    .dataframe thead th {\n",
       "        text-align: right;\n",
       "    }\n",
       "</style>\n",
       "<table border=\"1\" class=\"dataframe\">\n",
       "  <thead>\n",
       "    <tr style=\"text-align: right;\">\n",
       "      <th></th>\n",
       "      <th>Negative</th>\n",
       "      <th>Neutral</th>\n",
       "      <th>Positive</th>\n",
       "      <th>Compound</th>\n",
       "      <th>Mean FIRE</th>\n",
       "      <th>Median FIRE</th>\n",
       "    </tr>\n",
       "    <tr>\n",
       "      <th>Comment Year</th>\n",
       "      <th></th>\n",
       "      <th></th>\n",
       "      <th></th>\n",
       "      <th></th>\n",
       "      <th></th>\n",
       "      <th></th>\n",
       "    </tr>\n",
       "  </thead>\n",
       "  <tbody>\n",
       "    <tr>\n",
       "      <th>2021</th>\n",
       "      <td>0.03</td>\n",
       "      <td>0.88</td>\n",
       "      <td>0.09</td>\n",
       "      <td>0.18</td>\n",
       "      <td>2,451,054.42</td>\n",
       "      <td>2,000,000.00</td>\n",
       "    </tr>\n",
       "    <tr>\n",
       "      <th>2022</th>\n",
       "      <td>0.05</td>\n",
       "      <td>0.83</td>\n",
       "      <td>0.12</td>\n",
       "      <td>0.28</td>\n",
       "      <td>1,111,925.93</td>\n",
       "      <td>0.00</td>\n",
       "    </tr>\n",
       "    <tr>\n",
       "      <th>2023</th>\n",
       "      <td>0.06</td>\n",
       "      <td>0.89</td>\n",
       "      <td>0.05</td>\n",
       "      <td>-0.01</td>\n",
       "      <td>2,370,031.25</td>\n",
       "      <td>1,850,000.00</td>\n",
       "    </tr>\n",
       "    <tr>\n",
       "      <th>2024</th>\n",
       "      <td>0.05</td>\n",
       "      <td>0.89</td>\n",
       "      <td>0.06</td>\n",
       "      <td>0.02</td>\n",
       "      <td>2,173,236.84</td>\n",
       "      <td>1,550,000.00</td>\n",
       "    </tr>\n",
       "  </tbody>\n",
       "</table>\n",
       "</div>"
      ],
      "text/plain": [
       "              Negative  Neutral  Positive  Compound    Mean FIRE  Median FIRE\n",
       "Comment Year                                                                 \n",
       "2021              0.03     0.88      0.09      0.18 2,451,054.42 2,000,000.00\n",
       "2022              0.05     0.83      0.12      0.28 1,111,925.93         0.00\n",
       "2023              0.06     0.89      0.05     -0.01 2,370,031.25 1,850,000.00\n",
       "2024              0.05     0.89      0.06      0.02 2,173,236.84 1,550,000.00"
      ]
     },
     "execution_count": 101,
     "metadata": {},
     "output_type": "execute_result"
    }
   ],
   "source": [
    "sentiment_by_year = fire_df.groupby('Comment Year')[['Negative', 'Neutral', 'Positive', 'Compound']].mean()\n",
    "sentiment_by_year_plus_fire = pd.merge(sentiment_by_year,\n",
    "                                       fire_stats_by_comment_year,\n",
    "                                       left_index=True,\n",
    "                                       right_index=True)\n",
    "sentiment_by_year_plus_fire"
   ]
  },
  {
   "cell_type": "code",
   "execution_count": 102,
   "metadata": {
    "id": "hVSNoT8Ca9gY",
    "outputId": "3b54d5bf-3148-4813-897c-cf6361f51ecd"
   },
   "outputs": [
    {
     "data": {
      "image/png": "[encoded data removed]",
      "text/plain": [
       "<Figure size 1000x600 with 2 Axes>"
      ]
     },
     "metadata": {},
     "output_type": "display_data"
    }
   ],
   "source": [
    "year_pearson = sentiment_by_year_plus_fire.corr(method='pearson')\n",
    "plt.figure(figsize=(10, 6))\n",
    "sns.heatmap(year_pearson, annot=True, cmap='coolwarm')\n",
    "plt.title('Correlation Heatmap of Sentiment Scores')\n",
    "plt.show()"
   ]
  },
  {
   "cell_type": "markdown",
   "metadata": {
    "id": "grXm53y9a9gY"
   },
   "source": [
    "#### Interpretation\n",
    "\n",
    "Sentiment analysis appears to show that 2022 was especially positive using text comments whereas 2023 was the only net negative year. This tracks with the US inflation crisis that occured over this period. Interestingly, there is a strong negative correlation between mean and median FIRE number and positive sentiment. This may be due to optimism that the purchasing power of the currency in question is sufficient for retirement purposes."
   ]
  },
  {
   "cell_type": "code",
   "execution_count": 103,
   "metadata": {
    "id": "OLe2yhQvY5B3",
    "outputId": "9a248dd8-d9f5-4ef7-9d2a-3206184b5cd4"
   },
   "outputs": [
    {
     "name": "stderr",
     "output_type": "stream",
     "text": [
      "No artists with labels found to put in legend.  Note that artists whose label start with an underscore are ignored when legend() is called with no argument.\n"
     ]
    },
    {
     "data": {
      "image/png": "[encoded data removed]",
      "text/plain": [
       "<Figure size 1000x600 with 1 Axes>"
      ]
     },
     "metadata": {},
     "output_type": "display_data"
    }
   ],
   "source": [
    "plt.figure(figsize=(10, 6))\n",
    "plt.plot(sentiment_by_year.index, sentiment_by_year['Compound'], marker='o')\n",
    "plt.title('Sentiment Analysis Over Time')\n",
    "plt.xlabel('Year')\n",
    "plt.ylabel('Compound Sentiment Score')\n",
    "plt.grid(True)\n",
    "plt.legend()\n",
    "plt.show()"
   ]
  },
  {
   "cell_type": "markdown",
   "metadata": {
    "id": "c-rWXXCmY5B3"
   },
   "source": [
    "### Latent Semantic Analysis"
   ]
  },
  {
   "cell_type": "code",
   "execution_count": 104,
   "metadata": {
    "id": "wI1DOuO2Y5B3"
   },
   "outputs": [],
   "source": [
    "n_topics = 5\n",
    "lsa = TruncatedSVD(n_components=n_topics, random_state=509) # Initialize model\n",
    "lsa_topic_matrix = lsa.fit_transform(X_tfidf) # Fit and transform for latent topics"
   ]
  },
  {
   "cell_type": "code",
   "execution_count": 105,
   "metadata": {
    "id": "GdBQKp2uY5B3"
   },
   "outputs": [],
   "source": [
    "feature_names_tfidf = vectorizer_tfidf.get_feature_names_out()"
   ]
  },
  {
   "cell_type": "code",
   "execution_count": 106,
   "metadata": {
    "id": "9Wz1t6erY5B3",
    "outputId": "2fd1c704-edf4-4cbb-bcd7-3f7b64000cbc"
   },
   "outputs": [
    {
     "name": "stdout",
     "output_type": "stream",
     "text": [
      "Topic 0:\n",
      "million house paid 10 thousand kids years im live liquid\n",
      "Topic 1:\n",
      "deleted pension 45 55 im 50 roughly probably age going\n",
      "Topic 2:\n",
      "million 10 5055 33 40 germany div ski million3 19\n",
      "Topic 3:\n",
      "house paid plus kid 53 45 fat 65 mcol 75\n",
      "Topic 4:\n",
      "thousand 500 cash month mortgage 800 50 debt income expenses\n"
     ]
    }
   ],
   "source": [
    "display_topics(lsa, feature_names_tfidf, num_top_words) # Show top 10 words for each topic"
   ]
  },
  {
   "cell_type": "markdown",
   "metadata": {
    "id": "ajjbsZEdY5B3"
   },
   "source": [
    "#### Show results\n",
    "Row = score representing relevance of topic to the clean_comment"
   ]
  },
  {
   "cell_type": "code",
   "execution_count": 107,
   "metadata": {
    "id": "l9BjM8dNY5B3",
    "outputId": "fe46d6b5-c6e4-4415-e647-bb2159232a8c"
   },
   "outputs": [
    {
     "data": {
      "text/html": [
       "<div>\n",
       "<style scoped>\n",
       "    .dataframe tbody tr th:only-of-type {\n",
       "        vertical-align: middle;\n",
       "    }\n",
       "\n",
       "    .dataframe tbody tr th {\n",
       "        vertical-align: top;\n",
       "    }\n",
       "\n",
       "    .dataframe thead th {\n",
       "        text-align: right;\n",
       "    }\n",
       "</style>\n",
       "<table border=\"1\" class=\"dataframe\">\n",
       "  <thead>\n",
       "    <tr style=\"text-align: right;\">\n",
       "      <th></th>\n",
       "      <th>Cleaned Comment</th>\n",
       "      <th>Topic 0</th>\n",
       "      <th>Topic 1</th>\n",
       "      <th>Topic 2</th>\n",
       "      <th>Topic 3</th>\n",
       "      <th>Topic 4</th>\n",
       "    </tr>\n",
       "  </thead>\n",
       "  <tbody>\n",
       "    <tr>\n",
       "      <th>0</th>\n",
       "      <td>1.5 million with paid off houses</td>\n",
       "      <td>0.28</td>\n",
       "      <td>-0.00</td>\n",
       "      <td>0.00</td>\n",
       "      <td>0.23</td>\n",
       "      <td>-0.02</td>\n",
       "    </tr>\n",
       "    <tr>\n",
       "      <th>1</th>\n",
       "      <td>im just waiting for someone to say something l...</td>\n",
       "      <td>0.04</td>\n",
       "      <td>0.00</td>\n",
       "      <td>-0.08</td>\n",
       "      <td>-0.07</td>\n",
       "      <td>-0.01</td>\n",
       "    </tr>\n",
       "    <tr>\n",
       "      <th>2</th>\n",
       "      <td>1.9 million targeting a few months after i tur...</td>\n",
       "      <td>0.19</td>\n",
       "      <td>0.00</td>\n",
       "      <td>-0.10</td>\n",
       "      <td>0.06</td>\n",
       "      <td>-0.01</td>\n",
       "    </tr>\n",
       "    <tr>\n",
       "      <th>3</th>\n",
       "      <td>on days i hate my job 600k the other days depe...</td>\n",
       "      <td>0.11</td>\n",
       "      <td>0.00</td>\n",
       "      <td>-0.01</td>\n",
       "      <td>-0.08</td>\n",
       "      <td>0.00</td>\n",
       "    </tr>\n",
       "    <tr>\n",
       "      <th>4</th>\n",
       "      <td>2 million with a paid off house so stressful t...</td>\n",
       "      <td>0.57</td>\n",
       "      <td>-0.00</td>\n",
       "      <td>-0.16</td>\n",
       "      <td>0.74</td>\n",
       "      <td>-0.10</td>\n",
       "    </tr>\n",
       "    <tr>\n",
       "      <th>5</th>\n",
       "      <td>our target back in 2014 was 1.2 million and a ...</td>\n",
       "      <td>0.22</td>\n",
       "      <td>0.00</td>\n",
       "      <td>-0.09</td>\n",
       "      <td>0.10</td>\n",
       "      <td>-0.06</td>\n",
       "    </tr>\n",
       "    <tr>\n",
       "      <th>6</th>\n",
       "      <td>500 thousand give or take but i am not retirin...</td>\n",
       "      <td>0.06</td>\n",
       "      <td>-0.00</td>\n",
       "      <td>-0.19</td>\n",
       "      <td>-0.03</td>\n",
       "      <td>0.37</td>\n",
       "    </tr>\n",
       "    <tr>\n",
       "      <th>7</th>\n",
       "      <td>i started at 1.5 million 1015 years ago now be...</td>\n",
       "      <td>0.36</td>\n",
       "      <td>0.00</td>\n",
       "      <td>0.09</td>\n",
       "      <td>-0.06</td>\n",
       "      <td>0.03</td>\n",
       "    </tr>\n",
       "    <tr>\n",
       "      <th>8</th>\n",
       "      <td>re ship sailed but still working on fi house i...</td>\n",
       "      <td>0.17</td>\n",
       "      <td>0.00</td>\n",
       "      <td>-0.18</td>\n",
       "      <td>0.08</td>\n",
       "      <td>0.07</td>\n",
       "    </tr>\n",
       "    <tr>\n",
       "      <th>9</th>\n",
       "      <td>funny to read all these numbers while the medi...</td>\n",
       "      <td>0.04</td>\n",
       "      <td>-0.00</td>\n",
       "      <td>-0.08</td>\n",
       "      <td>-0.05</td>\n",
       "      <td>0.04</td>\n",
       "    </tr>\n",
       "  </tbody>\n",
       "</table>\n",
       "</div>"
      ],
      "text/plain": [
       "                                     Cleaned Comment  Topic 0  Topic 1  \\\n",
       "0                   1.5 million with paid off houses     0.28    -0.00   \n",
       "1  im just waiting for someone to say something l...     0.04     0.00   \n",
       "2  1.9 million targeting a few months after i tur...     0.19     0.00   \n",
       "3  on days i hate my job 600k the other days depe...     0.11     0.00   \n",
       "4  2 million with a paid off house so stressful t...     0.57    -0.00   \n",
       "5  our target back in 2014 was 1.2 million and a ...     0.22     0.00   \n",
       "6  500 thousand give or take but i am not retirin...     0.06    -0.00   \n",
       "7  i started at 1.5 million 1015 years ago now be...     0.36     0.00   \n",
       "8  re ship sailed but still working on fi house i...     0.17     0.00   \n",
       "9  funny to read all these numbers while the medi...     0.04    -0.00   \n",
       "\n",
       "   Topic 2  Topic 3  Topic 4  \n",
       "0     0.00     0.23    -0.02  \n",
       "1    -0.08    -0.07    -0.01  \n",
       "2    -0.10     0.06    -0.01  \n",
       "3    -0.01    -0.08     0.00  \n",
       "4    -0.16     0.74    -0.10  \n",
       "5    -0.09     0.10    -0.06  \n",
       "6    -0.19    -0.03     0.37  \n",
       "7     0.09    -0.06     0.03  \n",
       "8    -0.18     0.08     0.07  \n",
       "9    -0.08    -0.05     0.04  "
      ]
     },
     "execution_count": 107,
     "metadata": {},
     "output_type": "execute_result"
    }
   ],
   "source": [
    "topics = pd.DataFrame(lsa_topic_matrix, columns=[f'Topic {i}' for i in range(n_topics)])\n",
    "comb_topics = pd.concat([fire_df, topics], axis=1)\n",
    "comb_topics[['Cleaned Comment', 'Topic 0', 'Topic 1', 'Topic 2', 'Topic 3', 'Topic 4']].head(10)"
   ]
  },
  {
   "cell_type": "markdown",
   "metadata": {
    "id": "LO0I4JwUpsj7"
   },
   "source": [
    "# Build Flask Application"
   ]
  },
  {
   "cell_type": "markdown",
   "metadata": {
    "id": "E08nLbLiyGWn"
   },
   "source": [
    "## Set-up Flask\n"
   ]
  },
  {
   "cell_type": "markdown",
   "metadata": {
    "id": "85Dh03cYsPLH"
   },
   "source": [
    "Import Packages"
   ]
  },
  {
   "cell_type": "code",
   "execution_count": 108,
   "metadata": {
    "id": "2Kck0pLtp8HG"
   },
   "outputs": [],
   "source": [
    "# Import packages\n",
    "#!pip install Flask\n",
    "#!pip install pyngrok"
   ]
  },
  {
   "cell_type": "markdown",
   "metadata": {
    "id": "gKN7u90GsTBz"
   },
   "source": [
    "Upload Libraries"
   ]
  },
  {
   "cell_type": "markdown",
   "metadata": {
    "id": "ntoJvTJNsnjf"
   },
   "source": [
    "## Simple Flask Application"
   ]
  },
  {
   "cell_type": "markdown",
   "metadata": {},
   "source": [
    "Since the numbers of features between my vectorizer and LDA model did not match, had to retrain the LDA model."
   ]
  },
  {
   "cell_type": "code",
   "execution_count": 109,
   "metadata": {},
   "outputs": [
    {
     "name": "stdout",
     "output_type": "stream",
     "text": [
      "285677\n"
     ]
    }
   ],
   "source": [
    "import os\n",
    "print(os.path.getsize('lda_model.pkl'))  # should return a non-zero value"
   ]
  },
  {
   "cell_type": "code",
   "execution_count": 110,
   "metadata": {},
   "outputs": [],
   "source": [
    "X_ct = vectorizer_ct.fit_transform(fire_df['Cleaned Comment'])"
   ]
  },
  {
   "cell_type": "code",
   "execution_count": 111,
   "metadata": {},
   "outputs": [
    {
     "data": {
      "text/html": [
       "<style>#sk-container-id-4 {color: black;background-color: white;}#sk-container-id-4 pre{padding: 0;}#sk-container-id-4 div.sk-toggleable {background-color: white;}#sk-container-id-4 label.sk-toggleable__label {cursor: pointer;display: block;width: 100%;margin-bottom: 0;padding: 0.3em;box-sizing: border-box;text-align: center;}#sk-container-id-4 label.sk-toggleable__label-arrow:before {content: \"▸\";float: left;margin-right: 0.25em;color: #696969;}#sk-container-id-4 label.sk-toggleable__label-arrow:hover:before {color: black;}#sk-container-id-4 div.sk-estimator:hover label.sk-toggleable__label-arrow:before {color: black;}#sk-container-id-4 div.sk-toggleable__content {max-height: 0;max-width: 0;overflow: hidden;text-align: left;background-color: #f0f8ff;}#sk-container-id-4 div.sk-toggleable__content pre {margin: 0.2em;color: black;border-radius: 0.25em;background-color: #f0f8ff;}#sk-container-id-4 input.sk-toggleable__control:checked~div.sk-toggleable__content {max-height: 200px;max-width: 100%;overflow: auto;}#sk-container-id-4 input.sk-toggleable__control:checked~label.sk-toggleable__label-arrow:before {content: \"▾\";}#sk-container-id-4 div.sk-estimator input.sk-toggleable__control:checked~label.sk-toggleable__label {background-color: #d4ebff;}#sk-container-id-4 div.sk-label input.sk-toggleable__control:checked~label.sk-toggleable__label {background-color: #d4ebff;}#sk-container-id-4 input.sk-hidden--visually {border: 0;clip: rect(1px 1px 1px 1px);clip: rect(1px, 1px, 1px, 1px);height: 1px;margin: -1px;overflow: hidden;padding: 0;position: absolute;width: 1px;}#sk-container-id-4 div.sk-estimator {font-family: monospace;background-color: #f0f8ff;border: 1px dotted black;border-radius: 0.25em;box-sizing: border-box;margin-bottom: 0.5em;}#sk-container-id-4 div.sk-estimator:hover {background-color: #d4ebff;}#sk-container-id-4 div.sk-parallel-item::after {content: \"\";width: 100%;border-bottom: 1px solid gray;flex-grow: 1;}#sk-container-id-4 div.sk-label:hover label.sk-toggleable__label {background-color: #d4ebff;}#sk-container-id-4 div.sk-serial::before {content: \"\";position: absolute;border-left: 1px solid gray;box-sizing: border-box;top: 0;bottom: 0;left: 50%;z-index: 0;}#sk-container-id-4 div.sk-serial {display: flex;flex-direction: column;align-items: center;background-color: white;padding-right: 0.2em;padding-left: 0.2em;position: relative;}#sk-container-id-4 div.sk-item {position: relative;z-index: 1;}#sk-container-id-4 div.sk-parallel {display: flex;align-items: stretch;justify-content: center;background-color: white;position: relative;}#sk-container-id-4 div.sk-item::before, #sk-container-id-4 div.sk-parallel-item::before {content: \"\";position: absolute;border-left: 1px solid gray;box-sizing: border-box;top: 0;bottom: 0;left: 50%;z-index: -1;}#sk-container-id-4 div.sk-parallel-item {display: flex;flex-direction: column;z-index: 1;position: relative;background-color: white;}#sk-container-id-4 div.sk-parallel-item:first-child::after {align-self: flex-end;width: 50%;}#sk-container-id-4 div.sk-parallel-item:last-child::after {align-self: flex-start;width: 50%;}#sk-container-id-4 div.sk-parallel-item:only-child::after {width: 0;}#sk-container-id-4 div.sk-dashed-wrapped {border: 1px dashed gray;margin: 0 0.4em 0.5em 0.4em;box-sizing: border-box;padding-bottom: 0.4em;background-color: white;}#sk-container-id-4 div.sk-label label {font-family: monospace;font-weight: bold;display: inline-block;line-height: 1.2em;}#sk-container-id-4 div.sk-label-container {text-align: center;}#sk-container-id-4 div.sk-container {/* jupyter's `normalize.less` sets `[hidden] { display: none; }` but bootstrap.min.css set `[hidden] { display: none !important; }` so we also need the `!important` here to be able to override the default hidden behavior on the sphinx rendered scikit-learn.org. See: https://github.com/scikit-learn/scikit-learn/issues/21755 */display: inline-block !important;position: relative;}#sk-container-id-4 div.sk-text-repr-fallback {display: none;}</style><div id=\"sk-container-id-4\" class=\"sk-top-container\"><div class=\"sk-text-repr-fallback\"><pre>LatentDirichletAllocation(n_components=5, random_state=509)</pre><b>In a Jupyter environment, please rerun this cell to show the HTML representation or trust the notebook. <br />On GitHub, the HTML representation is unable to render, please try loading this page with nbviewer.org.</b></div><div class=\"sk-container\" hidden><div class=\"sk-item\"><div class=\"sk-estimator sk-toggleable\"><input class=\"sk-toggleable__control sk-hidden--visually\" id=\"sk-estimator-id-4\" type=\"checkbox\" checked><label for=\"sk-estimator-id-4\" class=\"sk-toggleable__label sk-toggleable__label-arrow\">LatentDirichletAllocation</label><div class=\"sk-toggleable__content\"><pre>LatentDirichletAllocation(n_components=5, random_state=509)</pre></div></div></div></div></div>"
      ],
      "text/plain": [
       "LatentDirichletAllocation(n_components=5, random_state=509)"
      ]
     },
     "execution_count": 111,
     "metadata": {},
     "output_type": "execute_result"
    }
   ],
   "source": [
    "lda_model = LatentDirichletAllocation(n_components=5, random_state=509)\n",
    "lda_model.fit(X_ct)\n"
   ]
  },
  {
   "cell_type": "code",
   "execution_count": 112,
   "metadata": {},
   "outputs": [
    {
     "name": "stdout",
     "output_type": "stream",
     "text": [
      "Number of features expected by the LDA model: 2204\n"
     ]
    }
   ],
   "source": [
    "# Check the number of features (components) in the LDA model\n",
    "print(f\"Number of features expected by the LDA model: {lda_model.components_.shape[1]}\")"
   ]
  },
  {
   "cell_type": "code",
   "execution_count": 113,
   "metadata": {},
   "outputs": [],
   "source": [
    "# Save the new LDA model\n",
    "with open('new_lda_model.pkl', 'wb') as f:\n",
    "    pickle.dump(lda_model, f)\n",
    "\n",
    "# Save the current vectorizer\n",
    "with open('new_vectorizer.pkl', 'wb') as f:\n",
    "    pickle.dump(vectorizer_ct, f)"
   ]
  },
  {
   "cell_type": "code",
   "execution_count": 114,
   "metadata": {},
   "outputs": [
    {
     "name": "stdout",
     "output_type": "stream",
     "text": [
      " * Serving Flask app '__main__'\n",
      " * Debug mode: on\n"
     ]
    },
    {
     "name": "stderr",
     "output_type": "stream",
     "text": [
      "WARNING: This is a development server. Do not use it in a production deployment. Use a production WSGI server instead.\n",
      " * Running on http://127.0.0.1:52126\n",
      "Press CTRL+C to quit\n"
     ]
    },
    {
     "name": "stderr",
     "output_type": "stream",
     "text": [
      "127.0.0.1 - - [10/Oct/2024 21:10:04] \"GET / HTTP/1.1\" 200 -\n",
      "127.0.0.1 - - [10/Oct/2024 21:10:04] \"GET /favicon.ico HTTP/1.1\" 404 -\n",
      "127.0.0.1 - - [10/Oct/2024 21:10:11] \"GET / HTTP/1.1\" 200 -\n",
      "127.0.0.1 - - [10/Oct/2024 21:10:13] \"GET /analysis HTTP/1.1\" 404 -\n",
      "127.0.0.1 - - [10/Oct/2024 21:10:17] \"GET / HTTP/1.1\" 200 -\n",
      "127.0.0.1 - - [10/Oct/2024 21:10:19] \"GET /overview HTTP/1.1\" 200 -\n"
     ]
    },
    {
     "data": {
      "image/png": "[encoded data removed]",
      "text/plain": [
       "<Figure size 1000x500 with 1 Axes>"
      ]
     },
     "metadata": {},
     "output_type": "display_data"
    },
    {
     "data": {
      "image/png": "[encoded data removed]",
      "text/plain": [
       "<Figure size 1000x500 with 1 Axes>"
      ]
     },
     "metadata": {},
     "output_type": "display_data"
    },
    {
     "data": {
      "image/png": "[encoded data removed]",
      "text/plain": [
       "<Figure size 1000x500 with 1 Axes>"
      ]
     },
     "metadata": {},
     "output_type": "display_data"
    },
    {
     "data": {
      "image/png": "[encoded data removed]",
      "text/plain": [
       "<Figure size 1000x500 with 1 Axes>"
      ]
     },
     "metadata": {},
     "output_type": "display_data"
    },
    {
     "data": {
      "image/png": "[encoded data removed]",
      "text/plain": [
       "<Figure size 1000x500 with 1 Axes>"
      ]
     },
     "metadata": {},
     "output_type": "display_data"
    }
   ],
   "source": [
    "# Start Flask app\n",
    "app = Flask(__name__)\n",
    "\n",
    "def find_free_port():\n",
    "    s = socket.socket(socket.AF_INET, socket.SOCK_STREAM)\n",
    "    s.bind(('', 0))\n",
    "    port = s.getsockname()[1]\n",
    "    s.close()\n",
    "    return port\n",
    "\n",
    "# Load pre-trained LDA model and TF-IDF vectorizer\n",
    "lda_model_path = 'new_lda_model.pkl'\n",
    "vectorizer_path = 'new_vectorizer.pkl'\n",
    "fire_df_path = 'fire_comments.csv'\n",
    "\n",
    "# Load LDA model, vectorizer, and data\n",
    "with open(lda_model_path, 'rb') as f:\n",
    "    lda_model = pickle.load(f)\n",
    "\n",
    "with open(vectorizer_path, 'rb') as f:\n",
    "    vectorizer = pickle.load(f)\n",
    "\n",
    "fire_df = pd.read_csv(fire_df_path)\n",
    "\n",
    "# Load Sentiment Analyzer (Vader)\n",
    "analyzer = SentimentIntensityAnalyzer()\n",
    "\n",
    "# Home route for text classification and sentiment analysis\n",
    "@app.route('/')\n",
    "def home():\n",
    "    return render_template('index.html')\n",
    "\n",
    "# Perform classification and sentiment analysis\n",
    "@app.route('/classify', methods=['POST'])\n",
    "def classify():\n",
    "    input_text = request.form['text']  # Get text from form submission\n",
    "    \n",
    "    # Vectorize input text\n",
    "    input_vectorized = vectorizer.transform([input_text])\n",
    "    \n",
    "    # Predict topic with LDA model\n",
    "    topics_distribution = lda_model.transform(input_vectorized)\n",
    "    predicted_topic = topics_distribution.argmax()\n",
    "\n",
    "    # Perform sentiment analysis with Vader\n",
    "    sentiment_scores = analyzer.polarity_scores(input_text)\n",
    "    \n",
    "    # Send results as JSON and display them on the index page\n",
    "    return render_template(\n",
    "        'index.html', \n",
    "        input_text=input_text, \n",
    "        predicted_topic=predicted_topic, \n",
    "        sentiment_scores=sentiment_scores\n",
    "    )\n",
    "\n",
    "# Overview route for topic modeling\n",
    "\n",
    "@app.route('/overview')\n",
    "def overview():\n",
    "    topic_keywords = {}\n",
    "    num_top_words = 10\n",
    "    feature_names = vectorizer.get_feature_names_out()\n",
    "\n",
    "    for topic_idx, topic in enumerate(lda_model.components_):\n",
    "        top_words = [feature_names[i] for i in topic.argsort()[:-num_top_words - 1:-1]]\n",
    "        topic_keywords[f'Topic {topic_idx}'] = top_words\n",
    "\n",
    "        # Create a bar plot for each topic\n",
    "        plt.figure(figsize=(10, 5))\n",
    "        plt.barh(top_words, topic[topic.argsort()[:-num_top_words - 1:-1]])\n",
    "        plt.xlabel(\"Word Importance\")\n",
    "        plt.title(f\"Top {num_top_words} Words for Topic {topic_idx}\")\n",
    "\n",
    "        # Save the plot to a BytesIO object\n",
    "        img = io.BytesIO()\n",
    "        plt.savefig(img, format='png')\n",
    "        img.seek(0)\n",
    "        img_b64 = base64.b64encode(img.getvalue()).decode()\n",
    "\n",
    "        # Add the plot to the topic_keywords dictionary as a base64 image\n",
    "        topic_keywords[f'Topic {topic_idx}_plot'] = img_b64\n",
    "\n",
    "    return render_template('overview.html', topics=topic_keywords)\n",
    "\n",
    "\n",
    "if __name__ == '__main__':\n",
    "    port = find_free_port()  # Find a free port to avoid conflicts\n",
    "    app.run(debug=True, use_reloader=False, port=port)\n"
   ]
  },
  {
   "cell_type": "code",
   "execution_count": null,
   "metadata": {
    "id": "BapMT70vqZfB"
   },
   "outputs": [
    {
     "name": "stdout",
     "output_type": "stream",
     "text": [
      "                                                                                                    \r"
     ]
    },
    {
     "ename": "NameError",
     "evalue": "name 'ngrok' is not defined",
     "output_type": "error",
     "traceback": [
      "\u001b[0;31m---------------------------------------------------------------------------\u001b[0m",
      "\u001b[0;31mNameError\u001b[0m                                 Traceback (most recent call last)",
      "Cell \u001b[0;32mIn[42], line 25\u001b[0m\n\u001b[1;32m     22\u001b[0m threading\u001b[38;5;241m.\u001b[39mThread(target\u001b[38;5;241m=\u001b[39mrun_app)\u001b[38;5;241m.\u001b[39mstart()\n\u001b[1;32m     24\u001b[0m \u001b[38;5;66;03m# Set up a tunnel to the Flask app\u001b[39;00m\n\u001b[0;32m---> 25\u001b[0m public_url \u001b[38;5;241m=\u001b[39m ngrok\u001b[38;5;241m.\u001b[39mconnect(\u001b[38;5;241m5000\u001b[39m)\n\u001b[1;32m     26\u001b[0m \u001b[38;5;28mprint\u001b[39m(\u001b[38;5;124m\"\u001b[39m\u001b[38;5;124m * ngrok tunnel \u001b[39m\u001b[38;5;130;01m\\\"\u001b[39;00m\u001b[38;5;132;01m{}\u001b[39;00m\u001b[38;5;130;01m\\\"\u001b[39;00m\u001b[38;5;124m -> \u001b[39m\u001b[38;5;130;01m\\\"\u001b[39;00m\u001b[38;5;124mhttp://127.0.0.1:5000\u001b[39m\u001b[38;5;130;01m\\\"\u001b[39;00m\u001b[38;5;124m\"\u001b[39m\u001b[38;5;241m.\u001b[39mformat(public_url))\n",
      "\u001b[0;31mNameError\u001b[0m: name 'ngrok' is not defined"
     ]
    },
    {
     "name": "stdout",
     "output_type": "stream",
     "text": [
      " * Serving Flask app '__main__'\n",
      " * Debug mode: off\n"
     ]
    },
    {
     "name": "stderr",
     "output_type": "stream",
     "text": [
      "WARNING: This is a development server. Do not use it in a production deployment. Use a production WSGI server instead.\n",
      " * Running on http://127.0.0.1:5000\n",
      "Press CTRL+C to quit\n"
     ]
    }
   ],
   "source": [
    "# Set up ngrok authtoken\n",
    "##!ngrok authtoken 2mxORvZevUlWiZcP42H0kKWt5Db_62uzFBWQsdosv7Eau5TWZ\n",
    "\n",
    "# Create Flask app\n",
    "##app = Flask(__name__)\n",
    "\n",
    "##@app.route('/')\n",
    "##def home():\n",
    "    ##return \"Welcome to the FIRE Number Analyzer!\"\n",
    "\n",
    "##@app.route('/analyze', methods=['POST'])\n",
    "##def analyze():\n",
    "    ##data = request.json\n",
    "    # Placeholder for analysis logic\n",
    "    ##return jsonify({\"message\": \"Analysis complete!\"})\n",
    "\n",
    "# Function to run the Flask app\n",
    "##def run_app():\n",
    "    ##app.run(port=5000)\n",
    "\n",
    "# Start Flask app in a new thread\n",
    "##threading.Thread(target=run_app).start()\n",
    "\n",
    "# Set up a tunnel to the Flask app\n",
    "##public_url = ngrok.connect(5000)\n",
    "##print(\" * ngrok tunnel \\\"{}\\\" -> \\\"http://127.0.0.1:5000\\\"\".format(public_url))"
   ]
  }
 ],
 "metadata": {
  "colab": {
   "provenance": []
  },
  "kernelspec": {
   "display_name": "Python 3 (ipykernel)",
   "language": "python",
   "name": "python3"
  },
  "language_info": {
   "codemirror_mode": {
    "name": "ipython",
    "version": 3
   },
   "file_extension": ".py",
   "mimetype": "text/x-python",
   "name": "python",
   "nbconvert_exporter": "python",
   "pygments_lexer": "ipython3",
   "version": "3.9.12"
  }
 },
 "nbformat": 4,
 "nbformat_minor": 4
}
