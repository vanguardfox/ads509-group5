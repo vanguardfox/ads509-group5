{
 "cells": [
  {
   "cell_type": "markdown",
   "metadata": {
    "id": "tT7fYxKGpoKu"
   },
   "source": [
    "[![Open In Colab](https://colab.research.google.com/assets/colab-badge.svg)](https://colab.research.google.com/github/vanguardfox/ads509-group5/blob/main/ADS509_Final_Project.ipynb)"
   ]
  },
  {
   "cell_type": "markdown",
   "metadata": {
    "id": "24tNXlFYhqVE"
   },
   "source": [
    "# Evaluating Financial Independence / Retire Early (FIRE) Thresholds by Demographic\n",
    "\n",
    "What is the Financial Independence number the FIRE community is aiming for by age, location, and over time?"
   ]
  },
  {
   "cell_type": "markdown",
   "metadata": {
    "id": "ZqOey2pIpoKv"
   },
   "source": [
    "# Group 5 Objective:\n",
    " The purpose of this project is to evaluate the FIRE financial thresholds by demographic groups such as age and location as well as changes in trends over times. Resulting analysis can be used in a variety of applications including leading economic sentiment predictions, generational assessment of financial health, and others via a Flask implementation."
   ]
  },
  {
   "cell_type": "markdown",
   "metadata": {
    "id": "Mla4_A0C9pp6"
   },
   "source": [
    "# Reddit Scrape\n",
    "\n",
    "Community: r/FIRE \\\n",
    "thread: /What_is_your_fire_number/ \\\n",
    "Code Reference: with help from ChatGPT https://chatgpt.com/ and https://colab.research.google.com/\n",
    "\n",
    "\n",
    "**Privacy note:**\n",
    "\n",
    "*   Credentials were created for the class but might have to figure out how to hide\n",
    "*   Username will also have to be masked to be anonymous"
   ]
  },
  {
   "cell_type": "code",
   "execution_count": 115,
   "metadata": {
    "id": "mL3R1YCi0h-J"
   },
   "outputs": [],
   "source": [
    "import warnings\n",
    "\n",
    "# Suppress all warnings\n",
    "warnings.filterwarnings(\"ignore\")"
   ]
  },
  {
   "cell_type": "markdown",
   "metadata": {
    "id": "dTxylIUPpoKv"
   },
   "source": [
    "(Optional: Install packages as needed)"
   ]
  },
  {
   "cell_type": "code",
   "execution_count": null,
   "metadata": {
    "id": "8SdZo0-fl6g-"
   },
   "outputs": [],
   "source": [
    "#!pip install requests beautifulsoup4\n",
    "#!pip install pyngrok"
   ]
  },
  {
   "cell_type": "markdown",
   "metadata": {
    "id": "qZ7w8ue3poKw"
   },
   "source": [
    "Import Libraries"
   ]
  },
  {
   "cell_type": "code",
   "execution_count": 183,
   "metadata": {
    "id": "7UlLJjrrVytR"
   },
   "outputs": [],
   "source": [
    "# Library\n",
    "import pandas as pd\n",
    "import matplotlib.pyplot as plt\n",
    "import seaborn as sns\n",
    "import re\n",
    "import json\n",
    "import csv\n",
    "import requests\n",
    "import time\n",
    "import datetime\n",
    "import nltk\n",
    "import random\n",
    "import pickle\n",
    "import threading\n",
    "import socket\n",
    "import io\n",
    "import base64\n",
    "import plotly.graph_objs as go\n",
    "\n",
    "\n",
    "from typing import Optional, Tuple\n",
    "from pyngrok import ngrok\n",
    "from nltk.sentiment import SentimentIntensityAnalyzer\n",
    "from nltk.util import pairwise\n",
    "from bs4 import BeautifulSoup\n",
    "from requests.auth import HTTPBasicAuth\n",
    "from os import read\n",
    "from flask import Flask, render_template, request, jsonify\n",
    "from sklearn.feature_extraction.text import CountVectorizer, TfidfVectorizer\n",
    "from sklearn.decomposition import LatentDirichletAllocation, TruncatedSVD"
   ]
  },
  {
   "cell_type": "markdown",
   "metadata": {
    "id": "t5_S6wbUpoKw"
   },
   "source": [
    "## Initialize API Credentials"
   ]
  },
  {
   "cell_type": "code",
   "execution_count": 117,
   "metadata": {
    "id": "E1xBgoCSkvjy"
   },
   "outputs": [],
   "source": [
    "# Reddit API credentials\n",
    "client_id = '8-xAlbBmc1_FYraSwJENtw'\n",
    "client_secret = 'Jg9JyK9R_ixyNESMaGE3BwLzmBhf2w'\n",
    "username = 'Western_Signal4499'\n",
    "password = 'ADS509finAl'\n",
    "user_agent = 'ADS509Scrapper/0.1 by Western_Signal4499'\n",
    "\n",
    "# Get the OAuth token\n",
    "auth = HTTPBasicAuth(client_id, client_secret)\n",
    "headers = {'User-Agent': user_agent}\n",
    "data = {'grant_type': 'password', 'username': username, 'password': password}\n",
    "\n",
    "response = requests.post('https://www.reddit.com/api/v1/access_token', auth=auth, headers=headers, data=data)\n",
    "\n",
    "if response.status_code == 200:\n",
    "    token = response.json()['access_token']\n",
    "else:\n",
    "    print(f\"Error: {response.status_code}, {response.text}\")"
   ]
  },
  {
   "cell_type": "markdown",
   "metadata": {
    "id": "szaOuzGzpoKw"
   },
   "source": [
    "## Use access_token field from JSON to query threads"
   ]
  },
  {
   "cell_type": "code",
   "execution_count": 118,
   "metadata": {
    "colab": {
     "base_uri": "https://localhost:8080/"
    },
    "id": "QAF82eN-ompR",
    "outputId": "9dc24910-799f-45df-cad9-3274ad7a4116",
    "scrolled": true
   },
   "outputs": [
    {
     "name": "stdout",
     "output_type": "stream",
     "text": [
      "Thread ID: 1fqzb0p, Title: What is your fire number? , User1: muy_carona, Comment: $8,675,309, Post Time: 2024-09-27 22:00:15, Comment Time: 2024-09-27 23:21:33\n",
      "Thread ID: rfxxkz, Title: What is your fire number?, User1: xmxprztm, Comment: 4M at least. Going to move to Spain, Post Time: 2021-12-14 03:24:03, Comment Time: 2021-12-14 16:43:40\n",
      "Thread ID: zddhma, Title: For folks who plan to FIRE in HCOL / VHCOL areas, what is your FIRE number? Why not move to MCOL / LCOL area?, User1: [deleted], Comment: Some services or experiences are only available in hcol areas. Good fine dining options and/or weather and or ___., Post Time: 2022-12-05 17:36:13, Comment Time: 2022-12-27 18:53:13\n",
      "Thread ID: 10ex17r, Title: What is your FIRE number?, User1: zenjdg, Comment: My ideal scenario is $100k per month in tax-free cash flow., Post Time: 2023-01-18 03:44:27, Comment Time: 2023-11-04 15:20:39\n",
      "Thread ID: z5a29v, Title: What is your fire number and how did you arrive at it?, User1: [deleted], Comment: [deleted], Post Time: 2022-11-26 15:25:58, Comment Time: 2022-11-27 21:55:50\n",
      "Thread ID: 1ef8jjf, Title: How to split finances when one is FIRE'd and one isn't FIRE'ing, User1: [deleted], Comment: Break up, Post Time: 2024-07-29 19:33:52, Comment Time: 2024-07-29 20:16:44\n",
      "Thread ID: oh6i17, Title: What is your FIRE number and at what age do you want to achieve it by?, User1: FIREDOC627, Comment: Wife is 8 years younger so although we COULD retire when we are 53/45 with a NW of 4m, will likely be prudent to stay working until 57/49 (NW of \\~5.5m) so she will have healthcare the rest of our lives.  I don't HATE my job but the VA has some of the most toxic people on earth so by 57 i will prolly be ready to run, not walk, out of there, Post Time: 2021-07-09 22:42:27, Comment Time: 2024-02-04 13:16:25\n",
      "Thread ID: 143o3y9, Title: We’re all privileged, User1: Retire_date_may_22, Comment: If you were born in America you are privileged., Post Time: 2023-06-07 20:32:38, Comment Time: 2023-06-07 20:51:43\n",
      "Thread ID: 1coxxrq, Title: How my wife and I will retire before 50; neither of us make over $75K, User1: ibleed0range, Comment: $1.4m in 17 years isn’t going to be worth much.  Given Covid inflation rates in the last 4 years, I don’t even think you could retire with $1.4m at age 49 today.  Your expenses are too high and your savings are too low., Post Time: 2024-05-10 19:30:05, Comment Time: 2024-05-11 11:12:41\n",
      "Thread ID: 1cmt0ah, Title: Is toxic corporate culture why most of us want to Fire? , User1: Adorable_You6843, Comment: I also started feeling like I had to rush my FIRE goal after taking on more responsibility at work. It’s like the higher you go, the more pressure you feel. It really makes you think about whether it’s worth the tradeoff. I’ve been weighing the same question lately stick with a low-stress job or push harder now to get to FIRE sooner., Post Time: 2024-05-08 01:54:13, Comment Time: 2024-10-11 13:31:48\n",
      "Thread ID: 1ffwmql, Title: 10 tips from my 20 year journey to financial freedom, User1: Repulsive-Usual-1593, Comment: To add a point to tip 10, there’s a password manager called KeePassXC that I really like.  It’s locally hosted, so if you lose your password file, it’s gone, but the upside is that it can be used offline and has significantly less risk than using a cloud password manager.  Overall, KeePassXC has been great at keeping me organized, Post Time: 2024-09-13 14:50:25, Comment Time: 2024-09-13 16:51:46\n",
      "Thread ID: 1c82w4y, Title: The cliff is steep: How do you choose to retire early when working 5 more years can bring so much more, User1: Ghia149, Comment: Think about it as financial independence rather than full on retiring. It’s the stop doing work that stresses you and is unfulfilling. Maybe you cut your income but so what? You won’t be saving as much but if you’re earning enough to not be burning you’re still growing the nest egg rather than depleting it. Just stretching the time till you start withdrawing will have a big impact. Take more vacations work fewer hours but still be productive., Post Time: 2024-04-19 17:38:05, Comment Time: 2024-04-23 18:21:28\n",
      "Thread ID: 107k4by, Title: How did you come up with your FIRE number? What is the best calculator, way to get at it?, User1: hirme23, Comment: Track your annual expenses and 25x it., Post Time: 2023-01-09 17:23:47, Comment Time: 2023-01-10 12:45:43\n",
      "Thread ID: mj288k, Title: Forgive me if this is too personal, but what was your estimated net worth around 18 and how did you use that number to grow on your path to fire? Or what did you do to grow that number to reach your fire goals? Thank you., User1: UnderstandingCalm452, Comment: Aprx. negative -$20,000, factoring in student debt and credit cards. Quit my music major, went to law school, bottomed out at negative -$165,000 with student loans by 25. That was in 2009. Now up to around +$1.4M (the old fashioned way...Im a cryptoskeptic), Post Time: 2021-04-03 05:31:51, Comment Time: 2021-04-04 15:14:09\n",
      "Thread ID: 1fw9l5k, Title: Never go full spend?, User1: gloriousrepublic, Comment: All you've done is describe CoastFIRE.  Lots of us do it., Post Time: 2024-10-04 20:55:47, Comment Time: 2024-10-05 07:47:09\n",
      "Thread ID: 1fpdzm7, Title: Retired at 47 a year ago. Round 2: The numbers!, User1: CofferCrypto, Comment: $27k/yr at 62 after being a relatively low earner and retiring at 47? I seriously doubt it, Post Time: 2024-09-25 20:09:21, Comment Time: 2024-09-26 03:22:53\n",
      "Thread ID: 1epvngp, Title: Building generational wealth vs FIRE 10 years early?, User1: UnderstandingNew2810, Comment: Oh boy. Kids and fire is different ball game. Even after they are out of the household they can definitely cost money.\n",
      "\n",
      "Most kids now go back home to get started on their feet. If you get a kid that is in their feet after 18 you got super lucky. \n",
      "\n",
      "I not really sure how fire with kids is possible. Unless you hit a complete Jack pot. 10M and up. 5M is good no kids.  But with kids. That 5M will be gone. Nothing generationally about that, Post Time: 2024-08-11 21:13:19, Comment Time: 2024-08-12 01:22:56\n",
      "Thread ID: 1dwcgqo, Title: One of the most unexpected pieces of financial advice I ever read, \"Why Buying a Lottery Ticket is a Good Investment\", has actually stacked up for me over the last decade. I've lost a couple hundred bucks over the years, but it was actually money well spent., User1: Trozll, Comment: Most people smart enough to think this way aren’t buying lottery tickets., Post Time: 2024-07-06 00:06:25, Comment Time: 2024-07-06 22:19:52\n",
      "Thread ID: 1d9zkup, Title: What is you fire number?, User1: ppith, Comment: $10M investments, 58M just before our daughter goes to college.  Currents stats:\n",
      "\n",
      "$1.57M investments, $570K paid off house (plus paid off solar so low electric bills)\n",
      "\n",
      "Adding over $200K a year to investments (75% VOO/VTI 25% MSFT) and $4K a year to 529 (S&amp;P 500)\n",
      "\n",
      "45M/38F/5F\n",
      "\n",
      "Current portfolio:\n",
      "\n",
      "85% SPY/VOO/VTI\n",
      "5% QQQ\n",
      "5% MSFT\n",
      "5% BRK.B\n",
      "\n",
      "Future portfolio:\n",
      "\n",
      "$3M short term US Treasuries \n",
      "$7M either current allocation or VOO/VTI\n",
      "\n",
      "In today's money, $10M is fatFIRE.  In the future with inflation, it's probably chubbyFIRE.  For reference, we hit $1M in investments for the first time in June 2023.  Our expenses last year was about $79K which included a few road trips plus buying flights for a two week international vacation we took earlier this year.  \n",
      "\n",
      "Expense and investment SankeyMATIC charts:\n",
      "\n",
      "https://www.reddit.com/r/HENRYfinance/s/VQbQIyUa2f, Post Time: 2024-06-07 02:07:25, Comment Time: 2024-06-07 04:11:52\n",
      "Thread ID: psbr2j, Title: Married couples with young kids, what is your FIRE number and how is your progress?, User1: Arbasebat, Comment: Is this based of Net worth or liquid asset only?, Post Time: 2021-09-21 04:50:19, Comment Time: 2021-09-21 17:49:55\n",
      "Thread ID: 1fgq5s0, Title: How are you modeling the potential for senior care in your FIRE number?, User1: Zabick, Comment: This is why retirement portfolios need to be able to handle a minimum spending floor of $100k at 4% (if at regular retirement age) or 2-3% (for the FIRE types) annual withdrawal rates.\n",
      "\n",
      "\n",
      "This means someone looking to retire in their 30s/40s needs at least a $5 million investment portfolio to be able to safely do so., Post Time: 2024-09-14 16:34:56, Comment Time: 2024-09-14 16:43:41\n",
      "Thread ID: 181hlrt, Title: Long Term Care - How it works IRL, User1: Nearby_Jaguar7416, Comment: Yeah my mother's has some of the same issues.  Coverage is about right for personal care / assisted but WAY too low for skilled nursing.  Probably seemed like a reasonable coverage 20 years ago when they got the policy.\n",
      "\n",
      "Elimination period is also crucial to consider.  If she landed in skilled nursing and died in 90 days the policy would have paid nothing and we'd have had ~30k in bills.\n",
      "\n",
      "Very hard to say if these things make sense.  Not clear to me if there's a best option, Post Time: 2023-11-22 19:34:51, Comment Time: 2023-11-23 19:50:33\n",
      "Thread ID: 15t6gzi, Title: What's your age and your number?, User1: ElkVapor37, Comment: I’m blown away by so many small numbers. Retire by 40 with 1-1.5mil??? I’m curious what world y’all are living in. Traditional numbers are $7-10mil at 65 years old. Sure I understand passive income streams and investing but I’m sorry, $1-1.5mil to live 40-50 years on is not possible., Post Time: 2023-08-16 23:54:52, Comment Time: 2023-08-17 16:56:59\n",
      "Thread ID: 1fjsi5g, Title: From the experience of people in here who have achieved FIRE, in hindsight, what would you say is the the most optimal  way to achieve it? , User1: DrunkOnWeedASD, Comment: I did it by mid 20s through crypto, but it was pretty lean in the beginning. Chubby now and still aiming for fat\n",
      "\n",
      "\n",
      "Risk is way less risky than everyone thinks because of money printers and central banks supporting assets. They dont backstop everything, but it always spills over to everything, Post Time: 2024-09-18 13:13:52, Comment Time: 2024-09-18 15:05:55\n",
      "Thread ID: 1d1ukv2, Title: Defining LeanFIRE, FIRE, ChubbyFIRE, FatFIRE (2024 edition), User1: just_a_timetraveller, Comment: Hot take. I don't like these different definitions of fire. I feel some were created to have an early escape hatch from their work. \"I am in lean fire because I can leave my job if I just invest 20k more\" etc., Post Time: 2024-05-27 15:47:08, Comment Time: 2024-05-29 20:05:26\n"
     ]
    }
   ],
   "source": [
    "# Use the token to search for threads\n",
    "headers['Authorization'] = f'bearer {token}'\n",
    "\n",
    "# Constructs a string for the r/FIRE URL to query \"what is your fire number\"\n",
    "# restrict_sr=1 ensures that the query is constrained to only this subreddit\n",
    "search_url = \"https://oauth.reddit.com/r/FIRE/search?q=what%20is%20your%20fire%20number&restrict_sr=1\"\n",
    "\n",
    "# Store results of GET requrest to the API for the given \"search_url\"\n",
    "search_response = requests.get(search_url, headers=headers)\n",
    "\n",
    "# If the API GET is successful...\n",
    "if search_response.status_code == 200: # Code 200 means the request was flagged as successful\n",
    "    search_data = search_response.json() # Parse the JSON data from the response\n",
    "    #print(search_data)\n",
    "    threads = search_data['data']['children'] # Extract the list of threads\n",
    "\n",
    "    # Initialize a CSV and writes an head with columns (within .writerow() arg)\n",
    "    with open('fire_comments.csv', 'w', newline='', encoding='utf-8') as csvfile:\n",
    "        writer = csv.writer(csvfile)\n",
    "        writer.writerow(['Thread ID', 'Title', 'User', 'Comment', 'Post Time', 'Comment Time'])\n",
    "\n",
    "        # Iterate through each thread from API's response JSON\n",
    "        for thread in threads:\n",
    "            thread_title = thread['data']['title'] # Parse and extract title\n",
    "            thread_id = thread['data']['id'] # Parse and extract id\n",
    "            thread_time = thread['data']['created_utc']  # Extract post time (in Unix time)\n",
    "            # Convert the post time to a parsible date format\n",
    "            thread_time_norm = datetime.datetime.utcfromtimestamp(thread_time).strftime('%Y-%m-%d %H:%M:%S')\n",
    "\n",
    "            # Prepare URL as a string for better code handling\n",
    "            comments_url = f\"https://oauth.reddit.com/r/FIRE/comments/{thread_id}.json\"\n",
    "\n",
    "            # Store results of GET to fetch comments of the current iterated thread\n",
    "            comments_response = requests.get(comments_url, headers=headers)\n",
    "            if comments_response.status_code == 200: # Again, check if GET is successful\n",
    "                comments_data = comments_response.json() # Store JSON\n",
    "                comments = comments_data[1]['data']['children'] # Parse and extract comments\n",
    "\n",
    "                # Iterate through each comment\n",
    "                for comment in comments:\n",
    "                    if comment['kind'] == 't1': # Only iterate on top comments\n",
    "                        username = comment['data']['author'] # Extract username\n",
    "                        body = comment['data']['body'] # Extract text body\n",
    "\n",
    "                        # Extract comment time, convert\n",
    "                        comment_time = comment['data']['created_utc']\n",
    "                        comment_time_norm = datetime.datetime.utcfromtimestamp(comment_time).strftime('%Y-%m-%d %H:%M:%S')\n",
    "\n",
    "                        # Write parsed data into respective CSV row, mapped to column\n",
    "                        writer.writerow([thread_id,\n",
    "                                         thread_title,\n",
    "                                         username,\n",
    "                                         body,\n",
    "                                         thread_time_norm,\n",
    "                                         comment_time_norm])\n",
    "\n",
    "                print(f\"Thread ID: {thread_id}, Title: {thread_title}, User1: {username}, Comment: {body}, Post Time: {thread_time_norm}, Comment Time: {comment_time_norm}\")\n",
    "                sleep_time = random.uniform(1,3) # Rate Limiter\n",
    "                time.sleep(sleep_time)\n",
    "\n",
    "            else:\n",
    "                print(f\"Failed to retrieve comments for thread ID {thread_id} with status code {comments_response.status_code}\")\n",
    "\n",
    "else:\n",
    "    print(f\"Failed to retrieve search results with status code {search_response.status_code}\")"
   ]
  },
  {
   "cell_type": "markdown",
   "metadata": {
    "id": "I_7WP4t4poKx"
   },
   "source": [
    "## Verify the contents of the CSV that was created above and store as DataFrame"
   ]
  },
  {
   "cell_type": "code",
   "execution_count": 119,
   "metadata": {
    "colab": {
     "base_uri": "https://localhost:8080/",
     "height": 204
    },
    "id": "BT92kZVZo8gw",
    "outputId": "c6d0ad57-0616-45f9-8675-625389fba863"
   },
   "outputs": [
    {
     "data": {
      "text/html": [
       "<div>\n",
       "<style scoped>\n",
       "    .dataframe tbody tr th:only-of-type {\n",
       "        vertical-align: middle;\n",
       "    }\n",
       "\n",
       "    .dataframe tbody tr th {\n",
       "        vertical-align: top;\n",
       "    }\n",
       "\n",
       "    .dataframe thead th {\n",
       "        text-align: right;\n",
       "    }\n",
       "</style>\n",
       "<table border=\"1\" class=\"dataframe\">\n",
       "  <thead>\n",
       "    <tr style=\"text-align: right;\">\n",
       "      <th></th>\n",
       "      <th>Thread ID</th>\n",
       "      <th>Title</th>\n",
       "      <th>User</th>\n",
       "      <th>Comment</th>\n",
       "      <th>Post Time</th>\n",
       "      <th>Comment Time</th>\n",
       "    </tr>\n",
       "  </thead>\n",
       "  <tbody>\n",
       "    <tr>\n",
       "      <th>0</th>\n",
       "      <td>1fqzb0p</td>\n",
       "      <td>What is your fire number?</td>\n",
       "      <td>manimopo</td>\n",
       "      <td>1.5m with paid off houses</td>\n",
       "      <td>2024-09-27 22:00:15</td>\n",
       "      <td>2024-09-27 22:14:27</td>\n",
       "    </tr>\n",
       "    <tr>\n",
       "      <th>1</th>\n",
       "      <td>1fqzb0p</td>\n",
       "      <td>What is your fire number?</td>\n",
       "      <td>Animag771</td>\n",
       "      <td>I'm just waiting for someone to say something ...</td>\n",
       "      <td>2024-09-27 22:00:15</td>\n",
       "      <td>2024-09-27 22:43:43</td>\n",
       "    </tr>\n",
       "    <tr>\n",
       "      <th>2</th>\n",
       "      <td>1fqzb0p</td>\n",
       "      <td>What is your fire number?</td>\n",
       "      <td>wowsocool4u</td>\n",
       "      <td>$1.9m.  Targeting a few months after i turn 50...</td>\n",
       "      <td>2024-09-27 22:00:15</td>\n",
       "      <td>2024-09-27 22:24:04</td>\n",
       "    </tr>\n",
       "    <tr>\n",
       "      <th>3</th>\n",
       "      <td>1fqzb0p</td>\n",
       "      <td>What is your fire number?</td>\n",
       "      <td>Aromatic_Heart</td>\n",
       "      <td>On days I hate my job, 600k. The other days, d...</td>\n",
       "      <td>2024-09-27 22:00:15</td>\n",
       "      <td>2024-09-28 03:15:50</td>\n",
       "    </tr>\n",
       "    <tr>\n",
       "      <th>4</th>\n",
       "      <td>1fqzb0p</td>\n",
       "      <td>What is your fire number?</td>\n",
       "      <td>Ziqach</td>\n",
       "      <td>$2M with a paid off house. So stressful to see...</td>\n",
       "      <td>2024-09-27 22:00:15</td>\n",
       "      <td>2024-09-27 22:59:17</td>\n",
       "    </tr>\n",
       "  </tbody>\n",
       "</table>\n",
       "</div>"
      ],
      "text/plain": [
       "  Thread ID                       Title            User  \\\n",
       "0   1fqzb0p  What is your fire number?         manimopo   \n",
       "1   1fqzb0p  What is your fire number?        Animag771   \n",
       "2   1fqzb0p  What is your fire number?      wowsocool4u   \n",
       "3   1fqzb0p  What is your fire number?   Aromatic_Heart   \n",
       "4   1fqzb0p  What is your fire number?           Ziqach   \n",
       "\n",
       "                                             Comment            Post Time  \\\n",
       "0                          1.5m with paid off houses  2024-09-27 22:00:15   \n",
       "1  I'm just waiting for someone to say something ...  2024-09-27 22:00:15   \n",
       "2  $1.9m.  Targeting a few months after i turn 50...  2024-09-27 22:00:15   \n",
       "3  On days I hate my job, 600k. The other days, d...  2024-09-27 22:00:15   \n",
       "4  $2M with a paid off house. So stressful to see...  2024-09-27 22:00:15   \n",
       "\n",
       "          Comment Time  \n",
       "0  2024-09-27 22:14:27  \n",
       "1  2024-09-27 22:43:43  \n",
       "2  2024-09-27 22:24:04  \n",
       "3  2024-09-28 03:15:50  \n",
       "4  2024-09-27 22:59:17  "
      ]
     },
     "execution_count": 119,
     "metadata": {},
     "output_type": "execute_result"
    }
   ],
   "source": [
    "rfire_df = pd.read_csv('fire_comments.csv')\n",
    "rfire_df.head()"
   ]
  },
  {
   "cell_type": "markdown",
   "metadata": {
    "id": "Pw5ct93sx06H"
   },
   "source": [
    "# Data Preprocessing"
   ]
  },
  {
   "cell_type": "markdown",
   "metadata": {
    "id": "QRHrv0ykpoKy"
   },
   "source": [
    "## Preliminary dataframe"
   ]
  },
  {
   "cell_type": "code",
   "execution_count": 120,
   "metadata": {
    "colab": {
     "base_uri": "https://localhost:8080/"
    },
    "id": "O4gXMzaqx_ms",
    "outputId": "9bb61487-d4ee-4fc1-e2e2-0838ec8dffd8"
   },
   "outputs": [
    {
     "name": "stdout",
     "output_type": "stream",
     "text": [
      "<class 'pandas.core.frame.DataFrame'>\n",
      "RangeIndex: 1463 entries, 0 to 1462\n",
      "Data columns (total 6 columns):\n",
      " #   Column        Non-Null Count  Dtype \n",
      "---  ------        --------------  ----- \n",
      " 0   Thread ID     1463 non-null   object\n",
      " 1   Title         1463 non-null   object\n",
      " 2   User          1463 non-null   object\n",
      " 3   Comment       1463 non-null   object\n",
      " 4   Post Time     1463 non-null   object\n",
      " 5   Comment Time  1463 non-null   object\n",
      "dtypes: object(6)\n",
      "memory usage: 68.7+ KB\n"
     ]
    }
   ],
   "source": [
    "rfire_df.info()"
   ]
  },
  {
   "cell_type": "code",
   "execution_count": 121,
   "metadata": {
    "colab": {
     "base_uri": "https://localhost:8080/"
    },
    "id": "KdgLxwF2qnb9",
    "outputId": "7152c924-f518-4c74-d0f0-21cd7b053eb1"
   },
   "outputs": [
    {
     "data": {
      "text/plain": [
       "array(['What is your fire number? ', 'What is your fire number?',\n",
       "       'For folks who plan to FIRE in HCOL / VHCOL areas, what is your FIRE number? Why not move to MCOL / LCOL area?',\n",
       "       'What is your FIRE number?',\n",
       "       'What is your fire number and how did you arrive at it?',\n",
       "       \"How to split finances when one is FIRE'd and one isn't FIRE'ing\",\n",
       "       'What is your FIRE number and at what age do you want to achieve it by?',\n",
       "       'We’re all privileged',\n",
       "       'How my wife and I will retire before 50; neither of us make over $75K',\n",
       "       'Is toxic corporate culture why most of us want to Fire? ',\n",
       "       '10 tips from my 20 year journey to financial freedom',\n",
       "       'The cliff is steep: How do you choose to retire early when working 5 more years can bring so much more',\n",
       "       'How did you come up with your FIRE number? What is the best calculator, way to get at it?',\n",
       "       'Forgive me if this is too personal, but what was your estimated net worth around 18 and how did you use that number to grow on your path to fire? Or what did you do to grow that number to reach your fire goals? Thank you.',\n",
       "       'Never go full spend?',\n",
       "       'Retired at 47 a year ago. Round 2: The numbers!',\n",
       "       'Building generational wealth vs FIRE 10 years early?',\n",
       "       'One of the most unexpected pieces of financial advice I ever read, \"Why Buying a Lottery Ticket is a Good Investment\", has actually stacked up for me over the last decade. I\\'ve lost a couple hundred bucks over the years, but it was actually money well spent.',\n",
       "       'What is you fire number?',\n",
       "       'Married couples with young kids, what is your FIRE number and how is your progress?',\n",
       "       'How are you modeling the potential for senior care in your FIRE number?',\n",
       "       'Long Term Care - How it works IRL',\n",
       "       \"What's your age and your number?\",\n",
       "       'From the experience of people in here who have achieved FIRE, in hindsight, what would you say is the the most optimal  way to achieve it? ',\n",
       "       'Defining LeanFIRE, FIRE, ChubbyFIRE, FatFIRE (2024 edition)'],\n",
       "      dtype=object)"
      ]
     },
     "execution_count": 121,
     "metadata": {},
     "output_type": "execute_result"
    }
   ],
   "source": [
    "rfire_df['Title'].unique()"
   ]
  },
  {
   "cell_type": "code",
   "execution_count": 122,
   "metadata": {
    "id": "BSaKdsXRx8vz"
   },
   "outputs": [],
   "source": [
    "# Mask user names with a unique identifier\n",
    "rfire_df['User'] = ['User ' + str(i + 1) for i in range(len(rfire_df))]"
   ]
  },
  {
   "cell_type": "markdown",
   "metadata": {
    "id": "AxbempqMzxXM"
   },
   "source": [
    "## Clean Dataset"
   ]
  },
  {
   "cell_type": "code",
   "execution_count": 123,
   "metadata": {
    "colab": {
     "base_uri": "https://localhost:8080/"
    },
    "id": "Z-cfs5ZHbJY_",
    "outputId": "12373f32-2c88-4d75-c390-be02a141f16e"
   },
   "outputs": [
    {
     "name": "stdout",
     "output_type": "stream",
     "text": [
      "['What is your fire number? ' 'What is your fire number?'\n",
      " 'For folks who plan to FIRE in HCOL / VHCOL areas, what is your FIRE number? Why not move to MCOL / LCOL area?'\n",
      " 'What is your FIRE number?'\n",
      " 'What is your fire number and how did you arrive at it?'\n",
      " 'What is your FIRE number and at what age do you want to achieve it by?'\n",
      " 'Married couples with young kids, what is your FIRE number and how is your progress?']\n",
      "<class 'pandas.core.frame.DataFrame'>\n",
      "Index: 433 entries, 0 to 1229\n",
      "Data columns (total 6 columns):\n",
      " #   Column        Non-Null Count  Dtype \n",
      "---  ------        --------------  ----- \n",
      " 0   Thread ID     433 non-null    object\n",
      " 1   Title         433 non-null    object\n",
      " 2   User          433 non-null    object\n",
      " 3   Comment       433 non-null    object\n",
      " 4   Post Time     433 non-null    object\n",
      " 5   Comment Time  433 non-null    object\n",
      "dtypes: object(6)\n",
      "memory usage: 23.7+ KB\n",
      "None\n"
     ]
    }
   ],
   "source": [
    "# Retrive titles that contain the words \"what is your fire number\"\n",
    "fire_df = rfire_df[rfire_df['Title'].str.contains(r'what\\s*is\\s*your\\s*fire\\s*number', case=False, na=False)]\n",
    "\n",
    "print(fire_df['Title'].unique())\n",
    "print(fire_df.info())"
   ]
  },
  {
   "cell_type": "markdown",
   "metadata": {
    "id": "7UDRkbbWy_vw"
   },
   "source": [
    "### Fire Number Extraction"
   ]
  },
  {
   "cell_type": "markdown",
   "metadata": {
    "id": "QBbBP3SkY5B0"
   },
   "source": [
    "Regular Expression Description\n",
    "\n",
    "re.sub(r'[^a-zA-Z0-9\\s$€£¥.]', '', text)\n",
    "\n",
    "replaces matching substrings with an empty '' (effectively removing it)\n",
    "\n",
    "Breakdown: \\\n",
    "^a-zA-Z0-9 = NOT alphanumeric characters \\\n",
    "\\s = whitespace \\\n",
    "$€£¥ = Currency symbols \\\n",
    ". = Period / Decimal \\\n",
    "\n",
    "Objective:  \\\n",
    "Regular Expression removes everything that isn't an alphanumeric character or symbol above AFTER we've already removed periods from the line\n",
    "\n",
    "text = re.sub(r'(?<!\\d)\\.(?!\\d)', '', text)\n",
    "\n",
    "Breakdown: \\\n",
    "(?<!\\d) Only match if the character before the period is not a digit (\\d) *only checking with ?*\n"
   ]
  },
  {
   "cell_type": "code",
   "execution_count": 124,
   "metadata": {
    "id": "QkmebKoxg4EL"
   },
   "outputs": [],
   "source": [
    "# Define text cleaning and extraction\n",
    "def clean_and_extract(text: str) -> str:\n",
    "    \"\"\"Cleans the input text by normalizing financial identifiers.\"\"\"\n",
    "    # Remove URLs\n",
    "    text = re.sub(r'http\\S+', '', text)\n",
    "\n",
    "    # Keep alphanumeric characters, spaces, and currency symbols\n",
    "    text = re.sub(r'[^a-zA-Z0-9\\s$€£¥.,/]', '', text)\n",
    "\n",
    "    # Normalize financial identifiers\n",
    "    financial_patterns = [\n",
    "        (r'(?<!\\w)\\$?(\\d{1,3}(?:,\\d{3})*(?:\\.\\d+)?)\\s*(m|mm|mil)(?=\\s|/|$)', r'\\1 million'),\n",
    "        (r'(?<!\\w)\\$?(\\d{1,3}(?:,\\d{3})*(?:\\.\\d+)?)\\s*(b|bil)(?=\\s|$)', r'\\1 billion'),\n",
    "        (r'(?<!\\w)\\$?(\\d{1,3}(?:,\\d{3})*(?:\\.\\d+)?)\\s*(k|thousand)(?=\\s|$)', r'\\1 thousand'),\n",
    "    ]\n",
    "\n",
    "    for pattern, replacement in financial_patterns:\n",
    "        text = re.sub(pattern, replacement, text, flags=re.IGNORECASE)\n",
    "\n",
    "    # Handle ranges and multiple values by replacing the slash with a space\n",
    "    text = re.sub(\n",
    "    r'(\\d+(?:\\.\\d+)?)\\s*/\\s*(\\d+(?:\\.\\d+)?)\\s*(mil|m|k)',\n",
    "    lambda match: f\"{match.group(1)} {match.group(3)} {match.group(2)} {match.group(3)}\",\n",
    "    text,\n",
    "    flags=re.IGNORECASE\n",
    "    )\n",
    "\n",
    "    # Convert to lowercase and remove extra spaces\n",
    "    text = text.lower()\n",
    "    text = re.sub(r'\\s+', ' ', text).strip()\n",
    "\n",
    "    return text\n",
    "\n",
    "def extract_fire_numbers(text: str) -> float:\n",
    "    \"\"\"Extracts and converts financial identifiers to numeric values.\"\"\"\n",
    "    text = re.sub(r',', '', text)  # Remove commas\n",
    "\n",
    "    fire_numbers = re.findall(r'(\\$?\\d+(?:\\.\\d+)?)\\s*(million|billion|thousand|m|b|k)?', text, re.IGNORECASE)\n",
    "\n",
    "    total = 0.0\n",
    "    for num, unit in fire_numbers:\n",
    "        num_value = float(num.replace('$', ''))\n",
    "\n",
    "        if unit and unit.lower() in ['million', 'm']:\n",
    "            total = max(total, num_value * 1_000_000)\n",
    "        elif unit and unit.lower() in ['billion', 'b']:\n",
    "            total = max(total, num_value * 1_000_000_000)\n",
    "        elif unit and unit.lower() in ['thousand', 'k']:\n",
    "            total = max(total, num_value * 1_000)\n",
    "        else:\n",
    "            total = max(total, num_value)\n",
    "\n",
    "    return total"
   ]
  },
  {
   "cell_type": "code",
   "execution_count": 125,
   "metadata": {
    "id": "1P8lLqgmx0E5"
   },
   "outputs": [],
   "source": [
    "# Cleaned Comments\n",
    "fire_df['Cleaned Comment'] = fire_df['Comment'].apply(clean_and_extract)\n",
    "\n",
    "# Extract FIRE numbers\n",
    "fire_df['FIRE #'] = fire_df['Cleaned Comment'].apply(extract_fire_numbers)\n",
    "\n",
    "# Filter out FIRE numbers less than 100,000\n",
    "fire_df = fire_df[fire_df['FIRE #'] >= 100000]\n",
    "\n",
    "# Convert FIRE # to numeric\n",
    "fire_df['FIRE #'] = pd.to_numeric(fire_df['FIRE #'])\n",
    "\n",
    "# Format the FIRE Number for better readability without commas\n",
    "fire_df['FIRE Number'] = fire_df['FIRE #'].apply(lambda x: f\"{x:.2f}\")\n",
    "\n",
    "# Convert FIRE Number back to numeric for calculations if needed\n",
    "fire_df['FIRE Number'] = pd.to_numeric(fire_df['FIRE Number'])\n",
    "\n",
    "# Drop the original FIRE # column\n",
    "fire_df.drop(columns=['FIRE #'], inplace=True)"
   ]
  },
  {
   "cell_type": "code",
   "execution_count": 126,
   "metadata": {
    "colab": {
     "base_uri": "https://localhost:8080/"
    },
    "id": "7hjtI6tI0DIq",
    "outputId": "a857797f-7643-43a5-ae4c-5a276d9fbed9"
   },
   "outputs": [
    {
     "name": "stdout",
     "output_type": "stream",
     "text": [
      "<class 'pandas.core.frame.DataFrame'>\n",
      "Index: 337 entries, 0 to 1228\n",
      "Data columns (total 8 columns):\n",
      " #   Column           Non-Null Count  Dtype  \n",
      "---  ------           --------------  -----  \n",
      " 0   Thread ID        337 non-null    object \n",
      " 1   Title            337 non-null    object \n",
      " 2   User             337 non-null    object \n",
      " 3   Comment          337 non-null    object \n",
      " 4   Post Time        337 non-null    object \n",
      " 5   Comment Time     337 non-null    object \n",
      " 6   Cleaned Comment  337 non-null    object \n",
      " 7   FIRE Number      337 non-null    float64\n",
      "dtypes: float64(1), object(7)\n",
      "memory usage: 23.7+ KB\n"
     ]
    }
   ],
   "source": [
    "fire_df.info()"
   ]
  },
  {
   "cell_type": "code",
   "execution_count": 127,
   "metadata": {
    "colab": {
     "base_uri": "https://localhost:8080/",
     "height": 359
    },
    "id": "N1WUdTV8ctd0",
    "outputId": "2605a27a-c39f-45f1-ed52-ff4ca219b046"
   },
   "outputs": [
    {
     "data": {
      "text/html": [
       "<div>\n",
       "<style scoped>\n",
       "    .dataframe tbody tr th:only-of-type {\n",
       "        vertical-align: middle;\n",
       "    }\n",
       "\n",
       "    .dataframe tbody tr th {\n",
       "        vertical-align: top;\n",
       "    }\n",
       "\n",
       "    .dataframe thead th {\n",
       "        text-align: right;\n",
       "    }\n",
       "</style>\n",
       "<table border=\"1\" class=\"dataframe\">\n",
       "  <thead>\n",
       "    <tr style=\"text-align: right;\">\n",
       "      <th></th>\n",
       "      <th>Comment</th>\n",
       "      <th>Cleaned Comment</th>\n",
       "      <th>FIRE Number</th>\n",
       "    </tr>\n",
       "  </thead>\n",
       "  <tbody>\n",
       "    <tr>\n",
       "      <th>358</th>\n",
       "      <td>$2,000,000 gives us $80,000/year. That’s what ...</td>\n",
       "      <td>$2,000,000 gives us $80,000/year. thats what i...</td>\n",
       "      <td>2,000,000.00</td>\n",
       "    </tr>\n",
       "    <tr>\n",
       "      <th>270</th>\n",
       "      <td>650k for two of us. Though I'm considering pic...</td>\n",
       "      <td>650 thousand for two of us. though im consider...</td>\n",
       "      <td>650,000.00</td>\n",
       "    </tr>\n",
       "    <tr>\n",
       "      <th>177</th>\n",
       "      <td>$3M. Put it in indexes where avg return is 7% ...</td>\n",
       "      <td>$3m. put it in indexes where avg return is 7 a...</td>\n",
       "      <td>3,000,000.00</td>\n",
       "    </tr>\n",
       "    <tr>\n",
       "      <th>244</th>\n",
       "      <td>I think NYC has higher density of opportunitie...</td>\n",
       "      <td>i think nyc has higher density of opportunitie...</td>\n",
       "      <td>2,000,000.00</td>\n",
       "    </tr>\n",
       "    <tr>\n",
       "      <th>87</th>\n",
       "      <td>About 4.2 - 140-160k annual spend, not includi...</td>\n",
       "      <td>about 4.2 140160k annual spend, not including ...</td>\n",
       "      <td>140,160,000.00</td>\n",
       "    </tr>\n",
       "    <tr>\n",
       "      <th>73</th>\n",
       "      <td>I've looked into my numbers and I think at 60 ...</td>\n",
       "      <td>ive looked into my numbers and i think at 60 i...</td>\n",
       "      <td>8,000,000,000.00</td>\n",
       "    </tr>\n",
       "    <tr>\n",
       "      <th>337</th>\n",
       "      <td>$10 million. \\n\\nProbably not attainable, but ...</td>\n",
       "      <td>$10 million. probably not attainable, but that...</td>\n",
       "      <td>10,000,000.00</td>\n",
       "    </tr>\n",
       "    <tr>\n",
       "      <th>319</th>\n",
       "      <td>$2.5M.  Assuming no investment growth at all (...</td>\n",
       "      <td>$2.5m. assuming no investment growth at all an...</td>\n",
       "      <td>2,500,000.00</td>\n",
       "    </tr>\n",
       "    <tr>\n",
       "      <th>1227</th>\n",
       "      <td>No kids, 100Mil</td>\n",
       "      <td>no kids, 100 million</td>\n",
       "      <td>100,000,000.00</td>\n",
       "    </tr>\n",
       "    <tr>\n",
       "      <th>246</th>\n",
       "      <td>I’m from a LCOL area that offered nothing I wa...</td>\n",
       "      <td>im from a lcol area that offered nothing i was...</td>\n",
       "      <td>5,000,000.00</td>\n",
       "    </tr>\n",
       "  </tbody>\n",
       "</table>\n",
       "</div>"
      ],
      "text/plain": [
       "                                                Comment  \\\n",
       "358   $2,000,000 gives us $80,000/year. That’s what ...   \n",
       "270   650k for two of us. Though I'm considering pic...   \n",
       "177   $3M. Put it in indexes where avg return is 7% ...   \n",
       "244   I think NYC has higher density of opportunitie...   \n",
       "87    About 4.2 - 140-160k annual spend, not includi...   \n",
       "73    I've looked into my numbers and I think at 60 ...   \n",
       "337   $10 million. \\n\\nProbably not attainable, but ...   \n",
       "319   $2.5M.  Assuming no investment growth at all (...   \n",
       "1227                                    No kids, 100Mil   \n",
       "246   I’m from a LCOL area that offered nothing I wa...   \n",
       "\n",
       "                                        Cleaned Comment      FIRE Number  \n",
       "358   $2,000,000 gives us $80,000/year. thats what i...     2,000,000.00  \n",
       "270   650 thousand for two of us. though im consider...       650,000.00  \n",
       "177   $3m. put it in indexes where avg return is 7 a...     3,000,000.00  \n",
       "244   i think nyc has higher density of opportunitie...     2,000,000.00  \n",
       "87    about 4.2 140160k annual spend, not including ...   140,160,000.00  \n",
       "73    ive looked into my numbers and i think at 60 i... 8,000,000,000.00  \n",
       "337   $10 million. probably not attainable, but that...    10,000,000.00  \n",
       "319   $2.5m. assuming no investment growth at all an...     2,500,000.00  \n",
       "1227                               no kids, 100 million   100,000,000.00  \n",
       "246   im from a lcol area that offered nothing i was...     5,000,000.00  "
      ]
     },
     "execution_count": 127,
     "metadata": {},
     "output_type": "execute_result"
    }
   ],
   "source": [
    "# Check random samples to improve fire number extraction\n",
    "random_sample = fire_df.sample(n=10, random_state=62)\n",
    "random_sample[['Comment', 'Cleaned Comment', 'FIRE Number']]"
   ]
  },
  {
   "cell_type": "markdown",
   "metadata": {
    "id": "nDok5we7a9gV"
   },
   "source": [
    "### Year Extraction"
   ]
  },
  {
   "cell_type": "code",
   "execution_count": 128,
   "metadata": {
    "id": "sUTSlLY-a9gV"
   },
   "outputs": [],
   "source": [
    "fire_df['Post Year'] = pd.to_datetime(fire_df['Post Time']).dt.year\n",
    "fire_df['Comment Year'] = pd.to_datetime(fire_df['Comment Time']).dt.year"
   ]
  },
  {
   "cell_type": "code",
   "execution_count": 129,
   "metadata": {
    "colab": {
     "base_uri": "https://localhost:8080/",
     "height": 306
    },
    "id": "BeZ91tlGg4BZ",
    "outputId": "c2d159df-3861-462c-a66d-34bc5efd5723"
   },
   "outputs": [
    {
     "data": {
      "text/html": [
       "<div>\n",
       "<style scoped>\n",
       "    .dataframe tbody tr th:only-of-type {\n",
       "        vertical-align: middle;\n",
       "    }\n",
       "\n",
       "    .dataframe tbody tr th {\n",
       "        vertical-align: top;\n",
       "    }\n",
       "\n",
       "    .dataframe thead th {\n",
       "        text-align: right;\n",
       "    }\n",
       "</style>\n",
       "<table border=\"1\" class=\"dataframe\">\n",
       "  <thead>\n",
       "    <tr style=\"text-align: right;\">\n",
       "      <th></th>\n",
       "      <th>Thread ID</th>\n",
       "      <th>Title</th>\n",
       "      <th>User</th>\n",
       "      <th>Comment</th>\n",
       "      <th>Post Time</th>\n",
       "      <th>Comment Time</th>\n",
       "      <th>Cleaned Comment</th>\n",
       "      <th>FIRE Number</th>\n",
       "      <th>Post Year</th>\n",
       "      <th>Comment Year</th>\n",
       "    </tr>\n",
       "  </thead>\n",
       "  <tbody>\n",
       "    <tr>\n",
       "      <th>0</th>\n",
       "      <td>1fqzb0p</td>\n",
       "      <td>What is your fire number?</td>\n",
       "      <td>User 1</td>\n",
       "      <td>1.5m with paid off houses</td>\n",
       "      <td>2024-09-27 22:00:15</td>\n",
       "      <td>2024-09-27 22:14:27</td>\n",
       "      <td>1.5 million with paid off houses</td>\n",
       "      <td>1,500,000.00</td>\n",
       "      <td>2024</td>\n",
       "      <td>2024</td>\n",
       "    </tr>\n",
       "    <tr>\n",
       "      <th>1</th>\n",
       "      <td>1fqzb0p</td>\n",
       "      <td>What is your fire number?</td>\n",
       "      <td>User 2</td>\n",
       "      <td>I'm just waiting for someone to say something ...</td>\n",
       "      <td>2024-09-27 22:00:15</td>\n",
       "      <td>2024-09-27 22:43:43</td>\n",
       "      <td>im just waiting for someone to say something l...</td>\n",
       "      <td>1,000,000.00</td>\n",
       "      <td>2024</td>\n",
       "      <td>2024</td>\n",
       "    </tr>\n",
       "    <tr>\n",
       "      <th>2</th>\n",
       "      <td>1fqzb0p</td>\n",
       "      <td>What is your fire number?</td>\n",
       "      <td>User 3</td>\n",
       "      <td>$1.9m.  Targeting a few months after i turn 50...</td>\n",
       "      <td>2024-09-27 22:00:15</td>\n",
       "      <td>2024-09-27 22:24:04</td>\n",
       "      <td>$1.9m. targeting a few months after i turn 50 ...</td>\n",
       "      <td>1,900,000.00</td>\n",
       "      <td>2024</td>\n",
       "      <td>2024</td>\n",
       "    </tr>\n",
       "    <tr>\n",
       "      <th>3</th>\n",
       "      <td>1fqzb0p</td>\n",
       "      <td>What is your fire number?</td>\n",
       "      <td>User 4</td>\n",
       "      <td>On days I hate my job, 600k. The other days, d...</td>\n",
       "      <td>2024-09-27 22:00:15</td>\n",
       "      <td>2024-09-28 03:15:50</td>\n",
       "      <td>on days i hate my job, 600k. the other days, d...</td>\n",
       "      <td>3,000,000.00</td>\n",
       "      <td>2024</td>\n",
       "      <td>2024</td>\n",
       "    </tr>\n",
       "    <tr>\n",
       "      <th>4</th>\n",
       "      <td>1fqzb0p</td>\n",
       "      <td>What is your fire number?</td>\n",
       "      <td>User 5</td>\n",
       "      <td>$2M with a paid off house. So stressful to see...</td>\n",
       "      <td>2024-09-27 22:00:15</td>\n",
       "      <td>2024-09-27 22:59:17</td>\n",
       "      <td>2 million with a paid off house. so stressful ...</td>\n",
       "      <td>2,000,000.00</td>\n",
       "      <td>2024</td>\n",
       "      <td>2024</td>\n",
       "    </tr>\n",
       "  </tbody>\n",
       "</table>\n",
       "</div>"
      ],
      "text/plain": [
       "  Thread ID                       Title    User  \\\n",
       "0   1fqzb0p  What is your fire number?   User 1   \n",
       "1   1fqzb0p  What is your fire number?   User 2   \n",
       "2   1fqzb0p  What is your fire number?   User 3   \n",
       "3   1fqzb0p  What is your fire number?   User 4   \n",
       "4   1fqzb0p  What is your fire number?   User 5   \n",
       "\n",
       "                                             Comment            Post Time  \\\n",
       "0                          1.5m with paid off houses  2024-09-27 22:00:15   \n",
       "1  I'm just waiting for someone to say something ...  2024-09-27 22:00:15   \n",
       "2  $1.9m.  Targeting a few months after i turn 50...  2024-09-27 22:00:15   \n",
       "3  On days I hate my job, 600k. The other days, d...  2024-09-27 22:00:15   \n",
       "4  $2M with a paid off house. So stressful to see...  2024-09-27 22:00:15   \n",
       "\n",
       "          Comment Time                                    Cleaned Comment  \\\n",
       "0  2024-09-27 22:14:27                   1.5 million with paid off houses   \n",
       "1  2024-09-27 22:43:43  im just waiting for someone to say something l...   \n",
       "2  2024-09-27 22:24:04  $1.9m. targeting a few months after i turn 50 ...   \n",
       "3  2024-09-28 03:15:50  on days i hate my job, 600k. the other days, d...   \n",
       "4  2024-09-27 22:59:17  2 million with a paid off house. so stressful ...   \n",
       "\n",
       "   FIRE Number  Post Year  Comment Year  \n",
       "0 1,500,000.00       2024          2024  \n",
       "1 1,000,000.00       2024          2024  \n",
       "2 1,900,000.00       2024          2024  \n",
       "3 3,000,000.00       2024          2024  \n",
       "4 2,000,000.00       2024          2024  "
      ]
     },
     "execution_count": 129,
     "metadata": {},
     "output_type": "execute_result"
    }
   ],
   "source": [
    "# Display the first few rows of the DataFrame\n",
    "#print(\"FIRE Dataframe\\n\")\n",
    "fire_df.head()\n",
    "#print()\n",
    "\n",
    "# Print general information about the DataFrame with a proper newline\n",
    "#print(\"FIRE DataFrame General Info\\n\")\n",
    "#print(fire_df.info())"
   ]
  },
  {
   "cell_type": "markdown",
   "metadata": {
    "id": "RUGlwknIa9gV"
   },
   "source": [
    "### Graph number of posts by year"
   ]
  },
  {
   "cell_type": "code",
   "execution_count": 130,
   "metadata": {
    "colab": {
     "base_uri": "https://localhost:8080/",
     "height": 585
    },
    "id": "WRLjs18ta9gV",
    "outputId": "acb8f71b-2b74-4d2e-a948-2ba57a215726"
   },
   "outputs": [
    {
     "data": {
      "image/png": "[encoded data removed]",
      "text/plain": [
       "<Figure size 1000x600 with 1 Axes>"
      ]
     },
     "metadata": {},
     "output_type": "display_data"
    }
   ],
   "source": [
    "post_counts_by_year = fire_df.groupby('Post Year').size()\n",
    "plt.figure(figsize=(10, 6))\n",
    "post_counts_by_year.plot(kind='bar')\n",
    "plt.title('Number of Posts by Year')\n",
    "plt.xlabel('Year')\n",
    "plt.ylabel('Number of Posts')\n",
    "plt.xticks(rotation=45)\n",
    "plt.show()"
   ]
  },
  {
   "cell_type": "markdown",
   "metadata": {
    "id": "y02E9VFYa9gW"
   },
   "source": [
    "## Descriptive Stats"
   ]
  },
  {
   "cell_type": "markdown",
   "metadata": {
    "id": "0R_cVh8Ua9gW"
   },
   "source": [
    "### Handle outliers (1.5*IQR +/- Q1|Q3 Method)"
   ]
  },
  {
   "cell_type": "code",
   "execution_count": 131,
   "metadata": {
    "id": "KViQbDf0a9gW"
   },
   "outputs": [],
   "source": [
    "def cap_outliers(series):\n",
    "    Q1 = series.quantile(0.25)\n",
    "    Q3 = series.quantile(0.75)\n",
    "    IQR = Q3 - Q1\n",
    "    lower_bound = Q1 - 1.5 * IQR\n",
    "    upper_bound = Q3 + 1.5 * IQR\n",
    "    return series.clip(lower=lower_bound, upper=upper_bound)"
   ]
  },
  {
   "cell_type": "code",
   "execution_count": 132,
   "metadata": {
    "id": "sezQlC-wa9gW"
   },
   "outputs": [],
   "source": [
    "fire_df['Capped FIRE Number'] = cap_outliers(fire_df['FIRE Number'])"
   ]
  },
  {
   "cell_type": "markdown",
   "metadata": {
    "id": "fzogp4tsa9gW"
   },
   "source": [
    "### Mean and Median FIRE number by Post Year"
   ]
  },
  {
   "cell_type": "code",
   "execution_count": 133,
   "metadata": {
    "colab": {
     "base_uri": "https://localhost:8080/",
     "height": 204
    },
    "id": "uRf_V37pa9gW",
    "outputId": "13174ef2-3fa8-45cc-ff5c-1a8731ef0113"
   },
   "outputs": [
    {
     "data": {
      "text/html": [
       "<div>\n",
       "<style scoped>\n",
       "    .dataframe tbody tr th:only-of-type {\n",
       "        vertical-align: middle;\n",
       "    }\n",
       "\n",
       "    .dataframe tbody tr th {\n",
       "        vertical-align: top;\n",
       "    }\n",
       "\n",
       "    .dataframe thead th {\n",
       "        text-align: right;\n",
       "    }\n",
       "</style>\n",
       "<table border=\"1\" class=\"dataframe\">\n",
       "  <thead>\n",
       "    <tr style=\"text-align: right;\">\n",
       "      <th></th>\n",
       "      <th>Mean FIRE</th>\n",
       "      <th>Median FIRE</th>\n",
       "    </tr>\n",
       "    <tr>\n",
       "      <th>Post Year</th>\n",
       "      <th></th>\n",
       "      <th></th>\n",
       "    </tr>\n",
       "  </thead>\n",
       "  <tbody>\n",
       "    <tr>\n",
       "      <th>2021</th>\n",
       "      <td>4,099,614.43</td>\n",
       "      <td>2,925,000.00</td>\n",
       "    </tr>\n",
       "    <tr>\n",
       "      <th>2022</th>\n",
       "      <td>4,531,352.04</td>\n",
       "      <td>3,500,000.00</td>\n",
       "    </tr>\n",
       "    <tr>\n",
       "      <th>2023</th>\n",
       "      <td>4,174,685.19</td>\n",
       "      <td>2,500,000.00</td>\n",
       "    </tr>\n",
       "    <tr>\n",
       "      <th>2024</th>\n",
       "      <td>3,854,217.48</td>\n",
       "      <td>2,850,000.00</td>\n",
       "    </tr>\n",
       "  </tbody>\n",
       "</table>\n",
       "</div>"
      ],
      "text/plain": [
       "             Mean FIRE  Median FIRE\n",
       "Post Year                          \n",
       "2021      4,099,614.43 2,925,000.00\n",
       "2022      4,531,352.04 3,500,000.00\n",
       "2023      4,174,685.19 2,500,000.00\n",
       "2024      3,854,217.48 2,850,000.00"
      ]
     },
     "execution_count": 133,
     "metadata": {},
     "output_type": "execute_result"
    }
   ],
   "source": [
    "mean_fire_by_post_year = fire_df.groupby('Post Year')['Capped FIRE Number'].mean()\n",
    "median_fire_by_post_year = fire_df.groupby('Post Year')['Capped FIRE Number'].median()\n",
    "fire_stats_by_post_year = pd.DataFrame({\n",
    "    'Mean FIRE': mean_fire_by_post_year,\n",
    "    'Median FIRE': median_fire_by_post_year\n",
    "})\n",
    "pd.options.display.float_format = '{:,.2f}'.format\n",
    "fire_stats_by_post_year"
   ]
  },
  {
   "cell_type": "markdown",
   "metadata": {
    "id": "5LQSWCsia9gW"
   },
   "source": [
    "### Mean and Median FIRE number by Comment Year"
   ]
  },
  {
   "cell_type": "code",
   "execution_count": 134,
   "metadata": {
    "colab": {
     "base_uri": "https://localhost:8080/",
     "height": 204
    },
    "id": "qmG-9O7La9gW",
    "outputId": "d4cb86d3-dfc3-468d-9bd0-4e6a0e4d94ff"
   },
   "outputs": [
    {
     "data": {
      "text/html": [
       "<div>\n",
       "<style scoped>\n",
       "    .dataframe tbody tr th:only-of-type {\n",
       "        vertical-align: middle;\n",
       "    }\n",
       "\n",
       "    .dataframe tbody tr th {\n",
       "        vertical-align: top;\n",
       "    }\n",
       "\n",
       "    .dataframe thead th {\n",
       "        text-align: right;\n",
       "    }\n",
       "</style>\n",
       "<table border=\"1\" class=\"dataframe\">\n",
       "  <thead>\n",
       "    <tr style=\"text-align: right;\">\n",
       "      <th></th>\n",
       "      <th>Mean FIRE</th>\n",
       "      <th>Median FIRE</th>\n",
       "    </tr>\n",
       "    <tr>\n",
       "      <th>Comment Year</th>\n",
       "      <th></th>\n",
       "      <th></th>\n",
       "    </tr>\n",
       "  </thead>\n",
       "  <tbody>\n",
       "    <tr>\n",
       "      <th>2021</th>\n",
       "      <td>4,089,085.21</td>\n",
       "      <td>2,850,000.00</td>\n",
       "    </tr>\n",
       "    <tr>\n",
       "      <th>2022</th>\n",
       "      <td>4,531,352.04</td>\n",
       "      <td>3,500,000.00</td>\n",
       "    </tr>\n",
       "    <tr>\n",
       "      <th>2023</th>\n",
       "      <td>4,247,792.45</td>\n",
       "      <td>2,500,000.00</td>\n",
       "    </tr>\n",
       "    <tr>\n",
       "      <th>2024</th>\n",
       "      <td>3,835,507.33</td>\n",
       "      <td>2,850,000.00</td>\n",
       "    </tr>\n",
       "  </tbody>\n",
       "</table>\n",
       "</div>"
      ],
      "text/plain": [
       "                Mean FIRE  Median FIRE\n",
       "Comment Year                          \n",
       "2021         4,089,085.21 2,850,000.00\n",
       "2022         4,531,352.04 3,500,000.00\n",
       "2023         4,247,792.45 2,500,000.00\n",
       "2024         3,835,507.33 2,850,000.00"
      ]
     },
     "execution_count": 134,
     "metadata": {},
     "output_type": "execute_result"
    }
   ],
   "source": [
    "mean_fire_by_comment_year = fire_df.groupby('Comment Year')['Capped FIRE Number'].mean()\n",
    "median_fire_by_comment_year = fire_df.groupby('Comment Year')['Capped FIRE Number'].median()\n",
    "fire_stats_by_comment_year = pd.DataFrame({\n",
    "    'Mean FIRE': mean_fire_by_comment_year,\n",
    "    'Median FIRE': median_fire_by_comment_year\n",
    "})\n",
    "pd.options.display.float_format = '{:,.2f}'.format\n",
    "fire_stats_by_comment_year"
   ]
  },
  {
   "cell_type": "markdown",
   "metadata": {
    "id": "FFWfDVgBY5B1"
   },
   "source": [
    "### Create CountVectorizer matrix for the cleaned comments"
   ]
  },
  {
   "cell_type": "code",
   "execution_count": 135,
   "metadata": {
    "id": "ZZIhBW_9Y5B1"
   },
   "outputs": [],
   "source": [
    "vectorizer_ct = CountVectorizer(stop_words='english')\n",
    "X_ct = vectorizer_ct.fit_transform(fire_df['Cleaned Comment'])"
   ]
  },
  {
   "cell_type": "markdown",
   "metadata": {
    "id": "TmTvoqbBY5B1"
   },
   "source": [
    "### Create Term Frequency - Inverse Document Frequency scored vectors"
   ]
  },
  {
   "cell_type": "code",
   "execution_count": 136,
   "metadata": {
    "id": "xVoudGrAY5B1"
   },
   "outputs": [],
   "source": [
    "vectorizer_tfidf = TfidfVectorizer(stop_words='english', max_features=1000) # Cap the size for memory\n",
    "X_tfidf = vectorizer_tfidf.fit_transform(fire_df['Cleaned Comment'])"
   ]
  },
  {
   "cell_type": "code",
   "execution_count": 137,
   "metadata": {
    "id": "jp03kvPmv-r3"
   },
   "outputs": [],
   "source": [
    "# Save the CountVectorizer to a file\n",
    "\n",
    "with open('vectorizer_ct.pkl', 'wb') as f:\n",
    "    pickle.dump(vectorizer_ct, f)"
   ]
  },
  {
   "cell_type": "code",
   "execution_count": 138,
   "metadata": {
    "id": "lnlpaKaAv-r3"
   },
   "outputs": [],
   "source": [
    "# Save the TfidfVectorizer to a file\n",
    "with open('vectorizer_tfidf.pkl', 'wb') as f:\n",
    "    pickle.dump(vectorizer_tfidf, f)"
   ]
  },
  {
   "cell_type": "code",
   "execution_count": 139,
   "metadata": {
    "id": "YPoeoKeuv-r3"
   },
   "outputs": [],
   "source": [
    "# Save the CountVectorizer to a file\n",
    "with open('vectorizer_ct.pkl', 'rb') as f:\n",
    "    vectorizer_ct = pickle.load(f)\n",
    "\n",
    "with open('vectorizer_tfidf.pkl', 'rb') as f:\n",
    "    vectorizer_tfidf = pickle.load(f)\n"
   ]
  },
  {
   "cell_type": "markdown",
   "metadata": {
    "id": "aGVXY5VjzzLF",
    "jp-MarkdownHeadingCollapsed": true
   },
   "source": [
    "## Exploratory Data Analysis"
   ]
  },
  {
   "cell_type": "code",
   "execution_count": 140,
   "metadata": {
    "colab": {
     "base_uri": "https://localhost:8080/",
     "height": 204
    },
    "id": "gnD4Njcfz19w",
    "outputId": "6d34547d-62ae-4866-e488-47b39bd3a32d"
   },
   "outputs": [
    {
     "data": {
      "text/html": [
       "<div>\n",
       "<style scoped>\n",
       "    .dataframe tbody tr th:only-of-type {\n",
       "        vertical-align: middle;\n",
       "    }\n",
       "\n",
       "    .dataframe tbody tr th {\n",
       "        vertical-align: top;\n",
       "    }\n",
       "\n",
       "    .dataframe thead th {\n",
       "        text-align: right;\n",
       "    }\n",
       "</style>\n",
       "<table border=\"1\" class=\"dataframe\">\n",
       "  <thead>\n",
       "    <tr style=\"text-align: right;\">\n",
       "      <th></th>\n",
       "      <th>Thread ID</th>\n",
       "      <th>Title</th>\n",
       "      <th>User</th>\n",
       "      <th>Post Time</th>\n",
       "      <th>Comment Time</th>\n",
       "      <th>FIRE Number</th>\n",
       "    </tr>\n",
       "  </thead>\n",
       "  <tbody>\n",
       "    <tr>\n",
       "      <th>0</th>\n",
       "      <td>1fqzb0p</td>\n",
       "      <td>What is your fire number?</td>\n",
       "      <td>User 1</td>\n",
       "      <td>2024-09-27 22:00:15</td>\n",
       "      <td>2024-09-27 22:14:27</td>\n",
       "      <td>1,500,000.00</td>\n",
       "    </tr>\n",
       "    <tr>\n",
       "      <th>1</th>\n",
       "      <td>1fqzb0p</td>\n",
       "      <td>What is your fire number?</td>\n",
       "      <td>User 2</td>\n",
       "      <td>2024-09-27 22:00:15</td>\n",
       "      <td>2024-09-27 22:43:43</td>\n",
       "      <td>1,000,000.00</td>\n",
       "    </tr>\n",
       "    <tr>\n",
       "      <th>2</th>\n",
       "      <td>1fqzb0p</td>\n",
       "      <td>What is your fire number?</td>\n",
       "      <td>User 3</td>\n",
       "      <td>2024-09-27 22:00:15</td>\n",
       "      <td>2024-09-27 22:24:04</td>\n",
       "      <td>1,900,000.00</td>\n",
       "    </tr>\n",
       "    <tr>\n",
       "      <th>3</th>\n",
       "      <td>1fqzb0p</td>\n",
       "      <td>What is your fire number?</td>\n",
       "      <td>User 4</td>\n",
       "      <td>2024-09-27 22:00:15</td>\n",
       "      <td>2024-09-28 03:15:50</td>\n",
       "      <td>3,000,000.00</td>\n",
       "    </tr>\n",
       "    <tr>\n",
       "      <th>4</th>\n",
       "      <td>1fqzb0p</td>\n",
       "      <td>What is your fire number?</td>\n",
       "      <td>User 5</td>\n",
       "      <td>2024-09-27 22:00:15</td>\n",
       "      <td>2024-09-27 22:59:17</td>\n",
       "      <td>2,000,000.00</td>\n",
       "    </tr>\n",
       "  </tbody>\n",
       "</table>\n",
       "</div>"
      ],
      "text/plain": [
       "  Thread ID                       Title    User            Post Time  \\\n",
       "0   1fqzb0p  What is your fire number?   User 1  2024-09-27 22:00:15   \n",
       "1   1fqzb0p  What is your fire number?   User 2  2024-09-27 22:00:15   \n",
       "2   1fqzb0p  What is your fire number?   User 3  2024-09-27 22:00:15   \n",
       "3   1fqzb0p  What is your fire number?   User 4  2024-09-27 22:00:15   \n",
       "4   1fqzb0p  What is your fire number?   User 5  2024-09-27 22:00:15   \n",
       "\n",
       "          Comment Time  FIRE Number  \n",
       "0  2024-09-27 22:14:27 1,500,000.00  \n",
       "1  2024-09-27 22:43:43 1,000,000.00  \n",
       "2  2024-09-27 22:24:04 1,900,000.00  \n",
       "3  2024-09-28 03:15:50 3,000,000.00  \n",
       "4  2024-09-27 22:59:17 2,000,000.00  "
      ]
     },
     "execution_count": 140,
     "metadata": {},
     "output_type": "execute_result"
    }
   ],
   "source": [
    "# Create a copy of fire_df with specific columns\n",
    "fire_df_copy = fire_df[['Thread ID', 'Title', 'User', 'Post Time', 'Comment Time', 'FIRE Number']].copy()\n",
    "\n",
    "# Copy DataFrame\n",
    "fire_df_copy.head()"
   ]
  },
  {
   "cell_type": "code",
   "execution_count": 141,
   "metadata": {
    "colab": {
     "base_uri": "https://localhost:8080/",
     "height": 404
    },
    "id": "2zDWXueDz2OT",
    "outputId": "bb89297b-011e-4d39-8771-d6414f306df3"
   },
   "outputs": [
    {
     "data": {
      "image/png": "[encoded data removed]",
      "text/plain": [
       "<Figure size 1000x600 with 1 Axes>"
      ]
     },
     "metadata": {},
     "output_type": "display_data"
    }
   ],
   "source": [
    "# The frequency of users by title\n",
    "user_counts = fire_df_copy['Title'].value_counts().reset_index()\n",
    "user_counts.columns = ['Title', 'Frequency']\n",
    "\n",
    "# Bar Plot\n",
    "plt.figure(figsize=(10, 6))\n",
    "sns.barplot(x='Frequency', y='Title', data=user_counts, palette='viridis')\n",
    "plt.title('Frequency of Users by Title')\n",
    "plt.xlabel('Number of Users')\n",
    "plt.ylabel('Title')\n",
    "plt.show()"
   ]
  },
  {
   "cell_type": "code",
   "execution_count": 142,
   "metadata": {
    "colab": {
     "base_uri": "https://localhost:8080/",
     "height": 564
    },
    "id": "BYbccsi8wOmg",
    "outputId": "743942e1-691e-42b9-b443-853249706837"
   },
   "outputs": [
    {
     "data": {
      "image/png": "[encoded data removed]",
      "text/plain": [
       "<Figure size 1000x600 with 1 Axes>"
      ]
     },
     "metadata": {},
     "output_type": "display_data"
    }
   ],
   "source": [
    "# Convert 'Post Time' to datetime\n",
    "fire_df_copy['Post Time'] = pd.to_datetime(fire_df_copy['Post Time'])\n",
    "\n",
    "# Extract the year from 'Post Time'\n",
    "fire_df_copy['Post Year'] = fire_df_copy['Post Time'].dt.year\n",
    "\n",
    "# Count the frequency of users per post year\n",
    "user_counts = fire_df_copy.groupby('Post Year').size().reset_index(name='Frequency')\n",
    "\n",
    "# Create the seaborn bar plot\n",
    "plt.figure(figsize=(10, 6))\n",
    "sns.barplot(x='Post Year', y='Frequency', data=user_counts, palette='viridis')\n",
    "plt.title('Frequency of Users per Post Year')\n",
    "plt.xlabel('Post Year')\n",
    "plt.ylabel('Number of Users')\n",
    "plt.xticks(rotation=0)  # No rotation needed for years\n",
    "plt.show()"
   ]
  },
  {
   "cell_type": "code",
   "execution_count": 143,
   "metadata": {
    "colab": {
     "base_uri": "https://localhost:8080/",
     "height": 607
    },
    "id": "cUvccYSUwOcf",
    "outputId": "fc9fb489-5390-4b7b-85dd-3b039d3f17b1"
   },
   "outputs": [
    {
     "data": {
      "image/png": "[encoded data removed]",
      "text/plain": [
       "<Figure size 1000x600 with 1 Axes>"
      ]
     },
     "metadata": {},
     "output_type": "display_data"
    }
   ],
   "source": [
    "# Convert 'Comment Time' to datetime\n",
    "fire_df_copy['Comment Time'] = pd.to_datetime(fire_df_copy['Comment Time'])\n",
    "\n",
    "# Extract Month-Year and create a new column\n",
    "fire_df_copy['Month-Year'] = fire_df_copy['Comment Time'].dt.to_period('M')\n",
    "\n",
    "# Clean the 'FIRE Number' column by removing commas\n",
    "fire_df_copy['FIRE Number'] = fire_df_copy['FIRE Number'].replace(',', '')\n",
    "\n",
    "# Filter out FIRE numbers greater than 1 billion\n",
    "fire_df_copy = fire_df_copy[fire_df_copy['FIRE Number'] <= 1_000_000_000]\n",
    "\n",
    "# Group by Month-Year and calculate mean and median\n",
    "monthly_stats = fire_df_copy.groupby('Month-Year')['FIRE Number'].agg(['mean', 'median'])\n",
    "\n",
    "# Calculate mode separately since it can return multiple values\n",
    "mode_series = fire_df_copy.groupby('Month-Year')['FIRE Number'].agg(lambda x: x.mode()[0] if not x.mode().empty else np.nan)\n",
    "monthly_stats['mode'] = mode_series\n",
    "\n",
    "# Plotting the statistics\n",
    "plt.figure(figsize=(10, 6))\n",
    "plt.plot(monthly_stats.index.astype(str), monthly_stats['mean'], marker='o', label='Mean FIRE Number', color='darkblue')\n",
    "plt.plot(monthly_stats.index.astype(str), monthly_stats['median'], marker='o', label='Median FIRE Number', color='pink')\n",
    "plt.plot(monthly_stats.index.astype(str), monthly_stats['mode'], marker='o', label='Mode FIRE Number', color='darkgreen')\n",
    "\n",
    "# Adding labels and title\n",
    "plt.title('Mean, Median, and Mode FIRE Numbers Over Time (Filtered Out > 1B)')\n",
    "plt.xlabel('Month-Year')\n",
    "plt.ylabel('FIRE Number')\n",
    "plt.xticks(rotation=45)\n",
    "plt.legend()\n",
    "plt.grid()\n",
    "plt.tight_layout()\n",
    "plt.show()"
   ]
  },
  {
   "cell_type": "markdown",
   "metadata": {
    "id": "whSTLV6cx5n8"
   },
   "source": [
    "# Model Development"
   ]
  },
  {
   "cell_type": "markdown",
   "metadata": {
    "id": "OWzzmb7wyh18"
   },
   "source": [
    "## Topic Modeling"
   ]
  },
  {
   "cell_type": "markdown",
   "metadata": {
    "id": "qBSpIYXYY5B2"
   },
   "source": [
    "### Latent Dirichlet Allocation"
   ]
  },
  {
   "cell_type": "code",
   "execution_count": 144,
   "metadata": {
    "colab": {
     "base_uri": "https://localhost:8080/",
     "height": 80
    },
    "id": "acv2VS3wx9q8",
    "outputId": "97278a22-5cbf-41ab-f213-b691fac0d73f"
   },
   "outputs": [
    {
     "data": {
      "text/html": [
       "<style>#sk-container-id-5 {color: black;background-color: white;}#sk-container-id-5 pre{padding: 0;}#sk-container-id-5 div.sk-toggleable {background-color: white;}#sk-container-id-5 label.sk-toggleable__label {cursor: pointer;display: block;width: 100%;margin-bottom: 0;padding: 0.3em;box-sizing: border-box;text-align: center;}#sk-container-id-5 label.sk-toggleable__label-arrow:before {content: \"▸\";float: left;margin-right: 0.25em;color: #696969;}#sk-container-id-5 label.sk-toggleable__label-arrow:hover:before {color: black;}#sk-container-id-5 div.sk-estimator:hover label.sk-toggleable__label-arrow:before {color: black;}#sk-container-id-5 div.sk-toggleable__content {max-height: 0;max-width: 0;overflow: hidden;text-align: left;background-color: #f0f8ff;}#sk-container-id-5 div.sk-toggleable__content pre {margin: 0.2em;color: black;border-radius: 0.25em;background-color: #f0f8ff;}#sk-container-id-5 input.sk-toggleable__control:checked~div.sk-toggleable__content {max-height: 200px;max-width: 100%;overflow: auto;}#sk-container-id-5 input.sk-toggleable__control:checked~label.sk-toggleable__label-arrow:before {content: \"▾\";}#sk-container-id-5 div.sk-estimator input.sk-toggleable__control:checked~label.sk-toggleable__label {background-color: #d4ebff;}#sk-container-id-5 div.sk-label input.sk-toggleable__control:checked~label.sk-toggleable__label {background-color: #d4ebff;}#sk-container-id-5 input.sk-hidden--visually {border: 0;clip: rect(1px 1px 1px 1px);clip: rect(1px, 1px, 1px, 1px);height: 1px;margin: -1px;overflow: hidden;padding: 0;position: absolute;width: 1px;}#sk-container-id-5 div.sk-estimator {font-family: monospace;background-color: #f0f8ff;border: 1px dotted black;border-radius: 0.25em;box-sizing: border-box;margin-bottom: 0.5em;}#sk-container-id-5 div.sk-estimator:hover {background-color: #d4ebff;}#sk-container-id-5 div.sk-parallel-item::after {content: \"\";width: 100%;border-bottom: 1px solid gray;flex-grow: 1;}#sk-container-id-5 div.sk-label:hover label.sk-toggleable__label {background-color: #d4ebff;}#sk-container-id-5 div.sk-serial::before {content: \"\";position: absolute;border-left: 1px solid gray;box-sizing: border-box;top: 0;bottom: 0;left: 50%;z-index: 0;}#sk-container-id-5 div.sk-serial {display: flex;flex-direction: column;align-items: center;background-color: white;padding-right: 0.2em;padding-left: 0.2em;position: relative;}#sk-container-id-5 div.sk-item {position: relative;z-index: 1;}#sk-container-id-5 div.sk-parallel {display: flex;align-items: stretch;justify-content: center;background-color: white;position: relative;}#sk-container-id-5 div.sk-item::before, #sk-container-id-5 div.sk-parallel-item::before {content: \"\";position: absolute;border-left: 1px solid gray;box-sizing: border-box;top: 0;bottom: 0;left: 50%;z-index: -1;}#sk-container-id-5 div.sk-parallel-item {display: flex;flex-direction: column;z-index: 1;position: relative;background-color: white;}#sk-container-id-5 div.sk-parallel-item:first-child::after {align-self: flex-end;width: 50%;}#sk-container-id-5 div.sk-parallel-item:last-child::after {align-self: flex-start;width: 50%;}#sk-container-id-5 div.sk-parallel-item:only-child::after {width: 0;}#sk-container-id-5 div.sk-dashed-wrapped {border: 1px dashed gray;margin: 0 0.4em 0.5em 0.4em;box-sizing: border-box;padding-bottom: 0.4em;background-color: white;}#sk-container-id-5 div.sk-label label {font-family: monospace;font-weight: bold;display: inline-block;line-height: 1.2em;}#sk-container-id-5 div.sk-label-container {text-align: center;}#sk-container-id-5 div.sk-container {/* jupyter's `normalize.less` sets `[hidden] { display: none; }` but bootstrap.min.css set `[hidden] { display: none !important; }` so we also need the `!important` here to be able to override the default hidden behavior on the sphinx rendered scikit-learn.org. See: https://github.com/scikit-learn/scikit-learn/issues/21755 */display: inline-block !important;position: relative;}#sk-container-id-5 div.sk-text-repr-fallback {display: none;}</style><div id=\"sk-container-id-5\" class=\"sk-top-container\"><div class=\"sk-text-repr-fallback\"><pre>LatentDirichletAllocation(n_components=5, random_state=509)</pre><b>In a Jupyter environment, please rerun this cell to show the HTML representation or trust the notebook. <br />On GitHub, the HTML representation is unable to render, please try loading this page with nbviewer.org.</b></div><div class=\"sk-container\" hidden><div class=\"sk-item\"><div class=\"sk-estimator sk-toggleable\"><input class=\"sk-toggleable__control sk-hidden--visually\" id=\"sk-estimator-id-5\" type=\"checkbox\" checked><label for=\"sk-estimator-id-5\" class=\"sk-toggleable__label sk-toggleable__label-arrow\">LatentDirichletAllocation</label><div class=\"sk-toggleable__content\"><pre>LatentDirichletAllocation(n_components=5, random_state=509)</pre></div></div></div></div></div>"
      ],
      "text/plain": [
       "LatentDirichletAllocation(n_components=5, random_state=509)"
      ]
     },
     "execution_count": 144,
     "metadata": {},
     "output_type": "execute_result"
    }
   ],
   "source": [
    "lda = LatentDirichletAllocation(n_components=5, random_state=509)\n",
    "lda.fit(X_ct)"
   ]
  },
  {
   "cell_type": "markdown",
   "metadata": {
    "id": "OyuWvGe3Y5B2"
   },
   "source": [
    "#### Examine topics from LDA at n=5 topics (arbritrary)"
   ]
  },
  {
   "cell_type": "code",
   "execution_count": 145,
   "metadata": {
    "id": "CIiV3Do_x9_6"
   },
   "outputs": [],
   "source": [
    "def display_topics(model, feature_names, num_top_words):\n",
    "    for topic_idx, topic in enumerate(model.components_):\n",
    "        print(f\"Topic {topic_idx}:\")\n",
    "\n",
    "        #For each topic, go through index i and retrieve word from that location\n",
    "        #Topic is a vector of weights of each word for a given topic (higher = more important)\n",
    "        #argsort() return indices of elements in topic in ascending importance\n",
    "        #:-num_top_words - 1 = Start from last element -1 and move back num_top_words positions\n",
    "        # --- This is to remove the lesser important words for interpretation purposes\n",
    "        # -1 reverse order so it's descending now that noisy words are removed.\n",
    "        print(\" \".join([feature_names[i] for i in topic.argsort()[:-num_top_words - 1:-1]]))"
   ]
  },
  {
   "cell_type": "code",
   "execution_count": 146,
   "metadata": {
    "colab": {
     "base_uri": "https://localhost:8080/"
    },
    "id": "W3nXwVFPY5B2",
    "outputId": "a5aee201-2f17-48b6-d3c3-9ddef1c5590b"
   },
   "outputs": [
    {
     "name": "stdout",
     "output_type": "stream",
     "text": [
      "Topic 0:\n",
      "million thousand im number cash income living net expenses ill\n",
      "Topic 1:\n",
      "million thousand im year time 40 number travel work change\n",
      "Topic 2:\n",
      "im thousand million years paid house retirement family just number\n",
      "Topic 3:\n",
      "million live kids number life years like area want year\n",
      "Topic 4:\n",
      "million house paid thousand years im live number want ill\n"
     ]
    }
   ],
   "source": [
    "feature_names_lda = vectorizer_ct.get_feature_names_out()\n",
    "num_top_words = 10\n",
    "display_topics(lda, feature_names_lda, num_top_words)"
   ]
  },
  {
   "cell_type": "markdown",
   "metadata": {
    "id": "Mtn10MngY5B2"
   },
   "source": [
    "#### Result\n",
    "Selecting n_components=5 might not be the correct number of topics to be able to clearly separate words into themes. Need to try another topic number."
   ]
  },
  {
   "cell_type": "markdown",
   "metadata": {
    "id": "lP_Z_3UIY5B2"
   },
   "source": [
    "### Retry LDA with n_components=8"
   ]
  },
  {
   "cell_type": "code",
   "execution_count": 147,
   "metadata": {
    "colab": {
     "base_uri": "https://localhost:8080/"
    },
    "id": "rUAPntZ4Y5B2",
    "outputId": "13114828-95fd-4ec1-e62b-7ec58b5bc28d"
   },
   "outputs": [
    {
     "name": "stdout",
     "output_type": "stream",
     "text": [
      "Topic 0:\n",
      "million cash number thousand im expenses income living flow work\n",
      "Topic 1:\n",
      "million thousand travel live number year time like kids years\n",
      "Topic 2:\n",
      "im thousand million years house paid friends area family good\n",
      "Topic 3:\n",
      "million kids like want years number life right live city\n",
      "Topic 4:\n",
      "million thousand live want liquid years im area paid house\n",
      "Topic 5:\n",
      "retirement mortgage 333 5m 000 rate year accounts need rental\n",
      "Topic 6:\n",
      "million house paid years ill im 000 number 10 need\n",
      "Topic 7:\n",
      "million thousand im house number pension work mortgage probably years\n"
     ]
    }
   ],
   "source": [
    "lda = LatentDirichletAllocation(n_components=8, random_state=509)\n",
    "lda.fit(X_ct)\n",
    "feature_names_lda = vectorizer_ct.get_feature_names_out()\n",
    "num_top_words = 10\n",
    "display_topics(lda, feature_names_lda, num_top_words)"
   ]
  },
  {
   "cell_type": "markdown",
   "metadata": {
    "id": "csxb166Yv-r4"
   },
   "source": [
    "This code below trains an LDA model and then saves both the model and the vectorizer to separate files so they can be reused without needing to retrain or refit."
   ]
  },
  {
   "cell_type": "code",
   "execution_count": 148,
   "metadata": {
    "id": "eq5UzMfSv-r4"
   },
   "outputs": [],
   "source": [
    "# Fit the LDA model\n",
    "lda = LatentDirichletAllocation(n_components=8, random_state=509)\n",
    "lda.fit(X_ct)\n",
    "\n",
    "# Save the model to a file\n",
    "with open('lda_model.pkl', 'wb') as f:\n",
    "    pickle.dump(lda, f)\n",
    "\n",
    "# Save the vectorizer as well, if needed\n",
    "with open('vectorizer_ct.pkl', 'wb') as f:\n",
    "    pickle.dump(vectorizer_ct, f)"
   ]
  },
  {
   "cell_type": "markdown",
   "metadata": {
    "id": "n7rpiwjEY5B2"
   },
   "source": [
    "## DEPENDENCY.\n",
    "Need to find a way to import a date of post or age of post so the model below can extract some sort of time or year for a time-series chart. Else, will have to select a different groupby."
   ]
  },
  {
   "cell_type": "markdown",
   "metadata": {
    "id": "jlph2UdiyoDb"
   },
   "source": [
    "### Sentiment Analysis with VaderSentiment\n",
    "\n",
    "Reference\n",
    "\n",
    "Hutto, C. J., Klein, E., Pantone, P., Berry, G., & Suresh, M. (2024, August 19). Documentation source code for nltk.sentiment.vader. https://www.nltk.org/_modules/nltk/sentiment/vader.html"
   ]
  },
  {
   "cell_type": "code",
   "execution_count": 149,
   "metadata": {
    "colab": {
     "base_uri": "https://localhost:8080/"
    },
    "id": "ujsFG-jxY5B2",
    "outputId": "d358fc76-dd62-4fe2-8e20-8ce329f81ca0"
   },
   "outputs": [
    {
     "name": "stderr",
     "output_type": "stream",
     "text": [
      "[nltk_data] Downloading package vader_lexicon to\n",
      "[nltk_data]     /Users/itzelcruz/nltk_data...\n",
      "[nltk_data]   Package vader_lexicon is already up-to-date!\n"
     ]
    },
    {
     "data": {
      "text/plain": [
       "True"
      ]
     },
     "execution_count": 149,
     "metadata": {},
     "output_type": "execute_result"
    }
   ],
   "source": [
    "nltk.download('vader_lexicon')"
   ]
  },
  {
   "cell_type": "code",
   "execution_count": 150,
   "metadata": {
    "id": "lGPDOUYiyxEQ"
   },
   "outputs": [],
   "source": [
    "analyzer = SentimentIntensityAnalyzer() # Intialize the analyzer as object"
   ]
  },
  {
   "cell_type": "code",
   "execution_count": 151,
   "metadata": {
    "id": "OHpvXG25Y5B3"
   },
   "outputs": [],
   "source": [
    "def get_sentiment_score(comment):\n",
    "    scores = analyzer.polarity_scores(comment)\n",
    "    return pd.Series([scores['neg'], scores['neu'], scores['pos'], scores['compound']],\n",
    "                    index=['Negative', 'Neutral', 'Positive', 'Compound'])"
   ]
  },
  {
   "cell_type": "code",
   "execution_count": 152,
   "metadata": {
    "id": "INc9LHvDyxVr"
   },
   "outputs": [],
   "source": [
    "fire_df[['Negative', 'Neutral', 'Positive', 'Compound']] = fire_df['Cleaned Comment'].apply(get_sentiment_score)"
   ]
  },
  {
   "cell_type": "code",
   "execution_count": 153,
   "metadata": {
    "colab": {
     "base_uri": "https://localhost:8080/",
     "height": 359
    },
    "id": "Jg4P7_ZfY5B3",
    "outputId": "953dba00-4da6-4d4f-ee3d-2bc58c47241d"
   },
   "outputs": [
    {
     "data": {
      "text/html": [
       "<div>\n",
       "<style scoped>\n",
       "    .dataframe tbody tr th:only-of-type {\n",
       "        vertical-align: middle;\n",
       "    }\n",
       "\n",
       "    .dataframe tbody tr th {\n",
       "        vertical-align: top;\n",
       "    }\n",
       "\n",
       "    .dataframe thead th {\n",
       "        text-align: right;\n",
       "    }\n",
       "</style>\n",
       "<table border=\"1\" class=\"dataframe\">\n",
       "  <thead>\n",
       "    <tr style=\"text-align: right;\">\n",
       "      <th></th>\n",
       "      <th>Cleaned Comment</th>\n",
       "      <th>Negative</th>\n",
       "      <th>Neutral</th>\n",
       "      <th>Positive</th>\n",
       "      <th>Compound</th>\n",
       "      <th>FIRE Number</th>\n",
       "    </tr>\n",
       "  </thead>\n",
       "  <tbody>\n",
       "    <tr>\n",
       "      <th>0</th>\n",
       "      <td>1.5 million with paid off houses</td>\n",
       "      <td>0.00</td>\n",
       "      <td>1.00</td>\n",
       "      <td>0.00</td>\n",
       "      <td>0.00</td>\n",
       "      <td>1,500,000.00</td>\n",
       "    </tr>\n",
       "    <tr>\n",
       "      <th>1</th>\n",
       "      <td>im just waiting for someone to say something l...</td>\n",
       "      <td>0.17</td>\n",
       "      <td>0.83</td>\n",
       "      <td>0.00</td>\n",
       "      <td>-0.40</td>\n",
       "      <td>1,000,000.00</td>\n",
       "    </tr>\n",
       "    <tr>\n",
       "      <th>2</th>\n",
       "      <td>$1.9m. targeting a few months after i turn 50 ...</td>\n",
       "      <td>0.07</td>\n",
       "      <td>0.93</td>\n",
       "      <td>0.00</td>\n",
       "      <td>-0.15</td>\n",
       "      <td>1,900,000.00</td>\n",
       "    </tr>\n",
       "    <tr>\n",
       "      <th>3</th>\n",
       "      <td>on days i hate my job, 600k. the other days, d...</td>\n",
       "      <td>0.17</td>\n",
       "      <td>0.83</td>\n",
       "      <td>0.00</td>\n",
       "      <td>-0.57</td>\n",
       "      <td>3,000,000.00</td>\n",
       "    </tr>\n",
       "    <tr>\n",
       "      <th>4</th>\n",
       "      <td>2 million with a paid off house. so stressful ...</td>\n",
       "      <td>0.23</td>\n",
       "      <td>0.77</td>\n",
       "      <td>0.00</td>\n",
       "      <td>-0.64</td>\n",
       "      <td>2,000,000.00</td>\n",
       "    </tr>\n",
       "    <tr>\n",
       "      <th>5</th>\n",
       "      <td>our target back in 2014 was 1.2 million and a ...</td>\n",
       "      <td>0.06</td>\n",
       "      <td>0.87</td>\n",
       "      <td>0.07</td>\n",
       "      <td>-0.34</td>\n",
       "      <td>1,400,000.00</td>\n",
       "    </tr>\n",
       "    <tr>\n",
       "      <th>6</th>\n",
       "      <td>500 thousand give or take, but i am not retiri...</td>\n",
       "      <td>0.00</td>\n",
       "      <td>1.00</td>\n",
       "      <td>0.00</td>\n",
       "      <td>0.00</td>\n",
       "      <td>500,000.00</td>\n",
       "    </tr>\n",
       "    <tr>\n",
       "      <th>7</th>\n",
       "      <td>i started at 1.5 million 1015 years ago. now, ...</td>\n",
       "      <td>0.06</td>\n",
       "      <td>0.80</td>\n",
       "      <td>0.15</td>\n",
       "      <td>0.40</td>\n",
       "      <td>3,000,000.00</td>\n",
       "    </tr>\n",
       "    <tr>\n",
       "      <th>8</th>\n",
       "      <td>re ship sailed, but still working on fi. house...</td>\n",
       "      <td>0.00</td>\n",
       "      <td>0.91</td>\n",
       "      <td>0.09</td>\n",
       "      <td>0.61</td>\n",
       "      <td>4,000,000.00</td>\n",
       "    </tr>\n",
       "    <tr>\n",
       "      <th>9</th>\n",
       "      <td>funny to read all these numbers while the medi...</td>\n",
       "      <td>0.00</td>\n",
       "      <td>0.66</td>\n",
       "      <td>0.34</td>\n",
       "      <td>0.77</td>\n",
       "      <td>400,000.00</td>\n",
       "    </tr>\n",
       "  </tbody>\n",
       "</table>\n",
       "</div>"
      ],
      "text/plain": [
       "                                     Cleaned Comment  Negative  Neutral  \\\n",
       "0                   1.5 million with paid off houses      0.00     1.00   \n",
       "1  im just waiting for someone to say something l...      0.17     0.83   \n",
       "2  $1.9m. targeting a few months after i turn 50 ...      0.07     0.93   \n",
       "3  on days i hate my job, 600k. the other days, d...      0.17     0.83   \n",
       "4  2 million with a paid off house. so stressful ...      0.23     0.77   \n",
       "5  our target back in 2014 was 1.2 million and a ...      0.06     0.87   \n",
       "6  500 thousand give or take, but i am not retiri...      0.00     1.00   \n",
       "7  i started at 1.5 million 1015 years ago. now, ...      0.06     0.80   \n",
       "8  re ship sailed, but still working on fi. house...      0.00     0.91   \n",
       "9  funny to read all these numbers while the medi...      0.00     0.66   \n",
       "\n",
       "   Positive  Compound  FIRE Number  \n",
       "0      0.00      0.00 1,500,000.00  \n",
       "1      0.00     -0.40 1,000,000.00  \n",
       "2      0.00     -0.15 1,900,000.00  \n",
       "3      0.00     -0.57 3,000,000.00  \n",
       "4      0.00     -0.64 2,000,000.00  \n",
       "5      0.07     -0.34 1,400,000.00  \n",
       "6      0.00      0.00   500,000.00  \n",
       "7      0.15      0.40 3,000,000.00  \n",
       "8      0.09      0.61 4,000,000.00  \n",
       "9      0.34      0.77   400,000.00  "
      ]
     },
     "execution_count": 153,
     "metadata": {},
     "output_type": "execute_result"
    }
   ],
   "source": [
    "fire_df[['Cleaned Comment', 'Negative', 'Neutral', 'Positive', 'Compound', 'FIRE Number']].head(10)"
   ]
  },
  {
   "cell_type": "markdown",
   "metadata": {
    "id": "qOom23UcY5B3"
   },
   "source": [
    "### OPTIONAL:GROUPBY ANALYSIS, which requires additional JSON features to be pulled into CSV"
   ]
  },
  {
   "cell_type": "code",
   "execution_count": 154,
   "metadata": {
    "colab": {
     "base_uri": "https://localhost:8080/"
    },
    "id": "nMbdGY3ra9gY",
    "outputId": "1f6b17d3-6b0e-4ae6-b557-c055ca207fcd"
   },
   "outputs": [
    {
     "data": {
      "text/plain": [
       "Index(['Thread ID', 'Title', 'User', 'Comment', 'Post Time', 'Comment Time',\n",
       "       'Cleaned Comment', 'FIRE Number', 'Post Year', 'Comment Year',\n",
       "       'Capped FIRE Number', 'Negative', 'Neutral', 'Positive', 'Compound'],\n",
       "      dtype='object')"
      ]
     },
     "execution_count": 154,
     "metadata": {},
     "output_type": "execute_result"
    }
   ],
   "source": [
    "fire_df.columns"
   ]
  },
  {
   "cell_type": "code",
   "execution_count": 155,
   "metadata": {
    "colab": {
     "base_uri": "https://localhost:8080/",
     "height": 204
    },
    "id": "dSA-Rf-UY5B3",
    "outputId": "5035ef1e-c9d2-4889-acd8-0f20477d3f8c"
   },
   "outputs": [
    {
     "data": {
      "text/html": [
       "<div>\n",
       "<style scoped>\n",
       "    .dataframe tbody tr th:only-of-type {\n",
       "        vertical-align: middle;\n",
       "    }\n",
       "\n",
       "    .dataframe tbody tr th {\n",
       "        vertical-align: top;\n",
       "    }\n",
       "\n",
       "    .dataframe thead th {\n",
       "        text-align: right;\n",
       "    }\n",
       "</style>\n",
       "<table border=\"1\" class=\"dataframe\">\n",
       "  <thead>\n",
       "    <tr style=\"text-align: right;\">\n",
       "      <th></th>\n",
       "      <th>Negative</th>\n",
       "      <th>Neutral</th>\n",
       "      <th>Positive</th>\n",
       "      <th>Compound</th>\n",
       "      <th>Mean FIRE</th>\n",
       "      <th>Median FIRE</th>\n",
       "    </tr>\n",
       "    <tr>\n",
       "      <th>Comment Year</th>\n",
       "      <th></th>\n",
       "      <th></th>\n",
       "      <th></th>\n",
       "      <th></th>\n",
       "      <th></th>\n",
       "      <th></th>\n",
       "    </tr>\n",
       "  </thead>\n",
       "  <tbody>\n",
       "    <tr>\n",
       "      <th>2021</th>\n",
       "      <td>0.03</td>\n",
       "      <td>0.88</td>\n",
       "      <td>0.09</td>\n",
       "      <td>0.19</td>\n",
       "      <td>4,089,085.21</td>\n",
       "      <td>2,850,000.00</td>\n",
       "    </tr>\n",
       "    <tr>\n",
       "      <th>2022</th>\n",
       "      <td>0.05</td>\n",
       "      <td>0.84</td>\n",
       "      <td>0.11</td>\n",
       "      <td>0.32</td>\n",
       "      <td>4,531,352.04</td>\n",
       "      <td>3,500,000.00</td>\n",
       "    </tr>\n",
       "    <tr>\n",
       "      <th>2023</th>\n",
       "      <td>0.08</td>\n",
       "      <td>0.88</td>\n",
       "      <td>0.05</td>\n",
       "      <td>-0.02</td>\n",
       "      <td>4,247,792.45</td>\n",
       "      <td>2,500,000.00</td>\n",
       "    </tr>\n",
       "    <tr>\n",
       "      <th>2024</th>\n",
       "      <td>0.06</td>\n",
       "      <td>0.88</td>\n",
       "      <td>0.06</td>\n",
       "      <td>0.02</td>\n",
       "      <td>3,835,507.33</td>\n",
       "      <td>2,850,000.00</td>\n",
       "    </tr>\n",
       "  </tbody>\n",
       "</table>\n",
       "</div>"
      ],
      "text/plain": [
       "              Negative  Neutral  Positive  Compound    Mean FIRE  Median FIRE\n",
       "Comment Year                                                                 \n",
       "2021              0.03     0.88      0.09      0.19 4,089,085.21 2,850,000.00\n",
       "2022              0.05     0.84      0.11      0.32 4,531,352.04 3,500,000.00\n",
       "2023              0.08     0.88      0.05     -0.02 4,247,792.45 2,500,000.00\n",
       "2024              0.06     0.88      0.06      0.02 3,835,507.33 2,850,000.00"
      ]
     },
     "execution_count": 155,
     "metadata": {},
     "output_type": "execute_result"
    }
   ],
   "source": [
    "sentiment_by_year = fire_df.groupby('Comment Year')[['Negative', 'Neutral', 'Positive', 'Compound']].mean()\n",
    "sentiment_by_year_plus_fire = pd.merge(sentiment_by_year,\n",
    "                                       fire_stats_by_comment_year,\n",
    "                                       left_index=True,\n",
    "                                       right_index=True)\n",
    "sentiment_by_year_plus_fire"
   ]
  },
  {
   "cell_type": "code",
   "execution_count": 156,
   "metadata": {
    "colab": {
     "base_uri": "https://localhost:8080/",
     "height": 545
    },
    "id": "hVSNoT8Ca9gY",
    "outputId": "763764f6-9515-4f92-fdc9-6ede19556fd3"
   },
   "outputs": [
    {
     "data": {
      "image/png": "[encoded data removed]",
      "text/plain": [
       "<Figure size 1000x600 with 2 Axes>"
      ]
     },
     "metadata": {},
     "output_type": "display_data"
    }
   ],
   "source": [
    "year_pearson = sentiment_by_year_plus_fire.corr(method='pearson')\n",
    "plt.figure(figsize=(10, 6))\n",
    "sns.heatmap(year_pearson, annot=True, cmap='coolwarm')\n",
    "plt.title('Correlation Heatmap of Sentiment Scores')\n",
    "plt.show()"
   ]
  },
  {
   "cell_type": "markdown",
   "metadata": {
    "id": "grXm53y9a9gY"
   },
   "source": [
    "#### Interpretation\n",
    "\n",
    "Sentiment analysis appears to show that 2022 was especially positive using text comments whereas 2023 was the only net negative year. This tracks with the US inflation crisis that occured over this period. Interestingly, there is a strong negative correlation between mean and median FIRE number and positive sentiment. This may be due to optimism that the purchasing power of the currency in question is sufficient for retirement purposes."
   ]
  },
  {
   "cell_type": "code",
   "execution_count": 157,
   "metadata": {
    "colab": {
     "base_uri": "https://localhost:8080/",
     "height": 601
    },
    "id": "OLe2yhQvY5B3",
    "outputId": "3ba4c5c7-380a-47be-836d-03a81f758079"
   },
   "outputs": [
    {
     "name": "stderr",
     "output_type": "stream",
     "text": [
      "No artists with labels found to put in legend.  Note that artists whose label start with an underscore are ignored when legend() is called with no argument.\n"
     ]
    },
    {
     "data": {
      "image/png": "[encoded data removed]",
      "text/plain": [
       "<Figure size 1000x600 with 1 Axes>"
      ]
     },
     "metadata": {},
     "output_type": "display_data"
    }
   ],
   "source": [
    "plt.figure(figsize=(10, 6))\n",
    "plt.plot(sentiment_by_year.index, sentiment_by_year['Compound'], marker='o')\n",
    "plt.title('Sentiment Analysis Over Time')\n",
    "plt.xlabel('Year')\n",
    "plt.ylabel('Compound Sentiment Score')\n",
    "plt.grid(True)\n",
    "plt.legend()\n",
    "plt.show()"
   ]
  },
  {
   "cell_type": "markdown",
   "metadata": {
    "id": "c-rWXXCmY5B3"
   },
   "source": [
    "### Latent Semantic Analysis"
   ]
  },
  {
   "cell_type": "code",
   "execution_count": 158,
   "metadata": {
    "id": "wI1DOuO2Y5B3"
   },
   "outputs": [],
   "source": [
    "n_topics = 5\n",
    "lsa = TruncatedSVD(n_components=n_topics, random_state=509) # Initialize model\n",
    "lsa_topic_matrix = lsa.fit_transform(X_tfidf) # Fit and transform for latent topics"
   ]
  },
  {
   "cell_type": "code",
   "execution_count": 159,
   "metadata": {
    "id": "GdBQKp2uY5B3"
   },
   "outputs": [],
   "source": [
    "feature_names_tfidf = vectorizer_tfidf.get_feature_names_out()"
   ]
  },
  {
   "cell_type": "code",
   "execution_count": 160,
   "metadata": {
    "colab": {
     "base_uri": "https://localhost:8080/"
    },
    "id": "9Wz1t6erY5B3",
    "outputId": "ec29cae7-c493-48d1-f550-4e0ee1f0ac02"
   },
   "outputs": [
    {
     "name": "stdout",
     "output_type": "stream",
     "text": [
      "Topic 0:\n",
      "million house paid thousand years kids 10 im liquid live\n",
      "Topic 1:\n",
      "million 5055 40 33 school 2kids elementary 19 america middle\n",
      "Topic 2:\n",
      "house paid plus mcol 53 45 fat 4m 65 later\n",
      "Topic 3:\n",
      "thousand 500 600 month 800 liquid 20 retiring 300 million\n",
      "Topic 4:\n",
      "cash 50 college flow free work kids estate real actually\n"
     ]
    }
   ],
   "source": [
    "display_topics(lsa, feature_names_tfidf, num_top_words) # Show top 10 words for each topic"
   ]
  },
  {
   "cell_type": "markdown",
   "metadata": {
    "id": "ajjbsZEdY5B3"
   },
   "source": [
    "#### Show results\n",
    "Row = score representing relevance of topic to the clean_comment"
   ]
  },
  {
   "cell_type": "code",
   "execution_count": 161,
   "metadata": {
    "colab": {
     "base_uri": "https://localhost:8080/",
     "height": 359
    },
    "id": "l9BjM8dNY5B3",
    "outputId": "8dc357b6-d5b9-407d-d7cd-275fe5b39b9d"
   },
   "outputs": [
    {
     "data": {
      "text/html": [
       "<div>\n",
       "<style scoped>\n",
       "    .dataframe tbody tr th:only-of-type {\n",
       "        vertical-align: middle;\n",
       "    }\n",
       "\n",
       "    .dataframe tbody tr th {\n",
       "        vertical-align: top;\n",
       "    }\n",
       "\n",
       "    .dataframe thead th {\n",
       "        text-align: right;\n",
       "    }\n",
       "</style>\n",
       "<table border=\"1\" class=\"dataframe\">\n",
       "  <thead>\n",
       "    <tr style=\"text-align: right;\">\n",
       "      <th></th>\n",
       "      <th>Cleaned Comment</th>\n",
       "      <th>Topic 0</th>\n",
       "      <th>Topic 1</th>\n",
       "      <th>Topic 2</th>\n",
       "      <th>Topic 3</th>\n",
       "      <th>Topic 4</th>\n",
       "    </tr>\n",
       "  </thead>\n",
       "  <tbody>\n",
       "    <tr>\n",
       "      <th>0</th>\n",
       "      <td>1.5 million with paid off houses</td>\n",
       "      <td>0.28</td>\n",
       "      <td>-0.01</td>\n",
       "      <td>0.20</td>\n",
       "      <td>0.02</td>\n",
       "      <td>-0.01</td>\n",
       "    </tr>\n",
       "    <tr>\n",
       "      <th>1</th>\n",
       "      <td>im just waiting for someone to say something l...</td>\n",
       "      <td>0.03</td>\n",
       "      <td>-0.06</td>\n",
       "      <td>-0.07</td>\n",
       "      <td>-0.08</td>\n",
       "      <td>0.01</td>\n",
       "    </tr>\n",
       "    <tr>\n",
       "      <th>2</th>\n",
       "      <td>$1.9m. targeting a few months after i turn 50 ...</td>\n",
       "      <td>0.10</td>\n",
       "      <td>-0.14</td>\n",
       "      <td>0.03</td>\n",
       "      <td>-0.07</td>\n",
       "      <td>0.13</td>\n",
       "    </tr>\n",
       "    <tr>\n",
       "      <th>3</th>\n",
       "      <td>on days i hate my job, 600k. the other days, d...</td>\n",
       "      <td>0.11</td>\n",
       "      <td>-0.01</td>\n",
       "      <td>-0.09</td>\n",
       "      <td>-0.04</td>\n",
       "      <td>-0.03</td>\n",
       "    </tr>\n",
       "    <tr>\n",
       "      <th>4</th>\n",
       "      <td>2 million with a paid off house. so stressful ...</td>\n",
       "      <td>0.60</td>\n",
       "      <td>-0.22</td>\n",
       "      <td>0.70</td>\n",
       "      <td>-0.01</td>\n",
       "      <td>0.05</td>\n",
       "    </tr>\n",
       "    <tr>\n",
       "      <th>5</th>\n",
       "      <td>our target back in 2014 was 1.2 million and a ...</td>\n",
       "      <td>0.22</td>\n",
       "      <td>-0.10</td>\n",
       "      <td>0.09</td>\n",
       "      <td>-0.08</td>\n",
       "      <td>-0.02</td>\n",
       "    </tr>\n",
       "    <tr>\n",
       "      <th>6</th>\n",
       "      <td>500 thousand give or take, but i am not retiri...</td>\n",
       "      <td>0.06</td>\n",
       "      <td>-0.20</td>\n",
       "      <td>-0.11</td>\n",
       "      <td>0.52</td>\n",
       "      <td>0.05</td>\n",
       "    </tr>\n",
       "    <tr>\n",
       "      <th>7</th>\n",
       "      <td>i started at 1.5 million 1015 years ago. now, ...</td>\n",
       "      <td>0.25</td>\n",
       "      <td>0.02</td>\n",
       "      <td>-0.07</td>\n",
       "      <td>-0.04</td>\n",
       "      <td>0.05</td>\n",
       "    </tr>\n",
       "    <tr>\n",
       "      <th>8</th>\n",
       "      <td>re ship sailed, but still working on fi. house...</td>\n",
       "      <td>0.17</td>\n",
       "      <td>-0.19</td>\n",
       "      <td>0.03</td>\n",
       "      <td>-0.04</td>\n",
       "      <td>0.08</td>\n",
       "    </tr>\n",
       "    <tr>\n",
       "      <th>9</th>\n",
       "      <td>funny to read all these numbers while the medi...</td>\n",
       "      <td>0.03</td>\n",
       "      <td>-0.07</td>\n",
       "      <td>-0.06</td>\n",
       "      <td>-0.03</td>\n",
       "      <td>0.02</td>\n",
       "    </tr>\n",
       "  </tbody>\n",
       "</table>\n",
       "</div>"
      ],
      "text/plain": [
       "                                     Cleaned Comment  Topic 0  Topic 1  \\\n",
       "0                   1.5 million with paid off houses     0.28    -0.01   \n",
       "1  im just waiting for someone to say something l...     0.03    -0.06   \n",
       "2  $1.9m. targeting a few months after i turn 50 ...     0.10    -0.14   \n",
       "3  on days i hate my job, 600k. the other days, d...     0.11    -0.01   \n",
       "4  2 million with a paid off house. so stressful ...     0.60    -0.22   \n",
       "5  our target back in 2014 was 1.2 million and a ...     0.22    -0.10   \n",
       "6  500 thousand give or take, but i am not retiri...     0.06    -0.20   \n",
       "7  i started at 1.5 million 1015 years ago. now, ...     0.25     0.02   \n",
       "8  re ship sailed, but still working on fi. house...     0.17    -0.19   \n",
       "9  funny to read all these numbers while the medi...     0.03    -0.07   \n",
       "\n",
       "   Topic 2  Topic 3  Topic 4  \n",
       "0     0.20     0.02    -0.01  \n",
       "1    -0.07    -0.08     0.01  \n",
       "2     0.03    -0.07     0.13  \n",
       "3    -0.09    -0.04    -0.03  \n",
       "4     0.70    -0.01     0.05  \n",
       "5     0.09    -0.08    -0.02  \n",
       "6    -0.11     0.52     0.05  \n",
       "7    -0.07    -0.04     0.05  \n",
       "8     0.03    -0.04     0.08  \n",
       "9    -0.06    -0.03     0.02  "
      ]
     },
     "execution_count": 161,
     "metadata": {},
     "output_type": "execute_result"
    }
   ],
   "source": [
    "topics = pd.DataFrame(lsa_topic_matrix, columns=[f'Topic {i}' for i in range(n_topics)])\n",
    "comb_topics = pd.concat([fire_df, topics], axis=1)\n",
    "comb_topics[['Cleaned Comment', 'Topic 0', 'Topic 1', 'Topic 2', 'Topic 3', 'Topic 4']].head(10)"
   ]
  },
  {
   "cell_type": "markdown",
   "metadata": {
    "id": "LO0I4JwUpsj7"
   },
   "source": [
    "# Build Flask Application"
   ]
  },
  {
   "cell_type": "markdown",
   "metadata": {
    "id": "E08nLbLiyGWn"
   },
   "source": [
    "## Set-up Flask\n"
   ]
  },
  {
   "cell_type": "markdown",
   "metadata": {
    "id": "85Dh03cYsPLH"
   },
   "source": [
    "Import Packages"
   ]
  },
  {
   "cell_type": "code",
   "execution_count": null,
   "metadata": {
    "id": "2Kck0pLtp8HG"
   },
   "outputs": [],
   "source": [
    "# Import packages\n",
    "#!pip install Flask\n",
    "#!pip install pyngrok"
   ]
  },
  {
   "cell_type": "markdown",
   "metadata": {
    "id": "gKN7u90GsTBz"
   },
   "source": [
    "Upload Libraries"
   ]
  },
  {
   "cell_type": "markdown",
   "metadata": {
    "id": "ntoJvTJNsnjf"
   },
   "source": [
    "## Simple Flask Application"
   ]
  },
  {
   "cell_type": "markdown",
   "metadata": {
    "id": "b-RyWsZdv-r5"
   },
   "source": [
    "Since the numbers of features between my vectorizer and LDA model did not match, had to retrain the LDA model."
   ]
  },
  {
   "cell_type": "code",
   "execution_count": 162,
   "metadata": {
    "id": "NzKpjJI0v-r5",
    "outputId": "6f45628e-8466-46dd-c940-14476fdc89e9"
   },
   "outputs": [
    {
     "name": "stdout",
     "output_type": "stream",
     "text": [
      "239724\n"
     ]
    }
   ],
   "source": [
    "import os\n",
    "import subprocess\n",
    "print(os.path.getsize('lda_model.pkl'))  # should return a non-zero value"
   ]
  },
  {
   "cell_type": "code",
   "execution_count": 163,
   "metadata": {
    "id": "_gNy6zcov-r5"
   },
   "outputs": [],
   "source": [
    "X_ct = vectorizer_ct.fit_transform(fire_df['Cleaned Comment'])"
   ]
  },
  {
   "cell_type": "code",
   "execution_count": 164,
   "metadata": {
    "id": "OO75awObv-r5",
    "outputId": "5e390d7f-dbb0-4ef3-ed15-0f4947b49d6c"
   },
   "outputs": [
    {
     "data": {
      "text/html": [
       "<style>#sk-container-id-6 {color: black;background-color: white;}#sk-container-id-6 pre{padding: 0;}#sk-container-id-6 div.sk-toggleable {background-color: white;}#sk-container-id-6 label.sk-toggleable__label {cursor: pointer;display: block;width: 100%;margin-bottom: 0;padding: 0.3em;box-sizing: border-box;text-align: center;}#sk-container-id-6 label.sk-toggleable__label-arrow:before {content: \"▸\";float: left;margin-right: 0.25em;color: #696969;}#sk-container-id-6 label.sk-toggleable__label-arrow:hover:before {color: black;}#sk-container-id-6 div.sk-estimator:hover label.sk-toggleable__label-arrow:before {color: black;}#sk-container-id-6 div.sk-toggleable__content {max-height: 0;max-width: 0;overflow: hidden;text-align: left;background-color: #f0f8ff;}#sk-container-id-6 div.sk-toggleable__content pre {margin: 0.2em;color: black;border-radius: 0.25em;background-color: #f0f8ff;}#sk-container-id-6 input.sk-toggleable__control:checked~div.sk-toggleable__content {max-height: 200px;max-width: 100%;overflow: auto;}#sk-container-id-6 input.sk-toggleable__control:checked~label.sk-toggleable__label-arrow:before {content: \"▾\";}#sk-container-id-6 div.sk-estimator input.sk-toggleable__control:checked~label.sk-toggleable__label {background-color: #d4ebff;}#sk-container-id-6 div.sk-label input.sk-toggleable__control:checked~label.sk-toggleable__label {background-color: #d4ebff;}#sk-container-id-6 input.sk-hidden--visually {border: 0;clip: rect(1px 1px 1px 1px);clip: rect(1px, 1px, 1px, 1px);height: 1px;margin: -1px;overflow: hidden;padding: 0;position: absolute;width: 1px;}#sk-container-id-6 div.sk-estimator {font-family: monospace;background-color: #f0f8ff;border: 1px dotted black;border-radius: 0.25em;box-sizing: border-box;margin-bottom: 0.5em;}#sk-container-id-6 div.sk-estimator:hover {background-color: #d4ebff;}#sk-container-id-6 div.sk-parallel-item::after {content: \"\";width: 100%;border-bottom: 1px solid gray;flex-grow: 1;}#sk-container-id-6 div.sk-label:hover label.sk-toggleable__label {background-color: #d4ebff;}#sk-container-id-6 div.sk-serial::before {content: \"\";position: absolute;border-left: 1px solid gray;box-sizing: border-box;top: 0;bottom: 0;left: 50%;z-index: 0;}#sk-container-id-6 div.sk-serial {display: flex;flex-direction: column;align-items: center;background-color: white;padding-right: 0.2em;padding-left: 0.2em;position: relative;}#sk-container-id-6 div.sk-item {position: relative;z-index: 1;}#sk-container-id-6 div.sk-parallel {display: flex;align-items: stretch;justify-content: center;background-color: white;position: relative;}#sk-container-id-6 div.sk-item::before, #sk-container-id-6 div.sk-parallel-item::before {content: \"\";position: absolute;border-left: 1px solid gray;box-sizing: border-box;top: 0;bottom: 0;left: 50%;z-index: -1;}#sk-container-id-6 div.sk-parallel-item {display: flex;flex-direction: column;z-index: 1;position: relative;background-color: white;}#sk-container-id-6 div.sk-parallel-item:first-child::after {align-self: flex-end;width: 50%;}#sk-container-id-6 div.sk-parallel-item:last-child::after {align-self: flex-start;width: 50%;}#sk-container-id-6 div.sk-parallel-item:only-child::after {width: 0;}#sk-container-id-6 div.sk-dashed-wrapped {border: 1px dashed gray;margin: 0 0.4em 0.5em 0.4em;box-sizing: border-box;padding-bottom: 0.4em;background-color: white;}#sk-container-id-6 div.sk-label label {font-family: monospace;font-weight: bold;display: inline-block;line-height: 1.2em;}#sk-container-id-6 div.sk-label-container {text-align: center;}#sk-container-id-6 div.sk-container {/* jupyter's `normalize.less` sets `[hidden] { display: none; }` but bootstrap.min.css set `[hidden] { display: none !important; }` so we also need the `!important` here to be able to override the default hidden behavior on the sphinx rendered scikit-learn.org. See: https://github.com/scikit-learn/scikit-learn/issues/21755 */display: inline-block !important;position: relative;}#sk-container-id-6 div.sk-text-repr-fallback {display: none;}</style><div id=\"sk-container-id-6\" class=\"sk-top-container\"><div class=\"sk-text-repr-fallback\"><pre>LatentDirichletAllocation(n_components=5, random_state=509)</pre><b>In a Jupyter environment, please rerun this cell to show the HTML representation or trust the notebook. <br />On GitHub, the HTML representation is unable to render, please try loading this page with nbviewer.org.</b></div><div class=\"sk-container\" hidden><div class=\"sk-item\"><div class=\"sk-estimator sk-toggleable\"><input class=\"sk-toggleable__control sk-hidden--visually\" id=\"sk-estimator-id-6\" type=\"checkbox\" checked><label for=\"sk-estimator-id-6\" class=\"sk-toggleable__label sk-toggleable__label-arrow\">LatentDirichletAllocation</label><div class=\"sk-toggleable__content\"><pre>LatentDirichletAllocation(n_components=5, random_state=509)</pre></div></div></div></div></div>"
      ],
      "text/plain": [
       "LatentDirichletAllocation(n_components=5, random_state=509)"
      ]
     },
     "execution_count": 164,
     "metadata": {},
     "output_type": "execute_result"
    }
   ],
   "source": [
    "lda_model = LatentDirichletAllocation(n_components=5, random_state=509)\n",
    "lda_model.fit(X_ct)\n"
   ]
  },
  {
   "cell_type": "code",
   "execution_count": 165,
   "metadata": {
    "id": "6l2iOa2Ov-r5",
    "outputId": "dc9417b7-3773-4adb-8934-628264c18b5b"
   },
   "outputs": [
    {
     "name": "stdout",
     "output_type": "stream",
     "text": [
      "Number of features expected by the LDA model: 1845\n"
     ]
    }
   ],
   "source": [
    "# Check the number of features (components) in the LDA model\n",
    "print(f\"Number of features expected by the LDA model: {lda_model.components_.shape[1]}\")"
   ]
  },
  {
   "cell_type": "code",
   "execution_count": 166,
   "metadata": {
    "id": "AaAaQeb_v-r5"
   },
   "outputs": [],
   "source": [
    "# Save the new LDA model\n",
    "with open('new_lda_model.pkl', 'wb') as f:\n",
    "    pickle.dump(lda_model, f)\n",
    "\n",
    "# Save the current vectorizer\n",
    "with open('new_vectorizer.pkl', 'wb') as f:\n",
    "    pickle.dump(vectorizer_ct, f)"
   ]
  },
  {
   "cell_type": "code",
   "execution_count": 1,
   "metadata": {},
   "outputs": [
    {
     "ename": "NameError",
     "evalue": "name 'Flask' is not defined",
     "output_type": "error",
     "traceback": [
      "\u001b[0;31m---------------------------------------------------------------------------\u001b[0m",
      "\u001b[0;31mNameError\u001b[0m                                 Traceback (most recent call last)",
      "Cell \u001b[0;32mIn[1], line 2\u001b[0m\n\u001b[1;32m      1\u001b[0m \u001b[38;5;66;03m# Initialize Flask app\u001b[39;00m\n\u001b[0;32m----> 2\u001b[0m app \u001b[38;5;241m=\u001b[39m Flask(\u001b[38;5;18m__name__\u001b[39m)\n\u001b[1;32m      4\u001b[0m \u001b[38;5;66;03m# Function to find a free port (Optional, but useful for deployment conflicts)\u001b[39;00m\n\u001b[1;32m      5\u001b[0m \u001b[38;5;28;01mdef\u001b[39;00m \u001b[38;5;21mfind_free_port\u001b[39m():\n",
      "\u001b[0;31mNameError\u001b[0m: name 'Flask' is not defined"
     ]
    }
   ],
   "source": [
    "# Initialize Flask app\n",
    "app = Flask(__name__)\n",
    "\n",
    "# Function to find a free port (Optional, but useful for deployment conflicts)\n",
    "def find_free_port():\n",
    "    s = socket.socket(socket.AF_INET, socket.SOCK_STREAM)\n",
    "    s.bind(('', 0))\n",
    "    port = s.getsockname()[1]\n",
    "    s.close()\n",
    "    return port\n",
    "\n",
    "# Start ngrok using authentication for security purposes\n",
    "# https://ngrok.com/blog-post/authentication-with-ngrok\n",
    "def start_ngrok(port):\n",
    "    username = \"torero24\"\n",
    "    password = \"ads509_FIRE\"\n",
    "    ngrok_cmd = [\"ngrok\", \"http\", f\"{port}\", f\"--basic-auth={username}:{password}\"]\n",
    "    ngrok_process = subprocess.Popen(ngrok_cmd)\n",
    "    time.sleep(3)\n",
    "    return ngrok_process\n",
    "\n",
    "# Load pre-trained LDA model and TF-IDF vectorizer\n",
    "lda_model_path = 'new_lda_model.pkl'\n",
    "vectorizer_path = 'new_vectorizer.pkl'\n",
    "fire_df_path = 'fire_comments.csv'\n",
    "\n",
    "# Load LDA model, vectorizer, and data\n",
    "with open(lda_model_path, 'rb') as f:\n",
    "    lda_model = pickle.load(f)\n",
    "\n",
    "with open(vectorizer_path, 'rb') as f:\n",
    "    vectorizer = pickle.load(f)\n",
    "\n",
    "fire_df = pd.read_csv(fire_df_path)\n",
    "\n",
    "# Load Sentiment Analyzer (Vader)\n",
    "analyzer = SentimentIntensityAnalyzer()\n",
    "\n",
    "# Route for home and classification and sentiment analysis\n",
    "@app.route('/', methods=['GET', 'POST'])\n",
    "def classify_and_analyze():\n",
    "    if request.method == 'POST':\n",
    "        input_text = request.form['text']  # Get text from form submission\n",
    "\n",
    "        # Perform topic classification\n",
    "        input_vectorized = vectorizer.transform([input_text])\n",
    "        topics_distribution = lda_model.transform(input_vectorized)\n",
    "        predicted_topic = topics_distribution.argmax()\n",
    "\n",
    "        # Perform sentiment analysis\n",
    "        sentiment_scores = analyzer.polarity_scores(input_text)\n",
    "\n",
    "        # Send results as JSON and display them on the index page\n",
    "        return render_template(\n",
    "            'index.html',\n",
    "            input_text=input_text,\n",
    "            predicted_topic=predicted_topic,\n",
    "            sentiment_scores=sentiment_scores\n",
    "        )\n",
    "    return render_template('index.html')\n",
    "\n",
    "# Route for topic overview with visualizations\n",
    "import matplotlib.cm as cm\n",
    "\n",
    "@app.route('/overview')\n",
    "def overview():\n",
    "    topic_keywords = {}\n",
    "    num_top_words = 10\n",
    "    feature_names = vectorizer.get_feature_names_out()\n",
    "\n",
    "    #list of colors for the topics\n",
    "    colors = ['steelblue', 'seagreen', 'orange', 'purple', 'crimson', 'darkcyan', 'gold', 'teal', 'coral', 'navy']\n",
    "    \n",
    "    for topic_idx, topic in enumerate(lda_model.components_):\n",
    "        top_words = [feature_names[i] for i in topic.argsort()[:-num_top_words - 1:-1]]\n",
    "        topic_keywords[f'Topic {topic_idx}'] = top_words\n",
    "\n",
    "        # Select a color for the current topic (repeats if there are more topics than colors)\n",
    "        color = colors[topic_idx % len(colors)]\n",
    "        \n",
    "        # Create a bar plot for each topic\n",
    "        plt.figure(figsize=(8, 5))\n",
    "        plt.barh(top_words, topic[topic.argsort()[:-num_top_words - 1:-1]], color=color)\n",
    "        plt.xlabel(\"Word Importance\", fontsize=12)\n",
    "        plt.title(f\"Top {num_top_words} Words for Topic {topic_idx}\", fontsize=14)\n",
    "        plt.tight_layout()\n",
    "\n",
    "        # Save the plot to a BytesIO object\n",
    "        img = io.BytesIO()\n",
    "        plt.savefig(img, format='png', bbox_inches=\"tight\")\n",
    "        img.seek(0)\n",
    "        img_b64 = base64.b64encode(img.getvalue()).decode()\n",
    "\n",
    "        # Add the plot to the topic_keywords dictionary as a base64 image\n",
    "        topic_keywords[f'Topic {topic_idx}_plot'] = img_b64\n",
    "\n",
    "    return render_template('overview.html', topics=topic_keywords)\n",
    "\n",
    "if __name__ == '__main__':\n",
    "    port = find_free_port()  # Find a free port to avoid conflicts\n",
    "    ngrok_process = start_ngrok(port) # Start with basic authentication\n",
    "    try:\n",
    "        app.run(debug=True, use_reloader=False, port=port) # Start app\n",
    "    except KeyboardInterrupt: # With Ctrl+C or other equivalent\n",
    "        print(\"Shutting down ngrok connection\")\n",
    "        ngrok_process.terminate()\n",
    "    print(f\"Port {port} is free and tunnel is closed.\")\n"
   ]
  },
  {
   "cell_type": "markdown",
   "metadata": {},
   "source": [
    "Left the first one I created if needed. Will delete once we have flask completed. "
   ]
  },
  {
   "cell_type": "code",
   "execution_count": 213,
   "metadata": {
    "id": "irs8JvMav-r5",
    "outputId": "bd801dfb-b4ad-4c9e-e4ee-a6ceb9c6d4de"
   },
   "outputs": [],
   "source": [
    "# Start Flask app\n",
    "##app = Flask(__name__)\n",
    "\n",
    "##def find_free_port():\n",
    "    ##s = socket.socket(socket.AF_INET, socket.SOCK_STREAM)\n",
    "    ##s.bind(('', 0))\n",
    "    ##port = s.getsockname()[1]\n",
    "    ##s.close()\n",
    "    ##return port\n",
    "\n",
    "# Load pre-trained LDA model and TF-IDF vectorizer\n",
    "##lda_model_path = 'new_lda_model.pkl'\n",
    "##vectorizer_path = 'new_vectorizer.pkl'\n",
    "##fire_df_path = 'fire_comments.csv'\n",
    "\n",
    "# Load LDA model, vectorizer, and data\n",
    "##with open(lda_model_path, 'rb') as f:\n",
    "    ##lda_model = pickle.load(f)\n",
    "\n",
    "##with open(vectorizer_path, 'rb') as f:\n",
    "    ##vectorizer = pickle.load(f)\n",
    "\n",
    "##fire_df = pd.read_csv(fire_df_path)\n",
    "\n",
    "# Load Sentiment Analyzer (Vader)\n",
    "##analyzer = SentimentIntensityAnalyzer()\n",
    "\n",
    "# Home route for text classification and sentiment analysis\n",
    "##@app.route('/')\n",
    "##def home():\n",
    "    ##return render_template('index.html')\n",
    "\n",
    "# Perform classification and sentiment analysis\n",
    "##@app.route('/classify', methods=['POST'])\n",
    "##def classify():\n",
    "    ##input_text = request.form['text']  # Get text from form submission\n",
    "\n",
    "    # Vectorize input text\n",
    "    ##input_vectorized = vectorizer.transform([input_text])\n",
    "\n",
    "    # Predict topic with LDA model\n",
    "    ##topics_distribution = lda_model.transform(input_vectorized)\n",
    "    ##predicted_topic = topics_distribution.argmax()\n",
    "\n",
    "    # Perform sentiment analysis with Vader\n",
    "    ##sentiment_scores = analyzer.polarity_scores(input_text)\n",
    "\n",
    "    # Send results as JSON and display them on the index page\n",
    "    ##return render_template(\n",
    "        ##'index.html',\n",
    "        ##input_text=input_text,\n",
    "        ##predicted_topic=predicted_topic,\n",
    "        ##sentiment_scores=sentiment_scores\n",
    "    ##)\n",
    "\n",
    "# Overview route for topic modeling\n",
    "\n",
    "##import plotly.graph_objs as go\n",
    "##import json\n",
    "\n",
    "##@app.route('/overview')\n",
    "##def overview():\n",
    "    ##topic_keywords = {}\n",
    "    ##num_top_words = 10\n",
    "    ##feature_names = vectorizer.get_feature_names_out()\n",
    "\n",
    "    ##for topic_idx, topic in enumerate(lda_model.components_):\n",
    "        ##top_words = [feature_names[i] for i in topic.argsort()[:-num_top_words - 1:-1]]\n",
    "        ##topic_keywords[f'Topic {topic_idx}'] = top_words\n",
    "\n",
    "        # Create a bar plot for each topic\n",
    "        ##plt.figure(figsize=(10, 5))\n",
    "        ##plt.barh(top_words, topic[topic.argsort()[:-num_top_words - 1:-1]])\n",
    "        ##plt.xlabel(\"Word Importance\")\n",
    "        ##plt.title(f\"Top {num_top_words} Words for Topic {topic_idx}\")\n",
    "\n",
    "        # Save the plot to a BytesIO object\n",
    "        ##img = io.BytesIO()\n",
    "        ##plt.savefig(img, format='png')\n",
    "        ##img.seek(0)\n",
    "        ##img_b64 = base64.b64encode(img.getvalue()).decode()\n",
    "\n",
    "        # Add the plot to the topic_keywords dictionary as a base64 image\n",
    "        ##topic_keywords[f'Topic {topic_idx}_plot'] = img_b64\n",
    "\n",
    "    ##return render_template('overview.html', topics=topic_keywords)\n",
    "\n",
    "##if __name__ == '__main__':\n",
    "    ##port = find_free_port()  # Find a free port to avoid conflicts\n",
    "    ##app.run(debug=True, use_reloader=False, port=port)\n"
   ]
  },
  {
   "cell_type": "code",
   "execution_count": null,
   "metadata": {
    "id": "BapMT70vqZfB",
    "outputId": "690a093a-976c-4610-f0a6-72f56868da37"
   },
   "outputs": [
    {
     "name": "stdout",
     "output_type": "stream",
     "text": [
      "                                                                                                    \r"
     ]
    },
    {
     "ename": "NameError",
     "evalue": "name 'ngrok' is not defined",
     "output_type": "error",
     "traceback": [
      "\u001b[0;31m---------------------------------------------------------------------------\u001b[0m",
      "\u001b[0;31mNameError\u001b[0m                                 Traceback (most recent call last)",
      "Cell \u001b[0;32mIn[42], line 25\u001b[0m\n\u001b[1;32m     22\u001b[0m threading\u001b[38;5;241m.\u001b[39mThread(target\u001b[38;5;241m=\u001b[39mrun_app)\u001b[38;5;241m.\u001b[39mstart()\n\u001b[1;32m     24\u001b[0m \u001b[38;5;66;03m# Set up a tunnel to the Flask app\u001b[39;00m\n\u001b[0;32m---> 25\u001b[0m public_url \u001b[38;5;241m=\u001b[39m ngrok\u001b[38;5;241m.\u001b[39mconnect(\u001b[38;5;241m5000\u001b[39m)\n\u001b[1;32m     26\u001b[0m \u001b[38;5;28mprint\u001b[39m(\u001b[38;5;124m\"\u001b[39m\u001b[38;5;124m * ngrok tunnel \u001b[39m\u001b[38;5;130;01m\\\"\u001b[39;00m\u001b[38;5;132;01m{}\u001b[39;00m\u001b[38;5;130;01m\\\"\u001b[39;00m\u001b[38;5;124m -> \u001b[39m\u001b[38;5;130;01m\\\"\u001b[39;00m\u001b[38;5;124mhttp://127.0.0.1:5000\u001b[39m\u001b[38;5;130;01m\\\"\u001b[39;00m\u001b[38;5;124m\"\u001b[39m\u001b[38;5;241m.\u001b[39mformat(public_url))\n",
      "\u001b[0;31mNameError\u001b[0m: name 'ngrok' is not defined"
     ]
    },
    {
     "name": "stdout",
     "output_type": "stream",
     "text": [
      " * Serving Flask app '__main__'\n",
      " * Debug mode: off\n"
     ]
    },
    {
     "name": "stderr",
     "output_type": "stream",
     "text": [
      "WARNING: This is a development server. Do not use it in a production deployment. Use a production WSGI server instead.\n",
      " * Running on http://127.0.0.1:5000\n",
      "Press CTRL+C to quit\n"
     ]
    }
   ],
   "source": [
    "# Set up ngrok authtoken\n",
    "##!ngrok authtoken 2mxORvZevUlWiZcP42H0kKWt5Db_62uzFBWQsdosv7Eau5TWZ\n",
    "\n",
    "# Create Flask app\n",
    "##app = Flask(__name__)\n",
    "\n",
    "##@app.route('/')\n",
    "##def home():\n",
    "    ##return \"Welcome to the FIRE Number Analyzer!\"\n",
    "\n",
    "##@app.route('/analyze', methods=['POST'])\n",
    "##def analyze():\n",
    "    ##data = request.json\n",
    "    # Placeholder for analysis logic\n",
    "    ##return jsonify({\"message\": \"Analysis complete!\"})\n",
    "\n",
    "# Function to run the Flask app\n",
    "##def run_app():\n",
    "    ##app.run(port=5000)\n",
    "\n",
    "# Start Flask app in a new thread\n",
    "##threading.Thread(target=run_app).start()\n",
    "\n",
    "# Set up a tunnel to the Flask app\n",
    "##public_url = ngrok.connect(5000)\n",
    "##print(\" * ngrok tunnel \\\"{}\\\" -> \\\"http://127.0.0.1:5000\\\"\".format(public_url))"
   ]
  }
 ],
 "metadata": {
  "colab": {
   "provenance": []
  },
  "kernelspec": {
   "display_name": "Python 3 (ipykernel)",
   "language": "python",
   "name": "python3"
  },
  "language_info": {
   "codemirror_mode": {
    "name": "ipython",
    "version": 3
   },
   "file_extension": ".py",
   "mimetype": "text/x-python",
   "name": "python",
   "nbconvert_exporter": "python",
   "pygments_lexer": "ipython3",
   "version": "3.11.5"
  }
 },
 "nbformat": 4,
 "nbformat_minor": 4
}
