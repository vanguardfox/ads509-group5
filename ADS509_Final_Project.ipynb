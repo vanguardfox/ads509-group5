{
  "cells": [
    {
      "cell_type": "markdown",
      "metadata": {
        "id": "tT7fYxKGpoKu"
      },
      "source": [
        "[![Open In Colab](https://colab.research.google.com/assets/colab-badge.svg)](https://colab.research.google.com/github/vanguardfox/ads509-group5/blob/main/ADS509_Final_Project.ipynb)"
      ]
    },
    {
      "cell_type": "markdown",
      "metadata": {
        "id": "24tNXlFYhqVE"
      },
      "source": [
        "# Evaluating Financial Independence / Retire Early (FIRE) Thresholds by Demographic\n",
        "\n",
        "What is the Financial Independence number the FIRE community is aiming for by age, location, and over time?"
      ]
    },
    {
      "cell_type": "markdown",
      "metadata": {
        "id": "ZqOey2pIpoKv"
      },
      "source": [
        "# Group 5 Objective:\n",
        " The purpose of this project is to evaluate the FIRE financial thresholds by demographic groups such as age and location as well as changes in trends over times. Resulting analysis can be used in a variety of applications including leading economic sentiment predictions, generational assessment of financial health, and others via a Flask implementation."
      ]
    },
    {
      "cell_type": "markdown",
      "metadata": {
        "id": "Mla4_A0C9pp6"
      },
      "source": [
        "# Reddit Scrape\n",
        "\n",
        "Community: r/FIRE \\\n",
        "thread: /What_is_your_fire_number/ \\\n",
        "Code Reference: with help from ChatGPT https://chatgpt.com/ and https://colab.research.google.com/\n",
        "\n",
        "\n",
        "**Privacy note:**\n",
        "\n",
        "*   Credentials were created for the class but might have to figure out how to hide\n",
        "*   Username will also have to be masked to be anonymous"
      ]
    },
    {
      "cell_type": "code",
      "execution_count": 1,
      "metadata": {
        "id": "mL3R1YCi0h-J"
      },
      "outputs": [],
      "source": [
        "import warnings\n",
        "\n",
        "# Suppress all warnings\n",
        "warnings.filterwarnings(\"ignore\")"
      ]
    },
    {
      "cell_type": "markdown",
      "metadata": {
        "id": "dTxylIUPpoKv"
      },
      "source": [
        "(Optional: Install packages as needed)"
      ]
    },
    {
      "cell_type": "code",
      "execution_count": null,
      "metadata": {
        "id": "8SdZo0-fl6g-"
      },
      "outputs": [],
      "source": [
        "#!pip install requests beautifulsoup4"
      ]
    },
    {
      "cell_type": "markdown",
      "metadata": {
        "id": "qZ7w8ue3poKw"
      },
      "source": [
        "Import Libraries"
      ]
    },
    {
      "cell_type": "code",
      "execution_count": 2,
      "metadata": {
        "id": "7UlLJjrrVytR"
      },
      "outputs": [],
      "source": [
        "# Library\n",
        "import pandas as pd\n",
        "import matplotlib.pyplot as plt\n",
        "import re\n",
        "import json\n",
        "import csv\n",
        "import requests\n",
        "from typing import Optional, Tuple\n",
        "import time\n",
        "import datetime\n",
        "import nltk\n",
        "from nltk.sentiment import SentimentIntensityAnalyzer\n",
        "\n",
        "from nltk.util import pairwise\n",
        "from bs4 import BeautifulSoup\n",
        "from requests.auth import HTTPBasicAuth\n",
        "from os import read\n",
        "from sklearn.feature_extraction.text import CountVectorizer, TfidfVectorizer\n",
        "from sklearn.decomposition import LatentDirichletAllocation, TruncatedSVD"
      ]
    },
    {
      "cell_type": "markdown",
      "metadata": {
        "id": "t5_S6wbUpoKw"
      },
      "source": [
        "## Initialize API Credentials"
      ]
    },
    {
      "cell_type": "code",
      "execution_count": 3,
      "metadata": {
        "id": "E1xBgoCSkvjy"
      },
      "outputs": [],
      "source": [
        "# Reddit API credentials\n",
        "client_id = '8-xAlbBmc1_FYraSwJENtw'\n",
        "client_secret = 'Jg9JyK9R_ixyNESMaGE3BwLzmBhf2w'\n",
        "username = 'Western_Signal4499'\n",
        "password = 'ADS509finAl'\n",
        "user_agent = 'ADS509Scrapper/0.1 by Western_Signal4499'\n",
        "\n",
        "# Get the OAuth token\n",
        "auth = HTTPBasicAuth(client_id, client_secret)\n",
        "headers = {'User-Agent': user_agent}\n",
        "data = {'grant_type': 'password', 'username': username, 'password': password}\n",
        "\n",
        "response = requests.post('https://www.reddit.com/api/v1/access_token', auth=auth, headers=headers, data=data)\n",
        "\n",
        "if response.status_code == 200:\n",
        "    token = response.json()['access_token']\n",
        "else:\n",
        "    print(f\"Error: {response.status_code}, {response.text}\")"
      ]
    },
    {
      "cell_type": "markdown",
      "metadata": {
        "id": "szaOuzGzpoKw",
        "jp-MarkdownHeadingCollapsed": true
      },
      "source": [
        "## Use access_token field from JSON to query threads"
      ]
    },
    {
      "cell_type": "code",
      "execution_count": 4,
      "metadata": {
        "colab": {
          "base_uri": "https://localhost:8080/"
        },
        "id": "QAF82eN-ompR",
        "outputId": "d23463c0-b343-4611-d8c0-ce25b09e4074",
        "scrolled": true
      },
      "outputs": [
        {
          "output_type": "stream",
          "name": "stdout",
          "text": [
            "Thread ID: 1fqzb0p, Title: What is your fire number? , User1: muy_carona, Comment: $8,675,309, Post Time: 2024-09-27 22:00:15, Comment Time: 2024-09-27 23:21:33\n",
            "Thread ID: rfxxkz, Title: What is your fire number?, User1: xmxprztm, Comment: 4M at least. Going to move to Spain, Post Time: 2021-12-14 03:24:03, Comment Time: 2021-12-14 16:43:40\n",
            "Thread ID: zddhma, Title: For folks who plan to FIRE in HCOL / VHCOL areas, what is your FIRE number? Why not move to MCOL / LCOL area?, User1: [deleted], Comment: Some services or experiences are only available in hcol areas. Good fine dining options and/or weather and or ___., Post Time: 2022-12-05 17:36:13, Comment Time: 2022-12-27 18:53:13\n",
            "Thread ID: 10ex17r, Title: What is your FIRE number?, User1: zenjdg, Comment: My ideal scenario is $100k per month in tax-free cash flow., Post Time: 2023-01-18 03:44:27, Comment Time: 2023-11-04 15:20:39\n",
            "Thread ID: z5a29v, Title: What is your fire number and how did you arrive at it?, User1: [deleted], Comment: [deleted], Post Time: 2022-11-26 15:25:58, Comment Time: 2022-11-27 21:55:50\n",
            "Thread ID: 1ef8jjf, Title: How to split finances when one is FIRE'd and one isn't FIRE'ing, User1: [deleted], Comment: Break up, Post Time: 2024-07-29 19:33:52, Comment Time: 2024-07-29 20:16:44\n",
            "Thread ID: oh6i17, Title: What is your FIRE number and at what age do you want to achieve it by?, User1: FIREDOC627, Comment: Wife is 8 years younger so although we COULD retire when we are 53/45 with a NW of 4m, will likely be prudent to stay working until 57/49 (NW of \\~5.5m) so she will have healthcare the rest of our lives.  I don't HATE my job but the VA has some of the most toxic people on earth so by 57 i will prolly be ready to run, not walk, out of there, Post Time: 2021-07-09 22:42:27, Comment Time: 2024-02-04 13:16:25\n",
            "Thread ID: 143o3y9, Title: We’re all privileged, User1: Retire_date_may_22, Comment: If you were born in America you are privileged., Post Time: 2023-06-07 20:32:38, Comment Time: 2023-06-07 20:51:43\n",
            "Thread ID: 1coxxrq, Title: How my wife and I will retire before 50; neither of us make over $75K, User1: ibleed0range, Comment: $1.4m in 17 years isn’t going to be worth much.  Given Covid inflation rates in the last 4 years, I don’t even think you could retire with $1.4m at age 49 today.  Your expenses are too high and your savings are too low., Post Time: 2024-05-10 19:30:05, Comment Time: 2024-05-11 11:12:41\n",
            "Thread ID: 1ffwmql, Title: 10 tips from my 20 year journey to financial freedom, User1: Repulsive-Usual-1593, Comment: To add a point to tip 10, there’s a password manager called KeePassXC that I really like.  It’s locally hosted, so if you lose your password file, it’s gone, but the upside is that it can be used offline and has significantly less risk than using a cloud password manager.  Overall, KeePassXC has been great at keeping me organized, Post Time: 2024-09-13 14:50:25, Comment Time: 2024-09-13 16:51:46\n",
            "Thread ID: 1cmt0ah, Title: Is toxic corporate culture why most of us want to Fire? , User1: SolomonGrumpy, Comment: When times are good, companies are more forgiving with employees.  When times are tight, they are MUCH less forgiving.  \n",
            " \n",
            "Times have been tight in tech since 2022., Post Time: 2024-05-08 01:54:13, Comment Time: 2024-05-14 18:06:06\n",
            "Thread ID: 1c82w4y, Title: The cliff is steep: How do you choose to retire early when working 5 more years can bring so much more, User1: Ghia149, Comment: Think about it as financial independence rather than full on retiring. It’s the stop doing work that stresses you and is unfulfilling. Maybe you cut your income but so what? You won’t be saving as much but if you’re earning enough to not be burning you’re still growing the nest egg rather than depleting it. Just stretching the time till you start withdrawing will have a big impact. Take more vacations work fewer hours but still be productive., Post Time: 2024-04-19 17:38:05, Comment Time: 2024-04-23 18:21:28\n",
            "Thread ID: 107k4by, Title: How did you come up with your FIRE number? What is the best calculator, way to get at it?, User1: hirme23, Comment: Track your annual expenses and 25x it., Post Time: 2023-01-09 17:23:47, Comment Time: 2023-01-10 12:45:43\n",
            "Thread ID: mj288k, Title: Forgive me if this is too personal, but what was your estimated net worth around 18 and how did you use that number to grow on your path to fire? Or what did you do to grow that number to reach your fire goals? Thank you., User1: UnderstandingCalm452, Comment: Aprx. negative -$20,000, factoring in student debt and credit cards. Quit my music major, went to law school, bottomed out at negative -$165,000 with student loans by 25. That was in 2009. Now up to around +$1.4M (the old fashioned way...Im a cryptoskeptic), Post Time: 2021-04-03 05:31:51, Comment Time: 2021-04-04 15:14:09\n",
            "Thread ID: 1fw9l5k, Title: Never go full spend?, User1: gloriousrepublic, Comment: All you've done is describe CoastFIRE.  Lots of us do it., Post Time: 2024-10-04 20:55:47, Comment Time: 2024-10-05 07:47:09\n",
            "Thread ID: 1fpdzm7, Title: Retired at 47 a year ago. Round 2: The numbers!, User1: CofferCrypto, Comment: $27k/yr at 62 after being a relatively low earner and retiring at 47? I seriously doubt it, Post Time: 2024-09-25 20:09:21, Comment Time: 2024-09-26 03:22:53\n",
            "Thread ID: 1epvngp, Title: Building generational wealth vs FIRE 10 years early?, User1: UnderstandingNew2810, Comment: Oh boy. Kids and fire is different ball game. Even after they are out of the household they can definitely cost money.\n",
            "\n",
            "Most kids now go back home to get started on their feet. If you get a kid that is in their feet after 18 you got super lucky. \n",
            "\n",
            "I not really sure how fire with kids is possible. Unless you hit a complete Jack pot. 10M and up. 5M is good no kids.  But with kids. That 5M will be gone. Nothing generationally about that, Post Time: 2024-08-11 21:13:19, Comment Time: 2024-08-12 01:22:56\n",
            "Thread ID: 1dwcgqo, Title: One of the most unexpected pieces of financial advice I ever read, \"Why Buying a Lottery Ticket is a Good Investment\", has actually stacked up for me over the last decade. I've lost a couple hundred bucks over the years, but it was actually money well spent., User1: Trozll, Comment: Most people smart enough to think this way aren’t buying lottery tickets., Post Time: 2024-07-06 00:06:25, Comment Time: 2024-07-06 22:19:52\n",
            "Thread ID: 1d9zkup, Title: What is you fire number?, User1: ppith, Comment: $10M investments, 58M just before our daughter goes to college.  Currents stats:\n",
            "\n",
            "$1.57M investments, $570K paid off house (plus paid off solar so low electric bills)\n",
            "\n",
            "Adding over $200K a year to investments (75% VOO/VTI 25% MSFT) and $4K a year to 529 (S&amp;P 500)\n",
            "\n",
            "45M/38F/5F\n",
            "\n",
            "Current portfolio:\n",
            "\n",
            "85% SPY/VOO/VTI\n",
            "5% QQQ\n",
            "5% MSFT\n",
            "5% BRK.B\n",
            "\n",
            "Future portfolio:\n",
            "\n",
            "$3M short term US Treasuries \n",
            "$7M either current allocation or VOO/VTI\n",
            "\n",
            "In today's money, $10M is fatFIRE.  In the future with inflation, it's probably chubbyFIRE.  For reference, we hit $1M in investments for the first time in June 2023.  Our expenses last year was about $79K which included a few road trips plus buying flights for a two week international vacation we took earlier this year.  \n",
            "\n",
            "Expense and investment SankeyMATIC charts:\n",
            "\n",
            "https://www.reddit.com/r/HENRYfinance/s/VQbQIyUa2f, Post Time: 2024-06-07 02:07:25, Comment Time: 2024-06-07 04:11:52\n",
            "Thread ID: psbr2j, Title: Married couples with young kids, what is your FIRE number and how is your progress?, User1: Arbasebat, Comment: Is this based of Net worth or liquid asset only?, Post Time: 2021-09-21 04:50:19, Comment Time: 2021-09-21 17:49:55\n",
            "Thread ID: 1fgq5s0, Title: How are you modeling the potential for senior care in your FIRE number?, User1: Zabick, Comment: This is why retirement portfolios need to be able to handle a minimum spending floor of $100k at 4% (if at regular retirement age) or 2-3% (for the FIRE types) annual withdrawal rates.\n",
            "\n",
            "\n",
            "This means someone looking to retire in their 30s/40s needs at least a $5 million investment portfolio to be able to safely do so., Post Time: 2024-09-14 16:34:56, Comment Time: 2024-09-14 16:43:41\n",
            "Thread ID: 181hlrt, Title: Long Term Care - How it works IRL, User1: Nearby_Jaguar7416, Comment: Yeah my mother's has some of the same issues.  Coverage is about right for personal care / assisted but WAY too low for skilled nursing.  Probably seemed like a reasonable coverage 20 years ago when they got the policy.\n",
            "\n",
            "Elimination period is also crucial to consider.  If she landed in skilled nursing and died in 90 days the policy would have paid nothing and we'd have had ~30k in bills.\n",
            "\n",
            "Very hard to say if these things make sense.  Not clear to me if there's a best option, Post Time: 2023-11-22 19:34:51, Comment Time: 2023-11-23 19:50:33\n",
            "Thread ID: 15t6gzi, Title: What's your age and your number?, User1: gksozae, Comment: 47.  My current NW is $3.5M w/ $100K passive income.  By the time I retire (about 10 years from now), I'll be at $6M w/ $200K passive income if I do nothing but maintain, assuming historical appreciation of assets.  By the time my retirement accounts and social security benefits kick-in at 60 and 62, I'll be at $8M w/ $300K passive income.  I cannot retire now because my expenses are in the low 6-digit range and my job is easy and work-from-home at about 20 hours/wk.\n",
            "\n",
            "My wife won't retire until she's 62 and she'll have $200K passive income from retirement benefits and social security and a 100% paid off home worth north of $3M which will be her only asset.\n",
            "\n",
            "Neither of these account for the 2-3 free-and-clear investment properties we will both receive from inheritance + whatever the portions of our parents trust accounts allow  us, whenever that happens., Post Time: 2023-08-16 23:54:52, Comment Time: 2023-08-17 05:54:50\n",
            "Thread ID: 1fjsi5g, Title: From the experience of people in here who have achieved FIRE, in hindsight, what would you say is the the most optimal  way to achieve it? , User1: DrunkOnWeedASD, Comment: I did it by mid 20s through crypto, but it was pretty lean in the beginning. Chubby now and still aiming for fat\n",
            "\n",
            "\n",
            "Risk is way less risky than everyone thinks because of money printers and central banks supporting assets. They dont backstop everything, but it always spills over to everything, Post Time: 2024-09-18 13:13:52, Comment Time: 2024-09-18 15:05:55\n",
            "Thread ID: 1d1ukv2, Title: Defining LeanFIRE, FIRE, ChubbyFIRE, FatFIRE (2024 edition), User1: just_a_timetraveller, Comment: Hot take. I don't like these different definitions of fire. I feel some were created to have an early escape hatch from their work. \"I am in lean fire because I can leave my job if I just invest 20k more\" etc., Post Time: 2024-05-27 15:47:08, Comment Time: 2024-05-29 20:05:26\n"
          ]
        }
      ],
      "source": [
        "# Use the token to search for threads\n",
        "headers['Authorization'] = f'bearer {token}'\n",
        "\n",
        "# Constructs a string for the r/FIRE URL to query \"what is your fire number\"\n",
        "# restrict_sr=1 ensures that the query is constrained to only this subreddit\n",
        "search_url = \"https://oauth.reddit.com/r/FIRE/search?q=what%20is%20your%20fire%20number&restrict_sr=1\"\n",
        "\n",
        "# Store results of GET requrest to the API for the given \"search_url\"\n",
        "search_response = requests.get(search_url, headers=headers)\n",
        "\n",
        "# If the API GET is successful...\n",
        "if search_response.status_code == 200: # Code 200 means the request was flagged as successful\n",
        "    search_data = search_response.json() # Parse the JSON data from the response\n",
        "    #print(search_data)\n",
        "    threads = search_data['data']['children'] # Extract the list of threads\n",
        "\n",
        "    # Initialize a CSV and writes an head with columns (within .writerow() arg)\n",
        "    with open('fire_comments.csv', 'w', newline='', encoding='utf-8') as csvfile:\n",
        "        writer = csv.writer(csvfile)\n",
        "        writer.writerow(['Thread ID', 'Title', 'User', 'Comment', 'Post Time', 'Comment Time'])\n",
        "\n",
        "        # Iterate through each thread from API's response JSON\n",
        "        for thread in threads:\n",
        "            thread_title = thread['data']['title'] # Parse and extract title\n",
        "            thread_id = thread['data']['id'] # Parse and extract id\n",
        "            thread_time = thread['data']['created_utc']  # Extract post time (in Unix time)\n",
        "            # Convert the post time to a parsible date format\n",
        "            thread_time_norm = datetime.datetime.utcfromtimestamp(thread_time).strftime('%Y-%m-%d %H:%M:%S')\n",
        "\n",
        "            # Prepare URL as a string for better code handling\n",
        "            comments_url = f\"https://oauth.reddit.com/r/FIRE/comments/{thread_id}.json\"\n",
        "\n",
        "            # Store results of GET to fetch comments of the current iterated thread\n",
        "            comments_response = requests.get(comments_url, headers=headers)\n",
        "            if comments_response.status_code == 200: # Again, check if GET is successful\n",
        "                comments_data = comments_response.json() # Store JSON\n",
        "                comments = comments_data[1]['data']['children'] # Parse and extract comments\n",
        "\n",
        "                # Iterate through each comment\n",
        "                for comment in comments:\n",
        "                    if comment['kind'] == 't1': # Only iterate on top comments\n",
        "                        username = comment['data']['author'] # Extract username\n",
        "                        body = comment['data']['body'] # Extract text body\n",
        "\n",
        "                        # Extract comment time, convert\n",
        "                        comment_time = comment['data']['created_utc']\n",
        "                        comment_time_norm = datetime.datetime.utcfromtimestamp(comment_time).strftime('%Y-%m-%d %H:%M:%S')\n",
        "\n",
        "                        # Write parsed data into respective CSV row, mapped to column\n",
        "                        writer.writerow([thread_id,\n",
        "                                         thread_title,\n",
        "                                         username,\n",
        "                                         body,\n",
        "                                         thread_time_norm,\n",
        "                                         comment_time_norm])\n",
        "\n",
        "                print(f\"Thread ID: {thread_id}, Title: {thread_title}, User1: {username}, Comment: {body}, Post Time: {thread_time_norm}, Comment Time: {comment_time_norm}\")\n",
        "\n",
        "            else:\n",
        "                print(f\"Failed to retrieve comments for thread ID {thread_id} with status code {comments_response.status_code}\")\n",
        "\n",
        "else:\n",
        "    print(f\"Failed to retrieve search results with status code {search_response.status_code}\")"
      ]
    },
    {
      "cell_type": "markdown",
      "metadata": {
        "id": "I_7WP4t4poKx"
      },
      "source": [
        "## Verify the contents of the CSV that was created above and store as DataFrame"
      ]
    },
    {
      "cell_type": "code",
      "execution_count": 5,
      "metadata": {
        "colab": {
          "base_uri": "https://localhost:8080/",
          "height": 204
        },
        "id": "BT92kZVZo8gw",
        "outputId": "2e7ba964-a839-4974-a907-ea26fc0ec844"
      },
      "outputs": [
        {
          "output_type": "execute_result",
          "data": {
            "text/plain": [
              "  Thread ID                       Title            User  \\\n",
              "0   1fqzb0p  What is your fire number?         manimopo   \n",
              "1   1fqzb0p  What is your fire number?        Animag771   \n",
              "2   1fqzb0p  What is your fire number?      wowsocool4u   \n",
              "3   1fqzb0p  What is your fire number?   Aromatic_Heart   \n",
              "4   1fqzb0p  What is your fire number?           Ziqach   \n",
              "\n",
              "                                             Comment            Post Time  \\\n",
              "0                          1.5m with paid off houses  2024-09-27 22:00:15   \n",
              "1  I'm just waiting for someone to say something ...  2024-09-27 22:00:15   \n",
              "2  $1.9m.  Targeting a few months after i turn 50...  2024-09-27 22:00:15   \n",
              "3  On days I hate my job, 600k. The other days, d...  2024-09-27 22:00:15   \n",
              "4  $2M with a paid off house. So stressful to see...  2024-09-27 22:00:15   \n",
              "\n",
              "          Comment Time  \n",
              "0  2024-09-27 22:14:27  \n",
              "1  2024-09-27 22:43:43  \n",
              "2  2024-09-27 22:24:04  \n",
              "3  2024-09-28 03:15:50  \n",
              "4  2024-09-27 22:59:17  "
            ],
            "text/html": [
              "\n",
              "  <div id=\"df-d455650c-895c-40f0-af3a-ceaca83a17d1\" class=\"colab-df-container\">\n",
              "    <div>\n",
              "<style scoped>\n",
              "    .dataframe tbody tr th:only-of-type {\n",
              "        vertical-align: middle;\n",
              "    }\n",
              "\n",
              "    .dataframe tbody tr th {\n",
              "        vertical-align: top;\n",
              "    }\n",
              "\n",
              "    .dataframe thead th {\n",
              "        text-align: right;\n",
              "    }\n",
              "</style>\n",
              "<table border=\"1\" class=\"dataframe\">\n",
              "  <thead>\n",
              "    <tr style=\"text-align: right;\">\n",
              "      <th></th>\n",
              "      <th>Thread ID</th>\n",
              "      <th>Title</th>\n",
              "      <th>User</th>\n",
              "      <th>Comment</th>\n",
              "      <th>Post Time</th>\n",
              "      <th>Comment Time</th>\n",
              "    </tr>\n",
              "  </thead>\n",
              "  <tbody>\n",
              "    <tr>\n",
              "      <th>0</th>\n",
              "      <td>1fqzb0p</td>\n",
              "      <td>What is your fire number?</td>\n",
              "      <td>manimopo</td>\n",
              "      <td>1.5m with paid off houses</td>\n",
              "      <td>2024-09-27 22:00:15</td>\n",
              "      <td>2024-09-27 22:14:27</td>\n",
              "    </tr>\n",
              "    <tr>\n",
              "      <th>1</th>\n",
              "      <td>1fqzb0p</td>\n",
              "      <td>What is your fire number?</td>\n",
              "      <td>Animag771</td>\n",
              "      <td>I'm just waiting for someone to say something ...</td>\n",
              "      <td>2024-09-27 22:00:15</td>\n",
              "      <td>2024-09-27 22:43:43</td>\n",
              "    </tr>\n",
              "    <tr>\n",
              "      <th>2</th>\n",
              "      <td>1fqzb0p</td>\n",
              "      <td>What is your fire number?</td>\n",
              "      <td>wowsocool4u</td>\n",
              "      <td>$1.9m.  Targeting a few months after i turn 50...</td>\n",
              "      <td>2024-09-27 22:00:15</td>\n",
              "      <td>2024-09-27 22:24:04</td>\n",
              "    </tr>\n",
              "    <tr>\n",
              "      <th>3</th>\n",
              "      <td>1fqzb0p</td>\n",
              "      <td>What is your fire number?</td>\n",
              "      <td>Aromatic_Heart</td>\n",
              "      <td>On days I hate my job, 600k. The other days, d...</td>\n",
              "      <td>2024-09-27 22:00:15</td>\n",
              "      <td>2024-09-28 03:15:50</td>\n",
              "    </tr>\n",
              "    <tr>\n",
              "      <th>4</th>\n",
              "      <td>1fqzb0p</td>\n",
              "      <td>What is your fire number?</td>\n",
              "      <td>Ziqach</td>\n",
              "      <td>$2M with a paid off house. So stressful to see...</td>\n",
              "      <td>2024-09-27 22:00:15</td>\n",
              "      <td>2024-09-27 22:59:17</td>\n",
              "    </tr>\n",
              "  </tbody>\n",
              "</table>\n",
              "</div>\n",
              "    <div class=\"colab-df-buttons\">\n",
              "\n",
              "  <div class=\"colab-df-container\">\n",
              "    <button class=\"colab-df-convert\" onclick=\"convertToInteractive('df-d455650c-895c-40f0-af3a-ceaca83a17d1')\"\n",
              "            title=\"Convert this dataframe to an interactive table.\"\n",
              "            style=\"display:none;\">\n",
              "\n",
              "  <svg xmlns=\"http://www.w3.org/2000/svg\" height=\"24px\" viewBox=\"0 -960 960 960\">\n",
              "    <path d=\"M120-120v-720h720v720H120Zm60-500h600v-160H180v160Zm220 220h160v-160H400v160Zm0 220h160v-160H400v160ZM180-400h160v-160H180v160Zm440 0h160v-160H620v160ZM180-180h160v-160H180v160Zm440 0h160v-160H620v160Z\"/>\n",
              "  </svg>\n",
              "    </button>\n",
              "\n",
              "  <style>\n",
              "    .colab-df-container {\n",
              "      display:flex;\n",
              "      gap: 12px;\n",
              "    }\n",
              "\n",
              "    .colab-df-convert {\n",
              "      background-color: #E8F0FE;\n",
              "      border: none;\n",
              "      border-radius: 50%;\n",
              "      cursor: pointer;\n",
              "      display: none;\n",
              "      fill: #1967D2;\n",
              "      height: 32px;\n",
              "      padding: 0 0 0 0;\n",
              "      width: 32px;\n",
              "    }\n",
              "\n",
              "    .colab-df-convert:hover {\n",
              "      background-color: #E2EBFA;\n",
              "      box-shadow: 0px 1px 2px rgba(60, 64, 67, 0.3), 0px 1px 3px 1px rgba(60, 64, 67, 0.15);\n",
              "      fill: #174EA6;\n",
              "    }\n",
              "\n",
              "    .colab-df-buttons div {\n",
              "      margin-bottom: 4px;\n",
              "    }\n",
              "\n",
              "    [theme=dark] .colab-df-convert {\n",
              "      background-color: #3B4455;\n",
              "      fill: #D2E3FC;\n",
              "    }\n",
              "\n",
              "    [theme=dark] .colab-df-convert:hover {\n",
              "      background-color: #434B5C;\n",
              "      box-shadow: 0px 1px 3px 1px rgba(0, 0, 0, 0.15);\n",
              "      filter: drop-shadow(0px 1px 2px rgba(0, 0, 0, 0.3));\n",
              "      fill: #FFFFFF;\n",
              "    }\n",
              "  </style>\n",
              "\n",
              "    <script>\n",
              "      const buttonEl =\n",
              "        document.querySelector('#df-d455650c-895c-40f0-af3a-ceaca83a17d1 button.colab-df-convert');\n",
              "      buttonEl.style.display =\n",
              "        google.colab.kernel.accessAllowed ? 'block' : 'none';\n",
              "\n",
              "      async function convertToInteractive(key) {\n",
              "        const element = document.querySelector('#df-d455650c-895c-40f0-af3a-ceaca83a17d1');\n",
              "        const dataTable =\n",
              "          await google.colab.kernel.invokeFunction('convertToInteractive',\n",
              "                                                    [key], {});\n",
              "        if (!dataTable) return;\n",
              "\n",
              "        const docLinkHtml = 'Like what you see? Visit the ' +\n",
              "          '<a target=\"_blank\" href=https://colab.research.google.com/notebooks/data_table.ipynb>data table notebook</a>'\n",
              "          + ' to learn more about interactive tables.';\n",
              "        element.innerHTML = '';\n",
              "        dataTable['output_type'] = 'display_data';\n",
              "        await google.colab.output.renderOutput(dataTable, element);\n",
              "        const docLink = document.createElement('div');\n",
              "        docLink.innerHTML = docLinkHtml;\n",
              "        element.appendChild(docLink);\n",
              "      }\n",
              "    </script>\n",
              "  </div>\n",
              "\n",
              "\n",
              "<div id=\"df-cbed2f41-378b-4e4b-89bf-82503f8edaa6\">\n",
              "  <button class=\"colab-df-quickchart\" onclick=\"quickchart('df-cbed2f41-378b-4e4b-89bf-82503f8edaa6')\"\n",
              "            title=\"Suggest charts\"\n",
              "            style=\"display:none;\">\n",
              "\n",
              "<svg xmlns=\"http://www.w3.org/2000/svg\" height=\"24px\"viewBox=\"0 0 24 24\"\n",
              "     width=\"24px\">\n",
              "    <g>\n",
              "        <path d=\"M19 3H5c-1.1 0-2 .9-2 2v14c0 1.1.9 2 2 2h14c1.1 0 2-.9 2-2V5c0-1.1-.9-2-2-2zM9 17H7v-7h2v7zm4 0h-2V7h2v10zm4 0h-2v-4h2v4z\"/>\n",
              "    </g>\n",
              "</svg>\n",
              "  </button>\n",
              "\n",
              "<style>\n",
              "  .colab-df-quickchart {\n",
              "      --bg-color: #E8F0FE;\n",
              "      --fill-color: #1967D2;\n",
              "      --hover-bg-color: #E2EBFA;\n",
              "      --hover-fill-color: #174EA6;\n",
              "      --disabled-fill-color: #AAA;\n",
              "      --disabled-bg-color: #DDD;\n",
              "  }\n",
              "\n",
              "  [theme=dark] .colab-df-quickchart {\n",
              "      --bg-color: #3B4455;\n",
              "      --fill-color: #D2E3FC;\n",
              "      --hover-bg-color: #434B5C;\n",
              "      --hover-fill-color: #FFFFFF;\n",
              "      --disabled-bg-color: #3B4455;\n",
              "      --disabled-fill-color: #666;\n",
              "  }\n",
              "\n",
              "  .colab-df-quickchart {\n",
              "    background-color: var(--bg-color);\n",
              "    border: none;\n",
              "    border-radius: 50%;\n",
              "    cursor: pointer;\n",
              "    display: none;\n",
              "    fill: var(--fill-color);\n",
              "    height: 32px;\n",
              "    padding: 0;\n",
              "    width: 32px;\n",
              "  }\n",
              "\n",
              "  .colab-df-quickchart:hover {\n",
              "    background-color: var(--hover-bg-color);\n",
              "    box-shadow: 0 1px 2px rgba(60, 64, 67, 0.3), 0 1px 3px 1px rgba(60, 64, 67, 0.15);\n",
              "    fill: var(--button-hover-fill-color);\n",
              "  }\n",
              "\n",
              "  .colab-df-quickchart-complete:disabled,\n",
              "  .colab-df-quickchart-complete:disabled:hover {\n",
              "    background-color: var(--disabled-bg-color);\n",
              "    fill: var(--disabled-fill-color);\n",
              "    box-shadow: none;\n",
              "  }\n",
              "\n",
              "  .colab-df-spinner {\n",
              "    border: 2px solid var(--fill-color);\n",
              "    border-color: transparent;\n",
              "    border-bottom-color: var(--fill-color);\n",
              "    animation:\n",
              "      spin 1s steps(1) infinite;\n",
              "  }\n",
              "\n",
              "  @keyframes spin {\n",
              "    0% {\n",
              "      border-color: transparent;\n",
              "      border-bottom-color: var(--fill-color);\n",
              "      border-left-color: var(--fill-color);\n",
              "    }\n",
              "    20% {\n",
              "      border-color: transparent;\n",
              "      border-left-color: var(--fill-color);\n",
              "      border-top-color: var(--fill-color);\n",
              "    }\n",
              "    30% {\n",
              "      border-color: transparent;\n",
              "      border-left-color: var(--fill-color);\n",
              "      border-top-color: var(--fill-color);\n",
              "      border-right-color: var(--fill-color);\n",
              "    }\n",
              "    40% {\n",
              "      border-color: transparent;\n",
              "      border-right-color: var(--fill-color);\n",
              "      border-top-color: var(--fill-color);\n",
              "    }\n",
              "    60% {\n",
              "      border-color: transparent;\n",
              "      border-right-color: var(--fill-color);\n",
              "    }\n",
              "    80% {\n",
              "      border-color: transparent;\n",
              "      border-right-color: var(--fill-color);\n",
              "      border-bottom-color: var(--fill-color);\n",
              "    }\n",
              "    90% {\n",
              "      border-color: transparent;\n",
              "      border-bottom-color: var(--fill-color);\n",
              "    }\n",
              "  }\n",
              "</style>\n",
              "\n",
              "  <script>\n",
              "    async function quickchart(key) {\n",
              "      const quickchartButtonEl =\n",
              "        document.querySelector('#' + key + ' button');\n",
              "      quickchartButtonEl.disabled = true;  // To prevent multiple clicks.\n",
              "      quickchartButtonEl.classList.add('colab-df-spinner');\n",
              "      try {\n",
              "        const charts = await google.colab.kernel.invokeFunction(\n",
              "            'suggestCharts', [key], {});\n",
              "      } catch (error) {\n",
              "        console.error('Error during call to suggestCharts:', error);\n",
              "      }\n",
              "      quickchartButtonEl.classList.remove('colab-df-spinner');\n",
              "      quickchartButtonEl.classList.add('colab-df-quickchart-complete');\n",
              "    }\n",
              "    (() => {\n",
              "      let quickchartButtonEl =\n",
              "        document.querySelector('#df-cbed2f41-378b-4e4b-89bf-82503f8edaa6 button');\n",
              "      quickchartButtonEl.style.display =\n",
              "        google.colab.kernel.accessAllowed ? 'block' : 'none';\n",
              "    })();\n",
              "  </script>\n",
              "</div>\n",
              "\n",
              "    </div>\n",
              "  </div>\n"
            ],
            "application/vnd.google.colaboratory.intrinsic+json": {
              "type": "dataframe",
              "variable_name": "rfire_df",
              "summary": "{\n  \"name\": \"rfire_df\",\n  \"rows\": 1460,\n  \"fields\": [\n    {\n      \"column\": \"Thread ID\",\n      \"properties\": {\n        \"dtype\": \"category\",\n        \"num_unique_values\": 25,\n        \"samples\": [\n          \"1coxxrq\",\n          \"1epvngp\",\n          \"1fqzb0p\"\n        ],\n        \"semantic_type\": \"\",\n        \"description\": \"\"\n      }\n    },\n    {\n      \"column\": \"Title\",\n      \"properties\": {\n        \"dtype\": \"category\",\n        \"num_unique_values\": 25,\n        \"samples\": [\n          \"How my wife and I will retire before 50; neither of us make over $75K\",\n          \"Building generational wealth vs FIRE 10 years early?\",\n          \"What is your fire number? \"\n        ],\n        \"semantic_type\": \"\",\n        \"description\": \"\"\n      }\n    },\n    {\n      \"column\": \"User\",\n      \"properties\": {\n        \"dtype\": \"string\",\n        \"num_unique_values\": 1192,\n        \"samples\": [\n          \"Commercial_Rule_7823\",\n          \"JellybeanFI\",\n          \"A_Guy_Named_John\"\n        ],\n        \"semantic_type\": \"\",\n        \"description\": \"\"\n      }\n    },\n    {\n      \"column\": \"Comment\",\n      \"properties\": {\n        \"dtype\": \"string\",\n        \"num_unique_values\": 1431,\n        \"samples\": [\n          \"I'm coastFI but working jobs I enjoy now to reach $1.8 M (USA) before I'm 45.\",\n          \"8.5m/3.9m 2kids primary school\",\n          \"3M at 50 - hit and then got an offer I could not refuse at work so now 4.5M at 55 - free and clear of all debt not counting home.\"\n        ],\n        \"semantic_type\": \"\",\n        \"description\": \"\"\n      }\n    },\n    {\n      \"column\": \"Post Time\",\n      \"properties\": {\n        \"dtype\": \"object\",\n        \"num_unique_values\": 25,\n        \"samples\": [\n          \"2024-05-10 19:30:05\",\n          \"2024-08-11 21:13:19\",\n          \"2024-09-27 22:00:15\"\n        ],\n        \"semantic_type\": \"\",\n        \"description\": \"\"\n      }\n    },\n    {\n      \"column\": \"Comment Time\",\n      \"properties\": {\n        \"dtype\": \"object\",\n        \"num_unique_values\": 1457,\n        \"samples\": [\n          \"2023-06-08 01:34:28\",\n          \"2023-11-22 20:00:28\",\n          \"2024-07-30 03:55:44\"\n        ],\n        \"semantic_type\": \"\",\n        \"description\": \"\"\n      }\n    }\n  ]\n}"
            }
          },
          "metadata": {},
          "execution_count": 5
        }
      ],
      "source": [
        "rfire_df = pd.read_csv('fire_comments.csv')\n",
        "rfire_df.head()"
      ]
    },
    {
      "cell_type": "markdown",
      "metadata": {
        "id": "Pw5ct93sx06H"
      },
      "source": [
        "# Data Preprocessing"
      ]
    },
    {
      "cell_type": "markdown",
      "metadata": {
        "id": "QRHrv0ykpoKy",
        "jp-MarkdownHeadingCollapsed": true
      },
      "source": [
        "## Preliminary dataframe"
      ]
    },
    {
      "cell_type": "code",
      "execution_count": 6,
      "metadata": {
        "colab": {
          "base_uri": "https://localhost:8080/"
        },
        "id": "O4gXMzaqx_ms",
        "outputId": "03f01287-6e98-4fe0-df70-2d919a642f76"
      },
      "outputs": [
        {
          "output_type": "stream",
          "name": "stdout",
          "text": [
            "<class 'pandas.core.frame.DataFrame'>\n",
            "RangeIndex: 1460 entries, 0 to 1459\n",
            "Data columns (total 6 columns):\n",
            " #   Column        Non-Null Count  Dtype \n",
            "---  ------        --------------  ----- \n",
            " 0   Thread ID     1460 non-null   object\n",
            " 1   Title         1460 non-null   object\n",
            " 2   User          1460 non-null   object\n",
            " 3   Comment       1460 non-null   object\n",
            " 4   Post Time     1460 non-null   object\n",
            " 5   Comment Time  1460 non-null   object\n",
            "dtypes: object(6)\n",
            "memory usage: 68.6+ KB\n"
          ]
        }
      ],
      "source": [
        "rfire_df.info()"
      ]
    },
    {
      "cell_type": "code",
      "execution_count": 7,
      "metadata": {
        "colab": {
          "base_uri": "https://localhost:8080/"
        },
        "id": "KdgLxwF2qnb9",
        "outputId": "8f6d989c-dfdf-45ca-ae2f-fb4dc8c968be"
      },
      "outputs": [
        {
          "output_type": "execute_result",
          "data": {
            "text/plain": [
              "array(['What is your fire number? ', 'What is your fire number?',\n",
              "       'For folks who plan to FIRE in HCOL / VHCOL areas, what is your FIRE number? Why not move to MCOL / LCOL area?',\n",
              "       'What is your FIRE number?',\n",
              "       'What is your fire number and how did you arrive at it?',\n",
              "       \"How to split finances when one is FIRE'd and one isn't FIRE'ing\",\n",
              "       'What is your FIRE number and at what age do you want to achieve it by?',\n",
              "       'We’re all privileged',\n",
              "       'How my wife and I will retire before 50; neither of us make over $75K',\n",
              "       '10 tips from my 20 year journey to financial freedom',\n",
              "       'Is toxic corporate culture why most of us want to Fire? ',\n",
              "       'The cliff is steep: How do you choose to retire early when working 5 more years can bring so much more',\n",
              "       'How did you come up with your FIRE number? What is the best calculator, way to get at it?',\n",
              "       'Forgive me if this is too personal, but what was your estimated net worth around 18 and how did you use that number to grow on your path to fire? Or what did you do to grow that number to reach your fire goals? Thank you.',\n",
              "       'Never go full spend?',\n",
              "       'Retired at 47 a year ago. Round 2: The numbers!',\n",
              "       'Building generational wealth vs FIRE 10 years early?',\n",
              "       'One of the most unexpected pieces of financial advice I ever read, \"Why Buying a Lottery Ticket is a Good Investment\", has actually stacked up for me over the last decade. I\\'ve lost a couple hundred bucks over the years, but it was actually money well spent.',\n",
              "       'What is you fire number?',\n",
              "       'Married couples with young kids, what is your FIRE number and how is your progress?',\n",
              "       'How are you modeling the potential for senior care in your FIRE number?',\n",
              "       'Long Term Care - How it works IRL',\n",
              "       \"What's your age and your number?\",\n",
              "       'From the experience of people in here who have achieved FIRE, in hindsight, what would you say is the the most optimal  way to achieve it? ',\n",
              "       'Defining LeanFIRE, FIRE, ChubbyFIRE, FatFIRE (2024 edition)'],\n",
              "      dtype=object)"
            ]
          },
          "metadata": {},
          "execution_count": 7
        }
      ],
      "source": [
        "rfire_df['Title'].unique()"
      ]
    },
    {
      "cell_type": "markdown",
      "metadata": {
        "id": "AxbempqMzxXM"
      },
      "source": [
        "## Clean Dataset"
      ]
    },
    {
      "cell_type": "code",
      "execution_count": 136,
      "metadata": {
        "colab": {
          "base_uri": "https://localhost:8080/"
        },
        "id": "Z-cfs5ZHbJY_",
        "outputId": "457d41e9-0f85-4b8e-c6b5-1d793b47d751"
      },
      "outputs": [
        {
          "output_type": "stream",
          "name": "stdout",
          "text": [
            "['What is your fire number? ' 'What is your fire number?'\n",
            " 'For folks who plan to FIRE in HCOL / VHCOL areas, what is your FIRE number? Why not move to MCOL / LCOL area?'\n",
            " 'What is your FIRE number?'\n",
            " 'What is your fire number and how did you arrive at it?'\n",
            " 'What is your FIRE number and at what age do you want to achieve it by?'\n",
            " 'Married couples with young kids, what is your FIRE number and how is your progress?']\n",
            "<class 'pandas.core.frame.DataFrame'>\n",
            "Index: 432 entries, 0 to 1226\n",
            "Data columns (total 6 columns):\n",
            " #   Column        Non-Null Count  Dtype \n",
            "---  ------        --------------  ----- \n",
            " 0   Thread ID     432 non-null    object\n",
            " 1   Title         432 non-null    object\n",
            " 2   User          432 non-null    object\n",
            " 3   Comment       432 non-null    object\n",
            " 4   Post Time     432 non-null    object\n",
            " 5   Comment Time  432 non-null    object\n",
            "dtypes: object(6)\n",
            "memory usage: 23.6+ KB\n",
            "None\n"
          ]
        }
      ],
      "source": [
        "# Retrive titles that contain the words \"what is your fire number\"\n",
        "fire_df = rfire_df[rfire_df['Title'].str.contains(r'what\\s*is\\s*your\\s*fire\\s*number', case=False, na=False)]\n",
        "\n",
        "print(fire_df['Title'].unique())\n",
        "print(fire_df.info())"
      ]
    },
    {
      "cell_type": "markdown",
      "metadata": {
        "id": "7UDRkbbWy_vw"
      },
      "source": [
        "### Fire Number Extraction"
      ]
    },
    {
      "cell_type": "markdown",
      "metadata": {
        "id": "QBbBP3SkY5B0"
      },
      "source": [
        "Regular Expression Description\n",
        "\n",
        "re.sub(r'[^a-zA-Z0-9\\s$€£¥.]', '', text)\n",
        "\n",
        "replaces matching substrings with an empty '' (effectively removing it)\n",
        "\n",
        "Breakdown: \\\n",
        "^a-zA-Z0-9 = NOT alphanumeric characters \\\n",
        "\\s = whitespace \\\n",
        "$€£¥ = Currency symbols \\\n",
        ". = Period / Decimal \\\n",
        "\n",
        "Objective:  \\\n",
        "Regular Expression removes everything that isn't an alphanumeric character or symbol above AFTER we've already removed periods from the line\n",
        "\n",
        "text = re.sub(r'(?<!\\d)\\.(?!\\d)', '', text)\n",
        "\n",
        "Breakdown: \\\n",
        "(?<!\\d) Only match if the character before the period is not a digit (\\d) *only checking with ?*\n"
      ]
    },
    {
      "cell_type": "code",
      "execution_count": 137,
      "metadata": {
        "id": "QkmebKoxg4EL"
      },
      "outputs": [],
      "source": [
        "# Define comment cleaning steps\n",
        "def clean_and_extract(text: str) -> str:\n",
        "    \"\"\"\n",
        "    Cleans the input text by:\n",
        "    - Removing URLs\n",
        "    - Keep alphanumeric characters, spaces, dashes, and currency symbols\n",
        "    - Normalizing financial identifiers\n",
        "    - Converting text to lowercase\n",
        "    - Removing isolated periods\n",
        "\n",
        "    Args:\n",
        "        text (str): The input text to be cleaned.\n",
        "\n",
        "    Returns:\n",
        "        str: The cleaned and normalized text.\n",
        "    \"\"\"\n",
        "    # Remove URLs\n",
        "    text = re.sub(r'http\\S+', '', text)\n",
        "\n",
        "    # Keep alphanumeric characters, spaces, slash, and currency symbols\n",
        "    text = re.sub(r'[^a-zA-Z0-9\\s$€£¥./-]', '', text)\n",
        "\n",
        "    # Convert to lowercase\n",
        "    text = text.lower()\n",
        "\n",
        "    # Remove isolated periods not part of numbers\n",
        "    text = re.sub(r'(?<!\\d)\\.(?!\\d)', '', text)\n",
        "\n",
        "    # Normalize financial identifiers\n",
        "    financial_patterns = [\n",
        "    # Pattern to match \"Xmil/Yk\" or \"Xmil/Ymil\" and replace it appropriately\n",
        "    (re.compile(r'(?<!\\w)\\$?(\\d+(?:\\.\\d+)?)\\s*(?:mm|m|mil)\\s*/\\s*(?<!\\w)\\$?(\\d+(?:\\.\\d+)?)\\s*(k|mm|m|mil)(?=\\s|$)', re.IGNORECASE), r'\\1 million/\\2 \\3'),\n",
        "\n",
        "    # Pattern to match single instances of millions (e.g., \"1.5mm\", \"5mil\") and replace with \"X million\"\n",
        "    (re.compile(r'(?<!\\w)\\$?(\\d+(?:\\.\\d+)?)\\s*(?:mm|m|mil)(?=\\s|$)', re.IGNORECASE), r'\\1 million '),\n",
        "\n",
        "    # Pattern to match \"Xb\" and replace with \"X billion\"\n",
        "    (re.compile(r'(?<!\\w)\\$?(\\d+)\\s*b(?=\\s|$)', re.IGNORECASE), r'\\1 billion '),\n",
        "\n",
        "    # Pattern to match \"X mil\" or \"X million\" and replace with \"X million\"\n",
        "    (re.compile(r'(?<!\\w)\\$?(\\d+)\\s*(mil|million)(?=\\s|$)', re.IGNORECASE), r'\\1 million '),\n",
        "\n",
        "    # Pattern to match \"Xk\" or \"X thousand\" and replace with \"X thousand\"\n",
        "    (re.compile(r'(?<!\\w)\\$?(\\d+)\\s*(k|thousand)(?=\\s|$)', re.IGNORECASE), r'\\1 thousand ')\n",
        "    ]\n",
        "\n",
        "\n",
        "    for pattern, replacement in financial_patterns:\n",
        "        text = pattern.sub(replacement, text)\n",
        "\n",
        "    # Remove extra spaces after replacements\n",
        "    text = re.sub(r'\\s+', ' ', text).strip()\n",
        "\n",
        "    return text\n",
        "\n",
        "\n",
        "# Define extraction of fire number\n",
        "def extract_fire_number(text: str) -> str:\n",
        "    fire_number_match = re.search(r'(\\d+(\\.\\d+)?)\\s*(million|billion|thousand)', text)\n",
        "    return fire_number_match.group(0) if fire_number_match else None\n",
        "\n",
        "# Define conversion of fire number to numeric\n",
        "def convert_fire_number_to_numeric(fire_number: str) -> float:\n",
        "    if not fire_number:\n",
        "        return 0.0\n",
        "\n",
        "    # Define conversion factors\n",
        "    conversion_factors = {\n",
        "        'million': 1_000_000,\n",
        "        'billion': 1_000_000_000,\n",
        "        'thousand': 1_000\n",
        "    }\n",
        "\n",
        "    # Extract numeric part and the suffix\n",
        "    match = re.match(r'(\\d+(\\.\\d+)?)\\s*(million|billion|thousand)', fire_number)\n",
        "    if match:\n",
        "        value = float(match.group(1))\n",
        "        suffix = match.group(3)\n",
        "        return value * conversion_factors[suffix]\n",
        "\n",
        "    return 0.0"
      ]
    },
    {
      "cell_type": "code",
      "execution_count": 139,
      "metadata": {
        "id": "1P8lLqgmx0E5"
      },
      "outputs": [],
      "source": [
        "# Apply the cleaning function to the 'Comment' column\n",
        "fire_df['Cleaned Comment'] = fire_df['Comment'].apply(clean_and_extract)\n",
        "\n",
        "# Extract FIRE number\n",
        "fire_df['FIRE #'] = fire_df['Cleaned Comment'].apply(extract_fire_number)\n",
        "\n",
        "# Convert FIRE Number from string to numerical value\n",
        "fire_df['FIRE Number'] = fire_df['FIRE #'].apply(convert_fire_number_to_numeric)\n",
        "\n",
        "# Drop the original FIRE Number column if no longer needed\n",
        "fire_df.drop(columns=['FIRE #'], inplace=True)"
      ]
    },
    {
      "cell_type": "code",
      "source": [
        "# Check for regular expression conversion\n",
        "random_comments = fire_df[['Comment','Cleaned Comment', 'FIRE Number']].sample(n=10, random_state=10)  # Set random_state for reproducibility\n",
        "print(random_comments)"
      ],
      "metadata": {
        "id": "FYyQ8gjJ-PYw",
        "outputId": "9c6a5105-e598-4bb0-c205-d2d1a85a8ccd",
        "colab": {
          "base_uri": "https://localhost:8080/"
        }
      },
      "execution_count": 144,
      "outputs": [
        {
          "output_type": "stream",
          "name": "stdout",
          "text": [
            "                                                Comment  \\\n",
            "65    600k is where I don't worry about expenses. 1....   \n",
            "266   Could be there right now if I wanted to.\\n\\nMy...   \n",
            "188                 4M at least. Going to move to Spain   \n",
            "47                                           1.2, rent.   \n",
            "287                             3.6 with mortgage paid.   \n",
            "1223  Marrying whoever after my Bar Exam this Novemb...   \n",
            "279   7mil. Married w/ 2 kids… 33yo and 30yo. Goal i...   \n",
            "338   What I want to pull out my first year x28.5 in...   \n",
            "163                                           2 - 3 Mil   \n",
            "357   $2,000,000 gives us $80,000/year. That’s what ...   \n",
            "\n",
            "                                        Cleaned Comment  FIRE Number  \n",
            "65    600 thousand is where i dont worry about expen...     600000.0  \n",
            "266   could be there right now if i wanted to my goa...    2000000.0  \n",
            "188           4 million at least going to move to spain    4000000.0  \n",
            "47                                             1.2 rent          0.0  \n",
            "287                              3.6 with mortgage paid          0.0  \n",
            "1223  marrying whoever after my bar exam this novemb...    4000000.0  \n",
            "279   7 million married w/ 2 kids 33yo and 30yo goal...    7000000.0  \n",
            "338   what i want to pull out my first year x28.5 in...          0.0  \n",
            "163                                       2 - 3 million    3000000.0  \n",
            "357   $2000000 gives us $80000/year thats what ive w...          0.0  \n"
          ]
        }
      ]
    },
    {
      "cell_type": "code",
      "execution_count": 141,
      "metadata": {
        "colab": {
          "base_uri": "https://localhost:8080/"
        },
        "id": "BeZ91tlGg4BZ",
        "outputId": "8960bb93-7aa3-44c2-d572-0bd2f44c8b04"
      },
      "outputs": [
        {
          "output_type": "stream",
          "name": "stdout",
          "text": [
            "FIRE Dataframe\n",
            "\n",
            "  Thread ID                       Title            User  \\\n",
            "0   1fqzb0p  What is your fire number?         manimopo   \n",
            "1   1fqzb0p  What is your fire number?        Animag771   \n",
            "2   1fqzb0p  What is your fire number?      wowsocool4u   \n",
            "3   1fqzb0p  What is your fire number?   Aromatic_Heart   \n",
            "4   1fqzb0p  What is your fire number?           Ziqach   \n",
            "\n",
            "                                             Comment            Post Time  \\\n",
            "0                          1.5m with paid off houses  2024-09-27 22:00:15   \n",
            "1  I'm just waiting for someone to say something ...  2024-09-27 22:00:15   \n",
            "2  $1.9m.  Targeting a few months after i turn 50...  2024-09-27 22:00:15   \n",
            "3  On days I hate my job, 600k. The other days, d...  2024-09-27 22:00:15   \n",
            "4  $2M with a paid off house. So stressful to see...  2024-09-27 22:00:15   \n",
            "\n",
            "          Comment Time                                    Cleaned Comment  \\\n",
            "0  2024-09-27 22:14:27                   1.5 million with paid off houses   \n",
            "1  2024-09-27 22:43:43  im just waiting for someone to say something l...   \n",
            "2  2024-09-27 22:24:04  1.9 million targeting a few months after i tur...   \n",
            "3  2024-09-28 03:15:50  on days i hate my job 600 thousand the other d...   \n",
            "4  2024-09-27 22:59:17  2 million with a paid off house so stressful t...   \n",
            "\n",
            "   FIRE Number  \n",
            "0    1500000.0  \n",
            "1          0.0  \n",
            "2    1900000.0  \n",
            "3     600000.0  \n",
            "4    2000000.0   \n",
            "\n",
            "FIRE DataFrame General Info\n",
            "\n",
            "<class 'pandas.core.frame.DataFrame'>\n",
            "Index: 432 entries, 0 to 1226\n",
            "Data columns (total 8 columns):\n",
            " #   Column           Non-Null Count  Dtype  \n",
            "---  ------           --------------  -----  \n",
            " 0   Thread ID        432 non-null    object \n",
            " 1   Title            432 non-null    object \n",
            " 2   User             432 non-null    object \n",
            " 3   Comment          432 non-null    object \n",
            " 4   Post Time        432 non-null    object \n",
            " 5   Comment Time     432 non-null    object \n",
            " 6   Cleaned Comment  432 non-null    object \n",
            " 7   FIRE Number      432 non-null    float64\n",
            "dtypes: float64(1), object(7)\n",
            "memory usage: 30.4+ KB\n",
            "None\n"
          ]
        }
      ],
      "source": [
        "# Display the first few rows of the DataFrame\n",
        "print(\"FIRE Dataframe\\n\")\n",
        "print(fire_df.head(),\"\\n\")\n",
        "\n",
        "# Print general information about the DataFrame with a proper newline\n",
        "print(\"FIRE DataFrame General Info\\n\")\n",
        "print(fire_df.info())"
      ]
    },
    {
      "cell_type": "markdown",
      "metadata": {
        "id": "FFWfDVgBY5B1"
      },
      "source": [
        "### Create CountVectorizer matrix for the cleaned comments"
      ]
    },
    {
      "cell_type": "code",
      "execution_count": null,
      "metadata": {
        "id": "ZZIhBW_9Y5B1"
      },
      "outputs": [],
      "source": [
        "vectorizer_ct = CountVectorizer(stop_words='english')\n",
        "X_ct = vectorizer_ct.fit_transform(fire_df['Cleaned Comment'])"
      ]
    },
    {
      "cell_type": "markdown",
      "metadata": {
        "id": "TmTvoqbBY5B1"
      },
      "source": [
        "### Create Term Frequency - Inverse Document Frequency scored vectors"
      ]
    },
    {
      "cell_type": "code",
      "execution_count": null,
      "metadata": {
        "id": "xVoudGrAY5B1"
      },
      "outputs": [],
      "source": [
        "vectorizer_tfidf = TfidfVectorizer(stop_words='english', max_features=1000) # Cap the size for memory\n",
        "X_tfidf = vectorizer_tfidf.fit_transform(fire_df['Cleaned Comment'])"
      ]
    },
    {
      "cell_type": "markdown",
      "metadata": {
        "id": "aGVXY5VjzzLF",
        "jp-MarkdownHeadingCollapsed": true
      },
      "source": [
        "## Exploratory Data Analysis"
      ]
    },
    {
      "cell_type": "code",
      "execution_count": null,
      "metadata": {
        "id": "gnD4Njcfz19w"
      },
      "outputs": [],
      "source": []
    },
    {
      "cell_type": "code",
      "execution_count": null,
      "metadata": {
        "id": "2zDWXueDz2OT"
      },
      "outputs": [],
      "source": []
    },
    {
      "cell_type": "markdown",
      "metadata": {
        "id": "whSTLV6cx5n8"
      },
      "source": [
        "# Model Development"
      ]
    },
    {
      "cell_type": "markdown",
      "metadata": {
        "id": "OWzzmb7wyh18"
      },
      "source": [
        "## Topic Modeling"
      ]
    },
    {
      "cell_type": "markdown",
      "metadata": {
        "id": "qBSpIYXYY5B2"
      },
      "source": [
        "### Latent Dirichlet Allocation"
      ]
    },
    {
      "cell_type": "code",
      "execution_count": null,
      "metadata": {
        "id": "acv2VS3wx9q8",
        "outputId": "c406dee6-f40e-4b69-8c6b-64abc30c365c"
      },
      "outputs": [
        {
          "data": {
            "text/html": [
              "<style>#sk-container-id-1 {\n",
              "  /* Definition of color scheme common for light and dark mode */\n",
              "  --sklearn-color-text: black;\n",
              "  --sklearn-color-line: gray;\n",
              "  /* Definition of color scheme for unfitted estimators */\n",
              "  --sklearn-color-unfitted-level-0: #fff5e6;\n",
              "  --sklearn-color-unfitted-level-1: #f6e4d2;\n",
              "  --sklearn-color-unfitted-level-2: #ffe0b3;\n",
              "  --sklearn-color-unfitted-level-3: chocolate;\n",
              "  /* Definition of color scheme for fitted estimators */\n",
              "  --sklearn-color-fitted-level-0: #f0f8ff;\n",
              "  --sklearn-color-fitted-level-1: #d4ebff;\n",
              "  --sklearn-color-fitted-level-2: #b3dbfd;\n",
              "  --sklearn-color-fitted-level-3: cornflowerblue;\n",
              "\n",
              "  /* Specific color for light theme */\n",
              "  --sklearn-color-text-on-default-background: var(--sg-text-color, var(--theme-code-foreground, var(--jp-content-font-color1, black)));\n",
              "  --sklearn-color-background: var(--sg-background-color, var(--theme-background, var(--jp-layout-color0, white)));\n",
              "  --sklearn-color-border-box: var(--sg-text-color, var(--theme-code-foreground, var(--jp-content-font-color1, black)));\n",
              "  --sklearn-color-icon: #696969;\n",
              "\n",
              "  @media (prefers-color-scheme: dark) {\n",
              "    /* Redefinition of color scheme for dark theme */\n",
              "    --sklearn-color-text-on-default-background: var(--sg-text-color, var(--theme-code-foreground, var(--jp-content-font-color1, white)));\n",
              "    --sklearn-color-background: var(--sg-background-color, var(--theme-background, var(--jp-layout-color0, #111)));\n",
              "    --sklearn-color-border-box: var(--sg-text-color, var(--theme-code-foreground, var(--jp-content-font-color1, white)));\n",
              "    --sklearn-color-icon: #878787;\n",
              "  }\n",
              "}\n",
              "\n",
              "#sk-container-id-1 {\n",
              "  color: var(--sklearn-color-text);\n",
              "}\n",
              "\n",
              "#sk-container-id-1 pre {\n",
              "  padding: 0;\n",
              "}\n",
              "\n",
              "#sk-container-id-1 input.sk-hidden--visually {\n",
              "  border: 0;\n",
              "  clip: rect(1px 1px 1px 1px);\n",
              "  clip: rect(1px, 1px, 1px, 1px);\n",
              "  height: 1px;\n",
              "  margin: -1px;\n",
              "  overflow: hidden;\n",
              "  padding: 0;\n",
              "  position: absolute;\n",
              "  width: 1px;\n",
              "}\n",
              "\n",
              "#sk-container-id-1 div.sk-dashed-wrapped {\n",
              "  border: 1px dashed var(--sklearn-color-line);\n",
              "  margin: 0 0.4em 0.5em 0.4em;\n",
              "  box-sizing: border-box;\n",
              "  padding-bottom: 0.4em;\n",
              "  background-color: var(--sklearn-color-background);\n",
              "}\n",
              "\n",
              "#sk-container-id-1 div.sk-container {\n",
              "  /* jupyter's `normalize.less` sets `[hidden] { display: none; }`\n",
              "     but bootstrap.min.css set `[hidden] { display: none !important; }`\n",
              "     so we also need the `!important` here to be able to override the\n",
              "     default hidden behavior on the sphinx rendered scikit-learn.org.\n",
              "     See: https://github.com/scikit-learn/scikit-learn/issues/21755 */\n",
              "  display: inline-block !important;\n",
              "  position: relative;\n",
              "}\n",
              "\n",
              "#sk-container-id-1 div.sk-text-repr-fallback {\n",
              "  display: none;\n",
              "}\n",
              "\n",
              "div.sk-parallel-item,\n",
              "div.sk-serial,\n",
              "div.sk-item {\n",
              "  /* draw centered vertical line to link estimators */\n",
              "  background-image: linear-gradient(var(--sklearn-color-text-on-default-background), var(--sklearn-color-text-on-default-background));\n",
              "  background-size: 2px 100%;\n",
              "  background-repeat: no-repeat;\n",
              "  background-position: center center;\n",
              "}\n",
              "\n",
              "/* Parallel-specific style estimator block */\n",
              "\n",
              "#sk-container-id-1 div.sk-parallel-item::after {\n",
              "  content: \"\";\n",
              "  width: 100%;\n",
              "  border-bottom: 2px solid var(--sklearn-color-text-on-default-background);\n",
              "  flex-grow: 1;\n",
              "}\n",
              "\n",
              "#sk-container-id-1 div.sk-parallel {\n",
              "  display: flex;\n",
              "  align-items: stretch;\n",
              "  justify-content: center;\n",
              "  background-color: var(--sklearn-color-background);\n",
              "  position: relative;\n",
              "}\n",
              "\n",
              "#sk-container-id-1 div.sk-parallel-item {\n",
              "  display: flex;\n",
              "  flex-direction: column;\n",
              "}\n",
              "\n",
              "#sk-container-id-1 div.sk-parallel-item:first-child::after {\n",
              "  align-self: flex-end;\n",
              "  width: 50%;\n",
              "}\n",
              "\n",
              "#sk-container-id-1 div.sk-parallel-item:last-child::after {\n",
              "  align-self: flex-start;\n",
              "  width: 50%;\n",
              "}\n",
              "\n",
              "#sk-container-id-1 div.sk-parallel-item:only-child::after {\n",
              "  width: 0;\n",
              "}\n",
              "\n",
              "/* Serial-specific style estimator block */\n",
              "\n",
              "#sk-container-id-1 div.sk-serial {\n",
              "  display: flex;\n",
              "  flex-direction: column;\n",
              "  align-items: center;\n",
              "  background-color: var(--sklearn-color-background);\n",
              "  padding-right: 1em;\n",
              "  padding-left: 1em;\n",
              "}\n",
              "\n",
              "\n",
              "/* Toggleable style: style used for estimator/Pipeline/ColumnTransformer box that is\n",
              "clickable and can be expanded/collapsed.\n",
              "- Pipeline and ColumnTransformer use this feature and define the default style\n",
              "- Estimators will overwrite some part of the style using the `sk-estimator` class\n",
              "*/\n",
              "\n",
              "/* Pipeline and ColumnTransformer style (default) */\n",
              "\n",
              "#sk-container-id-1 div.sk-toggleable {\n",
              "  /* Default theme specific background. It is overwritten whether we have a\n",
              "  specific estimator or a Pipeline/ColumnTransformer */\n",
              "  background-color: var(--sklearn-color-background);\n",
              "}\n",
              "\n",
              "/* Toggleable label */\n",
              "#sk-container-id-1 label.sk-toggleable__label {\n",
              "  cursor: pointer;\n",
              "  display: block;\n",
              "  width: 100%;\n",
              "  margin-bottom: 0;\n",
              "  padding: 0.5em;\n",
              "  box-sizing: border-box;\n",
              "  text-align: center;\n",
              "}\n",
              "\n",
              "#sk-container-id-1 label.sk-toggleable__label-arrow:before {\n",
              "  /* Arrow on the left of the label */\n",
              "  content: \"▸\";\n",
              "  float: left;\n",
              "  margin-right: 0.25em;\n",
              "  color: var(--sklearn-color-icon);\n",
              "}\n",
              "\n",
              "#sk-container-id-1 label.sk-toggleable__label-arrow:hover:before {\n",
              "  color: var(--sklearn-color-text);\n",
              "}\n",
              "\n",
              "/* Toggleable content - dropdown */\n",
              "\n",
              "#sk-container-id-1 div.sk-toggleable__content {\n",
              "  max-height: 0;\n",
              "  max-width: 0;\n",
              "  overflow: hidden;\n",
              "  text-align: left;\n",
              "  /* unfitted */\n",
              "  background-color: var(--sklearn-color-unfitted-level-0);\n",
              "}\n",
              "\n",
              "#sk-container-id-1 div.sk-toggleable__content.fitted {\n",
              "  /* fitted */\n",
              "  background-color: var(--sklearn-color-fitted-level-0);\n",
              "}\n",
              "\n",
              "#sk-container-id-1 div.sk-toggleable__content pre {\n",
              "  margin: 0.2em;\n",
              "  border-radius: 0.25em;\n",
              "  color: var(--sklearn-color-text);\n",
              "  /* unfitted */\n",
              "  background-color: var(--sklearn-color-unfitted-level-0);\n",
              "}\n",
              "\n",
              "#sk-container-id-1 div.sk-toggleable__content.fitted pre {\n",
              "  /* unfitted */\n",
              "  background-color: var(--sklearn-color-fitted-level-0);\n",
              "}\n",
              "\n",
              "#sk-container-id-1 input.sk-toggleable__control:checked~div.sk-toggleable__content {\n",
              "  /* Expand drop-down */\n",
              "  max-height: 200px;\n",
              "  max-width: 100%;\n",
              "  overflow: auto;\n",
              "}\n",
              "\n",
              "#sk-container-id-1 input.sk-toggleable__control:checked~label.sk-toggleable__label-arrow:before {\n",
              "  content: \"▾\";\n",
              "}\n",
              "\n",
              "/* Pipeline/ColumnTransformer-specific style */\n",
              "\n",
              "#sk-container-id-1 div.sk-label input.sk-toggleable__control:checked~label.sk-toggleable__label {\n",
              "  color: var(--sklearn-color-text);\n",
              "  background-color: var(--sklearn-color-unfitted-level-2);\n",
              "}\n",
              "\n",
              "#sk-container-id-1 div.sk-label.fitted input.sk-toggleable__control:checked~label.sk-toggleable__label {\n",
              "  background-color: var(--sklearn-color-fitted-level-2);\n",
              "}\n",
              "\n",
              "/* Estimator-specific style */\n",
              "\n",
              "/* Colorize estimator box */\n",
              "#sk-container-id-1 div.sk-estimator input.sk-toggleable__control:checked~label.sk-toggleable__label {\n",
              "  /* unfitted */\n",
              "  background-color: var(--sklearn-color-unfitted-level-2);\n",
              "}\n",
              "\n",
              "#sk-container-id-1 div.sk-estimator.fitted input.sk-toggleable__control:checked~label.sk-toggleable__label {\n",
              "  /* fitted */\n",
              "  background-color: var(--sklearn-color-fitted-level-2);\n",
              "}\n",
              "\n",
              "#sk-container-id-1 div.sk-label label.sk-toggleable__label,\n",
              "#sk-container-id-1 div.sk-label label {\n",
              "  /* The background is the default theme color */\n",
              "  color: var(--sklearn-color-text-on-default-background);\n",
              "}\n",
              "\n",
              "/* On hover, darken the color of the background */\n",
              "#sk-container-id-1 div.sk-label:hover label.sk-toggleable__label {\n",
              "  color: var(--sklearn-color-text);\n",
              "  background-color: var(--sklearn-color-unfitted-level-2);\n",
              "}\n",
              "\n",
              "/* Label box, darken color on hover, fitted */\n",
              "#sk-container-id-1 div.sk-label.fitted:hover label.sk-toggleable__label.fitted {\n",
              "  color: var(--sklearn-color-text);\n",
              "  background-color: var(--sklearn-color-fitted-level-2);\n",
              "}\n",
              "\n",
              "/* Estimator label */\n",
              "\n",
              "#sk-container-id-1 div.sk-label label {\n",
              "  font-family: monospace;\n",
              "  font-weight: bold;\n",
              "  display: inline-block;\n",
              "  line-height: 1.2em;\n",
              "}\n",
              "\n",
              "#sk-container-id-1 div.sk-label-container {\n",
              "  text-align: center;\n",
              "}\n",
              "\n",
              "/* Estimator-specific */\n",
              "#sk-container-id-1 div.sk-estimator {\n",
              "  font-family: monospace;\n",
              "  border: 1px dotted var(--sklearn-color-border-box);\n",
              "  border-radius: 0.25em;\n",
              "  box-sizing: border-box;\n",
              "  margin-bottom: 0.5em;\n",
              "  /* unfitted */\n",
              "  background-color: var(--sklearn-color-unfitted-level-0);\n",
              "}\n",
              "\n",
              "#sk-container-id-1 div.sk-estimator.fitted {\n",
              "  /* fitted */\n",
              "  background-color: var(--sklearn-color-fitted-level-0);\n",
              "}\n",
              "\n",
              "/* on hover */\n",
              "#sk-container-id-1 div.sk-estimator:hover {\n",
              "  /* unfitted */\n",
              "  background-color: var(--sklearn-color-unfitted-level-2);\n",
              "}\n",
              "\n",
              "#sk-container-id-1 div.sk-estimator.fitted:hover {\n",
              "  /* fitted */\n",
              "  background-color: var(--sklearn-color-fitted-level-2);\n",
              "}\n",
              "\n",
              "/* Specification for estimator info (e.g. \"i\" and \"?\") */\n",
              "\n",
              "/* Common style for \"i\" and \"?\" */\n",
              "\n",
              ".sk-estimator-doc-link,\n",
              "a:link.sk-estimator-doc-link,\n",
              "a:visited.sk-estimator-doc-link {\n",
              "  float: right;\n",
              "  font-size: smaller;\n",
              "  line-height: 1em;\n",
              "  font-family: monospace;\n",
              "  background-color: var(--sklearn-color-background);\n",
              "  border-radius: 1em;\n",
              "  height: 1em;\n",
              "  width: 1em;\n",
              "  text-decoration: none !important;\n",
              "  margin-left: 1ex;\n",
              "  /* unfitted */\n",
              "  border: var(--sklearn-color-unfitted-level-1) 1pt solid;\n",
              "  color: var(--sklearn-color-unfitted-level-1);\n",
              "}\n",
              "\n",
              ".sk-estimator-doc-link.fitted,\n",
              "a:link.sk-estimator-doc-link.fitted,\n",
              "a:visited.sk-estimator-doc-link.fitted {\n",
              "  /* fitted */\n",
              "  border: var(--sklearn-color-fitted-level-1) 1pt solid;\n",
              "  color: var(--sklearn-color-fitted-level-1);\n",
              "}\n",
              "\n",
              "/* On hover */\n",
              "div.sk-estimator:hover .sk-estimator-doc-link:hover,\n",
              ".sk-estimator-doc-link:hover,\n",
              "div.sk-label-container:hover .sk-estimator-doc-link:hover,\n",
              ".sk-estimator-doc-link:hover {\n",
              "  /* unfitted */\n",
              "  background-color: var(--sklearn-color-unfitted-level-3);\n",
              "  color: var(--sklearn-color-background);\n",
              "  text-decoration: none;\n",
              "}\n",
              "\n",
              "div.sk-estimator.fitted:hover .sk-estimator-doc-link.fitted:hover,\n",
              ".sk-estimator-doc-link.fitted:hover,\n",
              "div.sk-label-container:hover .sk-estimator-doc-link.fitted:hover,\n",
              ".sk-estimator-doc-link.fitted:hover {\n",
              "  /* fitted */\n",
              "  background-color: var(--sklearn-color-fitted-level-3);\n",
              "  color: var(--sklearn-color-background);\n",
              "  text-decoration: none;\n",
              "}\n",
              "\n",
              "/* Span, style for the box shown on hovering the info icon */\n",
              ".sk-estimator-doc-link span {\n",
              "  display: none;\n",
              "  z-index: 9999;\n",
              "  position: relative;\n",
              "  font-weight: normal;\n",
              "  right: .2ex;\n",
              "  padding: .5ex;\n",
              "  margin: .5ex;\n",
              "  width: min-content;\n",
              "  min-width: 20ex;\n",
              "  max-width: 50ex;\n",
              "  color: var(--sklearn-color-text);\n",
              "  box-shadow: 2pt 2pt 4pt #999;\n",
              "  /* unfitted */\n",
              "  background: var(--sklearn-color-unfitted-level-0);\n",
              "  border: .5pt solid var(--sklearn-color-unfitted-level-3);\n",
              "}\n",
              "\n",
              ".sk-estimator-doc-link.fitted span {\n",
              "  /* fitted */\n",
              "  background: var(--sklearn-color-fitted-level-0);\n",
              "  border: var(--sklearn-color-fitted-level-3);\n",
              "}\n",
              "\n",
              ".sk-estimator-doc-link:hover span {\n",
              "  display: block;\n",
              "}\n",
              "\n",
              "/* \"?\"-specific style due to the `<a>` HTML tag */\n",
              "\n",
              "#sk-container-id-1 a.estimator_doc_link {\n",
              "  float: right;\n",
              "  font-size: 1rem;\n",
              "  line-height: 1em;\n",
              "  font-family: monospace;\n",
              "  background-color: var(--sklearn-color-background);\n",
              "  border-radius: 1rem;\n",
              "  height: 1rem;\n",
              "  width: 1rem;\n",
              "  text-decoration: none;\n",
              "  /* unfitted */\n",
              "  color: var(--sklearn-color-unfitted-level-1);\n",
              "  border: var(--sklearn-color-unfitted-level-1) 1pt solid;\n",
              "}\n",
              "\n",
              "#sk-container-id-1 a.estimator_doc_link.fitted {\n",
              "  /* fitted */\n",
              "  border: var(--sklearn-color-fitted-level-1) 1pt solid;\n",
              "  color: var(--sklearn-color-fitted-level-1);\n",
              "}\n",
              "\n",
              "/* On hover */\n",
              "#sk-container-id-1 a.estimator_doc_link:hover {\n",
              "  /* unfitted */\n",
              "  background-color: var(--sklearn-color-unfitted-level-3);\n",
              "  color: var(--sklearn-color-background);\n",
              "  text-decoration: none;\n",
              "}\n",
              "\n",
              "#sk-container-id-1 a.estimator_doc_link.fitted:hover {\n",
              "  /* fitted */\n",
              "  background-color: var(--sklearn-color-fitted-level-3);\n",
              "}\n",
              "</style><div id=\"sk-container-id-1\" class=\"sk-top-container\"><div class=\"sk-text-repr-fallback\"><pre>LatentDirichletAllocation(n_components=5, random_state=509)</pre><b>In a Jupyter environment, please rerun this cell to show the HTML representation or trust the notebook. <br />On GitHub, the HTML representation is unable to render, please try loading this page with nbviewer.org.</b></div><div class=\"sk-container\" hidden><div class=\"sk-item\"><div class=\"sk-estimator fitted sk-toggleable\"><input class=\"sk-toggleable__control sk-hidden--visually\" id=\"sk-estimator-id-1\" type=\"checkbox\" checked><label for=\"sk-estimator-id-1\" class=\"sk-toggleable__label fitted sk-toggleable__label-arrow fitted\">&nbsp;&nbsp;LatentDirichletAllocation<a class=\"sk-estimator-doc-link fitted\" rel=\"noreferrer\" target=\"_blank\" href=\"https://scikit-learn.org/1.4/modules/generated/sklearn.decomposition.LatentDirichletAllocation.html\">?<span>Documentation for LatentDirichletAllocation</span></a><span class=\"sk-estimator-doc-link fitted\">i<span>Fitted</span></span></label><div class=\"sk-toggleable__content fitted\"><pre>LatentDirichletAllocation(n_components=5, random_state=509)</pre></div> </div></div></div></div>"
            ],
            "text/plain": [
              "LatentDirichletAllocation(n_components=5, random_state=509)"
            ]
          },
          "execution_count": 9,
          "metadata": {},
          "output_type": "execute_result"
        }
      ],
      "source": [
        "lda = LatentDirichletAllocation(n_components=5, random_state=509)\n",
        "lda.fit(X_ct)"
      ]
    },
    {
      "cell_type": "markdown",
      "metadata": {
        "id": "OyuWvGe3Y5B2"
      },
      "source": [
        "#### Examine topics from LDA at n=5 topics (arbritrary)"
      ]
    },
    {
      "cell_type": "code",
      "execution_count": null,
      "metadata": {
        "id": "CIiV3Do_x9_6"
      },
      "outputs": [],
      "source": [
        "def display_topics(model, feature_names, num_top_words):\n",
        "    for topic_idx, topic in enumerate(model.components_):\n",
        "        print(f\"Topic {topic_idx}:\")\n",
        "\n",
        "        #For each topic, go through index i and retrieve word from that location\n",
        "        #Topic is a vector of weights of each word for a given topic (higher = more important)\n",
        "        #argsort() return indices of elements in topic in ascending importance\n",
        "        #:-num_top_words - 1 = Start from last element -1 and move back num_top_words positions\n",
        "        # --- This is to remove the lesser important words for interpretation purposes\n",
        "        # -1 reverse order so it's descending now that noisy words are removed.\n",
        "        print(\" \".join([feature_names[i] for i in topic.argsort()[:-num_top_words - 1:-1]]))"
      ]
    },
    {
      "cell_type": "code",
      "execution_count": null,
      "metadata": {
        "id": "W3nXwVFPY5B2",
        "outputId": "740bff68-5182-4495-d458-56c04283a143"
      },
      "outputs": [
        {
          "name": "stdout",
          "output_type": "stream",
          "text": [
            "Topic 0:\n",
            "want like money just youre time way income expenses things\n",
            "Topic 1:\n",
            "money year years work dont time retirement retire just job\n",
            "Topic 2:\n",
            "house years 5m im paid million number want kids 2m\n",
            "Topic 3:\n",
            "work im just people age make time number job dont\n",
            "Topic 4:\n",
            "years work life time dont like im just year income\n"
          ]
        }
      ],
      "source": [
        "feature_names_lda = vectorizer_ct.get_feature_names_out()\n",
        "num_top_words = 10\n",
        "display_topics(lda, feature_names_lda, num_top_words)"
      ]
    },
    {
      "cell_type": "markdown",
      "metadata": {
        "id": "Mtn10MngY5B2"
      },
      "source": [
        "#### Result\n",
        "Selecting n_components=5 might not be the correct number of topics to be able to clearly separate words into themes. Need to try another topic number."
      ]
    },
    {
      "cell_type": "markdown",
      "metadata": {
        "id": "lP_Z_3UIY5B2"
      },
      "source": [
        "### Retry LDA with n_components=8"
      ]
    },
    {
      "cell_type": "code",
      "execution_count": null,
      "metadata": {
        "id": "rUAPntZ4Y5B2",
        "outputId": "1074db23-51e7-4fb6-a2cc-07dae71e54d5"
      },
      "outputs": [
        {
          "name": "stdout",
          "output_type": "stream",
          "text": [
            "Topic 0:\n",
            "just like want money im time way number youre life\n",
            "Topic 1:\n",
            "money year years retirement life retire deleted kids like work\n",
            "Topic 2:\n",
            "want work im years live 5m area time dont paid\n",
            "Topic 3:\n",
            "work im million age target number just house paid ill\n",
            "Topic 4:\n",
            "years life work dont like just money im year people\n",
            "Topic 5:\n",
            "lifestyle dont partner money youre time just need want work\n",
            "Topic 6:\n",
            "years im time want house work retire 5m kids money\n",
            "Topic 7:\n",
            "retirement income years year real cash estate really market number\n"
          ]
        }
      ],
      "source": [
        "lda = LatentDirichletAllocation(n_components=8, random_state=509)\n",
        "lda.fit(X_ct)\n",
        "feature_names_lda = vectorizer_ct.get_feature_names_out()\n",
        "num_top_words = 10\n",
        "display_topics(lda, feature_names_lda, num_top_words)"
      ]
    },
    {
      "cell_type": "markdown",
      "metadata": {
        "id": "n7rpiwjEY5B2"
      },
      "source": [
        "## DEPENDENCY.\n",
        "Need to find a way to import a date of post or age of post so the model below can extract some sort of time or year for a time-series chart. Else, will have to select a different groupby."
      ]
    },
    {
      "cell_type": "markdown",
      "metadata": {
        "id": "jlph2UdiyoDb"
      },
      "source": [
        "### Sentiment Analysis with VaderSentiment\n",
        "\n",
        "Reference\n",
        "\n",
        "Hutto, C. J., Klein, E., Pantone, P., Berry, G., & Suresh, M. (2024, August 19). Documentation source code for nltk.sentiment.vader. https://www.nltk.org/_modules/nltk/sentiment/vader.html"
      ]
    },
    {
      "cell_type": "code",
      "execution_count": null,
      "metadata": {
        "id": "ujsFG-jxY5B2",
        "outputId": "4b533d23-9a40-43cf-ff23-10f92af503d9"
      },
      "outputs": [
        {
          "name": "stderr",
          "output_type": "stream",
          "text": [
            "[nltk_data] Downloading package vader_lexicon to\n",
            "[nltk_data]     /Users/johnvincent/nltk_data...\n"
          ]
        },
        {
          "data": {
            "text/plain": [
              "True"
            ]
          },
          "execution_count": 14,
          "metadata": {},
          "output_type": "execute_result"
        }
      ],
      "source": [
        "#nltk.download('vader_lexicon')"
      ]
    },
    {
      "cell_type": "code",
      "execution_count": null,
      "metadata": {
        "id": "lGPDOUYiyxEQ"
      },
      "outputs": [],
      "source": [
        "analyzer = SentimentIntensityAnalyzer() # Intialize the analyzer as object"
      ]
    },
    {
      "cell_type": "code",
      "execution_count": null,
      "metadata": {
        "id": "OHpvXG25Y5B3"
      },
      "outputs": [],
      "source": [
        "def get_sentiment_score(comment):\n",
        "    scores = analyzer.polarity_scores(comment)\n",
        "    return pd.Series([scores['neg'], scores['neu'], scores['pos'], scores['compound']],\n",
        "                    index=['Negative', 'Neutral', 'Positive', 'Compound'])"
      ]
    },
    {
      "cell_type": "code",
      "execution_count": null,
      "metadata": {
        "id": "INc9LHvDyxVr"
      },
      "outputs": [],
      "source": [
        "rfire_df[['Negative', 'Neutral', 'Positive', 'Compound']] = rfire_df['clean_comment'].apply(get_sentiment_score)"
      ]
    },
    {
      "cell_type": "code",
      "execution_count": null,
      "metadata": {
        "id": "Jg4P7_ZfY5B3",
        "outputId": "f6a6f224-e318-4923-dfc4-0f0305295ca3"
      },
      "outputs": [
        {
          "data": {
            "text/html": [
              "<div>\n",
              "<style scoped>\n",
              "    .dataframe tbody tr th:only-of-type {\n",
              "        vertical-align: middle;\n",
              "    }\n",
              "\n",
              "    .dataframe tbody tr th {\n",
              "        vertical-align: top;\n",
              "    }\n",
              "\n",
              "    .dataframe thead th {\n",
              "        text-align: right;\n",
              "    }\n",
              "</style>\n",
              "<table border=\"1\" class=\"dataframe\">\n",
              "  <thead>\n",
              "    <tr style=\"text-align: right;\">\n",
              "      <th></th>\n",
              "      <th>clean_comment</th>\n",
              "      <th>Negative</th>\n",
              "      <th>Neutral</th>\n",
              "      <th>Positive</th>\n",
              "      <th>Compound</th>\n",
              "    </tr>\n",
              "  </thead>\n",
              "  <tbody>\n",
              "    <tr>\n",
              "      <th>0</th>\n",
              "      <td>1.5m with paid off houses</td>\n",
              "      <td>0.000</td>\n",
              "      <td>1.000</td>\n",
              "      <td>0.000</td>\n",
              "      <td>0.0000</td>\n",
              "    </tr>\n",
              "    <tr>\n",
              "      <th>1</th>\n",
              "      <td>im just waiting for someone to say something l...</td>\n",
              "      <td>0.172</td>\n",
              "      <td>0.828</td>\n",
              "      <td>0.000</td>\n",
              "      <td>-0.4019</td>\n",
              "    </tr>\n",
              "    <tr>\n",
              "      <th>2</th>\n",
              "      <td>$1.9m  targeting a few months after i turn 50 ...</td>\n",
              "      <td>0.074</td>\n",
              "      <td>0.926</td>\n",
              "      <td>0.000</td>\n",
              "      <td>-0.1531</td>\n",
              "    </tr>\n",
              "    <tr>\n",
              "      <th>3</th>\n",
              "      <td>on days i hate my job 600k the other days depe...</td>\n",
              "      <td>0.171</td>\n",
              "      <td>0.829</td>\n",
              "      <td>0.000</td>\n",
              "      <td>-0.5719</td>\n",
              "    </tr>\n",
              "    <tr>\n",
              "      <th>4</th>\n",
              "      <td>$2m with a paid off house so stressful to see ...</td>\n",
              "      <td>0.233</td>\n",
              "      <td>0.767</td>\n",
              "      <td>0.000</td>\n",
              "      <td>-0.6418</td>\n",
              "    </tr>\n",
              "    <tr>\n",
              "      <th>5</th>\n",
              "      <td>our target back in 2014 was $1.2m and a paidof...</td>\n",
              "      <td>0.060</td>\n",
              "      <td>0.870</td>\n",
              "      <td>0.070</td>\n",
              "      <td>-0.3400</td>\n",
              "    </tr>\n",
              "    <tr>\n",
              "      <th>6</th>\n",
              "      <td>500k give or take  but i am not retiring in th...</td>\n",
              "      <td>0.000</td>\n",
              "      <td>1.000</td>\n",
              "      <td>0.000</td>\n",
              "      <td>0.0000</td>\n",
              "    </tr>\n",
              "    <tr>\n",
              "      <th>7</th>\n",
              "      <td>i started at 1.5m 1015 years ago  now being 5 ...</td>\n",
              "      <td>0.060</td>\n",
              "      <td>0.783</td>\n",
              "      <td>0.157</td>\n",
              "      <td>0.4019</td>\n",
              "    </tr>\n",
              "    <tr>\n",
              "      <th>8</th>\n",
              "      <td>re ship sailed but still working on fi house i...</td>\n",
              "      <td>0.000</td>\n",
              "      <td>0.906</td>\n",
              "      <td>0.094</td>\n",
              "      <td>0.6124</td>\n",
              "    </tr>\n",
              "    <tr>\n",
              "      <th>9</th>\n",
              "      <td>funny to read all these numbers while the medi...</td>\n",
              "      <td>0.000</td>\n",
              "      <td>0.661</td>\n",
              "      <td>0.339</td>\n",
              "      <td>0.7717</td>\n",
              "    </tr>\n",
              "  </tbody>\n",
              "</table>\n",
              "</div>"
            ],
            "text/plain": [
              "                                       clean_comment  Negative  Neutral  \\\n",
              "0                          1.5m with paid off houses     0.000    1.000   \n",
              "1  im just waiting for someone to say something l...     0.172    0.828   \n",
              "2  $1.9m  targeting a few months after i turn 50 ...     0.074    0.926   \n",
              "3  on days i hate my job 600k the other days depe...     0.171    0.829   \n",
              "4  $2m with a paid off house so stressful to see ...     0.233    0.767   \n",
              "5  our target back in 2014 was $1.2m and a paidof...     0.060    0.870   \n",
              "6  500k give or take  but i am not retiring in th...     0.000    1.000   \n",
              "7  i started at 1.5m 1015 years ago  now being 5 ...     0.060    0.783   \n",
              "8  re ship sailed but still working on fi house i...     0.000    0.906   \n",
              "9  funny to read all these numbers while the medi...     0.000    0.661   \n",
              "\n",
              "   Positive  Compound  \n",
              "0     0.000    0.0000  \n",
              "1     0.000   -0.4019  \n",
              "2     0.000   -0.1531  \n",
              "3     0.000   -0.5719  \n",
              "4     0.000   -0.6418  \n",
              "5     0.070   -0.3400  \n",
              "6     0.000    0.0000  \n",
              "7     0.157    0.4019  \n",
              "8     0.094    0.6124  \n",
              "9     0.339    0.7717  "
            ]
          },
          "execution_count": 16,
          "metadata": {},
          "output_type": "execute_result"
        }
      ],
      "source": [
        "rfire_df[['clean_comment', 'Negative', 'Neutral', 'Positive', 'Compound']].head(10)"
      ]
    },
    {
      "cell_type": "markdown",
      "metadata": {
        "id": "qOom23UcY5B3",
        "jp-MarkdownHeadingCollapsed": true
      },
      "source": [
        "### OPTIONAL:GROUPBY ANALYSIS, which requires additional JSON features to be pulled into CSV"
      ]
    },
    {
      "cell_type": "code",
      "execution_count": null,
      "metadata": {
        "id": "dSA-Rf-UY5B3"
      },
      "outputs": [],
      "source": [
        "sentiment_by_<FEATURE NAME> = df.groupby('<INSERT FEATURE NAME>'[['negative', 'neutral', 'positive', 'compound']].mean()\n",
        "sentiment_by_<FEATURE NAME>"
      ]
    },
    {
      "cell_type": "code",
      "execution_count": null,
      "metadata": {
        "id": "OLe2yhQvY5B3"
      },
      "outputs": [],
      "source": [
        "plt.figure(figsize=(10, 6))\n",
        "plt.plot(sentiment_by_year.index, sentiment_by_year['Compound'], marker='o')\n",
        "plt.title('Sentiment Analysis Over Time')\n",
        "plt.xlabel('<FEATURE>')\n",
        "plt.ylabel('Compound Sentiment Score')\n",
        "plt.grid(True)\n",
        "plt.legend()\n",
        "plt.show()"
      ]
    },
    {
      "cell_type": "markdown",
      "metadata": {
        "id": "c-rWXXCmY5B3"
      },
      "source": [
        "### Latent Semantic Analysis"
      ]
    },
    {
      "cell_type": "code",
      "execution_count": null,
      "metadata": {
        "id": "wI1DOuO2Y5B3"
      },
      "outputs": [],
      "source": [
        "n_topics = 5\n",
        "lsa = TruncatedSVD(n_components=n_topics, random_state=509) # Initialize model\n",
        "lsa_topic_matrix = lsa.fit_transform(X_tfidf) # Fit and transform for latent topics"
      ]
    },
    {
      "cell_type": "code",
      "execution_count": null,
      "metadata": {
        "id": "GdBQKp2uY5B3"
      },
      "outputs": [],
      "source": [
        "feature_names_tfidf = vectorizer_tfidf.get_feature_names_out()"
      ]
    },
    {
      "cell_type": "code",
      "execution_count": null,
      "metadata": {
        "id": "9Wz1t6erY5B3",
        "outputId": "2fd1c704-edf4-4cbb-bcd7-3f7b64000cbc"
      },
      "outputs": [
        {
          "name": "stdout",
          "output_type": "stream",
          "text": [
            "Topic 0:\n",
            "years im work time want money just dont kids like\n",
            "Topic 1:\n",
            "deleted post waiting start tax lower earlier regular numbers portfolio\n",
            "Topic 2:\n",
            "5m house paid million target liquid 2m mil 3m years\n",
            "Topic 3:\n",
            "million 10 years retire 12 22 ill worth near 45\n",
            "Topic 4:\n",
            "house paid time kids money want mil live people work\n"
          ]
        }
      ],
      "source": [
        "display_topics(lsa, feature_names_tfidf, num_top_words) # Show top 10 words for each topic"
      ]
    },
    {
      "cell_type": "markdown",
      "metadata": {
        "id": "ajjbsZEdY5B3"
      },
      "source": [
        "#### Show results\n",
        "Row = score representing relevance of topic to the clean_comment"
      ]
    },
    {
      "cell_type": "code",
      "execution_count": null,
      "metadata": {
        "id": "l9BjM8dNY5B3",
        "outputId": "fe46d6b5-c6e4-4415-e647-bb2159232a8c"
      },
      "outputs": [
        {
          "data": {
            "text/html": [
              "<div>\n",
              "<style scoped>\n",
              "    .dataframe tbody tr th:only-of-type {\n",
              "        vertical-align: middle;\n",
              "    }\n",
              "\n",
              "    .dataframe tbody tr th {\n",
              "        vertical-align: top;\n",
              "    }\n",
              "\n",
              "    .dataframe thead th {\n",
              "        text-align: right;\n",
              "    }\n",
              "</style>\n",
              "<table border=\"1\" class=\"dataframe\">\n",
              "  <thead>\n",
              "    <tr style=\"text-align: right;\">\n",
              "      <th></th>\n",
              "      <th>clean_comment</th>\n",
              "      <th>Topic 0</th>\n",
              "      <th>Topic 1</th>\n",
              "      <th>Topic 2</th>\n",
              "      <th>Topic 3</th>\n",
              "      <th>Topic 4</th>\n",
              "    </tr>\n",
              "  </thead>\n",
              "  <tbody>\n",
              "    <tr>\n",
              "      <th>0</th>\n",
              "      <td>1.5m with paid off houses</td>\n",
              "      <td>0.109908</td>\n",
              "      <td>-0.000592</td>\n",
              "      <td>0.369511</td>\n",
              "      <td>-0.216351</td>\n",
              "      <td>0.116825</td>\n",
              "    </tr>\n",
              "    <tr>\n",
              "      <th>1</th>\n",
              "      <td>im just waiting for someone to say something l...</td>\n",
              "      <td>0.124805</td>\n",
              "      <td>0.006525</td>\n",
              "      <td>-0.033491</td>\n",
              "      <td>0.019276</td>\n",
              "      <td>-0.024431</td>\n",
              "    </tr>\n",
              "    <tr>\n",
              "      <th>2</th>\n",
              "      <td>$1.9m  targeting a few months after i turn 50 ...</td>\n",
              "      <td>0.154432</td>\n",
              "      <td>-0.000637</td>\n",
              "      <td>0.116150</td>\n",
              "      <td>-0.031073</td>\n",
              "      <td>0.100695</td>\n",
              "    </tr>\n",
              "    <tr>\n",
              "      <th>3</th>\n",
              "      <td>on days i hate my job 600k the other days depe...</td>\n",
              "      <td>0.129950</td>\n",
              "      <td>-0.000498</td>\n",
              "      <td>0.017841</td>\n",
              "      <td>0.218858</td>\n",
              "      <td>0.019035</td>\n",
              "    </tr>\n",
              "    <tr>\n",
              "      <th>4</th>\n",
              "      <td>$2m with a paid off house so stressful to see ...</td>\n",
              "      <td>0.149271</td>\n",
              "      <td>-0.000604</td>\n",
              "      <td>0.340298</td>\n",
              "      <td>-0.079957</td>\n",
              "      <td>0.321560</td>\n",
              "    </tr>\n",
              "    <tr>\n",
              "      <th>5</th>\n",
              "      <td>our target back in 2014 was $1.2m and a paidof...</td>\n",
              "      <td>0.200973</td>\n",
              "      <td>-0.000629</td>\n",
              "      <td>0.186576</td>\n",
              "      <td>-0.057527</td>\n",
              "      <td>0.029379</td>\n",
              "    </tr>\n",
              "    <tr>\n",
              "      <th>6</th>\n",
              "      <td>500k give or take  but i am not retiring in th...</td>\n",
              "      <td>0.037700</td>\n",
              "      <td>-0.000117</td>\n",
              "      <td>0.017364</td>\n",
              "      <td>0.015099</td>\n",
              "      <td>-0.023987</td>\n",
              "    </tr>\n",
              "    <tr>\n",
              "      <th>7</th>\n",
              "      <td>i started at 1.5m 1015 years ago  now being 5 ...</td>\n",
              "      <td>0.203734</td>\n",
              "      <td>-0.000807</td>\n",
              "      <td>0.302675</td>\n",
              "      <td>-0.223604</td>\n",
              "      <td>-0.129272</td>\n",
              "    </tr>\n",
              "    <tr>\n",
              "      <th>8</th>\n",
              "      <td>re ship sailed but still working on fi house i...</td>\n",
              "      <td>0.189211</td>\n",
              "      <td>-0.000571</td>\n",
              "      <td>0.143160</td>\n",
              "      <td>-0.014286</td>\n",
              "      <td>-0.018408</td>\n",
              "    </tr>\n",
              "    <tr>\n",
              "      <th>9</th>\n",
              "      <td>funny to read all these numbers while the medi...</td>\n",
              "      <td>0.098286</td>\n",
              "      <td>-0.000036</td>\n",
              "      <td>0.012844</td>\n",
              "      <td>0.023013</td>\n",
              "      <td>-0.087721</td>\n",
              "    </tr>\n",
              "  </tbody>\n",
              "</table>\n",
              "</div>"
            ],
            "text/plain": [
              "                                       clean_comment   Topic 0   Topic 1  \\\n",
              "0                          1.5m with paid off houses  0.109908 -0.000592   \n",
              "1  im just waiting for someone to say something l...  0.124805  0.006525   \n",
              "2  $1.9m  targeting a few months after i turn 50 ...  0.154432 -0.000637   \n",
              "3  on days i hate my job 600k the other days depe...  0.129950 -0.000498   \n",
              "4  $2m with a paid off house so stressful to see ...  0.149271 -0.000604   \n",
              "5  our target back in 2014 was $1.2m and a paidof...  0.200973 -0.000629   \n",
              "6  500k give or take  but i am not retiring in th...  0.037700 -0.000117   \n",
              "7  i started at 1.5m 1015 years ago  now being 5 ...  0.203734 -0.000807   \n",
              "8  re ship sailed but still working on fi house i...  0.189211 -0.000571   \n",
              "9  funny to read all these numbers while the medi...  0.098286 -0.000036   \n",
              "\n",
              "    Topic 2   Topic 3   Topic 4  \n",
              "0  0.369511 -0.216351  0.116825  \n",
              "1 -0.033491  0.019276 -0.024431  \n",
              "2  0.116150 -0.031073  0.100695  \n",
              "3  0.017841  0.218858  0.019035  \n",
              "4  0.340298 -0.079957  0.321560  \n",
              "5  0.186576 -0.057527  0.029379  \n",
              "6  0.017364  0.015099 -0.023987  \n",
              "7  0.302675 -0.223604 -0.129272  \n",
              "8  0.143160 -0.014286 -0.018408  \n",
              "9  0.012844  0.023013 -0.087721  "
            ]
          },
          "execution_count": 20,
          "metadata": {},
          "output_type": "execute_result"
        }
      ],
      "source": [
        "topics = pd.DataFrame(lsa_topic_matrix, columns=[f'Topic {i}' for i in range(n_topics)])\n",
        "comb_topics = pd.concat([rfire_df, topics], axis=1)\n",
        "comb_topics[['clean_comment', 'Topic 0', 'Topic 1', 'Topic 2', 'Topic 3', 'Topic 4']].head(10)"
      ]
    },
    {
      "cell_type": "markdown",
      "metadata": {
        "id": "LO0I4JwUpsj7"
      },
      "source": [
        "# Build Flask Application"
      ]
    },
    {
      "cell_type": "markdown",
      "metadata": {
        "id": "E08nLbLiyGWn"
      },
      "source": [
        "## Set-up Flask\n"
      ]
    },
    {
      "cell_type": "markdown",
      "metadata": {
        "id": "85Dh03cYsPLH"
      },
      "source": [
        "Import Packages"
      ]
    },
    {
      "cell_type": "code",
      "execution_count": null,
      "metadata": {
        "colab": {
          "base_uri": "https://localhost:8080/"
        },
        "id": "2Kck0pLtp8HG",
        "outputId": "3d6ace78-ab65-42f7-c4d5-0ffb39a38400"
      },
      "outputs": [
        {
          "name": "stdout",
          "output_type": "stream",
          "text": [
            "Requirement already satisfied: pyngrok in /usr/local/lib/python3.10/dist-packages (7.2.0)\n",
            "Requirement already satisfied: PyYAML>=5.1 in /usr/local/lib/python3.10/dist-packages (from pyngrok) (6.0.2)\n"
          ]
        }
      ],
      "source": [
        "# Import packages\n",
        "#!pip install Flask\n",
        "#!pip install pyngrok"
      ]
    },
    {
      "cell_type": "markdown",
      "metadata": {
        "id": "gKN7u90GsTBz"
      },
      "source": [
        "Upload Libraries"
      ]
    },
    {
      "cell_type": "code",
      "execution_count": null,
      "metadata": {
        "id": "RpBlZKOisIFJ"
      },
      "outputs": [],
      "source": [
        "# Libraries:\n",
        "from flask import Flask, request, jsonify\n",
        "import threading\n",
        "from pyngrok import ngrok"
      ]
    },
    {
      "cell_type": "markdown",
      "metadata": {
        "id": "ntoJvTJNsnjf"
      },
      "source": [
        "## Simple Flask Application"
      ]
    },
    {
      "cell_type": "code",
      "execution_count": null,
      "metadata": {
        "colab": {
          "base_uri": "https://localhost:8080/"
        },
        "id": "BapMT70vqZfB",
        "outputId": "d1a8800d-ed40-418b-f677-2d403581c9cf"
      },
      "outputs": [
        {
          "name": "stdout",
          "output_type": "stream",
          "text": [
            "Authtoken saved to configuration file: /root/.config/ngrok/ngrok.yml\n",
            " * Serving Flask app '__main__'\n",
            " * Debug mode: off\n"
          ]
        },
        {
          "name": "stderr",
          "output_type": "stream",
          "text": [
            "INFO:werkzeug:\u001b[31m\u001b[1mWARNING: This is a development server. Do not use it in a production deployment. Use a production WSGI server instead.\u001b[0m\n",
            " * Running on http://127.0.0.1:5000\n",
            "INFO:werkzeug:\u001b[33mPress CTRL+C to quit\u001b[0m\n"
          ]
        },
        {
          "name": "stdout",
          "output_type": "stream",
          "text": [
            " * ngrok tunnel \"NgrokTunnel: \"https://6fb1-35-236-152-11.ngrok-free.app\" -> \"http://localhost:5000\"\" -> \"http://127.0.0.1:5000\"\n"
          ]
        }
      ],
      "source": [
        "# Set up ngrok authtoken\n",
        "!ngrok authtoken 2mxORvZevUlWiZcP42H0kKWt5Db_62uzFBWQsdosv7Eau5TWZ\n",
        "\n",
        "# Create Flask app\n",
        "app = Flask(__name__)\n",
        "\n",
        "@app.route('/')\n",
        "def home():\n",
        "    return \"Welcome to the FIRE Number Analyzer!\"\n",
        "\n",
        "@app.route('/analyze', methods=['POST'])\n",
        "def analyze():\n",
        "    data = request.json\n",
        "    # Placeholder for analysis logic\n",
        "    return jsonify({\"message\": \"Analysis complete!\"})\n",
        "\n",
        "# Function to run the Flask app\n",
        "def run_app():\n",
        "    app.run(port=5000)\n",
        "\n",
        "# Start Flask app in a new thread\n",
        "threading.Thread(target=run_app).start()\n",
        "\n",
        "# Set up a tunnel to the Flask app\n",
        "public_url = ngrok.connect(5000)\n",
        "print(\" * ngrok tunnel \\\"{}\\\" -> \\\"http://127.0.0.1:5000\\\"\".format(public_url))"
      ]
    }
  ],
  "metadata": {
    "colab": {
      "provenance": []
    },
    "kernelspec": {
      "display_name": "Python 3 (ipykernel)",
      "language": "python",
      "name": "python3"
    },
    "language_info": {
      "codemirror_mode": {
        "name": "ipython",
        "version": 3
      },
      "file_extension": ".py",
      "mimetype": "text/x-python",
      "name": "python",
      "nbconvert_exporter": "python",
      "pygments_lexer": "ipython3",
      "version": "3.11.5"
    }
  },
  "nbformat": 4,
  "nbformat_minor": 0
}